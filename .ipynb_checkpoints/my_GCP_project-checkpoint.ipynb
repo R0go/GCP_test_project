{
 "cells": [
  {
   "cell_type": "code",
   "execution_count": 1,
   "id": "5b29fdfb-5010-45b6-a671-9793d75d1973",
   "metadata": {
    "tags": []
   },
   "outputs": [],
   "source": [
    "!pip install bigframes -q\n"
   ]
  },
  {
   "cell_type": "code",
   "execution_count": 2,
   "id": "9c251770-ab68-4cab-ae49-24f0dabc7f91",
   "metadata": {},
   "outputs": [],
   "source": [
    "from google.cloud import bigquery\n",
    "\n",
    "import bigframes.pandas as bpd\n",
    "from bigframes.ml.linear_model import LinearRegression as BQLinearRegression\n",
    "\n",
    "import seaborn as sns\n",
    "import matplotlib.pyplot as plt\n",
    "\n",
    "from sklearn.preprocessing import OneHotEncoder\n",
    "from sklearn.linear_model import LinearRegression as SKLinearRegression\n",
    "from sklearn.metrics import mean_absolute_error, mean_squared_error\n",
    "\n",
    "import pandas as pd\n",
    "import matplotlib.pyplot as plt\n",
    "sns.set_theme(color_codes=True)"
   ]
  },
  {
   "cell_type": "code",
   "execution_count": 3,
   "id": "c0893724-b829-4a76-808f-a009e44d523f",
   "metadata": {},
   "outputs": [],
   "source": [
    "PROJECT_ID = \"arctic-eye-446816-j7\"\n",
    "REGION = \"US\""
   ]
  },
  {
   "cell_type": "code",
   "execution_count": 4,
   "id": "c1cfdf35-c26b-4a24-af53-f24790d90267",
   "metadata": {},
   "outputs": [],
   "source": [
    "bpd.options.bigquery.project = PROJECT_ID\n",
    "bpd.options.bigquery.location = REGION"
   ]
  },
  {
   "cell_type": "code",
   "execution_count": 5,
   "id": "3739edf9-36f4-4c62-9d3e-374ff724dc5b",
   "metadata": {
    "tags": []
   },
   "outputs": [
    {
     "data": {
      "text/html": [
       "Query job 4ed96b07-c95a-44d5-8a02-44e00b1ec7e3 is DONE. 28.9 kB processed. <a target=\"_blank\" href=\"https://console.cloud.google.com/bigquery?project=arctic-eye-446816-j7&j=bq:US:4ed96b07-c95a-44d5-8a02-44e00b1ec7e3&page=queryresults\">Open Job</a>"
      ],
      "text/plain": [
       "<IPython.core.display.HTML object>"
      ]
     },
     "metadata": {},
     "output_type": "display_data"
    },
    {
     "data": {
      "text/html": [
       "Query job 01e5fc10-a09d-4e73-a326-46c696f59ffe is DONE. 0 Bytes processed. <a target=\"_blank\" href=\"https://console.cloud.google.com/bigquery?project=arctic-eye-446816-j7&j=bq:US:01e5fc10-a09d-4e73-a326-46c696f59ffe&page=queryresults\">Open Job</a>"
      ],
      "text/plain": [
       "<IPython.core.display.HTML object>"
      ]
     },
     "metadata": {},
     "output_type": "display_data"
    },
    {
     "data": {
      "text/html": [
       "Query job 6828ab19-a470-4ec4-b53f-1913029dae58 is DONE. 501 Bytes processed. <a target=\"_blank\" href=\"https://console.cloud.google.com/bigquery?project=arctic-eye-446816-j7&j=bq:US:6828ab19-a470-4ec4-b53f-1913029dae58&page=queryresults\">Open Job</a>"
      ],
      "text/plain": [
       "<IPython.core.display.HTML object>"
      ]
     },
     "metadata": {},
     "output_type": "display_data"
    },
    {
     "data": {
      "text/html": [
       "<div>\n",
       "<style scoped>\n",
       "    .dataframe tbody tr th:only-of-type {\n",
       "        vertical-align: middle;\n",
       "    }\n",
       "\n",
       "    .dataframe tbody tr th {\n",
       "        vertical-align: top;\n",
       "    }\n",
       "\n",
       "    .dataframe thead th {\n",
       "        text-align: right;\n",
       "    }\n",
       "</style>\n",
       "<table border=\"1\" class=\"dataframe\">\n",
       "  <thead>\n",
       "    <tr style=\"text-align: right;\">\n",
       "      <th></th>\n",
       "      <th>species</th>\n",
       "      <th>island</th>\n",
       "      <th>culmen_length_mm</th>\n",
       "      <th>culmen_depth_mm</th>\n",
       "      <th>flipper_length_mm</th>\n",
       "      <th>body_mass_g</th>\n",
       "      <th>sex</th>\n",
       "    </tr>\n",
       "  </thead>\n",
       "  <tbody>\n",
       "    <tr>\n",
       "      <th>0</th>\n",
       "      <td>Gentoo penguin (Pygoscelis papua)</td>\n",
       "      <td>Biscoe</td>\n",
       "      <td>50.5</td>\n",
       "      <td>15.9</td>\n",
       "      <td>225.0</td>\n",
       "      <td>5400.0</td>\n",
       "      <td>MALE</td>\n",
       "    </tr>\n",
       "    <tr>\n",
       "      <th>1</th>\n",
       "      <td>Gentoo penguin (Pygoscelis papua)</td>\n",
       "      <td>Biscoe</td>\n",
       "      <td>45.1</td>\n",
       "      <td>14.5</td>\n",
       "      <td>215.0</td>\n",
       "      <td>5000.0</td>\n",
       "      <td>FEMALE</td>\n",
       "    </tr>\n",
       "    <tr>\n",
       "      <th>2</th>\n",
       "      <td>Adelie Penguin (Pygoscelis adeliae)</td>\n",
       "      <td>Torgersen</td>\n",
       "      <td>41.4</td>\n",
       "      <td>18.5</td>\n",
       "      <td>202.0</td>\n",
       "      <td>3875.0</td>\n",
       "      <td>MALE</td>\n",
       "    </tr>\n",
       "    <tr>\n",
       "      <th>3</th>\n",
       "      <td>Adelie Penguin (Pygoscelis adeliae)</td>\n",
       "      <td>Torgersen</td>\n",
       "      <td>38.6</td>\n",
       "      <td>17.0</td>\n",
       "      <td>188.0</td>\n",
       "      <td>2900.0</td>\n",
       "      <td>FEMALE</td>\n",
       "    </tr>\n",
       "    <tr>\n",
       "      <th>4</th>\n",
       "      <td>Gentoo penguin (Pygoscelis papua)</td>\n",
       "      <td>Biscoe</td>\n",
       "      <td>46.5</td>\n",
       "      <td>14.8</td>\n",
       "      <td>217.0</td>\n",
       "      <td>5200.0</td>\n",
       "      <td>FEMALE</td>\n",
       "    </tr>\n",
       "  </tbody>\n",
       "</table>\n",
       "<p>5 rows × 7 columns</p>\n",
       "</div>[5 rows x 7 columns in total]"
      ],
      "text/plain": [
       "                               species     island  culmen_length_mm  \\\n",
       "0    Gentoo penguin (Pygoscelis papua)     Biscoe              50.5   \n",
       "1    Gentoo penguin (Pygoscelis papua)     Biscoe              45.1   \n",
       "2  Adelie Penguin (Pygoscelis adeliae)  Torgersen              41.4   \n",
       "3  Adelie Penguin (Pygoscelis adeliae)  Torgersen              38.6   \n",
       "4    Gentoo penguin (Pygoscelis papua)     Biscoe              46.5   \n",
       "\n",
       "   culmen_depth_mm  flipper_length_mm  body_mass_g     sex  \n",
       "0             15.9              225.0       5400.0    MALE  \n",
       "1             14.5              215.0       5000.0  FEMALE  \n",
       "2             18.5              202.0       3875.0    MALE  \n",
       "3             17.0              188.0       2900.0  FEMALE  \n",
       "4             14.8              217.0       5200.0  FEMALE  \n",
       "\n",
       "[5 rows x 7 columns]"
      ]
     },
     "execution_count": 5,
     "metadata": {},
     "output_type": "execute_result"
    }
   ],
   "source": [
    "df = bpd.read_gbq(\"bigquery-public-data.ml_datasets.penguins\")\n",
    "df.head()"
   ]
  },
  {
   "cell_type": "code",
   "execution_count": 6,
   "id": "95a0f8d9-a5e5-41df-b35d-308cec08c8ab",
   "metadata": {
    "tags": []
   },
   "outputs": [
    {
     "data": {
      "text/html": [
       "Query job 474a3d5f-7bc9-4b79-8c45-1cc0f616d6b1 is DONE. 0 Bytes processed. <a target=\"_blank\" href=\"https://console.cloud.google.com/bigquery?project=arctic-eye-446816-j7&j=bq:US:474a3d5f-7bc9-4b79-8c45-1cc0f616d6b1&page=queryresults\">Open Job</a>"
      ],
      "text/plain": [
       "<IPython.core.display.HTML object>"
      ]
     },
     "metadata": {},
     "output_type": "display_data"
    },
    {
     "name": "stdout",
     "output_type": "stream",
     "text": [
      "<class 'bigframes.dataframe.DataFrame'>\n"
     ]
    },
    {
     "data": {
      "text/html": [
       "Query job f93ca65e-3c3b-4742-8e28-d34128dd89d8 is DONE. 28.9 kB processed. <a target=\"_blank\" href=\"https://console.cloud.google.com/bigquery?project=arctic-eye-446816-j7&j=bq:US:f93ca65e-3c3b-4742-8e28-d34128dd89d8&page=queryresults\">Open Job</a>"
      ],
      "text/plain": [
       "<IPython.core.display.HTML object>"
      ]
     },
     "metadata": {},
     "output_type": "display_data"
    },
    {
     "data": {
      "text/html": [
       "Query job 4d6a6e1b-60ba-4b44-b7c8-719e6ec430a3 is DONE. 28.9 kB processed. <a target=\"_blank\" href=\"https://console.cloud.google.com/bigquery?project=arctic-eye-446816-j7&j=bq:US:4d6a6e1b-60ba-4b44-b7c8-719e6ec430a3&page=queryresults\">Open Job</a>"
      ],
      "text/plain": [
       "<IPython.core.display.HTML object>"
      ]
     },
     "metadata": {},
     "output_type": "display_data"
    },
    {
     "name": "stdout",
     "output_type": "stream",
     "text": [
      "Index: 344 entries, 0 to 343\n",
      "Data columns (total 7 columns):\n"
     ]
    },
    {
     "name": "stderr",
     "output_type": "stream",
     "text": [
      "/opt/conda/lib/python3.10/site-packages/bigframes/core/blocks.py:125: NullIndexPreviewWarning: Creating object with Null Index. Null Index is a preview feature.\n",
      "  warnings.warn(\n"
     ]
    },
    {
     "data": {
      "text/html": [
       "Query job 9b15b679-60ca-4dcc-86ea-65acea6d1eb8 is DONE. 28.9 kB processed. <a target=\"_blank\" href=\"https://console.cloud.google.com/bigquery?project=arctic-eye-446816-j7&j=bq:US:9b15b679-60ca-4dcc-86ea-65acea6d1eb8&page=queryresults\">Open Job</a>"
      ],
      "text/plain": [
       "<IPython.core.display.HTML object>"
      ]
     },
     "metadata": {},
     "output_type": "display_data"
    },
    {
     "name": "stdout",
     "output_type": "stream",
     "text": [
      "  #  Column             Non-Null Count    Dtype\n",
      "---  -----------------  ----------------  -------\n",
      "  0  species            344 non-null      string\n",
      "  1  island             344 non-null      string\n",
      "  2  culmen_length_mm   342 non-null      Float64\n",
      "  3  culmen_depth_mm    342 non-null      Float64\n",
      "  4  flipper_length_mm  342 non-null      Float64\n",
      "  5  body_mass_g        342 non-null      Float64\n",
      "  6  sex                334 non-null      string\n",
      "dtypes: Float64(4), string(3)\n"
     ]
    },
    {
     "data": {
      "text/html": [
       "Query job 02bf5412-af64-494b-8669-fa1e67be0405 is DONE. 0 Bytes processed. <a target=\"_blank\" href=\"https://console.cloud.google.com/bigquery?project=arctic-eye-446816-j7&j=bq:US:02bf5412-af64-494b-8669-fa1e67be0405&page=queryresults\">Open Job</a>"
      ],
      "text/plain": [
       "<IPython.core.display.HTML object>"
      ]
     },
     "metadata": {},
     "output_type": "display_data"
    },
    {
     "name": "stdout",
     "output_type": "stream",
     "text": [
      "memory usage: 22016 bytes\n"
     ]
    }
   ],
   "source": [
    "df.info()"
   ]
  },
  {
   "cell_type": "code",
   "execution_count": 8,
   "id": "94c30cd1-4b8c-4e58-9df4-301823c522b7",
   "metadata": {
    "tags": []
   },
   "outputs": [
    {
     "data": {
      "text/html": [
       "Query job 422d9090-6f35-4f3a-8484-901ebcbbfc07 is DONE. 28.9 kB processed. <a target=\"_blank\" href=\"https://console.cloud.google.com/bigquery?project=arctic-eye-446816-j7&j=bq:US:422d9090-6f35-4f3a-8484-901ebcbbfc07&page=queryresults\">Open Job</a>"
      ],
      "text/plain": [
       "<IPython.core.display.HTML object>"
      ]
     },
     "metadata": {},
     "output_type": "display_data"
    },
    {
     "data": {
      "text/html": [
       "Query job bd29d00c-b779-4734-9020-ff06cdbcbe1f is DONE. 0 Bytes processed. <a target=\"_blank\" href=\"https://console.cloud.google.com/bigquery?project=arctic-eye-446816-j7&j=bq:US:bd29d00c-b779-4734-9020-ff06cdbcbe1f&page=queryresults\">Open Job</a>"
      ],
      "text/plain": [
       "<IPython.core.display.HTML object>"
      ]
     },
     "metadata": {},
     "output_type": "display_data"
    },
    {
     "data": {
      "text/html": [
       "Query job 3f49989f-c8f7-4caf-84ab-14fadd3a63a7 is DONE. 872 Bytes processed. <a target=\"_blank\" href=\"https://console.cloud.google.com/bigquery?project=arctic-eye-446816-j7&j=bq:US:3f49989f-c8f7-4caf-84ab-14fadd3a63a7&page=queryresults\">Open Job</a>"
      ],
      "text/plain": [
       "<IPython.core.display.HTML object>"
      ]
     },
     "metadata": {},
     "output_type": "display_data"
    },
    {
     "data": {
      "text/html": [
       "<div>\n",
       "<style scoped>\n",
       "    .dataframe tbody tr th:only-of-type {\n",
       "        vertical-align: middle;\n",
       "    }\n",
       "\n",
       "    .dataframe tbody tr th {\n",
       "        vertical-align: top;\n",
       "    }\n",
       "\n",
       "    .dataframe thead th {\n",
       "        text-align: right;\n",
       "    }\n",
       "</style>\n",
       "<table border=\"1\" class=\"dataframe\">\n",
       "  <thead>\n",
       "    <tr style=\"text-align: right;\">\n",
       "      <th></th>\n",
       "      <th>species</th>\n",
       "      <th>island</th>\n",
       "      <th>culmen_length_mm</th>\n",
       "      <th>culmen_depth_mm</th>\n",
       "      <th>flipper_length_mm</th>\n",
       "      <th>body_mass_g</th>\n",
       "      <th>sex</th>\n",
       "    </tr>\n",
       "  </thead>\n",
       "  <tbody>\n",
       "    <tr>\n",
       "      <th>6</th>\n",
       "      <td>Adelie Penguin (Pygoscelis adeliae)</td>\n",
       "      <td>Dream</td>\n",
       "      <td>37.5</td>\n",
       "      <td>18.9</td>\n",
       "      <td>179.0</td>\n",
       "      <td>2975.0</td>\n",
       "      <td>&lt;NA&gt;</td>\n",
       "    </tr>\n",
       "    <tr>\n",
       "      <th>23</th>\n",
       "      <td>Gentoo penguin (Pygoscelis papua)</td>\n",
       "      <td>Biscoe</td>\n",
       "      <td>&lt;NA&gt;</td>\n",
       "      <td>&lt;NA&gt;</td>\n",
       "      <td>&lt;NA&gt;</td>\n",
       "      <td>&lt;NA&gt;</td>\n",
       "      <td>&lt;NA&gt;</td>\n",
       "    </tr>\n",
       "    <tr>\n",
       "      <th>40</th>\n",
       "      <td>Adelie Penguin (Pygoscelis adeliae)</td>\n",
       "      <td>Torgersen</td>\n",
       "      <td>&lt;NA&gt;</td>\n",
       "      <td>&lt;NA&gt;</td>\n",
       "      <td>&lt;NA&gt;</td>\n",
       "      <td>&lt;NA&gt;</td>\n",
       "      <td>&lt;NA&gt;</td>\n",
       "    </tr>\n",
       "    <tr>\n",
       "      <th>136</th>\n",
       "      <td>Adelie Penguin (Pygoscelis adeliae)</td>\n",
       "      <td>Torgersen</td>\n",
       "      <td>34.1</td>\n",
       "      <td>18.1</td>\n",
       "      <td>193.0</td>\n",
       "      <td>3475.0</td>\n",
       "      <td>&lt;NA&gt;</td>\n",
       "    </tr>\n",
       "    <tr>\n",
       "      <th>160</th>\n",
       "      <td>Gentoo penguin (Pygoscelis papua)</td>\n",
       "      <td>Biscoe</td>\n",
       "      <td>44.5</td>\n",
       "      <td>14.3</td>\n",
       "      <td>216.0</td>\n",
       "      <td>4100.0</td>\n",
       "      <td>&lt;NA&gt;</td>\n",
       "    </tr>\n",
       "    <tr>\n",
       "      <th>205</th>\n",
       "      <td>Adelie Penguin (Pygoscelis adeliae)</td>\n",
       "      <td>Torgersen</td>\n",
       "      <td>37.8</td>\n",
       "      <td>17.3</td>\n",
       "      <td>180.0</td>\n",
       "      <td>3700.0</td>\n",
       "      <td>&lt;NA&gt;</td>\n",
       "    </tr>\n",
       "    <tr>\n",
       "      <th>235</th>\n",
       "      <td>Gentoo penguin (Pygoscelis papua)</td>\n",
       "      <td>Biscoe</td>\n",
       "      <td>47.3</td>\n",
       "      <td>13.8</td>\n",
       "      <td>216.0</td>\n",
       "      <td>4725.0</td>\n",
       "      <td>&lt;NA&gt;</td>\n",
       "    </tr>\n",
       "    <tr>\n",
       "      <th>244</th>\n",
       "      <td>Adelie Penguin (Pygoscelis adeliae)</td>\n",
       "      <td>Torgersen</td>\n",
       "      <td>42.0</td>\n",
       "      <td>20.2</td>\n",
       "      <td>190.0</td>\n",
       "      <td>4250.0</td>\n",
       "      <td>&lt;NA&gt;</td>\n",
       "    </tr>\n",
       "    <tr>\n",
       "      <th>254</th>\n",
       "      <td>Adelie Penguin (Pygoscelis adeliae)</td>\n",
       "      <td>Torgersen</td>\n",
       "      <td>37.8</td>\n",
       "      <td>17.1</td>\n",
       "      <td>186.0</td>\n",
       "      <td>3300.0</td>\n",
       "      <td>&lt;NA&gt;</td>\n",
       "    </tr>\n",
       "    <tr>\n",
       "      <th>332</th>\n",
       "      <td>Gentoo penguin (Pygoscelis papua)</td>\n",
       "      <td>Biscoe</td>\n",
       "      <td>46.2</td>\n",
       "      <td>14.4</td>\n",
       "      <td>214.0</td>\n",
       "      <td>4650.0</td>\n",
       "      <td>&lt;NA&gt;</td>\n",
       "    </tr>\n",
       "  </tbody>\n",
       "</table>\n",
       "<p>10 rows × 7 columns</p>\n",
       "</div>[10 rows x 7 columns in total]"
      ],
      "text/plain": [
       "                                 species     island  culmen_length_mm  \\\n",
       "6    Adelie Penguin (Pygoscelis adeliae)      Dream              37.5   \n",
       "23     Gentoo penguin (Pygoscelis papua)     Biscoe              <NA>   \n",
       "40   Adelie Penguin (Pygoscelis adeliae)  Torgersen              <NA>   \n",
       "136  Adelie Penguin (Pygoscelis adeliae)  Torgersen              34.1   \n",
       "160    Gentoo penguin (Pygoscelis papua)     Biscoe              44.5   \n",
       "205  Adelie Penguin (Pygoscelis adeliae)  Torgersen              37.8   \n",
       "235    Gentoo penguin (Pygoscelis papua)     Biscoe              47.3   \n",
       "244  Adelie Penguin (Pygoscelis adeliae)  Torgersen              42.0   \n",
       "254  Adelie Penguin (Pygoscelis adeliae)  Torgersen              37.8   \n",
       "332    Gentoo penguin (Pygoscelis papua)     Biscoe              46.2   \n",
       "\n",
       "     culmen_depth_mm  flipper_length_mm  body_mass_g   sex  \n",
       "6               18.9              179.0       2975.0  <NA>  \n",
       "23              <NA>               <NA>         <NA>  <NA>  \n",
       "40              <NA>               <NA>         <NA>  <NA>  \n",
       "136             18.1              193.0       3475.0  <NA>  \n",
       "160             14.3              216.0       4100.0  <NA>  \n",
       "205             17.3              180.0       3700.0  <NA>  \n",
       "235             13.8              216.0       4725.0  <NA>  \n",
       "244             20.2              190.0       4250.0  <NA>  \n",
       "254             17.1              186.0       3300.0  <NA>  \n",
       "332             14.4              214.0       4650.0  <NA>  \n",
       "\n",
       "[10 rows x 7 columns]"
      ]
     },
     "execution_count": 8,
     "metadata": {},
     "output_type": "execute_result"
    }
   ],
   "source": [
    "df[df.sex.isnull()]"
   ]
  }
 ],
 "metadata": {
  "environment": {
   "kernel": "conda-base-py",
   "name": "workbench-notebooks.m126",
   "type": "gcloud",
   "uri": "us-docker.pkg.dev/deeplearning-platform-release/gcr.io/workbench-notebooks:m126"
  },
  "kernelspec": {
   "display_name": "Python 3 (ipykernel) (Local)",
   "language": "python",
   "name": "conda-base-py"
  },
  "language_info": {
   "codemirror_mode": {
    "name": "ipython",
    "version": 3
   },
   "file_extension": ".py",
   "mimetype": "text/x-python",
   "name": "python",
   "nbconvert_exporter": "python",
   "pygments_lexer": "ipython3",
   "version": "3.10.15"
  }
 },
 "nbformat": 4,
 "nbformat_minor": 5
}
