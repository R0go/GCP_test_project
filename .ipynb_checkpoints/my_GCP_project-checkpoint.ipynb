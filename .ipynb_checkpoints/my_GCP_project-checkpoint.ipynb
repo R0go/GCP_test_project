{
 "cells": [
  {
   "cell_type": "code",
   "execution_count": 1,
   "id": "5b29fdfb-5010-45b6-a671-9793d75d1973",
   "metadata": {
    "tags": []
   },
   "outputs": [],
   "source": [
    "!pip install bigframes -q\n"
   ]
  },
  {
   "cell_type": "code",
   "execution_count": null,
   "id": "761414d9-85b4-4832-aa23-f95612d2b010",
   "metadata": {},
   "outputs": [],
   "source": []
  },
  {
   "cell_type": "code",
   "execution_count": 2,
   "id": "9c251770-ab68-4cab-ae49-24f0dabc7f91",
   "metadata": {},
   "outputs": [],
   "source": [
    "from google.cloud import bigquery\n",
    "\n",
    "import bigframes.pandas as bpd\n",
    "from bigframes.ml.linear_model import LinearRegression as BQLinearRegression\n",
    "\n",
    "import seaborn as sns\n",
    "import matplotlib.pyplot as plt\n",
    "\n",
    "from sklearn.preprocessing import OneHotEncoder\n",
    "from sklearn.linear_model import LinearRegression as SKLinearRegression\n",
    "from sklearn.metrics import mean_absolute_error, mean_squared_error\n",
    "\n",
    "import pandas as pd\n",
    "import matplotlib.pyplot as plt\n",
    "sns.set_theme(color_codes=True)"
   ]
  },
  {
   "cell_type": "code",
   "execution_count": 3,
   "id": "c0893724-b829-4a76-808f-a009e44d523f",
   "metadata": {},
   "outputs": [],
   "source": [
    "PROJECT_ID = \"arctic-eye-446816-j7\"\n",
    "REGION = \"US\""
   ]
  },
  {
   "cell_type": "code",
   "execution_count": 4,
   "id": "c1cfdf35-c26b-4a24-af53-f24790d90267",
   "metadata": {},
   "outputs": [],
   "source": [
    "bpd.options.bigquery.project = PROJECT_ID\n",
    "bpd.options.bigquery.location = REGION"
   ]
  },
  {
   "cell_type": "code",
   "execution_count": 5,
   "id": "19bc7b0d-5652-4b7e-8095-f50f73e4f43b",
   "metadata": {
    "tags": []
   },
   "outputs": [
    {
     "data": {
      "text/html": [
       "Query job a97c32c3-6327-407e-97e0-43521f76dc7c is DONE. 1.7 GB processed. <a target=\"_blank\" href=\"https://console.cloud.google.com/bigquery?project=arctic-eye-446816-j7&j=bq:US:a97c32c3-6327-407e-97e0-43521f76dc7c&page=queryresults\">Open Job</a>"
      ],
      "text/plain": [
       "<IPython.core.display.HTML object>"
      ]
     },
     "metadata": {},
     "output_type": "display_data"
    },
    {
     "data": {
      "text/html": [
       "Query job 81eebe6d-6355-49d0-8810-fb8d61867221 is DONE. 0 Bytes processed. <a target=\"_blank\" href=\"https://console.cloud.google.com/bigquery?project=arctic-eye-446816-j7&j=bq:US:81eebe6d-6355-49d0-8810-fb8d61867221&page=queryresults\">Open Job</a>"
      ],
      "text/plain": [
       "<IPython.core.display.HTML object>"
      ]
     },
     "metadata": {},
     "output_type": "display_data"
    },
    {
     "data": {
      "text/html": [
       "Query job ce060bc1-8577-4fa1-9123-2ababda2e975 is DONE. 1.1 kB processed. <a target=\"_blank\" href=\"https://console.cloud.google.com/bigquery?project=arctic-eye-446816-j7&j=bq:US:ce060bc1-8577-4fa1-9123-2ababda2e975&page=queryresults\">Open Job</a>"
      ],
      "text/plain": [
       "<IPython.core.display.HTML object>"
      ]
     },
     "metadata": {},
     "output_type": "display_data"
    },
    {
     "data": {
      "text/html": [
       "<div>\n",
       "<style scoped>\n",
       "    .dataframe tbody tr th:only-of-type {\n",
       "        vertical-align: middle;\n",
       "    }\n",
       "\n",
       "    .dataframe tbody tr th {\n",
       "        vertical-align: top;\n",
       "    }\n",
       "\n",
       "    .dataframe thead th {\n",
       "        text-align: right;\n",
       "    }\n",
       "</style>\n",
       "<table border=\"1\" class=\"dataframe\">\n",
       "  <thead>\n",
       "    <tr style=\"text-align: right;\">\n",
       "      <th></th>\n",
       "      <th>unique_key</th>\n",
       "      <th>case_number</th>\n",
       "      <th>date</th>\n",
       "      <th>block</th>\n",
       "      <th>iucr</th>\n",
       "      <th>primary_type</th>\n",
       "      <th>description</th>\n",
       "      <th>location_description</th>\n",
       "      <th>arrest</th>\n",
       "      <th>domestic</th>\n",
       "      <th>...</th>\n",
       "      <th>ward</th>\n",
       "      <th>community_area</th>\n",
       "      <th>fbi_code</th>\n",
       "      <th>x_coordinate</th>\n",
       "      <th>y_coordinate</th>\n",
       "      <th>year</th>\n",
       "      <th>updated_on</th>\n",
       "      <th>latitude</th>\n",
       "      <th>longitude</th>\n",
       "      <th>location</th>\n",
       "    </tr>\n",
       "  </thead>\n",
       "  <tbody>\n",
       "    <tr>\n",
       "      <th>0</th>\n",
       "      <td>3809715</td>\n",
       "      <td>HL151847</td>\n",
       "      <td>2005-01-29 23:30:00+00:00</td>\n",
       "      <td>014XX W MORSE AVE</td>\n",
       "      <td>2027</td>\n",
       "      <td>NARCOTICS</td>\n",
       "      <td>POSS: CRACK</td>\n",
       "      <td>SIDEWALK</td>\n",
       "      <td>True</td>\n",
       "      <td>False</td>\n",
       "      <td>...</td>\n",
       "      <td>49</td>\n",
       "      <td>1</td>\n",
       "      <td>18</td>\n",
       "      <td>1165420.0</td>\n",
       "      <td>1946171.0</td>\n",
       "      <td>2005</td>\n",
       "      <td>2018-02-28 15:56:25+00:00</td>\n",
       "      <td>42.007892</td>\n",
       "      <td>-87.666728</td>\n",
       "      <td>(42.007891504, -87.666727525)</td>\n",
       "    </tr>\n",
       "    <tr>\n",
       "      <th>1</th>\n",
       "      <td>7873610</td>\n",
       "      <td>HT104508</td>\n",
       "      <td>2011-01-04 00:30:00+00:00</td>\n",
       "      <td>046XX S EVANS AVE</td>\n",
       "      <td>2820</td>\n",
       "      <td>OTHER OFFENSE</td>\n",
       "      <td>TELEPHONE THREAT</td>\n",
       "      <td>RESIDENCE</td>\n",
       "      <td>False</td>\n",
       "      <td>True</td>\n",
       "      <td>...</td>\n",
       "      <td>4</td>\n",
       "      <td>38</td>\n",
       "      <td>26</td>\n",
       "      <td>1182034.0</td>\n",
       "      <td>1874483.0</td>\n",
       "      <td>2011</td>\n",
       "      <td>2016-02-04 06:33:39+00:00</td>\n",
       "      <td>41.810806</td>\n",
       "      <td>-87.607833</td>\n",
       "      <td>(41.810806172, -87.607832602)</td>\n",
       "    </tr>\n",
       "    <tr>\n",
       "      <th>2</th>\n",
       "      <td>12421979</td>\n",
       "      <td>JE299751</td>\n",
       "      <td>2021-06-14 19:00:00+00:00</td>\n",
       "      <td>055XX S STATE ST</td>\n",
       "      <td>0810</td>\n",
       "      <td>THEFT</td>\n",
       "      <td>OVER $500</td>\n",
       "      <td>RESTAURANT</td>\n",
       "      <td>False</td>\n",
       "      <td>False</td>\n",
       "      <td>...</td>\n",
       "      <td>3</td>\n",
       "      <td>40</td>\n",
       "      <td>06</td>\n",
       "      <td>1177220.0</td>\n",
       "      <td>1868236.0</td>\n",
       "      <td>2021</td>\n",
       "      <td>2021-07-15 15:39:41+00:00</td>\n",
       "      <td>41.793774</td>\n",
       "      <td>-87.625678</td>\n",
       "      <td>(41.793773985, -87.625678392)</td>\n",
       "    </tr>\n",
       "    <tr>\n",
       "      <th>3</th>\n",
       "      <td>8649560</td>\n",
       "      <td>HV324406</td>\n",
       "      <td>2012-06-08 08:00:00+00:00</td>\n",
       "      <td>027XX S DEARBORN ST</td>\n",
       "      <td>0890</td>\n",
       "      <td>THEFT</td>\n",
       "      <td>FROM BUILDING</td>\n",
       "      <td>PARK PROPERTY</td>\n",
       "      <td>False</td>\n",
       "      <td>False</td>\n",
       "      <td>...</td>\n",
       "      <td>3</td>\n",
       "      <td>35</td>\n",
       "      <td>06</td>\n",
       "      <td>1176315.0</td>\n",
       "      <td>1886573.0</td>\n",
       "      <td>2012</td>\n",
       "      <td>2016-02-04 06:33:39+00:00</td>\n",
       "      <td>41.844113</td>\n",
       "      <td>-87.628445</td>\n",
       "      <td>(41.844112707, -87.628445336)</td>\n",
       "    </tr>\n",
       "    <tr>\n",
       "      <th>4</th>\n",
       "      <td>1362379</td>\n",
       "      <td>G067268</td>\n",
       "      <td>2001-02-02 01:30:54+00:00</td>\n",
       "      <td>004XX N STATE ST</td>\n",
       "      <td>0460</td>\n",
       "      <td>BATTERY</td>\n",
       "      <td>SIMPLE</td>\n",
       "      <td>SMALL RETAIL STORE</td>\n",
       "      <td>True</td>\n",
       "      <td>False</td>\n",
       "      <td>...</td>\n",
       "      <td>&lt;NA&gt;</td>\n",
       "      <td>&lt;NA&gt;</td>\n",
       "      <td>08B</td>\n",
       "      <td>1176326.0</td>\n",
       "      <td>1903597.0</td>\n",
       "      <td>2001</td>\n",
       "      <td>2015-08-17 15:03:40+00:00</td>\n",
       "      <td>41.890827</td>\n",
       "      <td>-87.627892</td>\n",
       "      <td>(41.890827398, -87.62789157)</td>\n",
       "    </tr>\n",
       "  </tbody>\n",
       "</table>\n",
       "<p>5 rows × 22 columns</p>\n",
       "</div>[5 rows x 22 columns in total]"
      ],
      "text/plain": [
       "   unique_key case_number                       date                block  \\\n",
       "0     3809715    HL151847  2005-01-29 23:30:00+00:00    014XX W MORSE AVE   \n",
       "1     7873610    HT104508  2011-01-04 00:30:00+00:00    046XX S EVANS AVE   \n",
       "2    12421979    JE299751  2021-06-14 19:00:00+00:00     055XX S STATE ST   \n",
       "3     8649560    HV324406  2012-06-08 08:00:00+00:00  027XX S DEARBORN ST   \n",
       "4     1362379     G067268  2001-02-02 01:30:54+00:00     004XX N STATE ST   \n",
       "\n",
       "   iucr   primary_type       description location_description  arrest  \\\n",
       "0  2027      NARCOTICS       POSS: CRACK             SIDEWALK    True   \n",
       "1  2820  OTHER OFFENSE  TELEPHONE THREAT            RESIDENCE   False   \n",
       "2  0810          THEFT         OVER $500           RESTAURANT   False   \n",
       "3  0890          THEFT     FROM BUILDING        PARK PROPERTY   False   \n",
       "4  0460        BATTERY            SIMPLE   SMALL RETAIL STORE    True   \n",
       "\n",
       "   domestic  ...  ward  community_area  fbi_code  x_coordinate y_coordinate  \\\n",
       "0     False  ...    49               1        18     1165420.0    1946171.0   \n",
       "1      True  ...     4              38        26     1182034.0    1874483.0   \n",
       "2     False  ...     3              40        06     1177220.0    1868236.0   \n",
       "3     False  ...     3              35        06     1176315.0    1886573.0   \n",
       "4     False  ...  <NA>            <NA>       08B     1176326.0    1903597.0   \n",
       "\n",
       "   year                 updated_on   latitude  longitude  \\\n",
       "0  2005  2018-02-28 15:56:25+00:00  42.007892 -87.666728   \n",
       "1  2011  2016-02-04 06:33:39+00:00  41.810806 -87.607833   \n",
       "2  2021  2021-07-15 15:39:41+00:00  41.793774 -87.625678   \n",
       "3  2012  2016-02-04 06:33:39+00:00  41.844113 -87.628445   \n",
       "4  2001  2015-08-17 15:03:40+00:00  41.890827 -87.627892   \n",
       "\n",
       "                        location  \n",
       "0  (42.007891504, -87.666727525)  \n",
       "1  (41.810806172, -87.607832602)  \n",
       "2  (41.793773985, -87.625678392)  \n",
       "3  (41.844112707, -87.628445336)  \n",
       "4   (41.890827398, -87.62789157)  \n",
       "\n",
       "[5 rows x 22 columns]"
      ]
     },
     "execution_count": 5,
     "metadata": {},
     "output_type": "execute_result"
    }
   ],
   "source": [
    "df2 = bpd.read_gbq(\"bigquery-public-data.chicago_crime.crime\")\n",
    "df2.head()"
   ]
  },
  {
   "cell_type": "code",
   "execution_count": null,
   "id": "04ee34f0-046d-45f7-8ce3-ae733fd3ee1e",
   "metadata": {},
   "outputs": [],
   "source": []
  },
  {
   "cell_type": "code",
   "execution_count": 6,
   "id": "c5510909-3323-4028-bbe2-5d2f2fe96cae",
   "metadata": {
    "tags": []
   },
   "outputs": [
    {
     "data": {
      "text/html": [
       "Query job 059e6e21-d535-4158-8986-319f56a5fa49 is DONE. 67.3 MB processed. <a target=\"_blank\" href=\"https://console.cloud.google.com/bigquery?project=arctic-eye-446816-j7&j=bq:US:059e6e21-d535-4158-8986-319f56a5fa49&page=queryresults\">Open Job</a>"
      ],
      "text/plain": [
       "<IPython.core.display.HTML object>"
      ]
     },
     "metadata": {},
     "output_type": "display_data"
    },
    {
     "data": {
      "text/html": [
       "Query job 5c706c50-30bb-4d0a-8c52-59768a8ce456 is DONE. 0 Bytes processed. <a target=\"_blank\" href=\"https://console.cloud.google.com/bigquery?project=arctic-eye-446816-j7&j=bq:US:5c706c50-30bb-4d0a-8c52-59768a8ce456&page=queryresults\">Open Job</a>"
      ],
      "text/plain": [
       "<IPython.core.display.HTML object>"
      ]
     },
     "metadata": {},
     "output_type": "display_data"
    },
    {
     "data": {
      "text/html": [
       "Query job dd5d8292-cfec-42d8-9c3a-5b9b1c6c9f08 is DONE. 3.0 kB processed. <a target=\"_blank\" href=\"https://console.cloud.google.com/bigquery?project=arctic-eye-446816-j7&j=bq:US:dd5d8292-cfec-42d8-9c3a-5b9b1c6c9f08&page=queryresults\">Open Job</a>"
      ],
      "text/plain": [
       "<IPython.core.display.HTML object>"
      ]
     },
     "metadata": {},
     "output_type": "display_data"
    },
    {
     "data": {
      "text/html": [
       "<div>\n",
       "<style scoped>\n",
       "    .dataframe tbody tr th:only-of-type {\n",
       "        vertical-align: middle;\n",
       "    }\n",
       "\n",
       "    .dataframe tbody tr th {\n",
       "        vertical-align: top;\n",
       "    }\n",
       "\n",
       "    .dataframe thead th {\n",
       "        text-align: right;\n",
       "    }\n",
       "</style>\n",
       "<table border=\"1\" class=\"dataframe\">\n",
       "  <thead>\n",
       "    <tr style=\"text-align: right;\">\n",
       "      <th></th>\n",
       "      <th>unique_key</th>\n",
       "      <th>address</th>\n",
       "      <th>census_tract</th>\n",
       "      <th>clearance_date</th>\n",
       "      <th>clearance_status</th>\n",
       "      <th>council_district_code</th>\n",
       "      <th>description</th>\n",
       "      <th>district</th>\n",
       "      <th>latitude</th>\n",
       "      <th>longitude</th>\n",
       "      <th>location</th>\n",
       "      <th>location_description</th>\n",
       "      <th>primary_type</th>\n",
       "      <th>timestamp</th>\n",
       "      <th>x_coordinate</th>\n",
       "      <th>y_coordinate</th>\n",
       "      <th>year</th>\n",
       "      <th>zipcode</th>\n",
       "    </tr>\n",
       "  </thead>\n",
       "  <tbody>\n",
       "    <tr>\n",
       "      <th>0</th>\n",
       "      <td>20165026466</td>\n",
       "      <td>&lt;NA&gt;</td>\n",
       "      <td>23.13</td>\n",
       "      <td>2016-06-30 00:00:00+00:00</td>\n",
       "      <td>Not cleared</td>\n",
       "      <td>3</td>\n",
       "      <td>BURGLARY OF VEHICLE</td>\n",
       "      <td>H</td>\n",
       "      <td>&lt;NA&gt;</td>\n",
       "      <td>&lt;NA&gt;</td>\n",
       "      <td>(0         \n",
       "1         \n",
       "2         \n",
       "3         \n",
       "4...</td>\n",
       "      <td>2900 SUNRIDGE DR</td>\n",
       "      <td>Theft</td>\n",
       "      <td>2016-06-27 00:00:00+00:00</td>\n",
       "      <td>3119729</td>\n",
       "      <td>10053927</td>\n",
       "      <td>2016</td>\n",
       "      <td>78741</td>\n",
       "    </tr>\n",
       "    <tr>\n",
       "      <th>1</th>\n",
       "      <td>201440943</td>\n",
       "      <td>119 FREDERICK ST Austin, TX 78704 (30.230732, ...</td>\n",
       "      <td>13.08</td>\n",
       "      <td>2014-01-08 00:00:00+00:00</td>\n",
       "      <td>Cleared by Arrest</td>\n",
       "      <td>3</td>\n",
       "      <td>BURGLARY OF RESIDENCE</td>\n",
       "      <td>D</td>\n",
       "      <td>30.230732</td>\n",
       "      <td>-97.760585</td>\n",
       "      <td>(0                 \n",
       "1                 \n",
       "2      ...</td>\n",
       "      <td>119 FREDERICK ST</td>\n",
       "      <td>Burglary / \n",
       "Breaking &amp; Entering</td>\n",
       "      <td>2014-01-04 00:00:00+00:00</td>\n",
       "      <td>3108953</td>\n",
       "      <td>10057000</td>\n",
       "      <td>2014</td>\n",
       "      <td>78704</td>\n",
       "    </tr>\n",
       "    <tr>\n",
       "      <th>2</th>\n",
       "      <td>20151031435</td>\n",
       "      <td>&lt;NA&gt;</td>\n",
       "      <td>21.1</td>\n",
       "      <td>2015-04-22 00:00:00+00:00</td>\n",
       "      <td>Not cleared</td>\n",
       "      <td>1</td>\n",
       "      <td>BURGLARY NON RESIDENCE</td>\n",
       "      <td>C</td>\n",
       "      <td>&lt;NA&gt;</td>\n",
       "      <td>&lt;NA&gt;</td>\n",
       "      <td>(0         \n",
       "1         \n",
       "2         \n",
       "3         \n",
       "4...</td>\n",
       "      <td>4904 LOUIS AVE</td>\n",
       "      <td>Burglary</td>\n",
       "      <td>2015-04-13 00:00:00+00:00</td>\n",
       "      <td>3132451</td>\n",
       "      <td>10073733</td>\n",
       "      <td>2015</td>\n",
       "      <td>78721</td>\n",
       "    </tr>\n",
       "    <tr>\n",
       "      <th>3</th>\n",
       "      <td>20158003159</td>\n",
       "      <td>&lt;NA&gt;</td>\n",
       "      <td>19.01</td>\n",
       "      <td>2015-09-15 00:00:00+00:00</td>\n",
       "      <td>Not cleared</td>\n",
       "      <td>5</td>\n",
       "      <td>THEFT OF BICYCLE</td>\n",
       "      <td>D</td>\n",
       "      <td>&lt;NA&gt;</td>\n",
       "      <td>&lt;NA&gt;</td>\n",
       "      <td>(0         \n",
       "1         \n",
       "2         \n",
       "3         \n",
       "4...</td>\n",
       "      <td>1135 BARTON HILLS DR</td>\n",
       "      <td>Theft</td>\n",
       "      <td>2015-09-11 00:00:00+00:00</td>\n",
       "      <td>3104868</td>\n",
       "      <td>10068158</td>\n",
       "      <td>2015</td>\n",
       "      <td>78704</td>\n",
       "    </tr>\n",
       "    <tr>\n",
       "      <th>4</th>\n",
       "      <td>20145025710</td>\n",
       "      <td>6200 LOYOLA LN Austin, TX 78724 (30.30171, -97...</td>\n",
       "      <td>22.02</td>\n",
       "      <td>2014-06-24 00:00:00+00:00</td>\n",
       "      <td>Not cleared</td>\n",
       "      <td>1</td>\n",
       "      <td>BURGLARY OF VEHICLE</td>\n",
       "      <td>C</td>\n",
       "      <td>30.30171</td>\n",
       "      <td>-97.651541</td>\n",
       "      <td>(0                 \n",
       "1                 \n",
       "2      ...</td>\n",
       "      <td>6200 LOYOLA LN</td>\n",
       "      <td>Theft: BOV</td>\n",
       "      <td>2014-06-10 00:00:00+00:00</td>\n",
       "      <td>3143028</td>\n",
       "      <td>10083917</td>\n",
       "      <td>2014</td>\n",
       "      <td>78724</td>\n",
       "    </tr>\n",
       "  </tbody>\n",
       "</table>\n",
       "<p>5 rows × 18 columns</p>\n",
       "</div>[5 rows x 18 columns in total]"
      ],
      "text/plain": [
       "    unique_key                                            address  \\\n",
       "0  20165026466                                               <NA>   \n",
       "1    201440943  119 FREDERICK ST Austin, TX 78704 (30.230732, ...   \n",
       "2  20151031435                                               <NA>   \n",
       "3  20158003159                                               <NA>   \n",
       "4  20145025710  6200 LOYOLA LN Austin, TX 78724 (30.30171, -97...   \n",
       "\n",
       "   census_tract             clearance_date   clearance_status  \\\n",
       "0         23.13  2016-06-30 00:00:00+00:00        Not cleared   \n",
       "1         13.08  2014-01-08 00:00:00+00:00  Cleared by Arrest   \n",
       "2          21.1  2015-04-22 00:00:00+00:00        Not cleared   \n",
       "3         19.01  2015-09-15 00:00:00+00:00        Not cleared   \n",
       "4         22.02  2014-06-24 00:00:00+00:00        Not cleared   \n",
       "\n",
       "   council_district_code                     description district   latitude  \\\n",
       "0                      3  BURGLARY OF VEHICLE                   H       <NA>   \n",
       "1                      3  BURGLARY OF RESIDENCE                 D  30.230732   \n",
       "2                      1  BURGLARY NON RESIDENCE                C       <NA>   \n",
       "3                      5  THEFT OF BICYCLE                      D       <NA>   \n",
       "4                      1  BURGLARY OF VEHICLE                   C   30.30171   \n",
       "\n",
       "   longitude                                           location  \\\n",
       "0       <NA>  (0         \n",
       "1         \n",
       "2         \n",
       "3         \n",
       "4...   \n",
       "1 -97.760585  (0                 \n",
       "1                 \n",
       "2      ...   \n",
       "2       <NA>  (0         \n",
       "1         \n",
       "2         \n",
       "3         \n",
       "4...   \n",
       "3       <NA>  (0         \n",
       "1         \n",
       "2         \n",
       "3         \n",
       "4...   \n",
       "4 -97.651541  (0                 \n",
       "1                 \n",
       "2      ...   \n",
       "\n",
       "   location_description                     primary_type  \\\n",
       "0      2900 SUNRIDGE DR                            Theft   \n",
       "1      119 FREDERICK ST  Burglary / \n",
       "Breaking & Entering   \n",
       "2        4904 LOUIS AVE                         Burglary   \n",
       "3  1135 BARTON HILLS DR                            Theft   \n",
       "4        6200 LOYOLA LN                       Theft: BOV   \n",
       "\n",
       "                   timestamp  x_coordinate  y_coordinate  year zipcode  \n",
       "0  2016-06-27 00:00:00+00:00       3119729      10053927  2016   78741  \n",
       "1  2014-01-04 00:00:00+00:00       3108953      10057000  2014   78704  \n",
       "2  2015-04-13 00:00:00+00:00       3132451      10073733  2015   78721  \n",
       "3  2015-09-11 00:00:00+00:00       3104868      10068158  2015   78704  \n",
       "4  2014-06-10 00:00:00+00:00       3143028      10083917  2014   78724  \n",
       "\n",
       "[5 rows x 18 columns]"
      ]
     },
     "execution_count": 6,
     "metadata": {},
     "output_type": "execute_result"
    }
   ],
   "source": [
    "df3 = bpd.read_gbq(\"bigquery-public-data.austin_crime.crime\")\n",
    "df3.head()"
   ]
  },
  {
   "cell_type": "code",
   "execution_count": 7,
   "id": "cd947c97-4a13-4b1b-9729-4cdb23ab2c30",
   "metadata": {
    "tags": []
   },
   "outputs": [
    {
     "data": {
      "text/html": [
       "Query job abca57c2-0db6-4221-bbf0-07035b722278 is DONE. 0 Bytes processed. <a target=\"_blank\" href=\"https://console.cloud.google.com/bigquery?project=arctic-eye-446816-j7&j=bq:US:abca57c2-0db6-4221-bbf0-07035b722278&page=queryresults\">Open Job</a>"
      ],
      "text/plain": [
       "<IPython.core.display.HTML object>"
      ]
     },
     "metadata": {},
     "output_type": "display_data"
    },
    {
     "name": "stdout",
     "output_type": "stream",
     "text": [
      "<class 'bigframes.dataframe.DataFrame'>\n"
     ]
    },
    {
     "data": {
      "text/html": [
       "Query job 4270b22b-0b43-4479-9b20-8eb6cb511aaf is DONE. 1.7 GB processed. <a target=\"_blank\" href=\"https://console.cloud.google.com/bigquery?project=arctic-eye-446816-j7&j=bq:US:4270b22b-0b43-4479-9b20-8eb6cb511aaf&page=queryresults\">Open Job</a>"
      ],
      "text/plain": [
       "<IPython.core.display.HTML object>"
      ]
     },
     "metadata": {},
     "output_type": "display_data"
    },
    {
     "data": {
      "text/html": [
       "Query job 289c1ec0-1137-47d2-90ae-e919c47e58ad is DONE. 1.7 GB processed. <a target=\"_blank\" href=\"https://console.cloud.google.com/bigquery?project=arctic-eye-446816-j7&j=bq:US:289c1ec0-1137-47d2-90ae-e919c47e58ad&page=queryresults\">Open Job</a>"
      ],
      "text/plain": [
       "<IPython.core.display.HTML object>"
      ]
     },
     "metadata": {},
     "output_type": "display_data"
    },
    {
     "name": "stdout",
     "output_type": "stream",
     "text": [
      "Index: 8247404 entries, 0 to 8247403\n",
      "Data columns (total 22 columns):\n",
      "  #  Column                Dtype\n",
      "---  --------------------  ------------------------------\n",
      "  0  unique_key            Int64\n",
      "  1  case_number           string\n",
      "  2  date                  timestamp[us, tz=UTC][pyarrow]\n",
      "  3  block                 string\n",
      "  4  iucr                  string\n",
      "  5  primary_type          string\n",
      "  6  description           string\n",
      "  7  location_description  string\n",
      "  8  arrest                boolean\n",
      "  9  domestic              boolean\n",
      " 10  beat                  Int64\n",
      " 11  district              Int64\n",
      " 12  ward                  Int64\n",
      " 13  community_area        Int64\n",
      " 14  fbi_code              string\n",
      " 15  x_coordinate          Float64\n",
      " 16  y_coordinate          Float64\n",
      " 17  year                  Int64\n",
      " 18  updated_on            timestamp[us, tz=UTC][pyarrow]\n",
      " 19  latitude              Float64\n",
      " 20  longitude             Float64\n",
      " 21  location              string\n",
      "dtypes: Float64(4), Int64(6), boolean(2), string(8), timestamp[us, tz=UTC][pyarrow](2)\n"
     ]
    },
    {
     "data": {
      "text/html": [
       "Query job 953e939f-c649-4e20-a01b-5eb024a8f322 is DONE. 0 Bytes processed. <a target=\"_blank\" href=\"https://console.cloud.google.com/bigquery?project=arctic-eye-446816-j7&j=bq:US:953e939f-c649-4e20-a01b-5eb024a8f322&page=queryresults\">Open Job</a>"
      ],
      "text/plain": [
       "<IPython.core.display.HTML object>"
      ]
     },
     "metadata": {},
     "output_type": "display_data"
    },
    {
     "name": "stdout",
     "output_type": "stream",
     "text": [
      "memory usage: 1402058680 bytes\n"
     ]
    }
   ],
   "source": [
    "df2.info()"
   ]
  },
  {
   "cell_type": "code",
   "execution_count": 8,
   "id": "d1ee1e31-2521-4482-9c86-2c71ba755c8b",
   "metadata": {
    "tags": []
   },
   "outputs": [
    {
     "data": {
      "text/html": [
       "Query job 32954daa-b355-4fbb-8836-ce3b4859cda6 is DONE. 0 Bytes processed. <a target=\"_blank\" href=\"https://console.cloud.google.com/bigquery?project=arctic-eye-446816-j7&j=bq:US:32954daa-b355-4fbb-8836-ce3b4859cda6&page=queryresults\">Open Job</a>"
      ],
      "text/plain": [
       "<IPython.core.display.HTML object>"
      ]
     },
     "metadata": {},
     "output_type": "display_data"
    },
    {
     "name": "stdout",
     "output_type": "stream",
     "text": [
      "<class 'bigframes.dataframe.DataFrame'>\n"
     ]
    },
    {
     "data": {
      "text/html": [
       "Query job ef9aff93-e7b5-442d-90ec-0f94a0b31ece is DONE. 67.3 MB processed. <a target=\"_blank\" href=\"https://console.cloud.google.com/bigquery?project=arctic-eye-446816-j7&j=bq:US:ef9aff93-e7b5-442d-90ec-0f94a0b31ece&page=queryresults\">Open Job</a>"
      ],
      "text/plain": [
       "<IPython.core.display.HTML object>"
      ]
     },
     "metadata": {},
     "output_type": "display_data"
    },
    {
     "data": {
      "text/html": [
       "Query job 4d83bf3c-e40c-4a06-aa4c-2ea55e6924c5 is DONE. 67.3 MB processed. <a target=\"_blank\" href=\"https://console.cloud.google.com/bigquery?project=arctic-eye-446816-j7&j=bq:US:4d83bf3c-e40c-4a06-aa4c-2ea55e6924c5&page=queryresults\">Open Job</a>"
      ],
      "text/plain": [
       "<IPython.core.display.HTML object>"
      ]
     },
     "metadata": {},
     "output_type": "display_data"
    },
    {
     "name": "stdout",
     "output_type": "stream",
     "text": [
      "Index: 116672 entries, 0 to 116671\n",
      "Data columns (total 18 columns):\n"
     ]
    },
    {
     "name": "stderr",
     "output_type": "stream",
     "text": [
      "/opt/conda/lib/python3.10/site-packages/bigframes/core/blocks.py:125: NullIndexPreviewWarning: Creating object with Null Index. Null Index is a preview feature.\n",
      "  warnings.warn(\n"
     ]
    },
    {
     "data": {
      "text/html": [
       "Query job c6bfe328-07c6-41a1-9872-198d1a4f80f5 is DONE. 67.3 MB processed. <a target=\"_blank\" href=\"https://console.cloud.google.com/bigquery?project=arctic-eye-446816-j7&j=bq:US:c6bfe328-07c6-41a1-9872-198d1a4f80f5&page=queryresults\">Open Job</a>"
      ],
      "text/plain": [
       "<IPython.core.display.HTML object>"
      ]
     },
     "metadata": {},
     "output_type": "display_data"
    },
    {
     "name": "stdout",
     "output_type": "stream",
     "text": [
      "  #  Column                 Non-Null Count    Dtype\n",
      "---  ---------------------  ----------------  ------------------------------\n",
      "  0  unique_key             116671 non-null   Int64\n",
      "  1  address                40640 non-null    string\n",
      "  2  census_tract           116149 non-null   Float64\n",
      "  3  clearance_date         111558 non-null   timestamp[us, tz=UTC][pyarrow]\n",
      "  4  clearance_status       111558 non-null   string\n",
      "  5  council_district_code  115997 non-null   Int64\n",
      "  6  description            116672 non-null   string\n",
      "  7  district               116672 non-null   string\n",
      "  8  latitude               34500 non-null    Float64\n",
      "  9  longitude              34500 non-null    Float64\n",
      " 10  location               116672 non-null   string\n",
      " 11  location_description   116672 non-null   string\n",
      " 12  primary_type           116672 non-null   string\n",
      " 13  timestamp              116672 non-null   timestamp[us, tz=UTC][pyarrow]\n",
      " 14  x_coordinate           114525 non-null   Int64\n",
      " 15  y_coordinate           114525 non-null   Int64\n",
      " 16  year                   116672 non-null   Int64\n",
      " 17  zipcode                116149 non-null   string\n",
      "dtypes: Float64(3), Int64(5), string(8), timestamp[us, tz=UTC][pyarrow](2)\n"
     ]
    },
    {
     "data": {
      "text/html": [
       "Query job a0e028bc-7d36-48ec-8fe5-23dd6c9f58aa is DONE. 0 Bytes processed. <a target=\"_blank\" href=\"https://console.cloud.google.com/bigquery?project=arctic-eye-446816-j7&j=bq:US:a0e028bc-7d36-48ec-8fe5-23dd6c9f58aa&page=queryresults\">Open Job</a>"
      ],
      "text/plain": [
       "<IPython.core.display.HTML object>"
      ]
     },
     "metadata": {},
     "output_type": "display_data"
    },
    {
     "name": "stdout",
     "output_type": "stream",
     "text": [
      "memory usage: 17734144 bytes\n"
     ]
    }
   ],
   "source": [
    "df3.info()"
   ]
  },
  {
   "cell_type": "code",
   "execution_count": 9,
   "id": "c00bbc55-0f2f-47d1-bf1e-9754c56000a5",
   "metadata": {
    "tags": []
   },
   "outputs": [
    {
     "data": {
      "text/html": [
       "Query job 8ad74db7-d8ec-49f8-87da-11087833217d is DONE. 1.7 GB processed. <a target=\"_blank\" href=\"https://console.cloud.google.com/bigquery?project=arctic-eye-446816-j7&j=bq:US:8ad74db7-d8ec-49f8-87da-11087833217d&page=queryresults\">Open Job</a>"
      ],
      "text/plain": [
       "<IPython.core.display.HTML object>"
      ]
     },
     "metadata": {},
     "output_type": "display_data"
    },
    {
     "data": {
      "text/html": [
       "Query job 240365ae-0fc4-4959-b60c-41ef0062c8e1 is DONE. 0 Bytes processed. <a target=\"_blank\" href=\"https://console.cloud.google.com/bigquery?project=arctic-eye-446816-j7&j=bq:US:240365ae-0fc4-4959-b60c-41ef0062c8e1&page=queryresults\">Open Job</a>"
      ],
      "text/plain": [
       "<IPython.core.display.HTML object>"
      ]
     },
     "metadata": {},
     "output_type": "display_data"
    },
    {
     "data": {
      "text/html": [
       "Query job ecaf7e62-e5dd-4945-82b8-ca179a27e02c is DONE. 120 Bytes processed. <a target=\"_blank\" href=\"https://console.cloud.google.com/bigquery?project=arctic-eye-446816-j7&j=bq:US:ecaf7e62-e5dd-4945-82b8-ca179a27e02c&page=queryresults\">Open Job</a>"
      ],
      "text/plain": [
       "<IPython.core.display.HTML object>"
      ]
     },
     "metadata": {},
     "output_type": "display_data"
    },
    {
     "data": {
      "text/plain": [
       "0    24\n",
       "1     2\n",
       "2     2\n",
       "3     1\n",
       "4    18\n",
       "Name: district, dtype: Int64"
      ]
     },
     "execution_count": 9,
     "metadata": {},
     "output_type": "execute_result"
    }
   ],
   "source": [
    "df2['district'].head()"
   ]
  },
  {
   "cell_type": "code",
   "execution_count": 10,
   "id": "7c4a3a78-1fd1-434b-b6b2-73b50c42c2c6",
   "metadata": {
    "tags": []
   },
   "outputs": [],
   "source": [
    "chicago_df = df2[['date','year','primary_type','arrest']].reset_index()"
   ]
  },
  {
   "cell_type": "code",
   "execution_count": 11,
   "id": "57cb92f4-464d-4013-96bc-35c8e5d64db1",
   "metadata": {
    "tags": []
   },
   "outputs": [],
   "source": [
    "austin_df = df3[['timestamp','year','primary_type','clearance_status']].reset_index()"
   ]
  },
  {
   "cell_type": "code",
   "execution_count": 12,
   "id": "391463fa-274f-400b-b543-0626a01d78b3",
   "metadata": {
    "tags": []
   },
   "outputs": [
    {
     "data": {
      "text/html": [
       "Query job e0e33eb0-62a3-4593-b5f1-30341802cdd0 is DONE. 1.7 GB processed. <a target=\"_blank\" href=\"https://console.cloud.google.com/bigquery?project=arctic-eye-446816-j7&j=bq:US:e0e33eb0-62a3-4593-b5f1-30341802cdd0&page=queryresults\">Open Job</a>"
      ],
      "text/plain": [
       "<IPython.core.display.HTML object>"
      ]
     },
     "metadata": {},
     "output_type": "display_data"
    },
    {
     "name": "stdout",
     "output_type": "stream",
     "text": [
      "index unique values: 8247404\n"
     ]
    },
    {
     "data": {
      "text/html": [
       "Query job 7e3c0def-1fd2-4797-b2f2-f7e703658aed is DONE. 1.7 GB processed. <a target=\"_blank\" href=\"https://console.cloud.google.com/bigquery?project=arctic-eye-446816-j7&j=bq:US:7e3c0def-1fd2-4797-b2f2-f7e703658aed&page=queryresults\">Open Job</a>"
      ],
      "text/plain": [
       "<IPython.core.display.HTML object>"
      ]
     },
     "metadata": {},
     "output_type": "display_data"
    },
    {
     "name": "stdout",
     "output_type": "stream",
     "text": [
      "date unique values: 3432017\n"
     ]
    },
    {
     "data": {
      "text/html": [
       "Query job e7cd4056-6534-473e-a119-7bec7fec67b9 is DONE. 1.7 GB processed. <a target=\"_blank\" href=\"https://console.cloud.google.com/bigquery?project=arctic-eye-446816-j7&j=bq:US:e7cd4056-6534-473e-a119-7bec7fec67b9&page=queryresults\">Open Job</a>"
      ],
      "text/plain": [
       "<IPython.core.display.HTML object>"
      ]
     },
     "metadata": {},
     "output_type": "display_data"
    },
    {
     "name": "stdout",
     "output_type": "stream",
     "text": [
      "year unique values: 25\n"
     ]
    },
    {
     "data": {
      "text/html": [
       "Query job bec1d678-1816-4a0b-ba10-b997bbb7e9f5 is DONE. 1.7 GB processed. <a target=\"_blank\" href=\"https://console.cloud.google.com/bigquery?project=arctic-eye-446816-j7&j=bq:US:bec1d678-1816-4a0b-ba10-b997bbb7e9f5&page=queryresults\">Open Job</a>"
      ],
      "text/plain": [
       "<IPython.core.display.HTML object>"
      ]
     },
     "metadata": {},
     "output_type": "display_data"
    },
    {
     "name": "stdout",
     "output_type": "stream",
     "text": [
      "primary_type unique values: 36\n"
     ]
    },
    {
     "data": {
      "text/html": [
       "Query job 529c8277-94f4-4630-8ddf-beaa53a896c1 is DONE. 1.7 GB processed. <a target=\"_blank\" href=\"https://console.cloud.google.com/bigquery?project=arctic-eye-446816-j7&j=bq:US:529c8277-94f4-4630-8ddf-beaa53a896c1&page=queryresults\">Open Job</a>"
      ],
      "text/plain": [
       "<IPython.core.display.HTML object>"
      ]
     },
     "metadata": {},
     "output_type": "display_data"
    },
    {
     "name": "stdout",
     "output_type": "stream",
     "text": [
      "arrest unique values: 2\n"
     ]
    },
    {
     "data": {
      "text/html": [
       "Query job 32d3bf1c-5010-43e2-b9d6-2cea59d3da8d is DONE. 67.3 MB processed. <a target=\"_blank\" href=\"https://console.cloud.google.com/bigquery?project=arctic-eye-446816-j7&j=bq:US:32d3bf1c-5010-43e2-b9d6-2cea59d3da8d&page=queryresults\">Open Job</a>"
      ],
      "text/plain": [
       "<IPython.core.display.HTML object>"
      ]
     },
     "metadata": {},
     "output_type": "display_data"
    },
    {
     "name": "stdout",
     "output_type": "stream",
     "text": [
      "index unique values: 116672\n"
     ]
    },
    {
     "data": {
      "text/html": [
       "Query job d069b579-ff7c-46a2-bba2-fb4832332ad6 is DONE. 67.3 MB processed. <a target=\"_blank\" href=\"https://console.cloud.google.com/bigquery?project=arctic-eye-446816-j7&j=bq:US:d069b579-ff7c-46a2-bba2-fb4832332ad6&page=queryresults\">Open Job</a>"
      ],
      "text/plain": [
       "<IPython.core.display.HTML object>"
      ]
     },
     "metadata": {},
     "output_type": "display_data"
    },
    {
     "name": "stdout",
     "output_type": "stream",
     "text": [
      "timestamp unique values: 1096\n"
     ]
    },
    {
     "data": {
      "text/html": [
       "Query job 050dbfdd-3e40-4e73-bd66-fb92c0df451b is DONE. 67.3 MB processed. <a target=\"_blank\" href=\"https://console.cloud.google.com/bigquery?project=arctic-eye-446816-j7&j=bq:US:050dbfdd-3e40-4e73-bd66-fb92c0df451b&page=queryresults\">Open Job</a>"
      ],
      "text/plain": [
       "<IPython.core.display.HTML object>"
      ]
     },
     "metadata": {},
     "output_type": "display_data"
    },
    {
     "name": "stdout",
     "output_type": "stream",
     "text": [
      "year unique values: 3\n"
     ]
    },
    {
     "data": {
      "text/html": [
       "Query job 608cbec4-fbc2-4998-8433-3b746ead88d6 is DONE. 67.3 MB processed. <a target=\"_blank\" href=\"https://console.cloud.google.com/bigquery?project=arctic-eye-446816-j7&j=bq:US:608cbec4-fbc2-4998-8433-3b746ead88d6&page=queryresults\">Open Job</a>"
      ],
      "text/plain": [
       "<IPython.core.display.HTML object>"
      ]
     },
     "metadata": {},
     "output_type": "display_data"
    },
    {
     "name": "stdout",
     "output_type": "stream",
     "text": [
      "primary_type unique values: 18\n"
     ]
    },
    {
     "data": {
      "text/html": [
       "Query job e940ac9b-79a7-486b-9527-82dfccd67ddc is DONE. 67.3 MB processed. <a target=\"_blank\" href=\"https://console.cloud.google.com/bigquery?project=arctic-eye-446816-j7&j=bq:US:e940ac9b-79a7-486b-9527-82dfccd67ddc&page=queryresults\">Open Job</a>"
      ],
      "text/plain": [
       "<IPython.core.display.HTML object>"
      ]
     },
     "metadata": {},
     "output_type": "display_data"
    },
    {
     "name": "stdout",
     "output_type": "stream",
     "text": [
      "clearance_status unique values: 4\n"
     ]
    }
   ],
   "source": [
    "for df in [chicago_df, austin_df]:\n",
    "    for column in df.columns:\n",
    "        print(f'{column} unique values: {len(df[column].unique())}')"
   ]
  },
  {
   "cell_type": "code",
   "execution_count": 13,
   "id": "8c731972-31be-425e-b3f0-c8a7d95b5aab",
   "metadata": {
    "tags": []
   },
   "outputs": [
    {
     "data": {
      "text/html": [
       "Query job a13724c3-cb74-4ac0-860c-58992f302dbe is DONE. 67.3 MB processed. <a target=\"_blank\" href=\"https://console.cloud.google.com/bigquery?project=arctic-eye-446816-j7&j=bq:US:a13724c3-cb74-4ac0-860c-58992f302dbe&page=queryresults\">Open Job</a>"
      ],
      "text/plain": [
       "<IPython.core.display.HTML object>"
      ]
     },
     "metadata": {},
     "output_type": "display_data"
    },
    {
     "data": {
      "text/html": [
       "Query job ef08e4ef-f9fa-4225-a1e5-9e688f1018c3 is DONE. 0 Bytes processed. <a target=\"_blank\" href=\"https://console.cloud.google.com/bigquery?project=arctic-eye-446816-j7&j=bq:US:ef08e4ef-f9fa-4225-a1e5-9e688f1018c3&page=queryresults\">Open Job</a>"
      ],
      "text/plain": [
       "<IPython.core.display.HTML object>"
      ]
     },
     "metadata": {},
     "output_type": "display_data"
    },
    {
     "data": {
      "text/html": [
       "Query job d51acde0-aa0a-49d3-b595-9b9ddfdd96fa is DONE. 118 Bytes processed. <a target=\"_blank\" href=\"https://console.cloud.google.com/bigquery?project=arctic-eye-446816-j7&j=bq:US:d51acde0-aa0a-49d3-b595-9b9ddfdd96fa&page=queryresults\">Open Job</a>"
      ],
      "text/plain": [
       "<IPython.core.display.HTML object>"
      ]
     },
     "metadata": {},
     "output_type": "display_data"
    },
    {
     "data": {
      "text/plain": [
       "0              Not cleared\n",
       "1        Cleared by Arrest\n",
       "24    Cleared by Exception\n",
       "34                    <NA>\n",
       "Name: clearance_status, dtype: string"
      ]
     },
     "execution_count": 13,
     "metadata": {},
     "output_type": "execute_result"
    }
   ],
   "source": [
    "austin_df.clearance_status.unique()"
   ]
  },
  {
   "cell_type": "code",
   "execution_count": 14,
   "id": "73ecd0b9-4f44-486b-95ef-7cb0f4184b33",
   "metadata": {
    "tags": []
   },
   "outputs": [
    {
     "data": {
      "text/html": [
       "Query job ecc70b05-79b6-4f4b-b27b-f030eac1cc1d is DONE. 67.3 MB processed. <a target=\"_blank\" href=\"https://console.cloud.google.com/bigquery?project=arctic-eye-446816-j7&j=bq:US:ecc70b05-79b6-4f4b-b27b-f030eac1cc1d&page=queryresults\">Open Job</a>"
      ],
      "text/plain": [
       "<IPython.core.display.HTML object>"
      ]
     },
     "metadata": {},
     "output_type": "display_data"
    },
    {
     "data": {
      "text/html": [
       "Query job 12247dd7-1f8c-4fca-827a-31ce58a03055 is DONE. 67.3 MB processed. <a target=\"_blank\" href=\"https://console.cloud.google.com/bigquery?project=arctic-eye-446816-j7&j=bq:US:12247dd7-1f8c-4fca-827a-31ce58a03055&page=queryresults\">Open Job</a>"
      ],
      "text/plain": [
       "<IPython.core.display.HTML object>"
      ]
     },
     "metadata": {},
     "output_type": "display_data"
    },
    {
     "data": {
      "text/html": [
       "Query job 29e6d765-bc2c-48ce-bde7-7083eaf9edf8 is DONE. 0 Bytes processed. <a target=\"_blank\" href=\"https://console.cloud.google.com/bigquery?project=arctic-eye-446816-j7&j=bq:US:29e6d765-bc2c-48ce-bde7-7083eaf9edf8&page=queryresults\">Open Job</a>"
      ],
      "text/plain": [
       "<IPython.core.display.HTML object>"
      ]
     },
     "metadata": {},
     "output_type": "display_data"
    },
    {
     "data": {
      "text/html": [
       "Load job 6e8593c1-5360-47c8-8165-5e289929bd6f is DONE. <a target=\"_blank\" href=\"https://console.cloud.google.com/bigquery?project=arctic-eye-446816-j7&j=bq:US:6e8593c1-5360-47c8-8165-5e289929bd6f&page=queryresults\">Open Job</a>"
      ],
      "text/plain": [
       "<IPython.core.display.HTML object>"
      ]
     },
     "metadata": {},
     "output_type": "display_data"
    }
   ],
   "source": [
    "import numpy as np\n",
    "austin_df['arrest'] = np.where(austin_df['clearance_status'] == 'Cleared by Arrest', np.where(austin_df['clearance_status'] == 'Cleared by Exception', True, True), False)\n"
   ]
  },
  {
   "cell_type": "code",
   "execution_count": 15,
   "id": "e5ea8eea-5cde-4a15-b85e-de4d744a67ff",
   "metadata": {
    "tags": []
   },
   "outputs": [],
   "source": [
    "austin_df = austin_df.drop(columns='clearance_status')\n"
   ]
  },
  {
   "cell_type": "code",
   "execution_count": 16,
   "id": "16e6026f-fec0-43ae-8194-d27e30a1d1e7",
   "metadata": {
    "tags": []
   },
   "outputs": [
    {
     "data": {
      "text/html": [
       "Query job 50f9d774-e531-4c17-b6c7-82f489e04bee is DONE. 68.3 MB processed. <a target=\"_blank\" href=\"https://console.cloud.google.com/bigquery?project=arctic-eye-446816-j7&j=bq:US:50f9d774-e531-4c17-b6c7-82f489e04bee&page=queryresults\">Open Job</a>"
      ],
      "text/plain": [
       "<IPython.core.display.HTML object>"
      ]
     },
     "metadata": {},
     "output_type": "display_data"
    },
    {
     "name": "stdout",
     "output_type": "stream",
     "text": [
      "<class 'bigframes.dataframe.DataFrame'>\n"
     ]
    },
    {
     "data": {
      "text/html": [
       "Query job 31bff6f9-8797-4944-8b28-a1aa7555468a is DONE. 69.2 MB processed. <a target=\"_blank\" href=\"https://console.cloud.google.com/bigquery?project=arctic-eye-446816-j7&j=bq:US:31bff6f9-8797-4944-8b28-a1aa7555468a&page=queryresults\">Open Job</a>"
      ],
      "text/plain": [
       "<IPython.core.display.HTML object>"
      ]
     },
     "metadata": {},
     "output_type": "display_data"
    },
    {
     "data": {
      "text/html": [
       "Query job db9d819a-7c03-4d8e-9f21-9eb76f49eb74 is DONE. 69.2 MB processed. <a target=\"_blank\" href=\"https://console.cloud.google.com/bigquery?project=arctic-eye-446816-j7&j=bq:US:db9d819a-7c03-4d8e-9f21-9eb76f49eb74&page=queryresults\">Open Job</a>"
      ],
      "text/plain": [
       "<IPython.core.display.HTML object>"
      ]
     },
     "metadata": {},
     "output_type": "display_data"
    },
    {
     "name": "stdout",
     "output_type": "stream",
     "text": [
      "Index: 116672 entries, 0 to 116671\n",
      "Data columns (total 5 columns):\n"
     ]
    },
    {
     "name": "stderr",
     "output_type": "stream",
     "text": [
      "/opt/conda/lib/python3.10/site-packages/bigframes/core/blocks.py:125: NullIndexPreviewWarning: Creating object with Null Index. Null Index is a preview feature.\n",
      "  warnings.warn(\n"
     ]
    },
    {
     "data": {
      "text/html": [
       "Query job 3b2f7e44-6eea-485a-9fdf-6af3f839682c is DONE. 68.4 MB processed. <a target=\"_blank\" href=\"https://console.cloud.google.com/bigquery?project=arctic-eye-446816-j7&j=bq:US:3b2f7e44-6eea-485a-9fdf-6af3f839682c&page=queryresults\">Open Job</a>"
      ],
      "text/plain": [
       "<IPython.core.display.HTML object>"
      ]
     },
     "metadata": {},
     "output_type": "display_data"
    },
    {
     "name": "stdout",
     "output_type": "stream",
     "text": [
      "  #  Column        Non-Null Count    Dtype\n",
      "---  ------------  ----------------  ------------------------------\n",
      "  0  index         116672 non-null   Int64\n",
      "  1  date          116672 non-null   timestamp[us, tz=UTC][pyarrow]\n",
      "  2  year          116672 non-null   Int64\n",
      "  3  primary_type  116672 non-null   string\n",
      "  4  arrest        116672 non-null   boolean\n",
      "dtypes: Int64(2), boolean(1), string(1), timestamp[us, tz=UTC][pyarrow](1)\n"
     ]
    },
    {
     "data": {
      "text/html": [
       "Query job 6a8d0b6e-4694-4b5b-ace7-c615c0f533f9 is DONE. 68.3 MB processed. <a target=\"_blank\" href=\"https://console.cloud.google.com/bigquery?project=arctic-eye-446816-j7&j=bq:US:6a8d0b6e-4694-4b5b-ace7-c615c0f533f9&page=queryresults\">Open Job</a>"
      ],
      "text/plain": [
       "<IPython.core.display.HTML object>"
      ]
     },
     "metadata": {},
     "output_type": "display_data"
    },
    {
     "name": "stdout",
     "output_type": "stream",
     "text": [
      "memory usage: 4783552 bytes\n"
     ]
    }
   ],
   "source": [
    "austin_df = austin_df.rename(columns = {'timestamp':'date'})\n",
    "austin_df.info()"
   ]
  },
  {
   "cell_type": "code",
   "execution_count": 17,
   "id": "17c29424-be95-46e1-b56c-cc2cfc6328c0",
   "metadata": {
    "tags": []
   },
   "outputs": [
    {
     "data": {
      "text/html": [
       "Query job eeadb3e0-ea66-4289-8fd5-d56dd13a3353 is DONE. 0 Bytes processed. <a target=\"_blank\" href=\"https://console.cloud.google.com/bigquery?project=arctic-eye-446816-j7&j=bq:US:eeadb3e0-ea66-4289-8fd5-d56dd13a3353&page=queryresults\">Open Job</a>"
      ],
      "text/plain": [
       "<IPython.core.display.HTML object>"
      ]
     },
     "metadata": {},
     "output_type": "display_data"
    },
    {
     "name": "stdout",
     "output_type": "stream",
     "text": [
      "<class 'bigframes.dataframe.DataFrame'>\n"
     ]
    },
    {
     "data": {
      "text/html": [
       "Query job c7da4aba-801c-430a-8fe6-fda54f8bd907 is DONE. 1.7 GB processed. <a target=\"_blank\" href=\"https://console.cloud.google.com/bigquery?project=arctic-eye-446816-j7&j=bq:US:c7da4aba-801c-430a-8fe6-fda54f8bd907&page=queryresults\">Open Job</a>"
      ],
      "text/plain": [
       "<IPython.core.display.HTML object>"
      ]
     },
     "metadata": {},
     "output_type": "display_data"
    },
    {
     "data": {
      "text/html": [
       "Query job 0813a90c-6810-476c-8a68-bcaf66f2b55d is DONE. 1.7 GB processed. <a target=\"_blank\" href=\"https://console.cloud.google.com/bigquery?project=arctic-eye-446816-j7&j=bq:US:0813a90c-6810-476c-8a68-bcaf66f2b55d&page=queryresults\">Open Job</a>"
      ],
      "text/plain": [
       "<IPython.core.display.HTML object>"
      ]
     },
     "metadata": {},
     "output_type": "display_data"
    },
    {
     "name": "stdout",
     "output_type": "stream",
     "text": [
      "Index: 8247404 entries, 0 to 8247403\n",
      "Data columns (total 5 columns):\n",
      "  #  Column        Dtype\n",
      "---  ------------  ------------------------------\n",
      "  0  index         Int64\n",
      "  1  date          timestamp[us, tz=UTC][pyarrow]\n",
      "  2  year          Int64\n",
      "  3  primary_type  string\n",
      "  4  arrest        boolean\n",
      "dtypes: Int64(2), boolean(1), string(1), timestamp[us, tz=UTC][pyarrow](1)\n"
     ]
    },
    {
     "data": {
      "text/html": [
       "Query job f78f7a2f-4de3-4f6a-88e5-41803add789b is DONE. 0 Bytes processed. <a target=\"_blank\" href=\"https://console.cloud.google.com/bigquery?project=arctic-eye-446816-j7&j=bq:US:f78f7a2f-4de3-4f6a-88e5-41803add789b&page=queryresults\">Open Job</a>"
      ],
      "text/plain": [
       "<IPython.core.display.HTML object>"
      ]
     },
     "metadata": {},
     "output_type": "display_data"
    },
    {
     "name": "stdout",
     "output_type": "stream",
     "text": [
      "memory usage: 338143564 bytes\n"
     ]
    }
   ],
   "source": [
    "chicago_df.info()"
   ]
  },
  {
   "cell_type": "code",
   "execution_count": 21,
   "id": "72953b0f-7542-431b-b7bc-fe0e165acaed",
   "metadata": {},
   "outputs": [
    {
     "data": {
      "text/html": [
       "Query job 827191dd-987f-4fd4-9e3d-369bc1979b8f is DONE. 74.2 MB processed. <a target=\"_blank\" href=\"https://console.cloud.google.com/bigquery?project=arctic-eye-446816-j7&j=bq:US:827191dd-987f-4fd4-9e3d-369bc1979b8f&page=queryresults\">Open Job</a>"
      ],
      "text/plain": [
       "<IPython.core.display.HTML object>"
      ]
     },
     "metadata": {},
     "output_type": "display_data"
    },
    {
     "data": {
      "text/html": [
       "Query job 2e132c61-f182-4e1f-863d-015a584cc36c is DONE. 0 Bytes processed. <a target=\"_blank\" href=\"https://console.cloud.google.com/bigquery?project=arctic-eye-446816-j7&j=bq:US:2e132c61-f182-4e1f-863d-015a584cc36c&page=queryresults\">Open Job</a>"
      ],
      "text/plain": [
       "<IPython.core.display.HTML object>"
      ]
     },
     "metadata": {},
     "output_type": "display_data"
    },
    {
     "data": {
      "text/html": [
       "Query job 5d42076f-b499-4e53-aa9b-7e2a3f607390 is DONE. 600 Bytes processed. <a target=\"_blank\" href=\"https://console.cloud.google.com/bigquery?project=arctic-eye-446816-j7&j=bq:US:5d42076f-b499-4e53-aa9b-7e2a3f607390&page=queryresults\">Open Job</a>"
      ],
      "text/plain": [
       "<IPython.core.display.HTML object>"
      ]
     },
     "metadata": {},
     "output_type": "display_data"
    },
    {
     "data": {
      "text/html": [
       "<div>\n",
       "<style scoped>\n",
       "    .dataframe tbody tr th:only-of-type {\n",
       "        vertical-align: middle;\n",
       "    }\n",
       "\n",
       "    .dataframe tbody tr th {\n",
       "        vertical-align: top;\n",
       "    }\n",
       "\n",
       "    .dataframe thead th {\n",
       "        text-align: right;\n",
       "    }\n",
       "</style>\n",
       "<table border=\"1\" class=\"dataframe\">\n",
       "  <thead>\n",
       "    <tr style=\"text-align: right;\">\n",
       "      <th></th>\n",
       "      <th>arrest</th>\n",
       "    </tr>\n",
       "    <tr>\n",
       "      <th>year</th>\n",
       "      <th></th>\n",
       "    </tr>\n",
       "  </thead>\n",
       "  <tbody>\n",
       "    <tr>\n",
       "      <th>2001</th>\n",
       "      <td>485931</td>\n",
       "    </tr>\n",
       "    <tr>\n",
       "      <th>2002</th>\n",
       "      <td>486827</td>\n",
       "    </tr>\n",
       "    <tr>\n",
       "      <th>2003</th>\n",
       "      <td>475990</td>\n",
       "    </tr>\n",
       "    <tr>\n",
       "      <th>2004</th>\n",
       "      <td>469433</td>\n",
       "    </tr>\n",
       "    <tr>\n",
       "      <th>2005</th>\n",
       "      <td>453779</td>\n",
       "    </tr>\n",
       "    <tr>\n",
       "      <th>2006</th>\n",
       "      <td>448193</td>\n",
       "    </tr>\n",
       "    <tr>\n",
       "      <th>2007</th>\n",
       "      <td>437098</td>\n",
       "    </tr>\n",
       "    <tr>\n",
       "      <th>2008</th>\n",
       "      <td>427201</td>\n",
       "    </tr>\n",
       "    <tr>\n",
       "      <th>2009</th>\n",
       "      <td>392851</td>\n",
       "    </tr>\n",
       "    <tr>\n",
       "      <th>2010</th>\n",
       "      <td>370546</td>\n",
       "    </tr>\n",
       "    <tr>\n",
       "      <th>2011</th>\n",
       "      <td>352025</td>\n",
       "    </tr>\n",
       "    <tr>\n",
       "      <th>2012</th>\n",
       "      <td>336352</td>\n",
       "    </tr>\n",
       "    <tr>\n",
       "      <th>2013</th>\n",
       "      <td>307591</td>\n",
       "    </tr>\n",
       "    <tr>\n",
       "      <th>2014</th>\n",
       "      <td>275864</td>\n",
       "    </tr>\n",
       "    <tr>\n",
       "      <th>2015</th>\n",
       "      <td>264867</td>\n",
       "    </tr>\n",
       "    <tr>\n",
       "      <th>2016</th>\n",
       "      <td>269929</td>\n",
       "    </tr>\n",
       "    <tr>\n",
       "      <th>2017</th>\n",
       "      <td>269217</td>\n",
       "    </tr>\n",
       "    <tr>\n",
       "      <th>2018</th>\n",
       "      <td>269074</td>\n",
       "    </tr>\n",
       "    <tr>\n",
       "      <th>2019</th>\n",
       "      <td>261565</td>\n",
       "    </tr>\n",
       "    <tr>\n",
       "      <th>2020</th>\n",
       "      <td>212543</td>\n",
       "    </tr>\n",
       "    <tr>\n",
       "      <th>2021</th>\n",
       "      <td>209426</td>\n",
       "    </tr>\n",
       "    <tr>\n",
       "      <th>2022</th>\n",
       "      <td>239675</td>\n",
       "    </tr>\n",
       "    <tr>\n",
       "      <th>2023</th>\n",
       "      <td>262784</td>\n",
       "    </tr>\n",
       "    <tr>\n",
       "      <th>2024</th>\n",
       "      <td>256927</td>\n",
       "    </tr>\n",
       "    <tr>\n",
       "      <th>2025</th>\n",
       "      <td>11716</td>\n",
       "    </tr>\n",
       "  </tbody>\n",
       "</table>\n",
       "<p>25 rows × 1 columns</p>\n",
       "</div>[25 rows x 1 columns in total]"
      ],
      "text/plain": [
       "      arrest\n",
       "year        \n",
       "2001  485931\n",
       "2002  486827\n",
       "2003  475990\n",
       "2004  469433\n",
       "2005  453779\n",
       "2006  448193\n",
       "2007  437098\n",
       "2008  427201\n",
       "2009  392851\n",
       "2010  370546\n",
       "2011  352025\n",
       "2012  336352\n",
       "2013  307591\n",
       "2014  275864\n",
       "2015  264867\n",
       "2016  269929\n",
       "2017  269217\n",
       "2018  269074\n",
       "2019  261565\n",
       "2020  212543\n",
       "2021  209426\n",
       "2022  239675\n",
       "2023  262784\n",
       "2024  256927\n",
       "2025   11716\n",
       "\n",
       "[25 rows x 1 columns]"
      ]
     },
     "execution_count": 21,
     "metadata": {},
     "output_type": "execute_result"
    }
   ],
   "source": [
    "chicago_group = chicago_df[['year', 'arrest']].groupby(['year']).count()\n"
   ]
  },
  {
   "cell_type": "code",
   "execution_count": 27,
   "id": "7cfe9199-7ad3-422a-9564-576acd275424",
   "metadata": {
    "tags": []
   },
   "outputs": [
    {
     "data": {
      "text/html": [
       "Query job 47e29f65-197b-4336-8699-494c38125420 is DONE. 600 Bytes processed. <a target=\"_blank\" href=\"https://console.cloud.google.com/bigquery?project=arctic-eye-446816-j7&j=bq:US:47e29f65-197b-4336-8699-494c38125420&page=queryresults\">Open Job</a>"
      ],
      "text/plain": [
       "<IPython.core.display.HTML object>"
      ]
     },
     "metadata": {},
     "output_type": "display_data"
    },
    {
     "data": {
      "text/html": [
       "Query job 0ab9bf89-a594-457f-9973-3485217e2478 is DONE. 0 Bytes processed. <a target=\"_blank\" href=\"https://console.cloud.google.com/bigquery?project=arctic-eye-446816-j7&j=bq:US:0ab9bf89-a594-457f-9973-3485217e2478&page=queryresults\">Open Job</a>"
      ],
      "text/plain": [
       "<IPython.core.display.HTML object>"
      ]
     },
     "metadata": {},
     "output_type": "display_data"
    },
    {
     "data": {
      "text/html": [
       "Query job d869a185-d7f4-43ff-883f-8c07f3740640 is DONE. 800 Bytes processed. <a target=\"_blank\" href=\"https://console.cloud.google.com/bigquery?project=arctic-eye-446816-j7&j=bq:US:d869a185-d7f4-43ff-883f-8c07f3740640&page=queryresults\">Open Job</a>"
      ],
      "text/plain": [
       "<IPython.core.display.HTML object>"
      ]
     },
     "metadata": {},
     "output_type": "display_data"
    },
    {
     "data": {
      "text/html": [
       "<div>\n",
       "<style scoped>\n",
       "    .dataframe tbody tr th:only-of-type {\n",
       "        vertical-align: middle;\n",
       "    }\n",
       "\n",
       "    .dataframe tbody tr th {\n",
       "        vertical-align: top;\n",
       "    }\n",
       "\n",
       "    .dataframe thead th {\n",
       "        text-align: right;\n",
       "    }\n",
       "</style>\n",
       "<table border=\"1\" class=\"dataframe\">\n",
       "  <thead>\n",
       "    <tr style=\"text-align: right;\">\n",
       "      <th></th>\n",
       "      <th>year</th>\n",
       "      <th>arrest</th>\n",
       "    </tr>\n",
       "  </thead>\n",
       "  <tbody>\n",
       "    <tr>\n",
       "      <th>0</th>\n",
       "      <td>2001</td>\n",
       "      <td>485931</td>\n",
       "    </tr>\n",
       "    <tr>\n",
       "      <th>1</th>\n",
       "      <td>2002</td>\n",
       "      <td>486827</td>\n",
       "    </tr>\n",
       "    <tr>\n",
       "      <th>2</th>\n",
       "      <td>2003</td>\n",
       "      <td>475990</td>\n",
       "    </tr>\n",
       "    <tr>\n",
       "      <th>3</th>\n",
       "      <td>2004</td>\n",
       "      <td>469433</td>\n",
       "    </tr>\n",
       "    <tr>\n",
       "      <th>4</th>\n",
       "      <td>2005</td>\n",
       "      <td>453779</td>\n",
       "    </tr>\n",
       "    <tr>\n",
       "      <th>5</th>\n",
       "      <td>2006</td>\n",
       "      <td>448193</td>\n",
       "    </tr>\n",
       "    <tr>\n",
       "      <th>6</th>\n",
       "      <td>2007</td>\n",
       "      <td>437098</td>\n",
       "    </tr>\n",
       "    <tr>\n",
       "      <th>7</th>\n",
       "      <td>2008</td>\n",
       "      <td>427201</td>\n",
       "    </tr>\n",
       "    <tr>\n",
       "      <th>8</th>\n",
       "      <td>2009</td>\n",
       "      <td>392851</td>\n",
       "    </tr>\n",
       "    <tr>\n",
       "      <th>9</th>\n",
       "      <td>2010</td>\n",
       "      <td>370546</td>\n",
       "    </tr>\n",
       "    <tr>\n",
       "      <th>10</th>\n",
       "      <td>2011</td>\n",
       "      <td>352025</td>\n",
       "    </tr>\n",
       "    <tr>\n",
       "      <th>11</th>\n",
       "      <td>2012</td>\n",
       "      <td>336352</td>\n",
       "    </tr>\n",
       "    <tr>\n",
       "      <th>12</th>\n",
       "      <td>2013</td>\n",
       "      <td>307591</td>\n",
       "    </tr>\n",
       "    <tr>\n",
       "      <th>13</th>\n",
       "      <td>2014</td>\n",
       "      <td>275864</td>\n",
       "    </tr>\n",
       "    <tr>\n",
       "      <th>14</th>\n",
       "      <td>2015</td>\n",
       "      <td>264867</td>\n",
       "    </tr>\n",
       "    <tr>\n",
       "      <th>15</th>\n",
       "      <td>2016</td>\n",
       "      <td>269929</td>\n",
       "    </tr>\n",
       "    <tr>\n",
       "      <th>16</th>\n",
       "      <td>2017</td>\n",
       "      <td>269217</td>\n",
       "    </tr>\n",
       "    <tr>\n",
       "      <th>17</th>\n",
       "      <td>2018</td>\n",
       "      <td>269074</td>\n",
       "    </tr>\n",
       "    <tr>\n",
       "      <th>18</th>\n",
       "      <td>2019</td>\n",
       "      <td>261565</td>\n",
       "    </tr>\n",
       "    <tr>\n",
       "      <th>19</th>\n",
       "      <td>2020</td>\n",
       "      <td>212543</td>\n",
       "    </tr>\n",
       "    <tr>\n",
       "      <th>20</th>\n",
       "      <td>2021</td>\n",
       "      <td>209426</td>\n",
       "    </tr>\n",
       "    <tr>\n",
       "      <th>21</th>\n",
       "      <td>2022</td>\n",
       "      <td>239675</td>\n",
       "    </tr>\n",
       "    <tr>\n",
       "      <th>22</th>\n",
       "      <td>2023</td>\n",
       "      <td>262784</td>\n",
       "    </tr>\n",
       "    <tr>\n",
       "      <th>23</th>\n",
       "      <td>2024</td>\n",
       "      <td>256927</td>\n",
       "    </tr>\n",
       "    <tr>\n",
       "      <th>24</th>\n",
       "      <td>2025</td>\n",
       "      <td>11716</td>\n",
       "    </tr>\n",
       "  </tbody>\n",
       "</table>\n",
       "<p>25 rows × 2 columns</p>\n",
       "</div>[25 rows x 2 columns in total]"
      ],
      "text/plain": [
       "    year  arrest\n",
       "0   2001  485931\n",
       "1   2002  486827\n",
       "2   2003  475990\n",
       "3   2004  469433\n",
       "4   2005  453779\n",
       "5   2006  448193\n",
       "6   2007  437098\n",
       "7   2008  427201\n",
       "8   2009  392851\n",
       "9   2010  370546\n",
       "10  2011  352025\n",
       "11  2012  336352\n",
       "12  2013  307591\n",
       "13  2014  275864\n",
       "14  2015  264867\n",
       "15  2016  269929\n",
       "16  2017  269217\n",
       "17  2018  269074\n",
       "18  2019  261565\n",
       "19  2020  212543\n",
       "20  2021  209426\n",
       "21  2022  239675\n",
       "22  2023  262784\n",
       "23  2024  256927\n",
       "24  2025   11716\n",
       "\n",
       "[25 rows x 2 columns]"
      ]
     },
     "execution_count": 27,
     "metadata": {},
     "output_type": "execute_result"
    }
   ],
   "source": [
    "chicago_group = chicago_group.reset_index()\n",
    "chicago_group"
   ]
  },
  {
   "cell_type": "code",
   "execution_count": 30,
   "id": "e09892b2-7ab5-4e0e-a381-f4f1179e02bc",
   "metadata": {
    "tags": []
   },
   "outputs": [
    {
     "data": {
      "text/html": [
       "Query job 3f1ed8f7-280a-4ff5-8d3f-158e3c73cc2c is DONE. 600 Bytes processed. <a target=\"_blank\" href=\"https://console.cloud.google.com/bigquery?project=arctic-eye-446816-j7&j=bq:US:3f1ed8f7-280a-4ff5-8d3f-158e3c73cc2c&page=queryresults\">Open Job</a>"
      ],
      "text/plain": [
       "<IPython.core.display.HTML object>"
      ]
     },
     "metadata": {},
     "output_type": "display_data"
    },
    {
     "data": {
      "text/html": [
       "Query job 76922e8f-7c46-4721-9072-f6b906c69043 is DONE. 600 Bytes processed. <a target=\"_blank\" href=\"https://console.cloud.google.com/bigquery?project=arctic-eye-446816-j7&j=bq:US:76922e8f-7c46-4721-9072-f6b906c69043&page=queryresults\">Open Job</a>"
      ],
      "text/plain": [
       "<IPython.core.display.HTML object>"
      ]
     },
     "metadata": {},
     "output_type": "display_data"
    },
    {
     "data": {
      "image/png": "[encoded data removed]",
      "text/plain": [
       "<Figure size 640x480 with 1 Axes>"
      ]
     },
     "metadata": {},
     "output_type": "display_data"
    }
   ],
   "source": [
    "plt.plot(chicago_group.year, chicago_group.arrest)\n",
    "plt.show()"
   ]
  },
  {
   "cell_type": "code",
   "execution_count": 32,
   "id": "8638af1e-7b64-4dc1-a708-5b92165d5107",
   "metadata": {
    "tags": []
   },
   "outputs": [
    {
     "data": {
      "text/html": [
       "Query job 34296054-903a-4520-b29c-4b752c844269 is DONE. 69.2 MB processed. <a target=\"_blank\" href=\"https://console.cloud.google.com/bigquery?project=arctic-eye-446816-j7&j=bq:US:34296054-903a-4520-b29c-4b752c844269&page=queryresults\">Open Job</a>"
      ],
      "text/plain": [
       "<IPython.core.display.HTML object>"
      ]
     },
     "metadata": {},
     "output_type": "display_data"
    },
    {
     "data": {
      "text/html": [
       "Query job 5641ab89-811e-4887-97cb-3f2942cbb514 is DONE. 0 Bytes processed. <a target=\"_blank\" href=\"https://console.cloud.google.com/bigquery?project=arctic-eye-446816-j7&j=bq:US:5641ab89-811e-4887-97cb-3f2942cbb514&page=queryresults\">Open Job</a>"
      ],
      "text/plain": [
       "<IPython.core.display.HTML object>"
      ]
     },
     "metadata": {},
     "output_type": "display_data"
    },
    {
     "data": {
      "text/html": [
       "Query job 682329ff-e1b3-43e0-903b-6ff60b4e098f is DONE. 96 Bytes processed. <a target=\"_blank\" href=\"https://console.cloud.google.com/bigquery?project=arctic-eye-446816-j7&j=bq:US:682329ff-e1b3-43e0-903b-6ff60b4e098f&page=queryresults\">Open Job</a>"
      ],
      "text/plain": [
       "<IPython.core.display.HTML object>"
      ]
     },
     "metadata": {},
     "output_type": "display_data"
    },
    {
     "data": {
      "text/plain": [
       "0    2016\n",
       "1    2014\n",
       "2    2015\n",
       "Name: year, dtype: Int64"
      ]
     },
     "execution_count": 32,
     "metadata": {},
     "output_type": "execute_result"
    }
   ],
   "source": [
    "austin_df.year.unique()"
   ]
  },
  {
   "cell_type": "code",
   "execution_count": 33,
   "id": "8fa86dc6-6a8d-4706-99cf-e437515b3839",
   "metadata": {
    "tags": []
   },
   "outputs": [
    {
     "data": {
      "text/html": [
       "Query job b35ab8b0-3ec6-4359-a506-3059f9535e38 is DONE. 933.4 kB processed. <a target=\"_blank\" href=\"https://console.cloud.google.com/bigquery?project=arctic-eye-446816-j7&j=bq:US:b35ab8b0-3ec6-4359-a506-3059f9535e38&page=queryresults\">Open Job</a>"
      ],
      "text/plain": [
       "<IPython.core.display.HTML object>"
      ]
     },
     "metadata": {},
     "output_type": "display_data"
    },
    {
     "data": {
      "text/html": [
       "Query job d7b42fad-ac83-4420-aa29-8c77febf460f is DONE. 68.4 MB processed. <a target=\"_blank\" href=\"https://console.cloud.google.com/bigquery?project=arctic-eye-446816-j7&j=bq:US:d7b42fad-ac83-4420-aa29-8c77febf460f&page=queryresults\">Open Job</a>"
      ],
      "text/plain": [
       "<IPython.core.display.HTML object>"
      ]
     },
     "metadata": {},
     "output_type": "display_data"
    },
    {
     "data": {
      "image/png": "[encoded data removed]",
      "text/plain": [
       "<Figure size 640x480 with 1 Axes>"
      ]
     },
     "metadata": {},
     "output_type": "display_data"
    }
   ],
   "source": [
    "austin_group = austin_df[['year', 'arrest']].groupby(['year']).count().reset_index()\n",
    "plt.plot(austin_group.year, austin_group.arrest)\n",
    "plt.xticks(rotation = 25)\n",
    "plt.show()\n"
   ]
  },
  {
   "cell_type": "code",
   "execution_count": 38,
   "id": "2db82753-5667-44f6-8373-c9c4ee2c7219",
   "metadata": {
    "tags": []
   },
   "outputs": [
    {
     "data": {
      "text/html": [
       "Query job 95771f78-7e3a-439e-9314-752f86d805c7 is DONE. 69.2 MB processed. <a target=\"_blank\" href=\"https://console.cloud.google.com/bigquery?project=arctic-eye-446816-j7&j=bq:US:95771f78-7e3a-439e-9314-752f86d805c7&page=queryresults\">Open Job</a>"
      ],
      "text/plain": [
       "<IPython.core.display.HTML object>"
      ]
     },
     "metadata": {},
     "output_type": "display_data"
    },
    {
     "data": {
      "text/html": [
       "Query job e9190ce0-1de3-4324-bf1f-1ee0b633a9ea is DONE. 0 Bytes processed. <a target=\"_blank\" href=\"https://console.cloud.google.com/bigquery?project=arctic-eye-446816-j7&j=bq:US:e9190ce0-1de3-4324-bf1f-1ee0b633a9ea&page=queryresults\">Open Job</a>"
      ],
      "text/plain": [
       "<IPython.core.display.HTML object>"
      ]
     },
     "metadata": {},
     "output_type": "display_data"
    },
    {
     "data": {
      "text/html": [
       "Query job a32015b2-fcfb-4087-b86c-7591457f50d7 is DONE. 766 Bytes processed. <a target=\"_blank\" href=\"https://console.cloud.google.com/bigquery?project=arctic-eye-446816-j7&j=bq:US:a32015b2-fcfb-4087-b86c-7591457f50d7&page=queryresults\">Open Job</a>"
      ],
      "text/plain": [
       "<IPython.core.display.HTML object>"
      ]
     },
     "metadata": {},
     "output_type": "display_data"
    },
    {
     "data": {
      "text/plain": [
       "0                                              Theft\n",
       "1                    Burglary / \n",
       "Breaking & Entering\n",
       "2                                           Burglary\n",
       "4                                         Theft: BOV\n",
       "6                                         Auto Theft\n",
       "18                                Theft: Shoplifting\n",
       "20                          Theft: All Other Larceny\n",
       "24                                              Rape\n",
       "32                                Aggravated Assault\n",
       "40                                           Robbery\n",
       "53                                       Agg Assault\n",
       "113                            Theft: Pocket Picking\n",
       "126                                Theft: Auto Parts\n",
       "400                             Theft: from Building\n",
       "1576                          Theft: Coin Op Machine\n",
       "1723    Homicide: Murder & Nonnegligent Manslaughter\n",
       "1858                                          Murder\n",
       "2189                          Theft: Purse Snatching\n",
       "Name: primary_type, dtype: string"
      ]
     },
     "execution_count": 38,
     "metadata": {},
     "output_type": "execute_result"
    }
   ],
   "source": [
    "austin_df.primary_type.unique()"
   ]
  },
  {
   "cell_type": "code",
   "execution_count": 49,
   "id": "b55ad6a7-c5f7-43ee-9ebf-035438a0a792",
   "metadata": {
    "tags": []
   },
   "outputs": [],
   "source": [
    "new_primary_types = {'Theft':'Theft', 'Burglary / Breaking & Entering':'Burglary', 'Theft: BOV':'Theft','Auto Theft':'Auto Theft','Theft: Shoplifting':'Theft', 'Theft: All Other Larceny':'Theft', 'Rape':'Rape','Aggravated Assault':'Assault', 'Robbery':'Robbery','Agg Assault':'Assault','Theft: Pocket Picking':'Theft','Theft: Auto Parts':'Auto Theft','Theft: from Building':'Theft','Theft: Coin Op Machine':'Theft','Homicide: Murder & Nonnegligent Manslaughter':'Murder','Murder':'Murder','Theft: Purse Snatching':'Theft'}\n",
    "\n",
    "austin_df['primary_type'] = austin_df.primary_type.map(new_primary_types)"
   ]
  },
  {
   "cell_type": "code",
   "execution_count": 50,
   "id": "8bc59607-363b-48c0-a91e-3876f079b465",
   "metadata": {
    "tags": []
   },
   "outputs": [
    {
     "data": {
      "text/html": [
       "Query job 7a185023-bc2e-4e7f-b728-2ec641ddfe62 is DONE. 68.3 MB processed. <a target=\"_blank\" href=\"https://console.cloud.google.com/bigquery?project=arctic-eye-446816-j7&j=bq:US:7a185023-bc2e-4e7f-b728-2ec641ddfe62&page=queryresults\">Open Job</a>"
      ],
      "text/plain": [
       "<IPython.core.display.HTML object>"
      ]
     },
     "metadata": {},
     "output_type": "display_data"
    },
    {
     "data": {
      "text/html": [
       "Query job 7887a2d3-6c9c-43c5-91d0-a32489ed2fa7 is DONE. 68.3 MB processed. <a target=\"_blank\" href=\"https://console.cloud.google.com/bigquery?project=arctic-eye-446816-j7&j=bq:US:7887a2d3-6c9c-43c5-91d0-a32489ed2fa7&page=queryresults\">Open Job</a>"
      ],
      "text/plain": [
       "<IPython.core.display.HTML object>"
      ]
     },
     "metadata": {},
     "output_type": "display_data"
    },
    {
     "data": {
      "text/html": [
       "Query job 0f12d544-a572-40a1-a35f-f246438356c9 is DONE. 68.3 MB processed. <a target=\"_blank\" href=\"https://console.cloud.google.com/bigquery?project=arctic-eye-446816-j7&j=bq:US:0f12d544-a572-40a1-a35f-f246438356c9&page=queryresults\">Open Job</a>"
      ],
      "text/plain": [
       "<IPython.core.display.HTML object>"
      ]
     },
     "metadata": {},
     "output_type": "display_data"
    },
    {
     "data": {
      "text/html": [
       "Query job 61c18a13-1dde-4af8-a102-d789f531ff32 is DONE. 68.4 MB processed. <a target=\"_blank\" href=\"https://console.cloud.google.com/bigquery?project=arctic-eye-446816-j7&j=bq:US:61c18a13-1dde-4af8-a102-d789f531ff32&page=queryresults\">Open Job</a>"
      ],
      "text/plain": [
       "<IPython.core.display.HTML object>"
      ]
     },
     "metadata": {},
     "output_type": "display_data"
    },
    {
     "name": "stderr",
     "output_type": "stream",
     "text": [
      "/var/tmp/ipykernel_3093/743437812.py:2: FutureWarning: \n",
      "\n",
      "Passing `palette` without assigning `hue` is deprecated and will be removed in v0.14.0. Assign the `x` variable to `hue` and set `legend=False` for the same effect.\n",
      "\n",
      "  sns.barplot(x=austin_type_group.primary_type, y=austin_type_group.arrest, palette=\"deep\")\n"
     ]
    },
    {
     "data": {
      "image/png": "[encoded data removed]",
      "text/plain": [
       "<Figure size 640x480 with 1 Axes>"
      ]
     },
     "metadata": {},
     "output_type": "display_data"
    }
   ],
   "source": [
    "austin_type_group = austin_df[['primary_type', 'arrest']].groupby(['primary_type']).count().reset_index()\n",
    "sns.barplot(x=austin_type_group.primary_type, y=austin_type_group.arrest, palette=\"deep\")\n",
    "plt.xticks(rotation = 35)\n",
    "plt.show()"
   ]
  },
  {
   "cell_type": "code",
   "execution_count": 51,
   "id": "15b91e35-16fc-437d-ae8a-51337bb2e0b1",
   "metadata": {
    "tags": []
   },
   "outputs": [
    {
     "data": {
      "text/html": [
       "Query job b34a63a2-51d2-4fec-a819-64b4f285c3b1 is DONE. 1.7 GB processed. <a target=\"_blank\" href=\"https://console.cloud.google.com/bigquery?project=arctic-eye-446816-j7&j=bq:US:b34a63a2-51d2-4fec-a819-64b4f285c3b1&page=queryresults\">Open Job</a>"
      ],
      "text/plain": [
       "<IPython.core.display.HTML object>"
      ]
     },
     "metadata": {},
     "output_type": "display_data"
    },
    {
     "data": {
      "text/html": [
       "Query job 948ca745-1168-4901-a06d-fa4d6a6f7f9e is DONE. 0 Bytes processed. <a target=\"_blank\" href=\"https://console.cloud.google.com/bigquery?project=arctic-eye-446816-j7&j=bq:US:948ca745-1168-4901-a06d-fa4d6a6f7f9e&page=queryresults\">Open Job</a>"
      ],
      "text/plain": [
       "<IPython.core.display.HTML object>"
      ]
     },
     "metadata": {},
     "output_type": "display_data"
    },
    {
     "data": {
      "text/html": [
       "Query job 27d6883a-5430-44cc-b32c-d21f10223a1b is DONE. 1.2 kB processed. <a target=\"_blank\" href=\"https://console.cloud.google.com/bigquery?project=arctic-eye-446816-j7&j=bq:US:27d6883a-5430-44cc-b32c-d21f10223a1b&page=queryresults\">Open Job</a>"
      ],
      "text/plain": [
       "<IPython.core.display.HTML object>"
      ]
     },
     "metadata": {},
     "output_type": "display_data"
    },
    {
     "data": {
      "text/plain": [
       "0                             NARCOTICS\n",
       "1                         OTHER OFFENSE\n",
       "2                                 THEFT\n",
       "4                               BATTERY\n",
       "6                               ASSAULT\n",
       "7                   MOTOR VEHICLE THEFT\n",
       "11                              ROBBERY\n",
       "12                      CRIMINAL DAMAGE\n",
       "13              CRIMINAL SEXUAL ASSAULT\n",
       "16                    CRIMINAL TRESPASS\n",
       "23                    WEAPONS VIOLATION\n",
       "25                             BURGLARY\n",
       "29                   DECEPTIVE PRACTICE\n",
       "65           OFFENSE INVOLVING CHILDREN\n",
       "88                                ARSON\n",
       "102                        PROSTITUTION\n",
       "177              PUBLIC PEACE VIOLATION\n",
       "236                 CRIM SEXUAL ASSAULT\n",
       "299                            STALKING\n",
       "332                            GAMBLING\n",
       "384                LIQUOR LAW VIOLATION\n",
       "399                         SEX OFFENSE\n",
       "431    INTERFERENCE WITH PUBLIC OFFICER\n",
       "443                            HOMICIDE\n",
       "522                          KIDNAPPING\n",
       "Name: primary_type, dtype: string"
      ]
     },
     "execution_count": 51,
     "metadata": {},
     "output_type": "execute_result"
    }
   ],
   "source": [
    "chicago_df.primary_type.unique()"
   ]
  },
  {
   "cell_type": "code",
   "execution_count": 56,
   "id": "cd5fcca4-d08c-4424-a8c6-25f54d65ba3b",
   "metadata": {
    "tags": []
   },
   "outputs": [
    {
     "data": {
      "text/html": [
       "Query job 3576ec66-4aa9-41a4-a6f5-6a6a248101b6 is DONE. 107.8 MB processed. <a target=\"_blank\" href=\"https://console.cloud.google.com/bigquery?project=arctic-eye-446816-j7&j=bq:US:3576ec66-4aa9-41a4-a6f5-6a6a248101b6&page=queryresults\">Open Job</a>"
      ],
      "text/plain": [
       "<IPython.core.display.HTML object>"
      ]
     },
     "metadata": {},
     "output_type": "display_data"
    },
    {
     "data": {
      "text/html": [
       "Query job cadda89e-8025-4110-8279-043e3e35bbfb is DONE. 107.8 MB processed. <a target=\"_blank\" href=\"https://console.cloud.google.com/bigquery?project=arctic-eye-446816-j7&j=bq:US:cadda89e-8025-4110-8279-043e3e35bbfb&page=queryresults\">Open Job</a>"
      ],
      "text/plain": [
       "<IPython.core.display.HTML object>"
      ]
     },
     "metadata": {},
     "output_type": "display_data"
    },
    {
     "data": {
      "text/html": [
       "Query job e532af24-9c30-45f9-8f5b-d6d832b59477 is DONE. 107.8 MB processed. <a target=\"_blank\" href=\"https://console.cloud.google.com/bigquery?project=arctic-eye-446816-j7&j=bq:US:e532af24-9c30-45f9-8f5b-d6d832b59477&page=queryresults\">Open Job</a>"
      ],
      "text/plain": [
       "<IPython.core.display.HTML object>"
      ]
     },
     "metadata": {},
     "output_type": "display_data"
    },
    {
     "data": {
      "text/html": [
       "Query job 31e9573d-7adb-48fe-8e5d-e7462ee9a736 is DONE. 107.8 MB processed. <a target=\"_blank\" href=\"https://console.cloud.google.com/bigquery?project=arctic-eye-446816-j7&j=bq:US:31e9573d-7adb-48fe-8e5d-e7462ee9a736&page=queryresults\">Open Job</a>"
      ],
      "text/plain": [
       "<IPython.core.display.HTML object>"
      ]
     },
     "metadata": {},
     "output_type": "display_data"
    },
    {
     "name": "stderr",
     "output_type": "stream",
     "text": [
      "/var/tmp/ipykernel_3093/163609024.py:3: FutureWarning: \n",
      "\n",
      "Passing `palette` without assigning `hue` is deprecated and will be removed in v0.14.0. Assign the `x` variable to `hue` and set `legend=False` for the same effect.\n",
      "\n",
      "  sns.barplot(x=chicago_type_group[chicago_type_group['arrest'] > 10000].primary_type, y=chicago_type_group[chicago_type_group['arrest'] > 10000].arrest, palette=\"deep\")\n"
     ]
    },
    {
     "data": {
      "image/png": "[encoded data removed]",
      "text/plain": [
       "<Figure size 1500x500 with 1 Axes>"
      ]
     },
     "metadata": {},
     "output_type": "display_data"
    }
   ],
   "source": [
    "chicago_type_group = chicago_df[['primary_type', 'arrest']].groupby(['primary_type']).count().reset_index()\n",
    "plt.figure(figsize=(15,5))\n",
    "sns.barplot(x=chicago_type_group[chicago_type_group['arrest'] > 10000].primary_type, y=chicago_type_group[chicago_type_group['arrest'] > 10000].arrest, palette=\"deep\")\n",
    "\n",
    "plt.xticks(rotation = 35)\n",
    "plt.show()"
   ]
  }
 ],
 "metadata": {
  "environment": {
   "kernel": "conda-base-py",
   "name": "workbench-notebooks.m126",
   "type": "gcloud",
   "uri": "us-docker.pkg.dev/deeplearning-platform-release/gcr.io/workbench-notebooks:m126"
  },
  "kernelspec": {
   "display_name": "Python 3 (ipykernel) (Local)",
   "language": "python",
   "name": "conda-base-py"
  },
  "language_info": {
   "codemirror_mode": {
    "name": "ipython",
    "version": 3
   },
   "file_extension": ".py",
   "mimetype": "text/x-python",
   "name": "python",
   "nbconvert_exporter": "python",
   "pygments_lexer": "ipython3",
   "version": "3.10.15"
  }
 },
 "nbformat": 4,
 "nbformat_minor": 5
}
