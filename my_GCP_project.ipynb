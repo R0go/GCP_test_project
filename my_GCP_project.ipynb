{
 "cells": [
  {
   "cell_type": "code",
   "execution_count": 1,
   "id": "5b29fdfb-5010-45b6-a671-9793d75d1973",
   "metadata": {
    "tags": []
   },
   "outputs": [],
   "source": [
    "!pip install bigframes -q\n"
   ]
  },
  {
   "cell_type": "code",
   "execution_count": 2,
   "id": "9c251770-ab68-4cab-ae49-24f0dabc7f91",
   "metadata": {},
   "outputs": [],
   "source": [
    "from google.cloud import bigquery\n",
    "\n",
    "import bigframes.pandas as bpd\n",
    "from bigframes.ml.linear_model import LinearRegression as BQLinearRegression\n",
    "\n",
    "import seaborn as sns\n",
    "import matplotlib.pyplot as plt\n",
    "\n",
    "from sklearn.preprocessing import OneHotEncoder\n",
    "from sklearn.linear_model import LinearRegression as SKLinearRegression\n",
    "from sklearn.metrics import mean_absolute_error, mean_squared_error\n",
    "\n",
    "import pandas as pd\n",
    "import matplotlib.pyplot as plt\n",
    "sns.set_theme(color_codes=True)"
   ]
  },
  {
   "cell_type": "code",
   "execution_count": 3,
   "id": "c0893724-b829-4a76-808f-a009e44d523f",
   "metadata": {},
   "outputs": [],
   "source": [
    "PROJECT_ID = \"arctic-eye-446816-j7\"\n",
    "REGION = \"US\""
   ]
  },
  {
   "cell_type": "code",
   "execution_count": 4,
   "id": "c1cfdf35-c26b-4a24-af53-f24790d90267",
   "metadata": {},
   "outputs": [],
   "source": [
    "bpd.options.bigquery.project = PROJECT_ID\n",
    "bpd.options.bigquery.location = REGION"
   ]
  },
  {
   "cell_type": "code",
   "execution_count": 5,
   "id": "19bc7b0d-5652-4b7e-8095-f50f73e4f43b",
   "metadata": {
    "tags": []
   },
   "outputs": [
    {
     "data": {
      "text/html": [
       "Query job 5231d427-1d1d-4e46-b473-e7d7245c872f is DONE. 1.7 GB processed. <a target=\"_blank\" href=\"https://console.cloud.google.com/bigquery?project=arctic-eye-446816-j7&j=bq:US:5231d427-1d1d-4e46-b473-e7d7245c872f&page=queryresults\">Open Job</a>"
      ],
      "text/plain": [
       "<IPython.core.display.HTML object>"
      ]
     },
     "metadata": {},
     "output_type": "display_data"
    },
    {
     "data": {
      "text/html": [
       "Query job 007f8d4c-aa99-4747-bba5-a6624f8f3e77 is DONE. 0 Bytes processed. <a target=\"_blank\" href=\"https://console.cloud.google.com/bigquery?project=arctic-eye-446816-j7&j=bq:US:007f8d4c-aa99-4747-bba5-a6624f8f3e77&page=queryresults\">Open Job</a>"
      ],
      "text/plain": [
       "<IPython.core.display.HTML object>"
      ]
     },
     "metadata": {},
     "output_type": "display_data"
    },
    {
     "data": {
      "text/html": [
       "Query job 39ffc7ed-4d74-449d-ba00-da32160baecc is DONE. 1.1 kB processed. <a target=\"_blank\" href=\"https://console.cloud.google.com/bigquery?project=arctic-eye-446816-j7&j=bq:US:39ffc7ed-4d74-449d-ba00-da32160baecc&page=queryresults\">Open Job</a>"
      ],
      "text/plain": [
       "<IPython.core.display.HTML object>"
      ]
     },
     "metadata": {},
     "output_type": "display_data"
    },
    {
     "data": {
      "text/html": [
       "<div>\n",
       "<style scoped>\n",
       "    .dataframe tbody tr th:only-of-type {\n",
       "        vertical-align: middle;\n",
       "    }\n",
       "\n",
       "    .dataframe tbody tr th {\n",
       "        vertical-align: top;\n",
       "    }\n",
       "\n",
       "    .dataframe thead th {\n",
       "        text-align: right;\n",
       "    }\n",
       "</style>\n",
       "<table border=\"1\" class=\"dataframe\">\n",
       "  <thead>\n",
       "    <tr style=\"text-align: right;\">\n",
       "      <th></th>\n",
       "      <th>unique_key</th>\n",
       "      <th>case_number</th>\n",
       "      <th>date</th>\n",
       "      <th>block</th>\n",
       "      <th>iucr</th>\n",
       "      <th>primary_type</th>\n",
       "      <th>description</th>\n",
       "      <th>location_description</th>\n",
       "      <th>arrest</th>\n",
       "      <th>domestic</th>\n",
       "      <th>...</th>\n",
       "      <th>ward</th>\n",
       "      <th>community_area</th>\n",
       "      <th>fbi_code</th>\n",
       "      <th>x_coordinate</th>\n",
       "      <th>y_coordinate</th>\n",
       "      <th>year</th>\n",
       "      <th>updated_on</th>\n",
       "      <th>latitude</th>\n",
       "      <th>longitude</th>\n",
       "      <th>location</th>\n",
       "    </tr>\n",
       "  </thead>\n",
       "  <tbody>\n",
       "    <tr>\n",
       "      <th>0</th>\n",
       "      <td>3809715</td>\n",
       "      <td>HL151847</td>\n",
       "      <td>2005-01-29 23:30:00+00:00</td>\n",
       "      <td>014XX W MORSE AVE</td>\n",
       "      <td>2027</td>\n",
       "      <td>NARCOTICS</td>\n",
       "      <td>POSS: CRACK</td>\n",
       "      <td>SIDEWALK</td>\n",
       "      <td>True</td>\n",
       "      <td>False</td>\n",
       "      <td>...</td>\n",
       "      <td>49</td>\n",
       "      <td>1</td>\n",
       "      <td>18</td>\n",
       "      <td>1165420.0</td>\n",
       "      <td>1946171.0</td>\n",
       "      <td>2005</td>\n",
       "      <td>2018-02-28 15:56:25+00:00</td>\n",
       "      <td>42.007892</td>\n",
       "      <td>-87.666728</td>\n",
       "      <td>(42.007891504, -87.666727525)</td>\n",
       "    </tr>\n",
       "    <tr>\n",
       "      <th>1</th>\n",
       "      <td>7873610</td>\n",
       "      <td>HT104508</td>\n",
       "      <td>2011-01-04 00:30:00+00:00</td>\n",
       "      <td>046XX S EVANS AVE</td>\n",
       "      <td>2820</td>\n",
       "      <td>OTHER OFFENSE</td>\n",
       "      <td>TELEPHONE THREAT</td>\n",
       "      <td>RESIDENCE</td>\n",
       "      <td>False</td>\n",
       "      <td>True</td>\n",
       "      <td>...</td>\n",
       "      <td>4</td>\n",
       "      <td>38</td>\n",
       "      <td>26</td>\n",
       "      <td>1182034.0</td>\n",
       "      <td>1874483.0</td>\n",
       "      <td>2011</td>\n",
       "      <td>2016-02-04 06:33:39+00:00</td>\n",
       "      <td>41.810806</td>\n",
       "      <td>-87.607833</td>\n",
       "      <td>(41.810806172, -87.607832602)</td>\n",
       "    </tr>\n",
       "    <tr>\n",
       "      <th>2</th>\n",
       "      <td>12421979</td>\n",
       "      <td>JE299751</td>\n",
       "      <td>2021-06-14 19:00:00+00:00</td>\n",
       "      <td>055XX S STATE ST</td>\n",
       "      <td>0810</td>\n",
       "      <td>THEFT</td>\n",
       "      <td>OVER $500</td>\n",
       "      <td>RESTAURANT</td>\n",
       "      <td>False</td>\n",
       "      <td>False</td>\n",
       "      <td>...</td>\n",
       "      <td>3</td>\n",
       "      <td>40</td>\n",
       "      <td>06</td>\n",
       "      <td>1177220.0</td>\n",
       "      <td>1868236.0</td>\n",
       "      <td>2021</td>\n",
       "      <td>2021-07-15 15:39:41+00:00</td>\n",
       "      <td>41.793774</td>\n",
       "      <td>-87.625678</td>\n",
       "      <td>(41.793773985, -87.625678392)</td>\n",
       "    </tr>\n",
       "    <tr>\n",
       "      <th>3</th>\n",
       "      <td>8649560</td>\n",
       "      <td>HV324406</td>\n",
       "      <td>2012-06-08 08:00:00+00:00</td>\n",
       "      <td>027XX S DEARBORN ST</td>\n",
       "      <td>0890</td>\n",
       "      <td>THEFT</td>\n",
       "      <td>FROM BUILDING</td>\n",
       "      <td>PARK PROPERTY</td>\n",
       "      <td>False</td>\n",
       "      <td>False</td>\n",
       "      <td>...</td>\n",
       "      <td>3</td>\n",
       "      <td>35</td>\n",
       "      <td>06</td>\n",
       "      <td>1176315.0</td>\n",
       "      <td>1886573.0</td>\n",
       "      <td>2012</td>\n",
       "      <td>2016-02-04 06:33:39+00:00</td>\n",
       "      <td>41.844113</td>\n",
       "      <td>-87.628445</td>\n",
       "      <td>(41.844112707, -87.628445336)</td>\n",
       "    </tr>\n",
       "    <tr>\n",
       "      <th>4</th>\n",
       "      <td>1362379</td>\n",
       "      <td>G067268</td>\n",
       "      <td>2001-02-02 01:30:54+00:00</td>\n",
       "      <td>004XX N STATE ST</td>\n",
       "      <td>0460</td>\n",
       "      <td>BATTERY</td>\n",
       "      <td>SIMPLE</td>\n",
       "      <td>SMALL RETAIL STORE</td>\n",
       "      <td>True</td>\n",
       "      <td>False</td>\n",
       "      <td>...</td>\n",
       "      <td>&lt;NA&gt;</td>\n",
       "      <td>&lt;NA&gt;</td>\n",
       "      <td>08B</td>\n",
       "      <td>1176326.0</td>\n",
       "      <td>1903597.0</td>\n",
       "      <td>2001</td>\n",
       "      <td>2015-08-17 15:03:40+00:00</td>\n",
       "      <td>41.890827</td>\n",
       "      <td>-87.627892</td>\n",
       "      <td>(41.890827398, -87.62789157)</td>\n",
       "    </tr>\n",
       "  </tbody>\n",
       "</table>\n",
       "<p>5 rows × 22 columns</p>\n",
       "</div>[5 rows x 22 columns in total]"
      ],
      "text/plain": [
       "   unique_key case_number                       date                block  \\\n",
       "0     3809715    HL151847  2005-01-29 23:30:00+00:00    014XX W MORSE AVE   \n",
       "1     7873610    HT104508  2011-01-04 00:30:00+00:00    046XX S EVANS AVE   \n",
       "2    12421979    JE299751  2021-06-14 19:00:00+00:00     055XX S STATE ST   \n",
       "3     8649560    HV324406  2012-06-08 08:00:00+00:00  027XX S DEARBORN ST   \n",
       "4     1362379     G067268  2001-02-02 01:30:54+00:00     004XX N STATE ST   \n",
       "\n",
       "   iucr   primary_type       description location_description  arrest  \\\n",
       "0  2027      NARCOTICS       POSS: CRACK             SIDEWALK    True   \n",
       "1  2820  OTHER OFFENSE  TELEPHONE THREAT            RESIDENCE   False   \n",
       "2  0810          THEFT         OVER $500           RESTAURANT   False   \n",
       "3  0890          THEFT     FROM BUILDING        PARK PROPERTY   False   \n",
       "4  0460        BATTERY            SIMPLE   SMALL RETAIL STORE    True   \n",
       "\n",
       "   domestic  ...  ward  community_area  fbi_code  x_coordinate y_coordinate  \\\n",
       "0     False  ...    49               1        18     1165420.0    1946171.0   \n",
       "1      True  ...     4              38        26     1182034.0    1874483.0   \n",
       "2     False  ...     3              40        06     1177220.0    1868236.0   \n",
       "3     False  ...     3              35        06     1176315.0    1886573.0   \n",
       "4     False  ...  <NA>            <NA>       08B     1176326.0    1903597.0   \n",
       "\n",
       "   year                 updated_on   latitude  longitude  \\\n",
       "0  2005  2018-02-28 15:56:25+00:00  42.007892 -87.666728   \n",
       "1  2011  2016-02-04 06:33:39+00:00  41.810806 -87.607833   \n",
       "2  2021  2021-07-15 15:39:41+00:00  41.793774 -87.625678   \n",
       "3  2012  2016-02-04 06:33:39+00:00  41.844113 -87.628445   \n",
       "4  2001  2015-08-17 15:03:40+00:00  41.890827 -87.627892   \n",
       "\n",
       "                        location  \n",
       "0  (42.007891504, -87.666727525)  \n",
       "1  (41.810806172, -87.607832602)  \n",
       "2  (41.793773985, -87.625678392)  \n",
       "3  (41.844112707, -87.628445336)  \n",
       "4   (41.890827398, -87.62789157)  \n",
       "\n",
       "[5 rows x 22 columns]"
      ]
     },
     "execution_count": 5,
     "metadata": {},
     "output_type": "execute_result"
    }
   ],
   "source": [
    "df2 = bpd.read_gbq(\"bigquery-public-data.chicago_crime.crime\")\n",
    "df2.head()"
   ]
  },
  {
   "cell_type": "code",
   "execution_count": 6,
   "id": "c5510909-3323-4028-bbe2-5d2f2fe96cae",
   "metadata": {
    "tags": []
   },
   "outputs": [
    {
     "data": {
      "text/html": [
       "Query job cd359d46-989a-44c7-9a15-e15fbe64e793 is DONE. 67.3 MB processed. <a target=\"_blank\" href=\"https://console.cloud.google.com/bigquery?project=arctic-eye-446816-j7&j=bq:US:cd359d46-989a-44c7-9a15-e15fbe64e793&page=queryresults\">Open Job</a>"
      ],
      "text/plain": [
       "<IPython.core.display.HTML object>"
      ]
     },
     "metadata": {},
     "output_type": "display_data"
    },
    {
     "data": {
      "text/html": [
       "Query job 74815022-fdc0-44ca-bdb4-5dcea5c29f32 is DONE. 0 Bytes processed. <a target=\"_blank\" href=\"https://console.cloud.google.com/bigquery?project=arctic-eye-446816-j7&j=bq:US:74815022-fdc0-44ca-bdb4-5dcea5c29f32&page=queryresults\">Open Job</a>"
      ],
      "text/plain": [
       "<IPython.core.display.HTML object>"
      ]
     },
     "metadata": {},
     "output_type": "display_data"
    },
    {
     "data": {
      "text/html": [
       "Query job 77d98ef3-95e9-4a41-975b-01de2a0826f2 is DONE. 3.0 kB processed. <a target=\"_blank\" href=\"https://console.cloud.google.com/bigquery?project=arctic-eye-446816-j7&j=bq:US:77d98ef3-95e9-4a41-975b-01de2a0826f2&page=queryresults\">Open Job</a>"
      ],
      "text/plain": [
       "<IPython.core.display.HTML object>"
      ]
     },
     "metadata": {},
     "output_type": "display_data"
    },
    {
     "data": {
      "text/html": [
       "<div>\n",
       "<style scoped>\n",
       "    .dataframe tbody tr th:only-of-type {\n",
       "        vertical-align: middle;\n",
       "    }\n",
       "\n",
       "    .dataframe tbody tr th {\n",
       "        vertical-align: top;\n",
       "    }\n",
       "\n",
       "    .dataframe thead th {\n",
       "        text-align: right;\n",
       "    }\n",
       "</style>\n",
       "<table border=\"1\" class=\"dataframe\">\n",
       "  <thead>\n",
       "    <tr style=\"text-align: right;\">\n",
       "      <th></th>\n",
       "      <th>unique_key</th>\n",
       "      <th>address</th>\n",
       "      <th>census_tract</th>\n",
       "      <th>clearance_date</th>\n",
       "      <th>clearance_status</th>\n",
       "      <th>council_district_code</th>\n",
       "      <th>description</th>\n",
       "      <th>district</th>\n",
       "      <th>latitude</th>\n",
       "      <th>longitude</th>\n",
       "      <th>location</th>\n",
       "      <th>location_description</th>\n",
       "      <th>primary_type</th>\n",
       "      <th>timestamp</th>\n",
       "      <th>x_coordinate</th>\n",
       "      <th>y_coordinate</th>\n",
       "      <th>year</th>\n",
       "      <th>zipcode</th>\n",
       "    </tr>\n",
       "  </thead>\n",
       "  <tbody>\n",
       "    <tr>\n",
       "      <th>0</th>\n",
       "      <td>20165026466</td>\n",
       "      <td>&lt;NA&gt;</td>\n",
       "      <td>23.13</td>\n",
       "      <td>2016-06-30 00:00:00+00:00</td>\n",
       "      <td>Not cleared</td>\n",
       "      <td>3</td>\n",
       "      <td>BURGLARY OF VEHICLE</td>\n",
       "      <td>H</td>\n",
       "      <td>&lt;NA&gt;</td>\n",
       "      <td>&lt;NA&gt;</td>\n",
       "      <td>(0         \n",
       "1         \n",
       "2         \n",
       "3         \n",
       "4...</td>\n",
       "      <td>2900 SUNRIDGE DR</td>\n",
       "      <td>Theft</td>\n",
       "      <td>2016-06-27 00:00:00+00:00</td>\n",
       "      <td>3119729</td>\n",
       "      <td>10053927</td>\n",
       "      <td>2016</td>\n",
       "      <td>78741</td>\n",
       "    </tr>\n",
       "    <tr>\n",
       "      <th>1</th>\n",
       "      <td>201440943</td>\n",
       "      <td>119 FREDERICK ST Austin, TX 78704 (30.230732, ...</td>\n",
       "      <td>13.08</td>\n",
       "      <td>2014-01-08 00:00:00+00:00</td>\n",
       "      <td>Cleared by Arrest</td>\n",
       "      <td>3</td>\n",
       "      <td>BURGLARY OF RESIDENCE</td>\n",
       "      <td>D</td>\n",
       "      <td>30.230732</td>\n",
       "      <td>-97.760585</td>\n",
       "      <td>(0                 \n",
       "1                 \n",
       "2      ...</td>\n",
       "      <td>119 FREDERICK ST</td>\n",
       "      <td>Burglary / \n",
       "Breaking &amp; Entering</td>\n",
       "      <td>2014-01-04 00:00:00+00:00</td>\n",
       "      <td>3108953</td>\n",
       "      <td>10057000</td>\n",
       "      <td>2014</td>\n",
       "      <td>78704</td>\n",
       "    </tr>\n",
       "    <tr>\n",
       "      <th>2</th>\n",
       "      <td>20151031435</td>\n",
       "      <td>&lt;NA&gt;</td>\n",
       "      <td>21.1</td>\n",
       "      <td>2015-04-22 00:00:00+00:00</td>\n",
       "      <td>Not cleared</td>\n",
       "      <td>1</td>\n",
       "      <td>BURGLARY NON RESIDENCE</td>\n",
       "      <td>C</td>\n",
       "      <td>&lt;NA&gt;</td>\n",
       "      <td>&lt;NA&gt;</td>\n",
       "      <td>(0         \n",
       "1         \n",
       "2         \n",
       "3         \n",
       "4...</td>\n",
       "      <td>4904 LOUIS AVE</td>\n",
       "      <td>Burglary</td>\n",
       "      <td>2015-04-13 00:00:00+00:00</td>\n",
       "      <td>3132451</td>\n",
       "      <td>10073733</td>\n",
       "      <td>2015</td>\n",
       "      <td>78721</td>\n",
       "    </tr>\n",
       "    <tr>\n",
       "      <th>3</th>\n",
       "      <td>20158003159</td>\n",
       "      <td>&lt;NA&gt;</td>\n",
       "      <td>19.01</td>\n",
       "      <td>2015-09-15 00:00:00+00:00</td>\n",
       "      <td>Not cleared</td>\n",
       "      <td>5</td>\n",
       "      <td>THEFT OF BICYCLE</td>\n",
       "      <td>D</td>\n",
       "      <td>&lt;NA&gt;</td>\n",
       "      <td>&lt;NA&gt;</td>\n",
       "      <td>(0         \n",
       "1         \n",
       "2         \n",
       "3         \n",
       "4...</td>\n",
       "      <td>1135 BARTON HILLS DR</td>\n",
       "      <td>Theft</td>\n",
       "      <td>2015-09-11 00:00:00+00:00</td>\n",
       "      <td>3104868</td>\n",
       "      <td>10068158</td>\n",
       "      <td>2015</td>\n",
       "      <td>78704</td>\n",
       "    </tr>\n",
       "    <tr>\n",
       "      <th>4</th>\n",
       "      <td>20145025710</td>\n",
       "      <td>6200 LOYOLA LN Austin, TX 78724 (30.30171, -97...</td>\n",
       "      <td>22.02</td>\n",
       "      <td>2014-06-24 00:00:00+00:00</td>\n",
       "      <td>Not cleared</td>\n",
       "      <td>1</td>\n",
       "      <td>BURGLARY OF VEHICLE</td>\n",
       "      <td>C</td>\n",
       "      <td>30.30171</td>\n",
       "      <td>-97.651541</td>\n",
       "      <td>(0                 \n",
       "1                 \n",
       "2      ...</td>\n",
       "      <td>6200 LOYOLA LN</td>\n",
       "      <td>Theft: BOV</td>\n",
       "      <td>2014-06-10 00:00:00+00:00</td>\n",
       "      <td>3143028</td>\n",
       "      <td>10083917</td>\n",
       "      <td>2014</td>\n",
       "      <td>78724</td>\n",
       "    </tr>\n",
       "  </tbody>\n",
       "</table>\n",
       "<p>5 rows × 18 columns</p>\n",
       "</div>[5 rows x 18 columns in total]"
      ],
      "text/plain": [
       "    unique_key                                            address  \\\n",
       "0  20165026466                                               <NA>   \n",
       "1    201440943  119 FREDERICK ST Austin, TX 78704 (30.230732, ...   \n",
       "2  20151031435                                               <NA>   \n",
       "3  20158003159                                               <NA>   \n",
       "4  20145025710  6200 LOYOLA LN Austin, TX 78724 (30.30171, -97...   \n",
       "\n",
       "   census_tract             clearance_date   clearance_status  \\\n",
       "0         23.13  2016-06-30 00:00:00+00:00        Not cleared   \n",
       "1         13.08  2014-01-08 00:00:00+00:00  Cleared by Arrest   \n",
       "2          21.1  2015-04-22 00:00:00+00:00        Not cleared   \n",
       "3         19.01  2015-09-15 00:00:00+00:00        Not cleared   \n",
       "4         22.02  2014-06-24 00:00:00+00:00        Not cleared   \n",
       "\n",
       "   council_district_code                     description district   latitude  \\\n",
       "0                      3  BURGLARY OF VEHICLE                   H       <NA>   \n",
       "1                      3  BURGLARY OF RESIDENCE                 D  30.230732   \n",
       "2                      1  BURGLARY NON RESIDENCE                C       <NA>   \n",
       "3                      5  THEFT OF BICYCLE                      D       <NA>   \n",
       "4                      1  BURGLARY OF VEHICLE                   C   30.30171   \n",
       "\n",
       "   longitude                                           location  \\\n",
       "0       <NA>  (0         \n",
       "1         \n",
       "2         \n",
       "3         \n",
       "4...   \n",
       "1 -97.760585  (0                 \n",
       "1                 \n",
       "2      ...   \n",
       "2       <NA>  (0         \n",
       "1         \n",
       "2         \n",
       "3         \n",
       "4...   \n",
       "3       <NA>  (0         \n",
       "1         \n",
       "2         \n",
       "3         \n",
       "4...   \n",
       "4 -97.651541  (0                 \n",
       "1                 \n",
       "2      ...   \n",
       "\n",
       "   location_description                     primary_type  \\\n",
       "0      2900 SUNRIDGE DR                            Theft   \n",
       "1      119 FREDERICK ST  Burglary / \n",
       "Breaking & Entering   \n",
       "2        4904 LOUIS AVE                         Burglary   \n",
       "3  1135 BARTON HILLS DR                            Theft   \n",
       "4        6200 LOYOLA LN                       Theft: BOV   \n",
       "\n",
       "                   timestamp  x_coordinate  y_coordinate  year zipcode  \n",
       "0  2016-06-27 00:00:00+00:00       3119729      10053927  2016   78741  \n",
       "1  2014-01-04 00:00:00+00:00       3108953      10057000  2014   78704  \n",
       "2  2015-04-13 00:00:00+00:00       3132451      10073733  2015   78721  \n",
       "3  2015-09-11 00:00:00+00:00       3104868      10068158  2015   78704  \n",
       "4  2014-06-10 00:00:00+00:00       3143028      10083917  2014   78724  \n",
       "\n",
       "[5 rows x 18 columns]"
      ]
     },
     "execution_count": 6,
     "metadata": {},
     "output_type": "execute_result"
    }
   ],
   "source": [
    "df3 = bpd.read_gbq(\"bigquery-public-data.austin_crime.crime\")\n",
    "df3.head()"
   ]
  },
  {
   "cell_type": "code",
   "execution_count": 7,
   "id": "cd947c97-4a13-4b1b-9729-4cdb23ab2c30",
   "metadata": {
    "tags": []
   },
   "outputs": [
    {
     "data": {
      "text/html": [
       "Query job 3749a7af-284c-4987-b6c2-e0039109fbc3 is DONE. 0 Bytes processed. <a target=\"_blank\" href=\"https://console.cloud.google.com/bigquery?project=arctic-eye-446816-j7&j=bq:US:3749a7af-284c-4987-b6c2-e0039109fbc3&page=queryresults\">Open Job</a>"
      ],
      "text/plain": [
       "<IPython.core.display.HTML object>"
      ]
     },
     "metadata": {},
     "output_type": "display_data"
    },
    {
     "name": "stdout",
     "output_type": "stream",
     "text": [
      "<class 'bigframes.dataframe.DataFrame'>\n"
     ]
    },
    {
     "data": {
      "text/html": [
       "Query job 1f9502ec-2a1d-4468-81e4-0b63a998480f is DONE. 1.7 GB processed. <a target=\"_blank\" href=\"https://console.cloud.google.com/bigquery?project=arctic-eye-446816-j7&j=bq:US:1f9502ec-2a1d-4468-81e4-0b63a998480f&page=queryresults\">Open Job</a>"
      ],
      "text/plain": [
       "<IPython.core.display.HTML object>"
      ]
     },
     "metadata": {},
     "output_type": "display_data"
    },
    {
     "data": {
      "text/html": [
       "Query job 3fc61c6c-6096-4dc6-9dfe-75ab4ca4e9d1 is DONE. 1.7 GB processed. <a target=\"_blank\" href=\"https://console.cloud.google.com/bigquery?project=arctic-eye-446816-j7&j=bq:US:3fc61c6c-6096-4dc6-9dfe-75ab4ca4e9d1&page=queryresults\">Open Job</a>"
      ],
      "text/plain": [
       "<IPython.core.display.HTML object>"
      ]
     },
     "metadata": {},
     "output_type": "display_data"
    },
    {
     "name": "stdout",
     "output_type": "stream",
     "text": [
      "Index: 8250951 entries, 0 to 8250950\n",
      "Data columns (total 22 columns):\n",
      "  #  Column                Dtype\n",
      "---  --------------------  ------------------------------\n",
      "  0  unique_key            Int64\n",
      "  1  case_number           string\n",
      "  2  date                  timestamp[us, tz=UTC][pyarrow]\n",
      "  3  block                 string\n",
      "  4  iucr                  string\n",
      "  5  primary_type          string\n",
      "  6  description           string\n",
      "  7  location_description  string\n",
      "  8  arrest                boolean\n",
      "  9  domestic              boolean\n",
      " 10  beat                  Int64\n",
      " 11  district              Int64\n",
      " 12  ward                  Int64\n",
      " 13  community_area        Int64\n",
      " 14  fbi_code              string\n",
      " 15  x_coordinate          Float64\n",
      " 16  y_coordinate          Float64\n",
      " 17  year                  Int64\n",
      " 18  updated_on            timestamp[us, tz=UTC][pyarrow]\n",
      " 19  latitude              Float64\n",
      " 20  longitude             Float64\n",
      " 21  location              string\n",
      "dtypes: Float64(4), Int64(6), boolean(2), string(8), timestamp[us, tz=UTC][pyarrow](2)\n"
     ]
    },
    {
     "data": {
      "text/html": [
       "Query job 6041c679-c386-4825-87ed-ab49b7ed81a8 is DONE. 0 Bytes processed. <a target=\"_blank\" href=\"https://console.cloud.google.com/bigquery?project=arctic-eye-446816-j7&j=bq:US:6041c679-c386-4825-87ed-ab49b7ed81a8&page=queryresults\">Open Job</a>"
      ],
      "text/plain": [
       "<IPython.core.display.HTML object>"
      ]
     },
     "metadata": {},
     "output_type": "display_data"
    },
    {
     "name": "stdout",
     "output_type": "stream",
     "text": [
      "memory usage: 1402661670 bytes\n"
     ]
    }
   ],
   "source": [
    "df2.info()"
   ]
  },
  {
   "cell_type": "code",
   "execution_count": 8,
   "id": "d1ee1e31-2521-4482-9c86-2c71ba755c8b",
   "metadata": {
    "tags": []
   },
   "outputs": [
    {
     "data": {
      "text/html": [
       "Query job c5860d65-182e-4ee7-8185-b4013a88497b is DONE. 0 Bytes processed. <a target=\"_blank\" href=\"https://console.cloud.google.com/bigquery?project=arctic-eye-446816-j7&j=bq:US:c5860d65-182e-4ee7-8185-b4013a88497b&page=queryresults\">Open Job</a>"
      ],
      "text/plain": [
       "<IPython.core.display.HTML object>"
      ]
     },
     "metadata": {},
     "output_type": "display_data"
    },
    {
     "name": "stdout",
     "output_type": "stream",
     "text": [
      "<class 'bigframes.dataframe.DataFrame'>\n"
     ]
    },
    {
     "data": {
      "text/html": [
       "Query job 39f59cf2-75b3-41f2-9a05-0a7f7fd7d9d1 is DONE. 67.3 MB processed. <a target=\"_blank\" href=\"https://console.cloud.google.com/bigquery?project=arctic-eye-446816-j7&j=bq:US:39f59cf2-75b3-41f2-9a05-0a7f7fd7d9d1&page=queryresults\">Open Job</a>"
      ],
      "text/plain": [
       "<IPython.core.display.HTML object>"
      ]
     },
     "metadata": {},
     "output_type": "display_data"
    },
    {
     "data": {
      "text/html": [
       "Query job 5df63ac1-f560-4612-8d9e-8e225bd2bb25 is DONE. 67.3 MB processed. <a target=\"_blank\" href=\"https://console.cloud.google.com/bigquery?project=arctic-eye-446816-j7&j=bq:US:5df63ac1-f560-4612-8d9e-8e225bd2bb25&page=queryresults\">Open Job</a>"
      ],
      "text/plain": [
       "<IPython.core.display.HTML object>"
      ]
     },
     "metadata": {},
     "output_type": "display_data"
    },
    {
     "name": "stdout",
     "output_type": "stream",
     "text": [
      "Index: 116672 entries, 0 to 116671\n",
      "Data columns (total 18 columns):\n"
     ]
    },
    {
     "name": "stderr",
     "output_type": "stream",
     "text": [
      "/opt/conda/lib/python3.10/site-packages/bigframes/core/blocks.py:125: NullIndexPreviewWarning: Creating object with Null Index. Null Index is a preview feature.\n",
      "  warnings.warn(\n"
     ]
    },
    {
     "data": {
      "text/html": [
       "Query job e2208dea-aa3b-4388-859b-226c5817e109 is DONE. 67.3 MB processed. <a target=\"_blank\" href=\"https://console.cloud.google.com/bigquery?project=arctic-eye-446816-j7&j=bq:US:e2208dea-aa3b-4388-859b-226c5817e109&page=queryresults\">Open Job</a>"
      ],
      "text/plain": [
       "<IPython.core.display.HTML object>"
      ]
     },
     "metadata": {},
     "output_type": "display_data"
    },
    {
     "name": "stdout",
     "output_type": "stream",
     "text": [
      "  #  Column                 Non-Null Count    Dtype\n",
      "---  ---------------------  ----------------  ------------------------------\n",
      "  0  unique_key             116671 non-null   Int64\n",
      "  1  address                40640 non-null    string\n",
      "  2  census_tract           116149 non-null   Float64\n",
      "  3  clearance_date         111558 non-null   timestamp[us, tz=UTC][pyarrow]\n",
      "  4  clearance_status       111558 non-null   string\n",
      "  5  council_district_code  115997 non-null   Int64\n",
      "  6  description            116672 non-null   string\n",
      "  7  district               116672 non-null   string\n",
      "  8  latitude               34500 non-null    Float64\n",
      "  9  longitude              34500 non-null    Float64\n",
      " 10  location               116672 non-null   string\n",
      " 11  location_description   116672 non-null   string\n",
      " 12  primary_type           116672 non-null   string\n",
      " 13  timestamp              116672 non-null   timestamp[us, tz=UTC][pyarrow]\n",
      " 14  x_coordinate           114525 non-null   Int64\n",
      " 15  y_coordinate           114525 non-null   Int64\n",
      " 16  year                   116672 non-null   Int64\n",
      " 17  zipcode                116149 non-null   string\n",
      "dtypes: Float64(3), Int64(5), string(8), timestamp[us, tz=UTC][pyarrow](2)\n"
     ]
    },
    {
     "data": {
      "text/html": [
       "Query job ddc98b79-bde3-41c5-81c4-95907da16ffe is DONE. 0 Bytes processed. <a target=\"_blank\" href=\"https://console.cloud.google.com/bigquery?project=arctic-eye-446816-j7&j=bq:US:ddc98b79-bde3-41c5-81c4-95907da16ffe&page=queryresults\">Open Job</a>"
      ],
      "text/plain": [
       "<IPython.core.display.HTML object>"
      ]
     },
     "metadata": {},
     "output_type": "display_data"
    },
    {
     "name": "stdout",
     "output_type": "stream",
     "text": [
      "memory usage: 17734144 bytes\n"
     ]
    }
   ],
   "source": [
    "df3.info()"
   ]
  },
  {
   "cell_type": "code",
   "execution_count": 9,
   "id": "c00bbc55-0f2f-47d1-bf1e-9754c56000a5",
   "metadata": {
    "tags": []
   },
   "outputs": [
    {
     "data": {
      "text/html": [
       "Query job 605f3d3a-dc21-4394-85fc-f6d6386cd7b9 is DONE. 1.7 GB processed. <a target=\"_blank\" href=\"https://console.cloud.google.com/bigquery?project=arctic-eye-446816-j7&j=bq:US:605f3d3a-dc21-4394-85fc-f6d6386cd7b9&page=queryresults\">Open Job</a>"
      ],
      "text/plain": [
       "<IPython.core.display.HTML object>"
      ]
     },
     "metadata": {},
     "output_type": "display_data"
    },
    {
     "data": {
      "text/html": [
       "Query job 202a9428-d7b6-48a2-b116-e1d7b488a8a0 is DONE. 0 Bytes processed. <a target=\"_blank\" href=\"https://console.cloud.google.com/bigquery?project=arctic-eye-446816-j7&j=bq:US:202a9428-d7b6-48a2-b116-e1d7b488a8a0&page=queryresults\">Open Job</a>"
      ],
      "text/plain": [
       "<IPython.core.display.HTML object>"
      ]
     },
     "metadata": {},
     "output_type": "display_data"
    },
    {
     "data": {
      "text/html": [
       "Query job 99afcc8d-7821-4a50-af2b-971a67e99703 is DONE. 120 Bytes processed. <a target=\"_blank\" href=\"https://console.cloud.google.com/bigquery?project=arctic-eye-446816-j7&j=bq:US:99afcc8d-7821-4a50-af2b-971a67e99703&page=queryresults\">Open Job</a>"
      ],
      "text/plain": [
       "<IPython.core.display.HTML object>"
      ]
     },
     "metadata": {},
     "output_type": "display_data"
    },
    {
     "data": {
      "text/plain": [
       "0    24\n",
       "1     2\n",
       "2     2\n",
       "3     1\n",
       "4    18\n",
       "Name: district, dtype: Int64"
      ]
     },
     "execution_count": 9,
     "metadata": {},
     "output_type": "execute_result"
    }
   ],
   "source": [
    "df2['district'].head()"
   ]
  },
  {
   "cell_type": "code",
   "execution_count": 10,
   "id": "7c4a3a78-1fd1-434b-b6b2-73b50c42c2c6",
   "metadata": {
    "tags": []
   },
   "outputs": [],
   "source": [
    "chicago_df = df2[['date','year','primary_type','arrest']].reset_index()"
   ]
  },
  {
   "cell_type": "code",
   "execution_count": 11,
   "id": "57cb92f4-464d-4013-96bc-35c8e5d64db1",
   "metadata": {
    "tags": []
   },
   "outputs": [],
   "source": [
    "austin_df = df3[['timestamp','year','primary_type','clearance_status']].reset_index()"
   ]
  },
  {
   "cell_type": "code",
   "execution_count": 12,
   "id": "391463fa-274f-400b-b543-0626a01d78b3",
   "metadata": {
    "tags": []
   },
   "outputs": [
    {
     "data": {
      "text/html": [
       "Query job fe1adeb3-42eb-41cc-b26c-15de21cb32c3 is DONE. 1.7 GB processed. <a target=\"_blank\" href=\"https://console.cloud.google.com/bigquery?project=arctic-eye-446816-j7&j=bq:US:fe1adeb3-42eb-41cc-b26c-15de21cb32c3&page=queryresults\">Open Job</a>"
      ],
      "text/plain": [
       "<IPython.core.display.HTML object>"
      ]
     },
     "metadata": {},
     "output_type": "display_data"
    },
    {
     "name": "stdout",
     "output_type": "stream",
     "text": [
      "index unique values: 8250951\n"
     ]
    },
    {
     "data": {
      "text/html": [
       "Query job 2b60d22d-7e0b-4735-b3ff-8cb751b082d8 is DONE. 1.7 GB processed. <a target=\"_blank\" href=\"https://console.cloud.google.com/bigquery?project=arctic-eye-446816-j7&j=bq:US:2b60d22d-7e0b-4735-b3ff-8cb751b082d8&page=queryresults\">Open Job</a>"
      ],
      "text/plain": [
       "<IPython.core.display.HTML object>"
      ]
     },
     "metadata": {},
     "output_type": "display_data"
    },
    {
     "name": "stdout",
     "output_type": "stream",
     "text": [
      "date unique values: 3433917\n"
     ]
    },
    {
     "data": {
      "text/html": [
       "Query job e9fcb88d-99a0-40d1-aafe-2ffdeeb3e9b7 is DONE. 1.7 GB processed. <a target=\"_blank\" href=\"https://console.cloud.google.com/bigquery?project=arctic-eye-446816-j7&j=bq:US:e9fcb88d-99a0-40d1-aafe-2ffdeeb3e9b7&page=queryresults\">Open Job</a>"
      ],
      "text/plain": [
       "<IPython.core.display.HTML object>"
      ]
     },
     "metadata": {},
     "output_type": "display_data"
    },
    {
     "name": "stdout",
     "output_type": "stream",
     "text": [
      "year unique values: 25\n"
     ]
    },
    {
     "data": {
      "text/html": [
       "Query job 13580493-671f-43f7-b104-aac9be965499 is DONE. 1.7 GB processed. <a target=\"_blank\" href=\"https://console.cloud.google.com/bigquery?project=arctic-eye-446816-j7&j=bq:US:13580493-671f-43f7-b104-aac9be965499&page=queryresults\">Open Job</a>"
      ],
      "text/plain": [
       "<IPython.core.display.HTML object>"
      ]
     },
     "metadata": {},
     "output_type": "display_data"
    },
    {
     "name": "stdout",
     "output_type": "stream",
     "text": [
      "primary_type unique values: 36\n"
     ]
    },
    {
     "data": {
      "text/html": [
       "Query job 82628c38-6340-4dd5-83c4-9ed5e8adae80 is DONE. 1.7 GB processed. <a target=\"_blank\" href=\"https://console.cloud.google.com/bigquery?project=arctic-eye-446816-j7&j=bq:US:82628c38-6340-4dd5-83c4-9ed5e8adae80&page=queryresults\">Open Job</a>"
      ],
      "text/plain": [
       "<IPython.core.display.HTML object>"
      ]
     },
     "metadata": {},
     "output_type": "display_data"
    },
    {
     "name": "stdout",
     "output_type": "stream",
     "text": [
      "arrest unique values: 2\n"
     ]
    },
    {
     "data": {
      "text/html": [
       "Query job b09b58c9-fbff-4cc6-8d5c-955da2305ba0 is DONE. 67.3 MB processed. <a target=\"_blank\" href=\"https://console.cloud.google.com/bigquery?project=arctic-eye-446816-j7&j=bq:US:b09b58c9-fbff-4cc6-8d5c-955da2305ba0&page=queryresults\">Open Job</a>"
      ],
      "text/plain": [
       "<IPython.core.display.HTML object>"
      ]
     },
     "metadata": {},
     "output_type": "display_data"
    },
    {
     "name": "stdout",
     "output_type": "stream",
     "text": [
      "index unique values: 116672\n"
     ]
    },
    {
     "data": {
      "text/html": [
       "Query job a30e3eb0-e2a6-44be-8bfb-83ddb0ab1ff0 is DONE. 67.3 MB processed. <a target=\"_blank\" href=\"https://console.cloud.google.com/bigquery?project=arctic-eye-446816-j7&j=bq:US:a30e3eb0-e2a6-44be-8bfb-83ddb0ab1ff0&page=queryresults\">Open Job</a>"
      ],
      "text/plain": [
       "<IPython.core.display.HTML object>"
      ]
     },
     "metadata": {},
     "output_type": "display_data"
    },
    {
     "name": "stdout",
     "output_type": "stream",
     "text": [
      "timestamp unique values: 1096\n"
     ]
    },
    {
     "data": {
      "text/html": [
       "Query job 4d0eed2d-eef8-46da-81c5-ece641a3e7dd is DONE. 67.3 MB processed. <a target=\"_blank\" href=\"https://console.cloud.google.com/bigquery?project=arctic-eye-446816-j7&j=bq:US:4d0eed2d-eef8-46da-81c5-ece641a3e7dd&page=queryresults\">Open Job</a>"
      ],
      "text/plain": [
       "<IPython.core.display.HTML object>"
      ]
     },
     "metadata": {},
     "output_type": "display_data"
    },
    {
     "name": "stdout",
     "output_type": "stream",
     "text": [
      "year unique values: 3\n"
     ]
    },
    {
     "data": {
      "text/html": [
       "Query job 10ccc914-8656-4f6d-a7bf-99d677da0259 is DONE. 67.3 MB processed. <a target=\"_blank\" href=\"https://console.cloud.google.com/bigquery?project=arctic-eye-446816-j7&j=bq:US:10ccc914-8656-4f6d-a7bf-99d677da0259&page=queryresults\">Open Job</a>"
      ],
      "text/plain": [
       "<IPython.core.display.HTML object>"
      ]
     },
     "metadata": {},
     "output_type": "display_data"
    },
    {
     "name": "stdout",
     "output_type": "stream",
     "text": [
      "primary_type unique values: 18\n"
     ]
    },
    {
     "data": {
      "text/html": [
       "Query job 10f377ce-c580-44e2-914c-c7e1acd90684 is DONE. 67.3 MB processed. <a target=\"_blank\" href=\"https://console.cloud.google.com/bigquery?project=arctic-eye-446816-j7&j=bq:US:10f377ce-c580-44e2-914c-c7e1acd90684&page=queryresults\">Open Job</a>"
      ],
      "text/plain": [
       "<IPython.core.display.HTML object>"
      ]
     },
     "metadata": {},
     "output_type": "display_data"
    },
    {
     "name": "stdout",
     "output_type": "stream",
     "text": [
      "clearance_status unique values: 4\n"
     ]
    }
   ],
   "source": [
    "for df in [chicago_df, austin_df]:\n",
    "    for column in df.columns:\n",
    "        print(f'{column} unique values: {len(df[column].unique())}')"
   ]
  },
  {
   "cell_type": "code",
   "execution_count": 13,
   "id": "8c731972-31be-425e-b3f0-c8a7d95b5aab",
   "metadata": {
    "tags": []
   },
   "outputs": [
    {
     "data": {
      "text/html": [
       "Query job 1c7d68b1-3d43-4793-a6d5-5a93bfd9e772 is DONE. 67.3 MB processed. <a target=\"_blank\" href=\"https://console.cloud.google.com/bigquery?project=arctic-eye-446816-j7&j=bq:US:1c7d68b1-3d43-4793-a6d5-5a93bfd9e772&page=queryresults\">Open Job</a>"
      ],
      "text/plain": [
       "<IPython.core.display.HTML object>"
      ]
     },
     "metadata": {},
     "output_type": "display_data"
    },
    {
     "data": {
      "text/html": [
       "Query job 777ea039-2d1f-4d7a-a716-df83b8a41efc is DONE. 0 Bytes processed. <a target=\"_blank\" href=\"https://console.cloud.google.com/bigquery?project=arctic-eye-446816-j7&j=bq:US:777ea039-2d1f-4d7a-a716-df83b8a41efc&page=queryresults\">Open Job</a>"
      ],
      "text/plain": [
       "<IPython.core.display.HTML object>"
      ]
     },
     "metadata": {},
     "output_type": "display_data"
    },
    {
     "data": {
      "text/html": [
       "Query job f51bd5ce-48c3-423f-b4be-eef17a3ce0f3 is DONE. 118 Bytes processed. <a target=\"_blank\" href=\"https://console.cloud.google.com/bigquery?project=arctic-eye-446816-j7&j=bq:US:f51bd5ce-48c3-423f-b4be-eef17a3ce0f3&page=queryresults\">Open Job</a>"
      ],
      "text/plain": [
       "<IPython.core.display.HTML object>"
      ]
     },
     "metadata": {},
     "output_type": "display_data"
    },
    {
     "data": {
      "text/plain": [
       "0              Not cleared\n",
       "1        Cleared by Arrest\n",
       "24    Cleared by Exception\n",
       "34                    <NA>\n",
       "Name: clearance_status, dtype: string"
      ]
     },
     "execution_count": 13,
     "metadata": {},
     "output_type": "execute_result"
    }
   ],
   "source": [
    "austin_df.clearance_status.unique()"
   ]
  },
  {
   "cell_type": "code",
   "execution_count": 14,
   "id": "73ecd0b9-4f44-486b-95ef-7cb0f4184b33",
   "metadata": {
    "tags": []
   },
   "outputs": [
    {
     "data": {
      "text/html": [
       "Query job 99092216-da4a-4dda-b47e-989d1afe8019 is DONE. 67.3 MB processed. <a target=\"_blank\" href=\"https://console.cloud.google.com/bigquery?project=arctic-eye-446816-j7&j=bq:US:99092216-da4a-4dda-b47e-989d1afe8019&page=queryresults\">Open Job</a>"
      ],
      "text/plain": [
       "<IPython.core.display.HTML object>"
      ]
     },
     "metadata": {},
     "output_type": "display_data"
    },
    {
     "data": {
      "text/html": [
       "Query job 62efd940-768f-4f96-879c-5b7dfe8f5927 is DONE. 67.3 MB processed. <a target=\"_blank\" href=\"https://console.cloud.google.com/bigquery?project=arctic-eye-446816-j7&j=bq:US:62efd940-768f-4f96-879c-5b7dfe8f5927&page=queryresults\">Open Job</a>"
      ],
      "text/plain": [
       "<IPython.core.display.HTML object>"
      ]
     },
     "metadata": {},
     "output_type": "display_data"
    },
    {
     "data": {
      "text/html": [
       "Query job 73986d5c-185c-41d4-beb2-e3a3a26c5f9a is DONE. 0 Bytes processed. <a target=\"_blank\" href=\"https://console.cloud.google.com/bigquery?project=arctic-eye-446816-j7&j=bq:US:73986d5c-185c-41d4-beb2-e3a3a26c5f9a&page=queryresults\">Open Job</a>"
      ],
      "text/plain": [
       "<IPython.core.display.HTML object>"
      ]
     },
     "metadata": {},
     "output_type": "display_data"
    },
    {
     "data": {
      "text/html": [
       "Load job d01acfcc-49c9-4f5f-b6e0-065d07b1b417 is DONE. <a target=\"_blank\" href=\"https://console.cloud.google.com/bigquery?project=arctic-eye-446816-j7&j=bq:US:d01acfcc-49c9-4f5f-b6e0-065d07b1b417&page=queryresults\">Open Job</a>"
      ],
      "text/plain": [
       "<IPython.core.display.HTML object>"
      ]
     },
     "metadata": {},
     "output_type": "display_data"
    }
   ],
   "source": [
    "import numpy as np\n",
    "austin_df['arrest'] = np.where(austin_df['clearance_status'] == 'Cleared by Arrest', np.where(austin_df['clearance_status'] == 'Cleared by Exception', True, True), False)\n"
   ]
  },
  {
   "cell_type": "code",
   "execution_count": 15,
   "id": "e5ea8eea-5cde-4a15-b85e-de4d744a67ff",
   "metadata": {
    "tags": []
   },
   "outputs": [],
   "source": [
    "austin_df = austin_df.drop(columns='clearance_status')\n"
   ]
  },
  {
   "cell_type": "code",
   "execution_count": 16,
   "id": "16e6026f-fec0-43ae-8194-d27e30a1d1e7",
   "metadata": {
    "tags": []
   },
   "outputs": [
    {
     "data": {
      "text/html": [
       "Query job fe70be1d-b11f-4bac-a985-9ed3f8537aea is DONE. 68.3 MB processed. <a target=\"_blank\" href=\"https://console.cloud.google.com/bigquery?project=arctic-eye-446816-j7&j=bq:US:fe70be1d-b11f-4bac-a985-9ed3f8537aea&page=queryresults\">Open Job</a>"
      ],
      "text/plain": [
       "<IPython.core.display.HTML object>"
      ]
     },
     "metadata": {},
     "output_type": "display_data"
    },
    {
     "name": "stdout",
     "output_type": "stream",
     "text": [
      "<class 'bigframes.dataframe.DataFrame'>\n"
     ]
    },
    {
     "data": {
      "text/html": [
       "Query job acfa0080-1d66-4b9f-ae18-9ed9085bc307 is DONE. 69.2 MB processed. <a target=\"_blank\" href=\"https://console.cloud.google.com/bigquery?project=arctic-eye-446816-j7&j=bq:US:acfa0080-1d66-4b9f-ae18-9ed9085bc307&page=queryresults\">Open Job</a>"
      ],
      "text/plain": [
       "<IPython.core.display.HTML object>"
      ]
     },
     "metadata": {},
     "output_type": "display_data"
    },
    {
     "data": {
      "text/html": [
       "Query job 4c258b69-542a-452b-b754-7cd7cf057cb0 is DONE. 69.2 MB processed. <a target=\"_blank\" href=\"https://console.cloud.google.com/bigquery?project=arctic-eye-446816-j7&j=bq:US:4c258b69-542a-452b-b754-7cd7cf057cb0&page=queryresults\">Open Job</a>"
      ],
      "text/plain": [
       "<IPython.core.display.HTML object>"
      ]
     },
     "metadata": {},
     "output_type": "display_data"
    },
    {
     "name": "stdout",
     "output_type": "stream",
     "text": [
      "Index: 116672 entries, 0 to 116671\n",
      "Data columns (total 5 columns):\n"
     ]
    },
    {
     "name": "stderr",
     "output_type": "stream",
     "text": [
      "/opt/conda/lib/python3.10/site-packages/bigframes/core/blocks.py:125: NullIndexPreviewWarning: Creating object with Null Index. Null Index is a preview feature.\n",
      "  warnings.warn(\n"
     ]
    },
    {
     "data": {
      "text/html": [
       "Query job 478a1706-63aa-4d47-af88-0049de5f196b is DONE. 68.4 MB processed. <a target=\"_blank\" href=\"https://console.cloud.google.com/bigquery?project=arctic-eye-446816-j7&j=bq:US:478a1706-63aa-4d47-af88-0049de5f196b&page=queryresults\">Open Job</a>"
      ],
      "text/plain": [
       "<IPython.core.display.HTML object>"
      ]
     },
     "metadata": {},
     "output_type": "display_data"
    },
    {
     "name": "stdout",
     "output_type": "stream",
     "text": [
      "  #  Column        Non-Null Count    Dtype\n",
      "---  ------------  ----------------  ------------------------------\n",
      "  0  index         116672 non-null   Int64\n",
      "  1  date          116672 non-null   timestamp[us, tz=UTC][pyarrow]\n",
      "  2  year          116672 non-null   Int64\n",
      "  3  primary_type  116672 non-null   string\n",
      "  4  arrest        116672 non-null   boolean\n",
      "dtypes: Int64(2), boolean(1), string(1), timestamp[us, tz=UTC][pyarrow](1)\n"
     ]
    },
    {
     "data": {
      "text/html": [
       "Query job 4440eae7-7440-4692-9bb1-47013004d89e is DONE. 68.3 MB processed. <a target=\"_blank\" href=\"https://console.cloud.google.com/bigquery?project=arctic-eye-446816-j7&j=bq:US:4440eae7-7440-4692-9bb1-47013004d89e&page=queryresults\">Open Job</a>"
      ],
      "text/plain": [
       "<IPython.core.display.HTML object>"
      ]
     },
     "metadata": {},
     "output_type": "display_data"
    },
    {
     "name": "stdout",
     "output_type": "stream",
     "text": [
      "memory usage: 4783552 bytes\n"
     ]
    }
   ],
   "source": [
    "austin_df = austin_df.rename(columns = {'timestamp':'date'})\n",
    "austin_df.info()"
   ]
  },
  {
   "cell_type": "code",
   "execution_count": 17,
   "id": "17c29424-be95-46e1-b56c-cc2cfc6328c0",
   "metadata": {
    "tags": []
   },
   "outputs": [
    {
     "data": {
      "text/html": [
       "Query job c90da94e-ae3f-438c-8e84-7ad385efc694 is DONE. 0 Bytes processed. <a target=\"_blank\" href=\"https://console.cloud.google.com/bigquery?project=arctic-eye-446816-j7&j=bq:US:c90da94e-ae3f-438c-8e84-7ad385efc694&page=queryresults\">Open Job</a>"
      ],
      "text/plain": [
       "<IPython.core.display.HTML object>"
      ]
     },
     "metadata": {},
     "output_type": "display_data"
    },
    {
     "name": "stdout",
     "output_type": "stream",
     "text": [
      "<class 'bigframes.dataframe.DataFrame'>\n"
     ]
    },
    {
     "data": {
      "text/html": [
       "Query job 036d495d-e54f-4f04-838d-e4cba8d4f614 is DONE. 1.7 GB processed. <a target=\"_blank\" href=\"https://console.cloud.google.com/bigquery?project=arctic-eye-446816-j7&j=bq:US:036d495d-e54f-4f04-838d-e4cba8d4f614&page=queryresults\">Open Job</a>"
      ],
      "text/plain": [
       "<IPython.core.display.HTML object>"
      ]
     },
     "metadata": {},
     "output_type": "display_data"
    },
    {
     "data": {
      "text/html": [
       "Query job c974a699-16c2-40d5-8861-9d1755dd6a0e is DONE. 1.7 GB processed. <a target=\"_blank\" href=\"https://console.cloud.google.com/bigquery?project=arctic-eye-446816-j7&j=bq:US:c974a699-16c2-40d5-8861-9d1755dd6a0e&page=queryresults\">Open Job</a>"
      ],
      "text/plain": [
       "<IPython.core.display.HTML object>"
      ]
     },
     "metadata": {},
     "output_type": "display_data"
    },
    {
     "name": "stdout",
     "output_type": "stream",
     "text": [
      "Index: 8250951 entries, 0 to 8250950\n",
      "Data columns (total 5 columns):\n",
      "  #  Column        Dtype\n",
      "---  ------------  ------------------------------\n",
      "  0  index         Int64\n",
      "  1  date          timestamp[us, tz=UTC][pyarrow]\n",
      "  2  year          Int64\n",
      "  3  primary_type  string\n",
      "  4  arrest        boolean\n",
      "dtypes: Int64(2), boolean(1), string(1), timestamp[us, tz=UTC][pyarrow](1)\n"
     ]
    },
    {
     "data": {
      "text/html": [
       "Query job 94266b7f-0c26-47af-bf7d-3b79b620403d is DONE. 0 Bytes processed. <a target=\"_blank\" href=\"https://console.cloud.google.com/bigquery?project=arctic-eye-446816-j7&j=bq:US:94266b7f-0c26-47af-bf7d-3b79b620403d&page=queryresults\">Open Job</a>"
      ],
      "text/plain": [
       "<IPython.core.display.HTML object>"
      ]
     },
     "metadata": {},
     "output_type": "display_data"
    },
    {
     "name": "stdout",
     "output_type": "stream",
     "text": [
      "memory usage: 338288991 bytes\n"
     ]
    }
   ],
   "source": [
    "chicago_df.info()"
   ]
  },
  {
   "cell_type": "code",
   "execution_count": 18,
   "id": "72953b0f-7542-431b-b7bc-fe0e165acaed",
   "metadata": {},
   "outputs": [],
   "source": [
    "chicago_group = chicago_df[['year', 'arrest']].groupby(['year']).count()\n"
   ]
  },
  {
   "cell_type": "code",
   "execution_count": 19,
   "id": "7cfe9199-7ad3-422a-9564-576acd275424",
   "metadata": {
    "tags": []
   },
   "outputs": [
    {
     "data": {
      "text/html": [
       "Query job af9a7bc5-4990-4adb-a8fa-241b3f37deba is DONE. 74.3 MB processed. <a target=\"_blank\" href=\"https://console.cloud.google.com/bigquery?project=arctic-eye-446816-j7&j=bq:US:af9a7bc5-4990-4adb-a8fa-241b3f37deba&page=queryresults\">Open Job</a>"
      ],
      "text/plain": [
       "<IPython.core.display.HTML object>"
      ]
     },
     "metadata": {},
     "output_type": "display_data"
    },
    {
     "data": {
      "text/html": [
       "Query job 726ce05a-41bf-428f-92f5-16fe8dbead65 is DONE. 0 Bytes processed. <a target=\"_blank\" href=\"https://console.cloud.google.com/bigquery?project=arctic-eye-446816-j7&j=bq:US:726ce05a-41bf-428f-92f5-16fe8dbead65&page=queryresults\">Open Job</a>"
      ],
      "text/plain": [
       "<IPython.core.display.HTML object>"
      ]
     },
     "metadata": {},
     "output_type": "display_data"
    },
    {
     "data": {
      "text/html": [
       "Query job a33e62c9-4722-40cd-ae31-dd274ebda51a is DONE. 800 Bytes processed. <a target=\"_blank\" href=\"https://console.cloud.google.com/bigquery?project=arctic-eye-446816-j7&j=bq:US:a33e62c9-4722-40cd-ae31-dd274ebda51a&page=queryresults\">Open Job</a>"
      ],
      "text/plain": [
       "<IPython.core.display.HTML object>"
      ]
     },
     "metadata": {},
     "output_type": "display_data"
    },
    {
     "data": {
      "text/html": [
       "<div>\n",
       "<style scoped>\n",
       "    .dataframe tbody tr th:only-of-type {\n",
       "        vertical-align: middle;\n",
       "    }\n",
       "\n",
       "    .dataframe tbody tr th {\n",
       "        vertical-align: top;\n",
       "    }\n",
       "\n",
       "    .dataframe thead th {\n",
       "        text-align: right;\n",
       "    }\n",
       "</style>\n",
       "<table border=\"1\" class=\"dataframe\">\n",
       "  <thead>\n",
       "    <tr style=\"text-align: right;\">\n",
       "      <th></th>\n",
       "      <th>year</th>\n",
       "      <th>arrest</th>\n",
       "    </tr>\n",
       "  </thead>\n",
       "  <tbody>\n",
       "    <tr>\n",
       "      <th>0</th>\n",
       "      <td>2001</td>\n",
       "      <td>485931</td>\n",
       "    </tr>\n",
       "    <tr>\n",
       "      <th>1</th>\n",
       "      <td>2002</td>\n",
       "      <td>486827</td>\n",
       "    </tr>\n",
       "    <tr>\n",
       "      <th>2</th>\n",
       "      <td>2003</td>\n",
       "      <td>475990</td>\n",
       "    </tr>\n",
       "    <tr>\n",
       "      <th>3</th>\n",
       "      <td>2004</td>\n",
       "      <td>469433</td>\n",
       "    </tr>\n",
       "    <tr>\n",
       "      <th>4</th>\n",
       "      <td>2005</td>\n",
       "      <td>453779</td>\n",
       "    </tr>\n",
       "    <tr>\n",
       "      <th>5</th>\n",
       "      <td>2006</td>\n",
       "      <td>448193</td>\n",
       "    </tr>\n",
       "    <tr>\n",
       "      <th>6</th>\n",
       "      <td>2007</td>\n",
       "      <td>437098</td>\n",
       "    </tr>\n",
       "    <tr>\n",
       "      <th>7</th>\n",
       "      <td>2008</td>\n",
       "      <td>427202</td>\n",
       "    </tr>\n",
       "    <tr>\n",
       "      <th>8</th>\n",
       "      <td>2009</td>\n",
       "      <td>392852</td>\n",
       "    </tr>\n",
       "    <tr>\n",
       "      <th>9</th>\n",
       "      <td>2010</td>\n",
       "      <td>370546</td>\n",
       "    </tr>\n",
       "    <tr>\n",
       "      <th>10</th>\n",
       "      <td>2011</td>\n",
       "      <td>352025</td>\n",
       "    </tr>\n",
       "    <tr>\n",
       "      <th>11</th>\n",
       "      <td>2012</td>\n",
       "      <td>336352</td>\n",
       "    </tr>\n",
       "    <tr>\n",
       "      <th>12</th>\n",
       "      <td>2013</td>\n",
       "      <td>307592</td>\n",
       "    </tr>\n",
       "    <tr>\n",
       "      <th>13</th>\n",
       "      <td>2014</td>\n",
       "      <td>275866</td>\n",
       "    </tr>\n",
       "    <tr>\n",
       "      <th>14</th>\n",
       "      <td>2015</td>\n",
       "      <td>264866</td>\n",
       "    </tr>\n",
       "    <tr>\n",
       "      <th>15</th>\n",
       "      <td>2016</td>\n",
       "      <td>269931</td>\n",
       "    </tr>\n",
       "    <tr>\n",
       "      <th>16</th>\n",
       "      <td>2017</td>\n",
       "      <td>269221</td>\n",
       "    </tr>\n",
       "    <tr>\n",
       "      <th>17</th>\n",
       "      <td>2018</td>\n",
       "      <td>269075</td>\n",
       "    </tr>\n",
       "    <tr>\n",
       "      <th>18</th>\n",
       "      <td>2019</td>\n",
       "      <td>261569</td>\n",
       "    </tr>\n",
       "    <tr>\n",
       "      <th>19</th>\n",
       "      <td>2020</td>\n",
       "      <td>212544</td>\n",
       "    </tr>\n",
       "    <tr>\n",
       "      <th>20</th>\n",
       "      <td>2021</td>\n",
       "      <td>209430</td>\n",
       "    </tr>\n",
       "    <tr>\n",
       "      <th>21</th>\n",
       "      <td>2022</td>\n",
       "      <td>239676</td>\n",
       "    </tr>\n",
       "    <tr>\n",
       "      <th>22</th>\n",
       "      <td>2023</td>\n",
       "      <td>262793</td>\n",
       "    </tr>\n",
       "    <tr>\n",
       "      <th>23</th>\n",
       "      <td>2024</td>\n",
       "      <td>257042</td>\n",
       "    </tr>\n",
       "    <tr>\n",
       "      <th>24</th>\n",
       "      <td>2025</td>\n",
       "      <td>15118</td>\n",
       "    </tr>\n",
       "  </tbody>\n",
       "</table>\n",
       "<p>25 rows × 2 columns</p>\n",
       "</div>[25 rows x 2 columns in total]"
      ],
      "text/plain": [
       "    year  arrest\n",
       "0   2001  485931\n",
       "1   2002  486827\n",
       "2   2003  475990\n",
       "3   2004  469433\n",
       "4   2005  453779\n",
       "5   2006  448193\n",
       "6   2007  437098\n",
       "7   2008  427202\n",
       "8   2009  392852\n",
       "9   2010  370546\n",
       "10  2011  352025\n",
       "11  2012  336352\n",
       "12  2013  307592\n",
       "13  2014  275866\n",
       "14  2015  264866\n",
       "15  2016  269931\n",
       "16  2017  269221\n",
       "17  2018  269075\n",
       "18  2019  261569\n",
       "19  2020  212544\n",
       "20  2021  209430\n",
       "21  2022  239676\n",
       "22  2023  262793\n",
       "23  2024  257042\n",
       "24  2025   15118\n",
       "\n",
       "[25 rows x 2 columns]"
      ]
     },
     "execution_count": 19,
     "metadata": {},
     "output_type": "execute_result"
    }
   ],
   "source": [
    "chicago_group = chicago_group.reset_index()\n",
    "chicago_group"
   ]
  },
  {
   "cell_type": "code",
   "execution_count": 20,
   "id": "e09892b2-7ab5-4e0e-a381-f4f1179e02bc",
   "metadata": {
    "tags": []
   },
   "outputs": [
    {
     "data": {
      "text/html": [
       "Query job f659fa5b-d683-4ff2-b17a-be1e625574ac is DONE. 600 Bytes processed. <a target=\"_blank\" href=\"https://console.cloud.google.com/bigquery?project=arctic-eye-446816-j7&j=bq:US:f659fa5b-d683-4ff2-b17a-be1e625574ac&page=queryresults\">Open Job</a>"
      ],
      "text/plain": [
       "<IPython.core.display.HTML object>"
      ]
     },
     "metadata": {},
     "output_type": "display_data"
    },
    {
     "data": {
      "text/html": [
       "Query job 3202a449-d288-4bb4-8d33-847c01bcd120 is DONE. 600 Bytes processed. <a target=\"_blank\" href=\"https://console.cloud.google.com/bigquery?project=arctic-eye-446816-j7&j=bq:US:3202a449-d288-4bb4-8d33-847c01bcd120&page=queryresults\">Open Job</a>"
      ],
      "text/plain": [
       "<IPython.core.display.HTML object>"
      ]
     },
     "metadata": {},
     "output_type": "display_data"
    },
    {
     "data": {
      "image/png": "[encoded data removed]",
      "text/plain": [
       "<Figure size 640x480 with 1 Axes>"
      ]
     },
     "metadata": {},
     "output_type": "display_data"
    }
   ],
   "source": [
    "plt.plot(chicago_group.year, chicago_group.arrest)\n",
    "plt.show()"
   ]
  },
  {
   "cell_type": "code",
   "execution_count": 21,
   "id": "8638af1e-7b64-4dc1-a708-5b92165d5107",
   "metadata": {
    "tags": []
   },
   "outputs": [
    {
     "data": {
      "text/html": [
       "Query job 93d531e2-172e-4775-ba1f-b604bc1dfc9b is DONE. 69.2 MB processed. <a target=\"_blank\" href=\"https://console.cloud.google.com/bigquery?project=arctic-eye-446816-j7&j=bq:US:93d531e2-172e-4775-ba1f-b604bc1dfc9b&page=queryresults\">Open Job</a>"
      ],
      "text/plain": [
       "<IPython.core.display.HTML object>"
      ]
     },
     "metadata": {},
     "output_type": "display_data"
    },
    {
     "data": {
      "text/html": [
       "Query job 0ef81836-c470-4201-b17a-c91cc73ff636 is DONE. 0 Bytes processed. <a target=\"_blank\" href=\"https://console.cloud.google.com/bigquery?project=arctic-eye-446816-j7&j=bq:US:0ef81836-c470-4201-b17a-c91cc73ff636&page=queryresults\">Open Job</a>"
      ],
      "text/plain": [
       "<IPython.core.display.HTML object>"
      ]
     },
     "metadata": {},
     "output_type": "display_data"
    },
    {
     "data": {
      "text/html": [
       "Query job 07d2cef7-3c6d-44a5-b808-94657a3009fa is DONE. 96 Bytes processed. <a target=\"_blank\" href=\"https://console.cloud.google.com/bigquery?project=arctic-eye-446816-j7&j=bq:US:07d2cef7-3c6d-44a5-b808-94657a3009fa&page=queryresults\">Open Job</a>"
      ],
      "text/plain": [
       "<IPython.core.display.HTML object>"
      ]
     },
     "metadata": {},
     "output_type": "display_data"
    },
    {
     "data": {
      "text/plain": [
       "0    2016\n",
       "1    2014\n",
       "2    2015\n",
       "Name: year, dtype: Int64"
      ]
     },
     "execution_count": 21,
     "metadata": {},
     "output_type": "execute_result"
    }
   ],
   "source": [
    "austin_df.year.unique()"
   ]
  },
  {
   "cell_type": "code",
   "execution_count": 22,
   "id": "8fa86dc6-6a8d-4706-99cf-e437515b3839",
   "metadata": {
    "tags": []
   },
   "outputs": [
    {
     "data": {
      "text/html": [
       "Query job 6ec13e3d-bd85-459a-b5a7-31225dddef09 is DONE. 933.4 kB processed. <a target=\"_blank\" href=\"https://console.cloud.google.com/bigquery?project=arctic-eye-446816-j7&j=bq:US:6ec13e3d-bd85-459a-b5a7-31225dddef09&page=queryresults\">Open Job</a>"
      ],
      "text/plain": [
       "<IPython.core.display.HTML object>"
      ]
     },
     "metadata": {},
     "output_type": "display_data"
    },
    {
     "data": {
      "text/html": [
       "Query job 731ae4a6-a9f4-4ffb-bd1c-7a7c7f08a5e1 is DONE. 68.4 MB processed. <a target=\"_blank\" href=\"https://console.cloud.google.com/bigquery?project=arctic-eye-446816-j7&j=bq:US:731ae4a6-a9f4-4ffb-bd1c-7a7c7f08a5e1&page=queryresults\">Open Job</a>"
      ],
      "text/plain": [
       "<IPython.core.display.HTML object>"
      ]
     },
     "metadata": {},
     "output_type": "display_data"
    },
    {
     "data": {
      "image/png": "[encoded data removed]",
      "text/plain": [
       "<Figure size 640x480 with 1 Axes>"
      ]
     },
     "metadata": {},
     "output_type": "display_data"
    }
   ],
   "source": [
    "austin_group = austin_df[['year', 'arrest']].groupby(['year']).count().reset_index()\n",
    "plt.plot(austin_group.year, austin_group.arrest)\n",
    "plt.xticks(rotation = 25)\n",
    "plt.show()\n"
   ]
  },
  {
   "cell_type": "code",
   "execution_count": 23,
   "id": "2db82753-5667-44f6-8373-c9c4ee2c7219",
   "metadata": {
    "tags": []
   },
   "outputs": [
    {
     "data": {
      "text/html": [
       "Query job 3beccbe5-de99-4f7c-a69b-20aa63be0a33 is DONE. 69.2 MB processed. <a target=\"_blank\" href=\"https://console.cloud.google.com/bigquery?project=arctic-eye-446816-j7&j=bq:US:3beccbe5-de99-4f7c-a69b-20aa63be0a33&page=queryresults\">Open Job</a>"
      ],
      "text/plain": [
       "<IPython.core.display.HTML object>"
      ]
     },
     "metadata": {},
     "output_type": "display_data"
    },
    {
     "data": {
      "text/html": [
       "Query job 82f484cc-07af-4e85-a654-622549a8537f is DONE. 0 Bytes processed. <a target=\"_blank\" href=\"https://console.cloud.google.com/bigquery?project=arctic-eye-446816-j7&j=bq:US:82f484cc-07af-4e85-a654-622549a8537f&page=queryresults\">Open Job</a>"
      ],
      "text/plain": [
       "<IPython.core.display.HTML object>"
      ]
     },
     "metadata": {},
     "output_type": "display_data"
    },
    {
     "data": {
      "text/html": [
       "Query job a8c0de1f-8638-410f-af03-695a0a3ce9a6 is DONE. 766 Bytes processed. <a target=\"_blank\" href=\"https://console.cloud.google.com/bigquery?project=arctic-eye-446816-j7&j=bq:US:a8c0de1f-8638-410f-af03-695a0a3ce9a6&page=queryresults\">Open Job</a>"
      ],
      "text/plain": [
       "<IPython.core.display.HTML object>"
      ]
     },
     "metadata": {},
     "output_type": "display_data"
    },
    {
     "data": {
      "text/plain": [
       "0                                              Theft\n",
       "1                    Burglary / \n",
       "Breaking & Entering\n",
       "2                                           Burglary\n",
       "4                                         Theft: BOV\n",
       "6                                         Auto Theft\n",
       "18                                Theft: Shoplifting\n",
       "20                          Theft: All Other Larceny\n",
       "24                                              Rape\n",
       "32                                Aggravated Assault\n",
       "40                                           Robbery\n",
       "53                                       Agg Assault\n",
       "113                            Theft: Pocket Picking\n",
       "126                                Theft: Auto Parts\n",
       "400                             Theft: from Building\n",
       "1576                          Theft: Coin Op Machine\n",
       "1723    Homicide: Murder & Nonnegligent Manslaughter\n",
       "1858                                          Murder\n",
       "2189                          Theft: Purse Snatching\n",
       "Name: primary_type, dtype: string"
      ]
     },
     "execution_count": 23,
     "metadata": {},
     "output_type": "execute_result"
    }
   ],
   "source": [
    "austin_df.primary_type.unique()"
   ]
  },
  {
   "cell_type": "code",
   "execution_count": 24,
   "id": "b55ad6a7-c5f7-43ee-9ebf-035438a0a792",
   "metadata": {
    "tags": []
   },
   "outputs": [],
   "source": [
    "new_primary_types = {'Theft':'Theft', 'Burglary / Breaking & Entering':'Burglary', 'Theft: BOV':'Theft','Auto Theft':'Auto Theft','Theft: Shoplifting':'Theft', 'Theft: All Other Larceny':'Theft', 'Rape':'Rape','Aggravated Assault':'Assault', 'Robbery':'Robbery','Agg Assault':'Assault','Theft: Pocket Picking':'Theft','Theft: Auto Parts':'Auto Theft','Theft: from Building':'Theft','Theft: Coin Op Machine':'Theft','Homicide: Murder & Nonnegligent Manslaughter':'Murder','Murder':'Murder','Theft: Purse Snatching':'Theft'}\n",
    "\n",
    "austin_df['primary_type'] = austin_df.primary_type.map(new_primary_types)"
   ]
  },
  {
   "cell_type": "code",
   "execution_count": 25,
   "id": "8bc59607-363b-48c0-a91e-3876f079b465",
   "metadata": {
    "tags": []
   },
   "outputs": [
    {
     "data": {
      "text/html": [
       "Query job a1858c85-d715-4354-8297-d43998cb0393 is DONE. 68.3 MB processed. <a target=\"_blank\" href=\"https://console.cloud.google.com/bigquery?project=arctic-eye-446816-j7&j=bq:US:a1858c85-d715-4354-8297-d43998cb0393&page=queryresults\">Open Job</a>"
      ],
      "text/plain": [
       "<IPython.core.display.HTML object>"
      ]
     },
     "metadata": {},
     "output_type": "display_data"
    },
    {
     "data": {
      "text/html": [
       "Query job 944713ab-7db1-48c6-858b-e504934a7036 is DONE. 68.3 MB processed. <a target=\"_blank\" href=\"https://console.cloud.google.com/bigquery?project=arctic-eye-446816-j7&j=bq:US:944713ab-7db1-48c6-858b-e504934a7036&page=queryresults\">Open Job</a>"
      ],
      "text/plain": [
       "<IPython.core.display.HTML object>"
      ]
     },
     "metadata": {},
     "output_type": "display_data"
    },
    {
     "data": {
      "text/html": [
       "Query job a0cf64b6-456c-4565-8e08-71c20f642cbc is DONE. 68.3 MB processed. <a target=\"_blank\" href=\"https://console.cloud.google.com/bigquery?project=arctic-eye-446816-j7&j=bq:US:a0cf64b6-456c-4565-8e08-71c20f642cbc&page=queryresults\">Open Job</a>"
      ],
      "text/plain": [
       "<IPython.core.display.HTML object>"
      ]
     },
     "metadata": {},
     "output_type": "display_data"
    },
    {
     "data": {
      "text/html": [
       "Query job fb29726b-8005-4c02-86a8-87a1dfde7e9c is DONE. 68.4 MB processed. <a target=\"_blank\" href=\"https://console.cloud.google.com/bigquery?project=arctic-eye-446816-j7&j=bq:US:fb29726b-8005-4c02-86a8-87a1dfde7e9c&page=queryresults\">Open Job</a>"
      ],
      "text/plain": [
       "<IPython.core.display.HTML object>"
      ]
     },
     "metadata": {},
     "output_type": "display_data"
    },
    {
     "name": "stderr",
     "output_type": "stream",
     "text": [
      "/var/tmp/ipykernel_41151/743437812.py:2: FutureWarning: \n",
      "\n",
      "Passing `palette` without assigning `hue` is deprecated and will be removed in v0.14.0. Assign the `x` variable to `hue` and set `legend=False` for the same effect.\n",
      "\n",
      "  sns.barplot(x=austin_type_group.primary_type, y=austin_type_group.arrest, palette=\"deep\")\n"
     ]
    },
    {
     "data": {
      "image/png": "[encoded data removed]",
      "text/plain": [
       "<Figure size 640x480 with 1 Axes>"
      ]
     },
     "metadata": {},
     "output_type": "display_data"
    }
   ],
   "source": [
    "austin_type_group = austin_df[['primary_type', 'arrest']].groupby(['primary_type']).count().reset_index()\n",
    "sns.barplot(x=austin_type_group.primary_type, y=austin_type_group.arrest, palette=\"deep\")\n",
    "plt.xticks(rotation = 35)\n",
    "plt.show()"
   ]
  },
  {
   "cell_type": "code",
   "execution_count": 26,
   "id": "15b91e35-16fc-437d-ae8a-51337bb2e0b1",
   "metadata": {
    "tags": []
   },
   "outputs": [
    {
     "data": {
      "text/html": [
       "Query job 00667f08-b293-4c5a-996c-f03a18ea93c8 is DONE. 1.7 GB processed. <a target=\"_blank\" href=\"https://console.cloud.google.com/bigquery?project=arctic-eye-446816-j7&j=bq:US:00667f08-b293-4c5a-996c-f03a18ea93c8&page=queryresults\">Open Job</a>"
      ],
      "text/plain": [
       "<IPython.core.display.HTML object>"
      ]
     },
     "metadata": {},
     "output_type": "display_data"
    },
    {
     "data": {
      "text/html": [
       "Query job 644bec82-496f-4059-9bb1-21c505d23f7f is DONE. 0 Bytes processed. <a target=\"_blank\" href=\"https://console.cloud.google.com/bigquery?project=arctic-eye-446816-j7&j=bq:US:644bec82-496f-4059-9bb1-21c505d23f7f&page=queryresults\">Open Job</a>"
      ],
      "text/plain": [
       "<IPython.core.display.HTML object>"
      ]
     },
     "metadata": {},
     "output_type": "display_data"
    },
    {
     "data": {
      "text/html": [
       "Query job 1fd7fcc5-b32b-4cb4-9293-b18bcd33bdf2 is DONE. 1.2 kB processed. <a target=\"_blank\" href=\"https://console.cloud.google.com/bigquery?project=arctic-eye-446816-j7&j=bq:US:1fd7fcc5-b32b-4cb4-9293-b18bcd33bdf2&page=queryresults\">Open Job</a>"
      ],
      "text/plain": [
       "<IPython.core.display.HTML object>"
      ]
     },
     "metadata": {},
     "output_type": "display_data"
    },
    {
     "data": {
      "text/plain": [
       "0                             NARCOTICS\n",
       "1                         OTHER OFFENSE\n",
       "2                                 THEFT\n",
       "4                               BATTERY\n",
       "6                               ASSAULT\n",
       "7                   MOTOR VEHICLE THEFT\n",
       "11                              ROBBERY\n",
       "12                      CRIMINAL DAMAGE\n",
       "13              CRIMINAL SEXUAL ASSAULT\n",
       "16                    CRIMINAL TRESPASS\n",
       "23                    WEAPONS VIOLATION\n",
       "25                             BURGLARY\n",
       "29                   DECEPTIVE PRACTICE\n",
       "65           OFFENSE INVOLVING CHILDREN\n",
       "88                                ARSON\n",
       "102                        PROSTITUTION\n",
       "177              PUBLIC PEACE VIOLATION\n",
       "236                 CRIM SEXUAL ASSAULT\n",
       "299                            STALKING\n",
       "332                            GAMBLING\n",
       "384                LIQUOR LAW VIOLATION\n",
       "399                         SEX OFFENSE\n",
       "431    INTERFERENCE WITH PUBLIC OFFICER\n",
       "443                            HOMICIDE\n",
       "522                          KIDNAPPING\n",
       "Name: primary_type, dtype: string"
      ]
     },
     "execution_count": 26,
     "metadata": {},
     "output_type": "execute_result"
    }
   ],
   "source": [
    "chicago_df.primary_type.unique()"
   ]
  },
  {
   "cell_type": "code",
   "execution_count": 27,
   "id": "cd5fcca4-d08c-4424-a8c6-25f54d65ba3b",
   "metadata": {
    "tags": []
   },
   "outputs": [
    {
     "data": {
      "text/html": [
       "Query job bd3644aa-8b71-4b5b-96ca-5d1e809609fe is DONE. 107.8 MB processed. <a target=\"_blank\" href=\"https://console.cloud.google.com/bigquery?project=arctic-eye-446816-j7&j=bq:US:bd3644aa-8b71-4b5b-96ca-5d1e809609fe&page=queryresults\">Open Job</a>"
      ],
      "text/plain": [
       "<IPython.core.display.HTML object>"
      ]
     },
     "metadata": {},
     "output_type": "display_data"
    },
    {
     "data": {
      "text/html": [
       "Query job 5598c570-f590-4828-9755-93fa9ed5a646 is DONE. 107.8 MB processed. <a target=\"_blank\" href=\"https://console.cloud.google.com/bigquery?project=arctic-eye-446816-j7&j=bq:US:5598c570-f590-4828-9755-93fa9ed5a646&page=queryresults\">Open Job</a>"
      ],
      "text/plain": [
       "<IPython.core.display.HTML object>"
      ]
     },
     "metadata": {},
     "output_type": "display_data"
    },
    {
     "data": {
      "text/html": [
       "Query job 283b6824-44b3-49e2-957a-b651ffa58862 is DONE. 107.8 MB processed. <a target=\"_blank\" href=\"https://console.cloud.google.com/bigquery?project=arctic-eye-446816-j7&j=bq:US:283b6824-44b3-49e2-957a-b651ffa58862&page=queryresults\">Open Job</a>"
      ],
      "text/plain": [
       "<IPython.core.display.HTML object>"
      ]
     },
     "metadata": {},
     "output_type": "display_data"
    },
    {
     "data": {
      "text/html": [
       "Query job 981934ec-6a5b-4fe9-bdaf-f4e55745d29e is DONE. 107.8 MB processed. <a target=\"_blank\" href=\"https://console.cloud.google.com/bigquery?project=arctic-eye-446816-j7&j=bq:US:981934ec-6a5b-4fe9-bdaf-f4e55745d29e&page=queryresults\">Open Job</a>"
      ],
      "text/plain": [
       "<IPython.core.display.HTML object>"
      ]
     },
     "metadata": {},
     "output_type": "display_data"
    },
    {
     "name": "stderr",
     "output_type": "stream",
     "text": [
      "/var/tmp/ipykernel_41151/163609024.py:3: FutureWarning: \n",
      "\n",
      "Passing `palette` without assigning `hue` is deprecated and will be removed in v0.14.0. Assign the `x` variable to `hue` and set `legend=False` for the same effect.\n",
      "\n",
      "  sns.barplot(x=chicago_type_group[chicago_type_group['arrest'] > 10000].primary_type, y=chicago_type_group[chicago_type_group['arrest'] > 10000].arrest, palette=\"deep\")\n"
     ]
    },
    {
     "data": {
      "image/png": "[encoded data removed]",
      "text/plain": [
       "<Figure size 1500x500 with 1 Axes>"
      ]
     },
     "metadata": {},
     "output_type": "display_data"
    }
   ],
   "source": [
    "chicago_type_group = chicago_df[['primary_type', 'arrest']].groupby(['primary_type']).count().reset_index()\n",
    "plt.figure(figsize=(15,5))\n",
    "sns.barplot(x=chicago_type_group[chicago_type_group['arrest'] > 10000].primary_type, y=chicago_type_group[chicago_type_group['arrest'] > 10000].arrest, palette=\"deep\")\n",
    "\n",
    "plt.xticks(rotation = 35)\n",
    "plt.show()"
   ]
  },
  {
   "cell_type": "code",
   "execution_count": 28,
   "id": "609231ab-2256-46e4-9e19-bad2263ddbe9",
   "metadata": {
    "tags": []
   },
   "outputs": [
    {
     "data": {
      "text/html": [
       "Query job b4466240-4e14-491e-a0d3-b2cc48972a1b is DONE. 107.8 MB processed. <a target=\"_blank\" href=\"https://console.cloud.google.com/bigquery?project=arctic-eye-446816-j7&j=bq:US:b4466240-4e14-491e-a0d3-b2cc48972a1b&page=queryresults\">Open Job</a>"
      ],
      "text/plain": [
       "<IPython.core.display.HTML object>"
      ]
     },
     "metadata": {},
     "output_type": "display_data"
    },
    {
     "data": {
      "text/html": [
       "Query job 1fd4979f-dd44-41e8-ba91-ebe4164a274c is DONE. 0 Bytes processed. <a target=\"_blank\" href=\"https://console.cloud.google.com/bigquery?project=arctic-eye-446816-j7&j=bq:US:1fd4979f-dd44-41e8-ba91-ebe4164a274c&page=queryresults\">Open Job</a>"
      ],
      "text/plain": [
       "<IPython.core.display.HTML object>"
      ]
     },
     "metadata": {},
     "output_type": "display_data"
    },
    {
     "data": {
      "text/html": [
       "Query job 98e1325e-baf8-4fc3-9e23-e667960392f5 is DONE. 1.5 kB processed. <a target=\"_blank\" href=\"https://console.cloud.google.com/bigquery?project=arctic-eye-446816-j7&j=bq:US:98e1325e-baf8-4fc3-9e23-e667960392f5&page=queryresults\">Open Job</a>"
      ],
      "text/plain": [
       "<IPython.core.display.HTML object>"
      ]
     },
     "metadata": {},
     "output_type": "display_data"
    },
    {
     "data": {
      "text/html": [
       "<div>\n",
       "<style scoped>\n",
       "    .dataframe tbody tr th:only-of-type {\n",
       "        vertical-align: middle;\n",
       "    }\n",
       "\n",
       "    .dataframe tbody tr th {\n",
       "        vertical-align: top;\n",
       "    }\n",
       "\n",
       "    .dataframe thead th {\n",
       "        text-align: right;\n",
       "    }\n",
       "</style>\n",
       "<table border=\"1\" class=\"dataframe\">\n",
       "  <thead>\n",
       "    <tr style=\"text-align: right;\">\n",
       "      <th></th>\n",
       "      <th>primary_type</th>\n",
       "      <th>arrest</th>\n",
       "    </tr>\n",
       "  </thead>\n",
       "  <tbody>\n",
       "    <tr>\n",
       "      <th>0</th>\n",
       "      <td>ARSON</td>\n",
       "      <td>14143</td>\n",
       "    </tr>\n",
       "    <tr>\n",
       "      <th>1</th>\n",
       "      <td>ASSAULT</td>\n",
       "      <td>548456</td>\n",
       "    </tr>\n",
       "    <tr>\n",
       "      <th>2</th>\n",
       "      <td>BATTERY</td>\n",
       "      <td>1503848</td>\n",
       "    </tr>\n",
       "    <tr>\n",
       "      <th>3</th>\n",
       "      <td>BURGLARY</td>\n",
       "      <td>438676</td>\n",
       "    </tr>\n",
       "    <tr>\n",
       "      <th>4</th>\n",
       "      <td>CONCEALED CARRY LICENSE VIOLATION</td>\n",
       "      <td>1441</td>\n",
       "    </tr>\n",
       "    <tr>\n",
       "      <th>5</th>\n",
       "      <td>CRIM SEXUAL ASSAULT</td>\n",
       "      <td>27380</td>\n",
       "    </tr>\n",
       "    <tr>\n",
       "      <th>6</th>\n",
       "      <td>CRIMINAL DAMAGE</td>\n",
       "      <td>939049</td>\n",
       "    </tr>\n",
       "    <tr>\n",
       "      <th>7</th>\n",
       "      <td>CRIMINAL SEXUAL ASSAULT</td>\n",
       "      <td>10045</td>\n",
       "    </tr>\n",
       "    <tr>\n",
       "      <th>8</th>\n",
       "      <td>CRIMINAL TRESPASS</td>\n",
       "      <td>222879</td>\n",
       "    </tr>\n",
       "    <tr>\n",
       "      <th>9</th>\n",
       "      <td>DECEPTIVE PRACTICE</td>\n",
       "      <td>375959</td>\n",
       "    </tr>\n",
       "    <tr>\n",
       "      <th>10</th>\n",
       "      <td>DOMESTIC VIOLENCE</td>\n",
       "      <td>1</td>\n",
       "    </tr>\n",
       "    <tr>\n",
       "      <th>11</th>\n",
       "      <td>GAMBLING</td>\n",
       "      <td>14653</td>\n",
       "    </tr>\n",
       "    <tr>\n",
       "      <th>12</th>\n",
       "      <td>HOMICIDE</td>\n",
       "      <td>13648</td>\n",
       "    </tr>\n",
       "    <tr>\n",
       "      <th>13</th>\n",
       "      <td>HUMAN TRAFFICKING</td>\n",
       "      <td>127</td>\n",
       "    </tr>\n",
       "    <tr>\n",
       "      <th>14</th>\n",
       "      <td>INTERFERENCE WITH PUBLIC OFFICER</td>\n",
       "      <td>19552</td>\n",
       "    </tr>\n",
       "    <tr>\n",
       "      <th>15</th>\n",
       "      <td>INTIMIDATION</td>\n",
       "      <td>5003</td>\n",
       "    </tr>\n",
       "    <tr>\n",
       "      <th>16</th>\n",
       "      <td>KIDNAPPING</td>\n",
       "      <td>7430</td>\n",
       "    </tr>\n",
       "    <tr>\n",
       "      <th>17</th>\n",
       "      <td>LIQUOR LAW VIOLATION</td>\n",
       "      <td>15242</td>\n",
       "    </tr>\n",
       "    <tr>\n",
       "      <th>18</th>\n",
       "      <td>MOTOR VEHICLE THEFT</td>\n",
       "      <td>418633</td>\n",
       "    </tr>\n",
       "    <tr>\n",
       "      <th>19</th>\n",
       "      <td>NARCOTICS</td>\n",
       "      <td>758399</td>\n",
       "    </tr>\n",
       "    <tr>\n",
       "      <th>20</th>\n",
       "      <td>NON - CRIMINAL</td>\n",
       "      <td>38</td>\n",
       "    </tr>\n",
       "    <tr>\n",
       "      <th>21</th>\n",
       "      <td>NON-CRIMINAL</td>\n",
       "      <td>188</td>\n",
       "    </tr>\n",
       "    <tr>\n",
       "      <th>22</th>\n",
       "      <td>NON-CRIMINAL (SUBJECT SPECIFIED)</td>\n",
       "      <td>9</td>\n",
       "    </tr>\n",
       "    <tr>\n",
       "      <th>23</th>\n",
       "      <td>OBSCENITY</td>\n",
       "      <td>910</td>\n",
       "    </tr>\n",
       "    <tr>\n",
       "      <th>24</th>\n",
       "      <td>OFFENSE INVOLVING CHILDREN</td>\n",
       "      <td>59112</td>\n",
       "    </tr>\n",
       "  </tbody>\n",
       "</table>\n",
       "<p>25 rows × 2 columns</p>\n",
       "</div>[36 rows x 2 columns in total]"
      ],
      "text/plain": [
       "                         primary_type   arrest\n",
       "0                               ARSON    14143\n",
       "1                             ASSAULT   548456\n",
       "2                             BATTERY  1503848\n",
       "3                            BURGLARY   438676\n",
       "4   CONCEALED CARRY LICENSE VIOLATION     1441\n",
       "5                 CRIM SEXUAL ASSAULT    27380\n",
       "6                     CRIMINAL DAMAGE   939049\n",
       "7             CRIMINAL SEXUAL ASSAULT    10045\n",
       "8                   CRIMINAL TRESPASS   222879\n",
       "9                  DECEPTIVE PRACTICE   375959\n",
       "10                  DOMESTIC VIOLENCE        1\n",
       "11                           GAMBLING    14653\n",
       "12                           HOMICIDE    13648\n",
       "13                  HUMAN TRAFFICKING      127\n",
       "14   INTERFERENCE WITH PUBLIC OFFICER    19552\n",
       "15                       INTIMIDATION     5003\n",
       "16                         KIDNAPPING     7430\n",
       "17               LIQUOR LAW VIOLATION    15242\n",
       "18                MOTOR VEHICLE THEFT   418633\n",
       "19                          NARCOTICS   758399\n",
       "20                     NON - CRIMINAL       38\n",
       "21                       NON-CRIMINAL      188\n",
       "22   NON-CRIMINAL (SUBJECT SPECIFIED)        9\n",
       "23                          OBSCENITY      910\n",
       "24         OFFENSE INVOLVING CHILDREN    59112\n",
       "...\n",
       "\n",
       "[36 rows x 2 columns]"
      ]
     },
     "execution_count": 28,
     "metadata": {},
     "output_type": "execute_result"
    }
   ],
   "source": [
    "chicago_type_group"
   ]
  },
  {
   "cell_type": "code",
   "execution_count": 29,
   "id": "d8e11ed1-276c-4434-8246-d10783e7294b",
   "metadata": {
    "tags": []
   },
   "outputs": [
    {
     "data": {
      "text/html": [
       "Query job 8cbf01c8-b8e0-411d-94a3-b75d429ea726 is DONE. 1.7 GB processed. <a target=\"_blank\" href=\"https://console.cloud.google.com/bigquery?project=arctic-eye-446816-j7&j=bq:US:8cbf01c8-b8e0-411d-94a3-b75d429ea726&page=queryresults\">Open Job</a>"
      ],
      "text/plain": [
       "<IPython.core.display.HTML object>"
      ]
     },
     "metadata": {},
     "output_type": "display_data"
    },
    {
     "data": {
      "text/html": [
       "Query job f00f0382-2e15-4c5d-8d7d-c9954ec9bcdc is DONE. 0 Bytes processed. <a target=\"_blank\" href=\"https://console.cloud.google.com/bigquery?project=arctic-eye-446816-j7&j=bq:US:f00f0382-2e15-4c5d-8d7d-c9954ec9bcdc&page=queryresults\">Open Job</a>"
      ],
      "text/plain": [
       "<IPython.core.display.HTML object>"
      ]
     },
     "metadata": {},
     "output_type": "display_data"
    },
    {
     "data": {
      "text/html": [
       "Query job 3b8c2a0b-88bc-4957-b57d-9df5912837c5 is DONE. 4.5 kB processed. <a target=\"_blank\" href=\"https://console.cloud.google.com/bigquery?project=arctic-eye-446816-j7&j=bq:US:3b8c2a0b-88bc-4957-b57d-9df5912837c5&page=queryresults\">Open Job</a>"
      ],
      "text/plain": [
       "<IPython.core.display.HTML object>"
      ]
     },
     "metadata": {},
     "output_type": "display_data"
    },
    {
     "data": {
      "text/html": [
       "<div>\n",
       "<style scoped>\n",
       "    .dataframe tbody tr th:only-of-type {\n",
       "        vertical-align: middle;\n",
       "    }\n",
       "\n",
       "    .dataframe tbody tr th {\n",
       "        vertical-align: top;\n",
       "    }\n",
       "\n",
       "    .dataframe thead th {\n",
       "        text-align: right;\n",
       "    }\n",
       "</style>\n",
       "<table border=\"1\" class=\"dataframe\">\n",
       "  <thead>\n",
       "    <tr style=\"text-align: right;\">\n",
       "      <th></th>\n",
       "      <th>unique_key</th>\n",
       "      <th>case_number</th>\n",
       "      <th>date</th>\n",
       "      <th>block</th>\n",
       "      <th>iucr</th>\n",
       "      <th>primary_type</th>\n",
       "      <th>description</th>\n",
       "      <th>location_description</th>\n",
       "      <th>arrest</th>\n",
       "      <th>domestic</th>\n",
       "      <th>...</th>\n",
       "      <th>ward</th>\n",
       "      <th>community_area</th>\n",
       "      <th>fbi_code</th>\n",
       "      <th>x_coordinate</th>\n",
       "      <th>y_coordinate</th>\n",
       "      <th>year</th>\n",
       "      <th>updated_on</th>\n",
       "      <th>latitude</th>\n",
       "      <th>longitude</th>\n",
       "      <th>location</th>\n",
       "    </tr>\n",
       "  </thead>\n",
       "  <tbody>\n",
       "    <tr>\n",
       "      <th>443</th>\n",
       "      <td>26359</td>\n",
       "      <td>JE404225</td>\n",
       "      <td>2021-10-09 20:06:00+00:00</td>\n",
       "      <td>028XX S KILDARE AVE</td>\n",
       "      <td>0110</td>\n",
       "      <td>HOMICIDE</td>\n",
       "      <td>FIRST DEGREE MURDER</td>\n",
       "      <td>STREET</td>\n",
       "      <td>False</td>\n",
       "      <td>False</td>\n",
       "      <td>...</td>\n",
       "      <td>22</td>\n",
       "      <td>30</td>\n",
       "      <td>01A</td>\n",
       "      <td>1148187.0</td>\n",
       "      <td>1884715.0</td>\n",
       "      <td>2021</td>\n",
       "      <td>2022-09-01 15:42:17+00:00</td>\n",
       "      <td>41.839601</td>\n",
       "      <td>-87.731718</td>\n",
       "      <td>(41.839601232, -87.731718281)</td>\n",
       "    </tr>\n",
       "    <tr>\n",
       "      <th>453</th>\n",
       "      <td>21845</td>\n",
       "      <td>HY243592</td>\n",
       "      <td>2015-05-01 23:30:00+00:00</td>\n",
       "      <td>079XX S ABERDEEN ST</td>\n",
       "      <td>0110</td>\n",
       "      <td>HOMICIDE</td>\n",
       "      <td>FIRST DEGREE MURDER</td>\n",
       "      <td>YARD</td>\n",
       "      <td>False</td>\n",
       "      <td>False</td>\n",
       "      <td>...</td>\n",
       "      <td>17</td>\n",
       "      <td>71</td>\n",
       "      <td>01A</td>\n",
       "      <td>1170363.0</td>\n",
       "      <td>1852094.0</td>\n",
       "      <td>2015</td>\n",
       "      <td>2022-09-19 15:41:05+00:00</td>\n",
       "      <td>41.74963</td>\n",
       "      <td>-87.651292</td>\n",
       "      <td>(41.749630493, -87.651291874)</td>\n",
       "    </tr>\n",
       "    <tr>\n",
       "      <th>544</th>\n",
       "      <td>26144</td>\n",
       "      <td>JE313919</td>\n",
       "      <td>2021-07-25 18:36:00+00:00</td>\n",
       "      <td>097XX S AVENUE L</td>\n",
       "      <td>0110</td>\n",
       "      <td>HOMICIDE</td>\n",
       "      <td>FIRST DEGREE MURDER</td>\n",
       "      <td>STREET</td>\n",
       "      <td>False</td>\n",
       "      <td>False</td>\n",
       "      <td>...</td>\n",
       "      <td>10</td>\n",
       "      <td>52</td>\n",
       "      <td>01A</td>\n",
       "      <td>1201792.0</td>\n",
       "      <td>1841183.0</td>\n",
       "      <td>2021</td>\n",
       "      <td>2022-09-01 15:42:17+00:00</td>\n",
       "      <td>41.718949</td>\n",
       "      <td>-87.536495</td>\n",
       "      <td>(41.718948578, -87.536495302)</td>\n",
       "    </tr>\n",
       "    <tr>\n",
       "      <th>1034</th>\n",
       "      <td>28005</td>\n",
       "      <td>JH173204</td>\n",
       "      <td>2024-03-02 20:32:00+00:00</td>\n",
       "      <td>005XX W ROOSEVELT RD</td>\n",
       "      <td>0110</td>\n",
       "      <td>HOMICIDE</td>\n",
       "      <td>FIRST DEGREE MURDER</td>\n",
       "      <td>PARKING LOT</td>\n",
       "      <td>True</td>\n",
       "      <td>False</td>\n",
       "      <td>...</td>\n",
       "      <td>28</td>\n",
       "      <td>28</td>\n",
       "      <td>01A</td>\n",
       "      <td>1173077.0</td>\n",
       "      <td>1894978.0</td>\n",
       "      <td>2024</td>\n",
       "      <td>2024-04-23 15:40:49+00:00</td>\n",
       "      <td>41.867249</td>\n",
       "      <td>-87.640079</td>\n",
       "      <td>(41.86724898, -87.640079073)</td>\n",
       "    </tr>\n",
       "    <tr>\n",
       "      <th>1290</th>\n",
       "      <td>25663</td>\n",
       "      <td>JD454034</td>\n",
       "      <td>2020-12-09 12:10:00+00:00</td>\n",
       "      <td>082XX S INDIANA AVE</td>\n",
       "      <td>0110</td>\n",
       "      <td>HOMICIDE</td>\n",
       "      <td>FIRST DEGREE MURDER</td>\n",
       "      <td>APARTMENT</td>\n",
       "      <td>True</td>\n",
       "      <td>False</td>\n",
       "      <td>...</td>\n",
       "      <td>6</td>\n",
       "      <td>44</td>\n",
       "      <td>01A</td>\n",
       "      <td>1179023.0</td>\n",
       "      <td>1850507.0</td>\n",
       "      <td>2020</td>\n",
       "      <td>2022-09-19 15:41:05+00:00</td>\n",
       "      <td>41.745083</td>\n",
       "      <td>-87.619606</td>\n",
       "      <td>(41.745082823, -87.619606449)</td>\n",
       "    </tr>\n",
       "    <tr>\n",
       "      <th>1341</th>\n",
       "      <td>25289</td>\n",
       "      <td>JD292249</td>\n",
       "      <td>2020-07-10 06:06:00+00:00</td>\n",
       "      <td>054XX S TALMAN AVE</td>\n",
       "      <td>0110</td>\n",
       "      <td>HOMICIDE</td>\n",
       "      <td>FIRST DEGREE MURDER</td>\n",
       "      <td>HOUSE</td>\n",
       "      <td>True</td>\n",
       "      <td>False</td>\n",
       "      <td>...</td>\n",
       "      <td>14</td>\n",
       "      <td>63</td>\n",
       "      <td>01A</td>\n",
       "      <td>1159631.0</td>\n",
       "      <td>1868448.0</td>\n",
       "      <td>2020</td>\n",
       "      <td>2022-09-19 15:41:05+00:00</td>\n",
       "      <td>41.794735</td>\n",
       "      <td>-87.69017</td>\n",
       "      <td>(41.794734948, -87.690170419)</td>\n",
       "    </tr>\n",
       "    <tr>\n",
       "      <th>2272</th>\n",
       "      <td>27299</td>\n",
       "      <td>JG117362</td>\n",
       "      <td>2023-01-15 17:29:00+00:00</td>\n",
       "      <td>062XX S MICHIGAN AVE</td>\n",
       "      <td>0110</td>\n",
       "      <td>HOMICIDE</td>\n",
       "      <td>FIRST DEGREE MURDER</td>\n",
       "      <td>PARKING LOT</td>\n",
       "      <td>True</td>\n",
       "      <td>True</td>\n",
       "      <td>...</td>\n",
       "      <td>20</td>\n",
       "      <td>40</td>\n",
       "      <td>01A</td>\n",
       "      <td>1178263.0</td>\n",
       "      <td>1863570.0</td>\n",
       "      <td>2023</td>\n",
       "      <td>2023-03-22 15:40:28+00:00</td>\n",
       "      <td>41.780946</td>\n",
       "      <td>-87.621995</td>\n",
       "      <td>(41.780946398, -87.621995369)</td>\n",
       "    </tr>\n",
       "    <tr>\n",
       "      <th>2551</th>\n",
       "      <td>27319</td>\n",
       "      <td>JG129690</td>\n",
       "      <td>2023-01-26 00:33:00+00:00</td>\n",
       "      <td>101XX S WINSTON AVE</td>\n",
       "      <td>0110</td>\n",
       "      <td>HOMICIDE</td>\n",
       "      <td>FIRST DEGREE MURDER</td>\n",
       "      <td>YARD</td>\n",
       "      <td>True</td>\n",
       "      <td>False</td>\n",
       "      <td>...</td>\n",
       "      <td>34</td>\n",
       "      <td>73</td>\n",
       "      <td>01A</td>\n",
       "      <td>1169236.0</td>\n",
       "      <td>1837717.0</td>\n",
       "      <td>2023</td>\n",
       "      <td>2023-04-18 15:40:28+00:00</td>\n",
       "      <td>41.710202</td>\n",
       "      <td>-87.655836</td>\n",
       "      <td>(41.710202355, -87.655836342)</td>\n",
       "    </tr>\n",
       "    <tr>\n",
       "      <th>2813</th>\n",
       "      <td>28569</td>\n",
       "      <td>JJ120220</td>\n",
       "      <td>2025-01-19 04:13:00+00:00</td>\n",
       "      <td>074XX S STATE ST</td>\n",
       "      <td>0110</td>\n",
       "      <td>HOMICIDE</td>\n",
       "      <td>FIRST DEGREE MURDER</td>\n",
       "      <td>RESTAURANT</td>\n",
       "      <td>True</td>\n",
       "      <td>False</td>\n",
       "      <td>...</td>\n",
       "      <td>6</td>\n",
       "      <td>69</td>\n",
       "      <td>01A</td>\n",
       "      <td>1177570.0</td>\n",
       "      <td>1855556.0</td>\n",
       "      <td>2025</td>\n",
       "      <td>2025-01-27 15:41:27+00:00</td>\n",
       "      <td>41.758971</td>\n",
       "      <td>-87.624778</td>\n",
       "      <td>(41.758970818, -87.624778076)</td>\n",
       "    </tr>\n",
       "    <tr>\n",
       "      <th>2904</th>\n",
       "      <td>21482</td>\n",
       "      <td>HX352058</td>\n",
       "      <td>2014-07-19 20:21:00+00:00</td>\n",
       "      <td>009XX N MAYFIELD AVE</td>\n",
       "      <td>0110</td>\n",
       "      <td>HOMICIDE</td>\n",
       "      <td>FIRST DEGREE MURDER</td>\n",
       "      <td>AUTO</td>\n",
       "      <td>True</td>\n",
       "      <td>False</td>\n",
       "      <td>...</td>\n",
       "      <td>29</td>\n",
       "      <td>25</td>\n",
       "      <td>01A</td>\n",
       "      <td>1136970.0</td>\n",
       "      <td>1905637.0</td>\n",
       "      <td>2014</td>\n",
       "      <td>2022-09-19 15:41:05+00:00</td>\n",
       "      <td>41.897222</td>\n",
       "      <td>-87.772379</td>\n",
       "      <td>(41.89722235, -87.772378689)</td>\n",
       "    </tr>\n",
       "    <tr>\n",
       "      <th>4332</th>\n",
       "      <td>19639</td>\n",
       "      <td>HS564766</td>\n",
       "      <td>2010-10-14 20:25:00+00:00</td>\n",
       "      <td>020XX N NEWLAND AVE</td>\n",
       "      <td>0110</td>\n",
       "      <td>HOMICIDE</td>\n",
       "      <td>FIRST DEGREE MURDER</td>\n",
       "      <td>STREET</td>\n",
       "      <td>False</td>\n",
       "      <td>False</td>\n",
       "      <td>...</td>\n",
       "      <td>36</td>\n",
       "      <td>25</td>\n",
       "      <td>01A</td>\n",
       "      <td>1129759.0</td>\n",
       "      <td>1912800.0</td>\n",
       "      <td>2010</td>\n",
       "      <td>2022-09-19 15:41:05+00:00</td>\n",
       "      <td>41.917005</td>\n",
       "      <td>-87.7987</td>\n",
       "      <td>(41.9170049, -87.79870024)</td>\n",
       "    </tr>\n",
       "    <tr>\n",
       "      <th>5083</th>\n",
       "      <td>24532</td>\n",
       "      <td>JC255444</td>\n",
       "      <td>2019-05-08 21:50:00+00:00</td>\n",
       "      <td>039XX W ARTHINGTON ST</td>\n",
       "      <td>0110</td>\n",
       "      <td>HOMICIDE</td>\n",
       "      <td>FIRST DEGREE MURDER</td>\n",
       "      <td>STREET</td>\n",
       "      <td>False</td>\n",
       "      <td>False</td>\n",
       "      <td>...</td>\n",
       "      <td>24</td>\n",
       "      <td>26</td>\n",
       "      <td>01A</td>\n",
       "      <td>1150166.0</td>\n",
       "      <td>1895742.0</td>\n",
       "      <td>2019</td>\n",
       "      <td>2022-09-01 15:42:17+00:00</td>\n",
       "      <td>41.869822</td>\n",
       "      <td>-87.724169</td>\n",
       "      <td>(41.869822405, -87.724169081)</td>\n",
       "    </tr>\n",
       "    <tr>\n",
       "      <th>5314</th>\n",
       "      <td>2911</td>\n",
       "      <td>HK652304</td>\n",
       "      <td>2004-09-28 01:06:00+00:00</td>\n",
       "      <td>043XX W CRYSTAL ST</td>\n",
       "      <td>0110</td>\n",
       "      <td>HOMICIDE</td>\n",
       "      <td>FIRST DEGREE MURDER</td>\n",
       "      <td>STREET</td>\n",
       "      <td>True</td>\n",
       "      <td>False</td>\n",
       "      <td>...</td>\n",
       "      <td>37</td>\n",
       "      <td>23</td>\n",
       "      <td>01A</td>\n",
       "      <td>1147281.0</td>\n",
       "      <td>1907975.0</td>\n",
       "      <td>2004</td>\n",
       "      <td>2022-09-19 15:41:05+00:00</td>\n",
       "      <td>41.903447</td>\n",
       "      <td>-87.734447</td>\n",
       "      <td>(41.903446827, -87.734447423)</td>\n",
       "    </tr>\n",
       "    <tr>\n",
       "      <th>7641</th>\n",
       "      <td>2515</td>\n",
       "      <td>HJ791861</td>\n",
       "      <td>2003-12-01 16:45:00+00:00</td>\n",
       "      <td>045XX W MAYPOLE AVE</td>\n",
       "      <td>0110</td>\n",
       "      <td>HOMICIDE</td>\n",
       "      <td>FIRST DEGREE MURDER</td>\n",
       "      <td>STREET</td>\n",
       "      <td>True</td>\n",
       "      <td>False</td>\n",
       "      <td>...</td>\n",
       "      <td>28</td>\n",
       "      <td>26</td>\n",
       "      <td>01A</td>\n",
       "      <td>1146135.0</td>\n",
       "      <td>1901073.0</td>\n",
       "      <td>2003</td>\n",
       "      <td>2022-09-01 15:42:17+00:00</td>\n",
       "      <td>41.884529</td>\n",
       "      <td>-87.738833</td>\n",
       "      <td>(41.884528849, -87.738832642)</td>\n",
       "    </tr>\n",
       "    <tr>\n",
       "      <th>8440</th>\n",
       "      <td>24349</td>\n",
       "      <td>JB557825</td>\n",
       "      <td>2018-12-18 00:56:00+00:00</td>\n",
       "      <td>056XX S PERRY AVE</td>\n",
       "      <td>0110</td>\n",
       "      <td>HOMICIDE</td>\n",
       "      <td>FIRST DEGREE MURDER</td>\n",
       "      <td>AUTO</td>\n",
       "      <td>False</td>\n",
       "      <td>False</td>\n",
       "      <td>...</td>\n",
       "      <td>3</td>\n",
       "      <td>40</td>\n",
       "      <td>01A</td>\n",
       "      <td>1176661.0</td>\n",
       "      <td>1867669.0</td>\n",
       "      <td>2018</td>\n",
       "      <td>2022-09-01 15:42:17+00:00</td>\n",
       "      <td>41.792231</td>\n",
       "      <td>-87.627745</td>\n",
       "      <td>(41.792230689, -87.627745258)</td>\n",
       "    </tr>\n",
       "    <tr>\n",
       "      <th>9614</th>\n",
       "      <td>4354</td>\n",
       "      <td>HN754407</td>\n",
       "      <td>2007-12-11 21:00:00+00:00</td>\n",
       "      <td>114XX S LOOMIS ST</td>\n",
       "      <td>0110</td>\n",
       "      <td>HOMICIDE</td>\n",
       "      <td>FIRST DEGREE MURDER</td>\n",
       "      <td>AUTO</td>\n",
       "      <td>True</td>\n",
       "      <td>False</td>\n",
       "      <td>...</td>\n",
       "      <td>34</td>\n",
       "      <td>75</td>\n",
       "      <td>01A</td>\n",
       "      <td>1169045.0</td>\n",
       "      <td>1828989.0</td>\n",
       "      <td>2007</td>\n",
       "      <td>2024-01-24 15:41:43+00:00</td>\n",
       "      <td>41.686255</td>\n",
       "      <td>-87.656787</td>\n",
       "      <td>(41.686255437, -87.656786895)</td>\n",
       "    </tr>\n",
       "    <tr>\n",
       "      <th>10239</th>\n",
       "      <td>24110</td>\n",
       "      <td>JB380835</td>\n",
       "      <td>2018-08-05 20:26:00+00:00</td>\n",
       "      <td>027XX S DEARBORN ST</td>\n",
       "      <td>0110</td>\n",
       "      <td>HOMICIDE</td>\n",
       "      <td>FIRST DEGREE MURDER</td>\n",
       "      <td>CHA GROUNDS</td>\n",
       "      <td>False</td>\n",
       "      <td>False</td>\n",
       "      <td>...</td>\n",
       "      <td>3</td>\n",
       "      <td>35</td>\n",
       "      <td>01A</td>\n",
       "      <td>1176315.0</td>\n",
       "      <td>1886573.0</td>\n",
       "      <td>2018</td>\n",
       "      <td>2022-09-01 15:42:17+00:00</td>\n",
       "      <td>41.844113</td>\n",
       "      <td>-87.628445</td>\n",
       "      <td>(41.844112707, -87.628445336)</td>\n",
       "    </tr>\n",
       "    <tr>\n",
       "      <th>11113</th>\n",
       "      <td>4882</td>\n",
       "      <td>HP750645</td>\n",
       "      <td>2008-12-26 03:25:00+00:00</td>\n",
       "      <td>042XX W WILCOX ST</td>\n",
       "      <td>0110</td>\n",
       "      <td>HOMICIDE</td>\n",
       "      <td>FIRST DEGREE MURDER</td>\n",
       "      <td>STREET</td>\n",
       "      <td>True</td>\n",
       "      <td>False</td>\n",
       "      <td>...</td>\n",
       "      <td>28</td>\n",
       "      <td>26</td>\n",
       "      <td>01A</td>\n",
       "      <td>1148099.0</td>\n",
       "      <td>1898998.0</td>\n",
       "      <td>2008</td>\n",
       "      <td>2022-09-19 15:41:05+00:00</td>\n",
       "      <td>41.878797</td>\n",
       "      <td>-87.731674</td>\n",
       "      <td>(41.878797251, -87.731673919)</td>\n",
       "    </tr>\n",
       "    <tr>\n",
       "      <th>11807</th>\n",
       "      <td>25818</td>\n",
       "      <td>JE176509</td>\n",
       "      <td>2021-03-22 16:55:00+00:00</td>\n",
       "      <td>003XX E 47TH ST</td>\n",
       "      <td>0110</td>\n",
       "      <td>HOMICIDE</td>\n",
       "      <td>FIRST DEGREE MURDER</td>\n",
       "      <td>STREET</td>\n",
       "      <td>False</td>\n",
       "      <td>False</td>\n",
       "      <td>...</td>\n",
       "      <td>3</td>\n",
       "      <td>38</td>\n",
       "      <td>01A</td>\n",
       "      <td>1179078.0</td>\n",
       "      <td>1873928.0</td>\n",
       "      <td>2021</td>\n",
       "      <td>2022-09-19 15:41:05+00:00</td>\n",
       "      <td>41.809351</td>\n",
       "      <td>-87.618692</td>\n",
       "      <td>(41.809351171, -87.618691752)</td>\n",
       "    </tr>\n",
       "    <tr>\n",
       "      <th>12253</th>\n",
       "      <td>19896</td>\n",
       "      <td>HT326121</td>\n",
       "      <td>2011-06-02 02:06:00+00:00</td>\n",
       "      <td>056XX W WASHINGTON BLVD</td>\n",
       "      <td>0110</td>\n",
       "      <td>HOMICIDE</td>\n",
       "      <td>FIRST DEGREE MURDER</td>\n",
       "      <td>STREET</td>\n",
       "      <td>True</td>\n",
       "      <td>False</td>\n",
       "      <td>...</td>\n",
       "      <td>29</td>\n",
       "      <td>25</td>\n",
       "      <td>01A</td>\n",
       "      <td>1138461.0</td>\n",
       "      <td>1900176.0</td>\n",
       "      <td>2011</td>\n",
       "      <td>2022-09-19 15:41:05+00:00</td>\n",
       "      <td>41.88221</td>\n",
       "      <td>-87.767035</td>\n",
       "      <td>(41.882209791, -87.76703474)</td>\n",
       "    </tr>\n",
       "  </tbody>\n",
       "</table>\n",
       "<p>20 rows × 22 columns</p>\n",
       "</div>[20 rows x 22 columns in total]"
      ],
      "text/plain": [
       "       unique_key case_number                       date  \\\n",
       "443         26359    JE404225  2021-10-09 20:06:00+00:00   \n",
       "453         21845    HY243592  2015-05-01 23:30:00+00:00   \n",
       "544         26144    JE313919  2021-07-25 18:36:00+00:00   \n",
       "1034        28005    JH173204  2024-03-02 20:32:00+00:00   \n",
       "1290        25663    JD454034  2020-12-09 12:10:00+00:00   \n",
       "1341        25289    JD292249  2020-07-10 06:06:00+00:00   \n",
       "2272        27299    JG117362  2023-01-15 17:29:00+00:00   \n",
       "2551        27319    JG129690  2023-01-26 00:33:00+00:00   \n",
       "2813        28569    JJ120220  2025-01-19 04:13:00+00:00   \n",
       "2904        21482    HX352058  2014-07-19 20:21:00+00:00   \n",
       "4332        19639    HS564766  2010-10-14 20:25:00+00:00   \n",
       "5083        24532    JC255444  2019-05-08 21:50:00+00:00   \n",
       "5314         2911    HK652304  2004-09-28 01:06:00+00:00   \n",
       "7641         2515    HJ791861  2003-12-01 16:45:00+00:00   \n",
       "8440        24349    JB557825  2018-12-18 00:56:00+00:00   \n",
       "9614         4354    HN754407  2007-12-11 21:00:00+00:00   \n",
       "10239       24110    JB380835  2018-08-05 20:26:00+00:00   \n",
       "11113        4882    HP750645  2008-12-26 03:25:00+00:00   \n",
       "11807       25818    JE176509  2021-03-22 16:55:00+00:00   \n",
       "12253       19896    HT326121  2011-06-02 02:06:00+00:00   \n",
       "\n",
       "                         block  iucr primary_type          description  \\\n",
       "443        028XX S KILDARE AVE  0110     HOMICIDE  FIRST DEGREE MURDER   \n",
       "453        079XX S ABERDEEN ST  0110     HOMICIDE  FIRST DEGREE MURDER   \n",
       "544           097XX S AVENUE L  0110     HOMICIDE  FIRST DEGREE MURDER   \n",
       "1034      005XX W ROOSEVELT RD  0110     HOMICIDE  FIRST DEGREE MURDER   \n",
       "1290       082XX S INDIANA AVE  0110     HOMICIDE  FIRST DEGREE MURDER   \n",
       "1341        054XX S TALMAN AVE  0110     HOMICIDE  FIRST DEGREE MURDER   \n",
       "2272      062XX S MICHIGAN AVE  0110     HOMICIDE  FIRST DEGREE MURDER   \n",
       "2551       101XX S WINSTON AVE  0110     HOMICIDE  FIRST DEGREE MURDER   \n",
       "2813          074XX S STATE ST  0110     HOMICIDE  FIRST DEGREE MURDER   \n",
       "2904      009XX N MAYFIELD AVE  0110     HOMICIDE  FIRST DEGREE MURDER   \n",
       "4332       020XX N NEWLAND AVE  0110     HOMICIDE  FIRST DEGREE MURDER   \n",
       "5083     039XX W ARTHINGTON ST  0110     HOMICIDE  FIRST DEGREE MURDER   \n",
       "5314        043XX W CRYSTAL ST  0110     HOMICIDE  FIRST DEGREE MURDER   \n",
       "7641       045XX W MAYPOLE AVE  0110     HOMICIDE  FIRST DEGREE MURDER   \n",
       "8440         056XX S PERRY AVE  0110     HOMICIDE  FIRST DEGREE MURDER   \n",
       "9614         114XX S LOOMIS ST  0110     HOMICIDE  FIRST DEGREE MURDER   \n",
       "10239      027XX S DEARBORN ST  0110     HOMICIDE  FIRST DEGREE MURDER   \n",
       "11113        042XX W WILCOX ST  0110     HOMICIDE  FIRST DEGREE MURDER   \n",
       "11807          003XX E 47TH ST  0110     HOMICIDE  FIRST DEGREE MURDER   \n",
       "12253  056XX W WASHINGTON BLVD  0110     HOMICIDE  FIRST DEGREE MURDER   \n",
       "\n",
       "      location_description  arrest  domestic  ...  ward  community_area  \\\n",
       "443                 STREET   False     False  ...    22              30   \n",
       "453                   YARD   False     False  ...    17              71   \n",
       "544                 STREET   False     False  ...    10              52   \n",
       "1034           PARKING LOT    True     False  ...    28              28   \n",
       "1290             APARTMENT    True     False  ...     6              44   \n",
       "1341                 HOUSE    True     False  ...    14              63   \n",
       "2272           PARKING LOT    True      True  ...    20              40   \n",
       "2551                  YARD    True     False  ...    34              73   \n",
       "2813            RESTAURANT    True     False  ...     6              69   \n",
       "2904                  AUTO    True     False  ...    29              25   \n",
       "4332                STREET   False     False  ...    36              25   \n",
       "5083                STREET   False     False  ...    24              26   \n",
       "5314                STREET    True     False  ...    37              23   \n",
       "7641                STREET    True     False  ...    28              26   \n",
       "8440                  AUTO   False     False  ...     3              40   \n",
       "9614                  AUTO    True     False  ...    34              75   \n",
       "10239          CHA GROUNDS   False     False  ...     3              35   \n",
       "11113               STREET    True     False  ...    28              26   \n",
       "11807               STREET   False     False  ...     3              38   \n",
       "12253               STREET    True     False  ...    29              25   \n",
       "\n",
       "       fbi_code  x_coordinate y_coordinate  year                 updated_on  \\\n",
       "443         01A     1148187.0    1884715.0  2021  2022-09-01 15:42:17+00:00   \n",
       "453         01A     1170363.0    1852094.0  2015  2022-09-19 15:41:05+00:00   \n",
       "544         01A     1201792.0    1841183.0  2021  2022-09-01 15:42:17+00:00   \n",
       "1034        01A     1173077.0    1894978.0  2024  2024-04-23 15:40:49+00:00   \n",
       "1290        01A     1179023.0    1850507.0  2020  2022-09-19 15:41:05+00:00   \n",
       "1341        01A     1159631.0    1868448.0  2020  2022-09-19 15:41:05+00:00   \n",
       "2272        01A     1178263.0    1863570.0  2023  2023-03-22 15:40:28+00:00   \n",
       "2551        01A     1169236.0    1837717.0  2023  2023-04-18 15:40:28+00:00   \n",
       "2813        01A     1177570.0    1855556.0  2025  2025-01-27 15:41:27+00:00   \n",
       "2904        01A     1136970.0    1905637.0  2014  2022-09-19 15:41:05+00:00   \n",
       "4332        01A     1129759.0    1912800.0  2010  2022-09-19 15:41:05+00:00   \n",
       "5083        01A     1150166.0    1895742.0  2019  2022-09-01 15:42:17+00:00   \n",
       "5314        01A     1147281.0    1907975.0  2004  2022-09-19 15:41:05+00:00   \n",
       "7641        01A     1146135.0    1901073.0  2003  2022-09-01 15:42:17+00:00   \n",
       "8440        01A     1176661.0    1867669.0  2018  2022-09-01 15:42:17+00:00   \n",
       "9614        01A     1169045.0    1828989.0  2007  2024-01-24 15:41:43+00:00   \n",
       "10239       01A     1176315.0    1886573.0  2018  2022-09-01 15:42:17+00:00   \n",
       "11113       01A     1148099.0    1898998.0  2008  2022-09-19 15:41:05+00:00   \n",
       "11807       01A     1179078.0    1873928.0  2021  2022-09-19 15:41:05+00:00   \n",
       "12253       01A     1138461.0    1900176.0  2011  2022-09-19 15:41:05+00:00   \n",
       "\n",
       "        latitude  longitude                       location  \n",
       "443    41.839601 -87.731718  (41.839601232, -87.731718281)  \n",
       "453     41.74963 -87.651292  (41.749630493, -87.651291874)  \n",
       "544    41.718949 -87.536495  (41.718948578, -87.536495302)  \n",
       "1034   41.867249 -87.640079   (41.86724898, -87.640079073)  \n",
       "1290   41.745083 -87.619606  (41.745082823, -87.619606449)  \n",
       "1341   41.794735  -87.69017  (41.794734948, -87.690170419)  \n",
       "2272   41.780946 -87.621995  (41.780946398, -87.621995369)  \n",
       "2551   41.710202 -87.655836  (41.710202355, -87.655836342)  \n",
       "2813   41.758971 -87.624778  (41.758970818, -87.624778076)  \n",
       "2904   41.897222 -87.772379   (41.89722235, -87.772378689)  \n",
       "4332   41.917005   -87.7987     (41.9170049, -87.79870024)  \n",
       "5083   41.869822 -87.724169  (41.869822405, -87.724169081)  \n",
       "5314   41.903447 -87.734447  (41.903446827, -87.734447423)  \n",
       "7641   41.884529 -87.738833  (41.884528849, -87.738832642)  \n",
       "8440   41.792231 -87.627745  (41.792230689, -87.627745258)  \n",
       "9614   41.686255 -87.656787  (41.686255437, -87.656786895)  \n",
       "10239  41.844113 -87.628445  (41.844112707, -87.628445336)  \n",
       "11113  41.878797 -87.731674  (41.878797251, -87.731673919)  \n",
       "11807  41.809351 -87.618692  (41.809351171, -87.618691752)  \n",
       "12253   41.88221 -87.767035   (41.882209791, -87.76703474)  \n",
       "\n",
       "[20 rows x 22 columns]"
      ]
     },
     "execution_count": 29,
     "metadata": {},
     "output_type": "execute_result"
    }
   ],
   "source": [
    "df2[df2.primary_type == 'HOMICIDE'].head(20)"
   ]
  },
  {
   "cell_type": "code",
   "execution_count": 30,
   "id": "9714b9a2-e3fc-4d2b-9b90-52257d1e3b63",
   "metadata": {
    "tags": []
   },
   "outputs": [],
   "source": [
    "from sklearn.preprocessing import StandardScaler\n",
    "from sklearn.linear_model import LinearRegression\n",
    "from sklearn.model_selection import train_test_split"
   ]
  },
  {
   "cell_type": "code",
   "execution_count": 31,
   "id": "58f01159-90bb-4678-a38f-7e04f863e194",
   "metadata": {
    "tags": []
   },
   "outputs": [],
   "source": [
    "chicago_group = chicago_df[['year', 'primary_type','arrest']].groupby(['year','primary_type']).count().reset_index()"
   ]
  },
  {
   "cell_type": "code",
   "execution_count": 32,
   "id": "b11f2f70-ca31-47d0-89a0-23cd7a55f751",
   "metadata": {
    "tags": []
   },
   "outputs": [
    {
     "data": {
      "text/html": [
       "Query job 1751326f-c527-4c35-b341-6a0305a5f434 is DONE. 165.6 MB processed. <a target=\"_blank\" href=\"https://console.cloud.google.com/bigquery?project=arctic-eye-446816-j7&j=bq:US:1751326f-c527-4c35-b341-6a0305a5f434&page=queryresults\">Open Job</a>"
      ],
      "text/plain": [
       "<IPython.core.display.HTML object>"
      ]
     },
     "metadata": {},
     "output_type": "display_data"
    },
    {
     "name": "stdout",
     "output_type": "stream",
     "text": [
      "<class 'bigframes.dataframe.DataFrame'>\n"
     ]
    },
    {
     "data": {
      "text/html": [
       "Query job 17fe1bbc-26ce-4134-b5fe-c5dabe4fcce9 is DONE. 165.6 MB processed. <a target=\"_blank\" href=\"https://console.cloud.google.com/bigquery?project=arctic-eye-446816-j7&j=bq:US:17fe1bbc-26ce-4134-b5fe-c5dabe4fcce9&page=queryresults\">Open Job</a>"
      ],
      "text/plain": [
       "<IPython.core.display.HTML object>"
      ]
     },
     "metadata": {},
     "output_type": "display_data"
    },
    {
     "data": {
      "text/html": [
       "Query job 8770fd66-f323-4cd3-ac78-df1c4b27c46d is DONE. 165.6 MB processed. <a target=\"_blank\" href=\"https://console.cloud.google.com/bigquery?project=arctic-eye-446816-j7&j=bq:US:8770fd66-f323-4cd3-ac78-df1c4b27c46d&page=queryresults\">Open Job</a>"
      ],
      "text/plain": [
       "<IPython.core.display.HTML object>"
      ]
     },
     "metadata": {},
     "output_type": "display_data"
    },
    {
     "name": "stdout",
     "output_type": "stream",
     "text": [
      "Index: 781 entries, 0 to 780\n",
      "Data columns (total 2 columns):\n"
     ]
    },
    {
     "name": "stderr",
     "output_type": "stream",
     "text": [
      "/opt/conda/lib/python3.10/site-packages/bigframes/core/blocks.py:125: NullIndexPreviewWarning: Creating object with Null Index. Null Index is a preview feature.\n",
      "  warnings.warn(\n"
     ]
    },
    {
     "data": {
      "text/html": [
       "Query job c99b7b0d-5532-42c9-ad1f-8a4748189a23 is DONE. 165.6 MB processed. <a target=\"_blank\" href=\"https://console.cloud.google.com/bigquery?project=arctic-eye-446816-j7&j=bq:US:c99b7b0d-5532-42c9-ad1f-8a4748189a23&page=queryresults\">Open Job</a>"
      ],
      "text/plain": [
       "<IPython.core.display.HTML object>"
      ]
     },
     "metadata": {},
     "output_type": "display_data"
    },
    {
     "name": "stdout",
     "output_type": "stream",
     "text": [
      "  #  Column        Non-Null Count    Dtype\n",
      "---  ------------  ----------------  -------\n",
      "  0  year          781 non-null      Int64\n",
      "  1  primary_type  781 non-null      string\n",
      "dtypes: Int64(1), string(1)\n"
     ]
    },
    {
     "data": {
      "text/html": [
       "Query job d10ec6d1-93b1-43b2-9be2-1516dbd88123 is DONE. 165.6 MB processed. <a target=\"_blank\" href=\"https://console.cloud.google.com/bigquery?project=arctic-eye-446816-j7&j=bq:US:d10ec6d1-93b1-43b2-9be2-1516dbd88123&page=queryresults\">Open Job</a>"
      ],
      "text/plain": [
       "<IPython.core.display.HTML object>"
      ]
     },
     "metadata": {},
     "output_type": "display_data"
    },
    {
     "name": "stdout",
     "output_type": "stream",
     "text": [
      "memory usage: 18744 bytes\n"
     ]
    }
   ],
   "source": [
    "X = chicago_group.drop(columns = ['arrest'])\n",
    "#selecting target\n",
    "Y = chicago_group['arrest']\n",
    "#making sure all features are numerical\n",
    "X.info()"
   ]
  },
  {
   "cell_type": "code",
   "execution_count": 33,
   "id": "8611bc24-1d6e-49ac-88b8-06691b178935",
   "metadata": {
    "tags": []
   },
   "outputs": [
    {
     "data": {
      "text/html": [
       "Query job b04f8caa-a960-4781-848b-feb1697971d2 is DONE. 165.6 MB processed. <a target=\"_blank\" href=\"https://console.cloud.google.com/bigquery?project=arctic-eye-446816-j7&j=bq:US:b04f8caa-a960-4781-848b-feb1697971d2&page=queryresults\">Open Job</a>"
      ],
      "text/plain": [
       "<IPython.core.display.HTML object>"
      ]
     },
     "metadata": {},
     "output_type": "display_data"
    },
    {
     "data": {
      "text/html": [
       "Query job af7f5da8-e485-4c9b-9959-88644bca68cf is DONE. 165.6 MB processed. <a target=\"_blank\" href=\"https://console.cloud.google.com/bigquery?project=arctic-eye-446816-j7&j=bq:US:af7f5da8-e485-4c9b-9959-88644bca68cf&page=queryresults\">Open Job</a>"
      ],
      "text/plain": [
       "<IPython.core.display.HTML object>"
      ]
     },
     "metadata": {},
     "output_type": "display_data"
    }
   ],
   "source": [
    "ptypes_ohe = pd.get_dummies(X.primary_type, drop_first=True)\n",
    "#X = X.join(ptypes_ohe)\n",
    "#X = X.drop(columns=['primary_type'])\n",
    "#X.info()\n"
   ]
  },
  {
   "cell_type": "code",
   "execution_count": 34,
   "id": "5c923110-1235-43a4-b629-036270266dfb",
   "metadata": {
    "tags": []
   },
   "outputs": [
    {
     "data": {
      "text/html": [
       "Query job ab165206-508e-458e-ba1e-32d958d7aaf1 is DONE. 165.6 MB processed. <a target=\"_blank\" href=\"https://console.cloud.google.com/bigquery?project=arctic-eye-446816-j7&j=bq:US:ab165206-508e-458e-ba1e-32d958d7aaf1&page=queryresults\">Open Job</a>"
      ],
      "text/plain": [
       "<IPython.core.display.HTML object>"
      ]
     },
     "metadata": {},
     "output_type": "display_data"
    }
   ],
   "source": [
    "X = pd.DataFrame(X)\n",
    "ptypes_ohe = pd.DataFrame(ptypes_ohe)\n",
    "X = X.join(ptypes_ohe)\n"
   ]
  },
  {
   "cell_type": "code",
   "execution_count": 35,
   "id": "2cf0ef81-3e0f-46e2-82bd-90e5ea8d45a0",
   "metadata": {
    "tags": []
   },
   "outputs": [
    {
     "name": "stdout",
     "output_type": "stream",
     "text": [
      "<class 'pandas.core.frame.DataFrame'>\n",
      "RangeIndex: 781 entries, 0 to 780\n",
      "Data columns (total 37 columns):\n",
      " #   Column                             Non-Null Count  Dtype  \n",
      "---  ------                             --------------  -----  \n",
      " 0   0                                  781 non-null    object \n",
      " 1   1                                  781 non-null    object \n",
      " 2   ASSAULT                            781 non-null    boolean\n",
      " 3   BATTERY                            781 non-null    boolean\n",
      " 4   BURGLARY                           781 non-null    boolean\n",
      " 5   CONCEALED CARRY LICENSE VIOLATION  781 non-null    boolean\n",
      " 6   CRIM SEXUAL ASSAULT                781 non-null    boolean\n",
      " 7   CRIMINAL DAMAGE                    781 non-null    boolean\n",
      " 8   CRIMINAL SEXUAL ASSAULT            781 non-null    boolean\n",
      " 9   CRIMINAL TRESPASS                  781 non-null    boolean\n",
      " 10  DECEPTIVE PRACTICE                 781 non-null    boolean\n",
      " 11  DOMESTIC VIOLENCE                  781 non-null    boolean\n",
      " 12  GAMBLING                           781 non-null    boolean\n",
      " 13  HOMICIDE                           781 non-null    boolean\n",
      " 14  HUMAN TRAFFICKING                  781 non-null    boolean\n",
      " 15  INTERFERENCE WITH PUBLIC OFFICER   781 non-null    boolean\n",
      " 16  INTIMIDATION                       781 non-null    boolean\n",
      " 17  KIDNAPPING                         781 non-null    boolean\n",
      " 18  LIQUOR LAW VIOLATION               781 non-null    boolean\n",
      " 19  MOTOR VEHICLE THEFT                781 non-null    boolean\n",
      " 20  NARCOTICS                          781 non-null    boolean\n",
      " 21  NON - CRIMINAL                     781 non-null    boolean\n",
      " 22  NON-CRIMINAL                       781 non-null    boolean\n",
      " 23  NON-CRIMINAL (SUBJECT SPECIFIED)   781 non-null    boolean\n",
      " 24  OBSCENITY                          781 non-null    boolean\n",
      " 25  OFFENSE INVOLVING CHILDREN         781 non-null    boolean\n",
      " 26  OTHER NARCOTIC VIOLATION           781 non-null    boolean\n",
      " 27  OTHER OFFENSE                      781 non-null    boolean\n",
      " 28  PROSTITUTION                       781 non-null    boolean\n",
      " 29  PUBLIC INDECENCY                   781 non-null    boolean\n",
      " 30  PUBLIC PEACE VIOLATION             781 non-null    boolean\n",
      " 31  RITUALISM                          781 non-null    boolean\n",
      " 32  ROBBERY                            781 non-null    boolean\n",
      " 33  SEX OFFENSE                        781 non-null    boolean\n",
      " 34  STALKING                           781 non-null    boolean\n",
      " 35  THEFT                              781 non-null    boolean\n",
      " 36  WEAPONS VIOLATION                  781 non-null    boolean\n",
      "dtypes: boolean(35), object(2)\n",
      "memory usage: 65.7+ KB\n"
     ]
    }
   ],
   "source": [
    "X.info()"
   ]
  },
  {
   "cell_type": "code",
   "execution_count": 36,
   "id": "900d010b-5077-461b-8c42-41f8c71ef3a8",
   "metadata": {
    "tags": []
   },
   "outputs": [
    {
     "data": {
      "text/html": [
       "<div>\n",
       "<style scoped>\n",
       "    .dataframe tbody tr th:only-of-type {\n",
       "        vertical-align: middle;\n",
       "    }\n",
       "\n",
       "    .dataframe tbody tr th {\n",
       "        vertical-align: top;\n",
       "    }\n",
       "\n",
       "    .dataframe thead th {\n",
       "        text-align: right;\n",
       "    }\n",
       "</style>\n",
       "<table border=\"1\" class=\"dataframe\">\n",
       "  <thead>\n",
       "    <tr style=\"text-align: right;\">\n",
       "      <th></th>\n",
       "      <th>0</th>\n",
       "      <th>1</th>\n",
       "      <th>ASSAULT</th>\n",
       "      <th>BATTERY</th>\n",
       "      <th>BURGLARY</th>\n",
       "      <th>CONCEALED CARRY LICENSE VIOLATION</th>\n",
       "      <th>CRIM SEXUAL ASSAULT</th>\n",
       "      <th>CRIMINAL DAMAGE</th>\n",
       "      <th>CRIMINAL SEXUAL ASSAULT</th>\n",
       "      <th>CRIMINAL TRESPASS</th>\n",
       "      <th>...</th>\n",
       "      <th>OTHER OFFENSE</th>\n",
       "      <th>PROSTITUTION</th>\n",
       "      <th>PUBLIC INDECENCY</th>\n",
       "      <th>PUBLIC PEACE VIOLATION</th>\n",
       "      <th>RITUALISM</th>\n",
       "      <th>ROBBERY</th>\n",
       "      <th>SEX OFFENSE</th>\n",
       "      <th>STALKING</th>\n",
       "      <th>THEFT</th>\n",
       "      <th>WEAPONS VIOLATION</th>\n",
       "    </tr>\n",
       "  </thead>\n",
       "  <tbody>\n",
       "    <tr>\n",
       "      <th>0</th>\n",
       "      <td>2001</td>\n",
       "      <td>ARSON</td>\n",
       "      <td>False</td>\n",
       "      <td>False</td>\n",
       "      <td>False</td>\n",
       "      <td>False</td>\n",
       "      <td>False</td>\n",
       "      <td>False</td>\n",
       "      <td>False</td>\n",
       "      <td>False</td>\n",
       "      <td>...</td>\n",
       "      <td>False</td>\n",
       "      <td>False</td>\n",
       "      <td>False</td>\n",
       "      <td>False</td>\n",
       "      <td>False</td>\n",
       "      <td>False</td>\n",
       "      <td>False</td>\n",
       "      <td>False</td>\n",
       "      <td>False</td>\n",
       "      <td>False</td>\n",
       "    </tr>\n",
       "    <tr>\n",
       "      <th>1</th>\n",
       "      <td>2001</td>\n",
       "      <td>ASSAULT</td>\n",
       "      <td>True</td>\n",
       "      <td>False</td>\n",
       "      <td>False</td>\n",
       "      <td>False</td>\n",
       "      <td>False</td>\n",
       "      <td>False</td>\n",
       "      <td>False</td>\n",
       "      <td>False</td>\n",
       "      <td>...</td>\n",
       "      <td>False</td>\n",
       "      <td>False</td>\n",
       "      <td>False</td>\n",
       "      <td>False</td>\n",
       "      <td>False</td>\n",
       "      <td>False</td>\n",
       "      <td>False</td>\n",
       "      <td>False</td>\n",
       "      <td>False</td>\n",
       "      <td>False</td>\n",
       "    </tr>\n",
       "    <tr>\n",
       "      <th>2</th>\n",
       "      <td>2001</td>\n",
       "      <td>BATTERY</td>\n",
       "      <td>False</td>\n",
       "      <td>True</td>\n",
       "      <td>False</td>\n",
       "      <td>False</td>\n",
       "      <td>False</td>\n",
       "      <td>False</td>\n",
       "      <td>False</td>\n",
       "      <td>False</td>\n",
       "      <td>...</td>\n",
       "      <td>False</td>\n",
       "      <td>False</td>\n",
       "      <td>False</td>\n",
       "      <td>False</td>\n",
       "      <td>False</td>\n",
       "      <td>False</td>\n",
       "      <td>False</td>\n",
       "      <td>False</td>\n",
       "      <td>False</td>\n",
       "      <td>False</td>\n",
       "    </tr>\n",
       "    <tr>\n",
       "      <th>3</th>\n",
       "      <td>2001</td>\n",
       "      <td>BURGLARY</td>\n",
       "      <td>False</td>\n",
       "      <td>False</td>\n",
       "      <td>True</td>\n",
       "      <td>False</td>\n",
       "      <td>False</td>\n",
       "      <td>False</td>\n",
       "      <td>False</td>\n",
       "      <td>False</td>\n",
       "      <td>...</td>\n",
       "      <td>False</td>\n",
       "      <td>False</td>\n",
       "      <td>False</td>\n",
       "      <td>False</td>\n",
       "      <td>False</td>\n",
       "      <td>False</td>\n",
       "      <td>False</td>\n",
       "      <td>False</td>\n",
       "      <td>False</td>\n",
       "      <td>False</td>\n",
       "    </tr>\n",
       "    <tr>\n",
       "      <th>4</th>\n",
       "      <td>2001</td>\n",
       "      <td>CONCEALED CARRY LICENSE VIOLATION</td>\n",
       "      <td>False</td>\n",
       "      <td>False</td>\n",
       "      <td>False</td>\n",
       "      <td>True</td>\n",
       "      <td>False</td>\n",
       "      <td>False</td>\n",
       "      <td>False</td>\n",
       "      <td>False</td>\n",
       "      <td>...</td>\n",
       "      <td>False</td>\n",
       "      <td>False</td>\n",
       "      <td>False</td>\n",
       "      <td>False</td>\n",
       "      <td>False</td>\n",
       "      <td>False</td>\n",
       "      <td>False</td>\n",
       "      <td>False</td>\n",
       "      <td>False</td>\n",
       "      <td>False</td>\n",
       "    </tr>\n",
       "  </tbody>\n",
       "</table>\n",
       "<p>5 rows × 37 columns</p>\n",
       "</div>"
      ],
      "text/plain": [
       "      0                                  1  ASSAULT  BATTERY  BURGLARY  \\\n",
       "0  2001                              ARSON    False    False     False   \n",
       "1  2001                            ASSAULT     True    False     False   \n",
       "2  2001                            BATTERY    False     True     False   \n",
       "3  2001                           BURGLARY    False    False      True   \n",
       "4  2001  CONCEALED CARRY LICENSE VIOLATION    False    False     False   \n",
       "\n",
       "   CONCEALED CARRY LICENSE VIOLATION  CRIM SEXUAL ASSAULT  CRIMINAL DAMAGE  \\\n",
       "0                              False                False            False   \n",
       "1                              False                False            False   \n",
       "2                              False                False            False   \n",
       "3                              False                False            False   \n",
       "4                               True                False            False   \n",
       "\n",
       "   CRIMINAL SEXUAL ASSAULT  CRIMINAL TRESPASS  ...  OTHER OFFENSE  \\\n",
       "0                    False              False  ...          False   \n",
       "1                    False              False  ...          False   \n",
       "2                    False              False  ...          False   \n",
       "3                    False              False  ...          False   \n",
       "4                    False              False  ...          False   \n",
       "\n",
       "   PROSTITUTION  PUBLIC INDECENCY  PUBLIC PEACE VIOLATION  RITUALISM  ROBBERY  \\\n",
       "0         False             False                   False      False    False   \n",
       "1         False             False                   False      False    False   \n",
       "2         False             False                   False      False    False   \n",
       "3         False             False                   False      False    False   \n",
       "4         False             False                   False      False    False   \n",
       "\n",
       "   SEX OFFENSE  STALKING  THEFT  WEAPONS VIOLATION  \n",
       "0        False     False  False              False  \n",
       "1        False     False  False              False  \n",
       "2        False     False  False              False  \n",
       "3        False     False  False              False  \n",
       "4        False     False  False              False  \n",
       "\n",
       "[5 rows x 37 columns]"
      ]
     },
     "execution_count": 36,
     "metadata": {},
     "output_type": "execute_result"
    }
   ],
   "source": [
    "X.head()"
   ]
  },
  {
   "cell_type": "code",
   "execution_count": 37,
   "id": "c827f38b-4032-4de1-9ada-809db6a3a36d",
   "metadata": {
    "tags": []
   },
   "outputs": [
    {
     "name": "stdout",
     "output_type": "stream",
     "text": [
      "<class 'pandas.core.frame.DataFrame'>\n",
      "RangeIndex: 781 entries, 0 to 780\n",
      "Data columns (total 36 columns):\n",
      " #   Column                             Non-Null Count  Dtype  \n",
      "---  ------                             --------------  -----  \n",
      " 0   Year                               781 non-null    object \n",
      " 1   ASSAULT                            781 non-null    boolean\n",
      " 2   BATTERY                            781 non-null    boolean\n",
      " 3   BURGLARY                           781 non-null    boolean\n",
      " 4   CONCEALED CARRY LICENSE VIOLATION  781 non-null    boolean\n",
      " 5   CRIM SEXUAL ASSAULT                781 non-null    boolean\n",
      " 6   CRIMINAL DAMAGE                    781 non-null    boolean\n",
      " 7   CRIMINAL SEXUAL ASSAULT            781 non-null    boolean\n",
      " 8   CRIMINAL TRESPASS                  781 non-null    boolean\n",
      " 9   DECEPTIVE PRACTICE                 781 non-null    boolean\n",
      " 10  DOMESTIC VIOLENCE                  781 non-null    boolean\n",
      " 11  GAMBLING                           781 non-null    boolean\n",
      " 12  HOMICIDE                           781 non-null    boolean\n",
      " 13  HUMAN TRAFFICKING                  781 non-null    boolean\n",
      " 14  INTERFERENCE WITH PUBLIC OFFICER   781 non-null    boolean\n",
      " 15  INTIMIDATION                       781 non-null    boolean\n",
      " 16  KIDNAPPING                         781 non-null    boolean\n",
      " 17  LIQUOR LAW VIOLATION               781 non-null    boolean\n",
      " 18  MOTOR VEHICLE THEFT                781 non-null    boolean\n",
      " 19  NARCOTICS                          781 non-null    boolean\n",
      " 20  NON - CRIMINAL                     781 non-null    boolean\n",
      " 21  NON-CRIMINAL                       781 non-null    boolean\n",
      " 22  NON-CRIMINAL (SUBJECT SPECIFIED)   781 non-null    boolean\n",
      " 23  OBSCENITY                          781 non-null    boolean\n",
      " 24  OFFENSE INVOLVING CHILDREN         781 non-null    boolean\n",
      " 25  OTHER NARCOTIC VIOLATION           781 non-null    boolean\n",
      " 26  OTHER OFFENSE                      781 non-null    boolean\n",
      " 27  PROSTITUTION                       781 non-null    boolean\n",
      " 28  PUBLIC INDECENCY                   781 non-null    boolean\n",
      " 29  PUBLIC PEACE VIOLATION             781 non-null    boolean\n",
      " 30  RITUALISM                          781 non-null    boolean\n",
      " 31  ROBBERY                            781 non-null    boolean\n",
      " 32  SEX OFFENSE                        781 non-null    boolean\n",
      " 33  STALKING                           781 non-null    boolean\n",
      " 34  THEFT                              781 non-null    boolean\n",
      " 35  WEAPONS VIOLATION                  781 non-null    boolean\n",
      "dtypes: boolean(35), object(1)\n",
      "memory usage: 59.6+ KB\n"
     ]
    }
   ],
   "source": [
    "X = X.rename(columns = {0:'Year'})\n",
    "X = X.drop(columns = 1)\n",
    "X.info()"
   ]
  },
  {
   "cell_type": "code",
   "execution_count": 49,
   "id": "26579f0c-e4fe-48e8-b0be-6cc07d1b5bd0",
   "metadata": {
    "tags": []
   },
   "outputs": [],
   "source": [
    "X['Year'] = X['Year'].apply(pd.to_numeric)"
   ]
  },
  {
   "cell_type": "code",
   "execution_count": 50,
   "id": "344ac418-7a88-42a6-b534-30bcce66e043",
   "metadata": {
    "tags": []
   },
   "outputs": [
    {
     "name": "stdout",
     "output_type": "stream",
     "text": [
      "<class 'pandas.core.frame.DataFrame'>\n",
      "RangeIndex: 781 entries, 0 to 780\n",
      "Data columns (total 36 columns):\n",
      " #   Column                             Non-Null Count  Dtype  \n",
      "---  ------                             --------------  -----  \n",
      " 0   Year                               781 non-null    int64  \n",
      " 1   ASSAULT                            781 non-null    boolean\n",
      " 2   BATTERY                            781 non-null    boolean\n",
      " 3   BURGLARY                           781 non-null    boolean\n",
      " 4   CONCEALED CARRY LICENSE VIOLATION  781 non-null    boolean\n",
      " 5   CRIM SEXUAL ASSAULT                781 non-null    boolean\n",
      " 6   CRIMINAL DAMAGE                    781 non-null    boolean\n",
      " 7   CRIMINAL SEXUAL ASSAULT            781 non-null    boolean\n",
      " 8   CRIMINAL TRESPASS                  781 non-null    boolean\n",
      " 9   DECEPTIVE PRACTICE                 781 non-null    boolean\n",
      " 10  DOMESTIC VIOLENCE                  781 non-null    boolean\n",
      " 11  GAMBLING                           781 non-null    boolean\n",
      " 12  HOMICIDE                           781 non-null    boolean\n",
      " 13  HUMAN TRAFFICKING                  781 non-null    boolean\n",
      " 14  INTERFERENCE WITH PUBLIC OFFICER   781 non-null    boolean\n",
      " 15  INTIMIDATION                       781 non-null    boolean\n",
      " 16  KIDNAPPING                         781 non-null    boolean\n",
      " 17  LIQUOR LAW VIOLATION               781 non-null    boolean\n",
      " 18  MOTOR VEHICLE THEFT                781 non-null    boolean\n",
      " 19  NARCOTICS                          781 non-null    boolean\n",
      " 20  NON - CRIMINAL                     781 non-null    boolean\n",
      " 21  NON-CRIMINAL                       781 non-null    boolean\n",
      " 22  NON-CRIMINAL (SUBJECT SPECIFIED)   781 non-null    boolean\n",
      " 23  OBSCENITY                          781 non-null    boolean\n",
      " 24  OFFENSE INVOLVING CHILDREN         781 non-null    boolean\n",
      " 25  OTHER NARCOTIC VIOLATION           781 non-null    boolean\n",
      " 26  OTHER OFFENSE                      781 non-null    boolean\n",
      " 27  PROSTITUTION                       781 non-null    boolean\n",
      " 28  PUBLIC INDECENCY                   781 non-null    boolean\n",
      " 29  PUBLIC PEACE VIOLATION             781 non-null    boolean\n",
      " 30  RITUALISM                          781 non-null    boolean\n",
      " 31  ROBBERY                            781 non-null    boolean\n",
      " 32  SEX OFFENSE                        781 non-null    boolean\n",
      " 33  STALKING                           781 non-null    boolean\n",
      " 34  THEFT                              781 non-null    boolean\n",
      " 35  WEAPONS VIOLATION                  781 non-null    boolean\n",
      "dtypes: boolean(35), int64(1)\n",
      "memory usage: 59.6 KB\n"
     ]
    }
   ],
   "source": [
    "X.info()"
   ]
  },
  {
   "cell_type": "code",
   "execution_count": 51,
   "id": "0281f95f-58fa-42c2-838c-26d64b8286cb",
   "metadata": {
    "tags": []
   },
   "outputs": [
    {
     "data": {
      "text/html": [
       "Query job 2e7f8fa5-ffac-4976-822b-564dc47041fa is DONE. 173.9 MB processed. <a target=\"_blank\" href=\"https://console.cloud.google.com/bigquery?project=arctic-eye-446816-j7&j=bq:US:2e7f8fa5-ffac-4976-822b-564dc47041fa&page=queryresults\">Open Job</a>"
      ],
      "text/plain": [
       "<IPython.core.display.HTML object>"
      ]
     },
     "metadata": {},
     "output_type": "display_data"
    },
    {
     "data": {
      "text/html": [
       "Query job bcdcb96a-49c3-4e74-b289-9ddd317c6949 is DONE. 0 Bytes processed. <a target=\"_blank\" href=\"https://console.cloud.google.com/bigquery?project=arctic-eye-446816-j7&j=bq:US:bcdcb96a-49c3-4e74-b289-9ddd317c6949&page=queryresults\">Open Job</a>"
      ],
      "text/plain": [
       "<IPython.core.display.HTML object>"
      ]
     },
     "metadata": {},
     "output_type": "display_data"
    },
    {
     "data": {
      "text/html": [
       "Query job b2edee34-99c2-41ad-ba11-db9bae916b98 is DONE. 120 Bytes processed. <a target=\"_blank\" href=\"https://console.cloud.google.com/bigquery?project=arctic-eye-446816-j7&j=bq:US:b2edee34-99c2-41ad-ba11-db9bae916b98&page=queryresults\">Open Job</a>"
      ],
      "text/plain": [
       "<IPython.core.display.HTML object>"
      ]
     },
     "metadata": {},
     "output_type": "display_data"
    },
    {
     "data": {
      "text/plain": [
       "0     1011\n",
       "1    31386\n",
       "2    93469\n",
       "3    26014\n",
       "4        1\n",
       "Name: arrest, dtype: Int64"
      ]
     },
     "execution_count": 51,
     "metadata": {},
     "output_type": "execute_result"
    }
   ],
   "source": [
    "Y.head()"
   ]
  },
  {
   "cell_type": "code",
   "execution_count": 55,
   "id": "eb125bf2-dea0-4f5d-8735-ee428ac4afa5",
   "metadata": {
    "tags": []
   },
   "outputs": [
    {
     "data": {
      "text/html": [
       "Query job 1e726c24-406f-4025-a8f0-2a79eab8290c is DONE. 173.9 MB processed. <a target=\"_blank\" href=\"https://console.cloud.google.com/bigquery?project=arctic-eye-446816-j7&j=bq:US:1e726c24-406f-4025-a8f0-2a79eab8290c&page=queryresults\">Open Job</a>"
      ],
      "text/plain": [
       "<IPython.core.display.HTML object>"
      ]
     },
     "metadata": {},
     "output_type": "display_data"
    }
   ],
   "source": [
    "Y = pd.Series(Y)"
   ]
  },
  {
   "cell_type": "code",
   "execution_count": 56,
   "id": "2222d23d-4524-4642-9ba5-ffc7325e9fc3",
   "metadata": {
    "tags": []
   },
   "outputs": [
    {
     "data": {
      "text/plain": [
       "pandas.core.series.Series"
      ]
     },
     "execution_count": 56,
     "metadata": {},
     "output_type": "execute_result"
    }
   ],
   "source": [
    "type(Y)"
   ]
  },
  {
   "cell_type": "code",
   "execution_count": 57,
   "id": "ea89ec6e-6424-46f5-b84b-d4798ef3c72c",
   "metadata": {
    "tags": []
   },
   "outputs": [],
   "source": [
    "x_train, x_test, y_train, y_test = train_test_split(X, Y, train_size = 0.8, test_size = 0.2, random_state=6)"
   ]
  },
  {
   "cell_type": "code",
   "execution_count": 58,
   "id": "00850382-c51e-4415-9a9b-516c3467bff4",
   "metadata": {
    "tags": []
   },
   "outputs": [
    {
     "name": "stdout",
     "output_type": "stream",
     "text": [
      "DT Mean Training Error:  6490.537961495141\n",
      "DT Mean Testing Error:  228535315591020.62\n",
      "Model train score:  0.8717909692524153\n",
      "Model test score:  -1.132096220441353e+20\n"
     ]
    }
   ],
   "source": [
    "LR_model = LinearRegression()\n",
    "LR_model.fit(x_train, y_train)\n",
    "LR_model_pred_train = LR_model.predict(x_train)\n",
    "LR_model_train_score = np.sqrt(np.mean((LR_model_pred_train - y_train)**2))\n",
    "print(\"DT Mean Training Error: \", LR_model_train_score)\n",
    "\n",
    "\n",
    "LR_model_pred_test = LR_model.predict(x_test)\n",
    "LR_model_test_score = np.sqrt(np.mean((LR_model_pred_test - y_test)**2))\n",
    "print(\"DT Mean Testing Error: \", LR_model_test_score)\n",
    "\n",
    "print(\"Model train score: \", LR_model.score(x_train, y_train))\n",
    "print(\"Model test score: \", LR_model.score(x_test, y_test))"
   ]
  }
 ],
 "metadata": {
  "environment": {
   "kernel": "conda-base-py",
   "name": "workbench-notebooks.m126",
   "type": "gcloud",
   "uri": "us-docker.pkg.dev/deeplearning-platform-release/gcr.io/workbench-notebooks:m126"
  },
  "kernelspec": {
   "display_name": "Python 3 (ipykernel) (Local)",
   "language": "python",
   "name": "conda-base-py"
  },
  "language_info": {
   "codemirror_mode": {
    "name": "ipython",
    "version": 3
   },
   "file_extension": ".py",
   "mimetype": "text/x-python",
   "name": "python",
   "nbconvert_exporter": "python",
   "pygments_lexer": "ipython3",
   "version": "3.10.15"
  }
 },
 "nbformat": 4,
 "nbformat_minor": 5
}
