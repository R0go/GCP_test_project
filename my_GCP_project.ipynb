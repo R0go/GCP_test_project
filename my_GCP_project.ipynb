{
 "cells": [
  {
   "cell_type": "code",
   "execution_count": 1,
   "id": "5b29fdfb-5010-45b6-a671-9793d75d1973",
   "metadata": {
    "tags": []
   },
   "outputs": [],
   "source": [
    "!pip install bigframes -q\n"
   ]
  },
  {
   "cell_type": "code",
   "execution_count": null,
   "id": "761414d9-85b4-4832-aa23-f95612d2b010",
   "metadata": {},
   "outputs": [],
   "source": []
  },
  {
   "cell_type": "code",
   "execution_count": 2,
   "id": "9c251770-ab68-4cab-ae49-24f0dabc7f91",
   "metadata": {},
   "outputs": [],
   "source": [
    "from google.cloud import bigquery\n",
    "\n",
    "import bigframes.pandas as bpd\n",
    "from bigframes.ml.linear_model import LinearRegression as BQLinearRegression\n",
    "\n",
    "import seaborn as sns\n",
    "import matplotlib.pyplot as plt\n",
    "\n",
    "from sklearn.preprocessing import OneHotEncoder\n",
    "from sklearn.linear_model import LinearRegression as SKLinearRegression\n",
    "from sklearn.metrics import mean_absolute_error, mean_squared_error\n",
    "\n",
    "import pandas as pd\n",
    "import matplotlib.pyplot as plt\n",
    "sns.set_theme(color_codes=True)"
   ]
  },
  {
   "cell_type": "code",
   "execution_count": 3,
   "id": "c0893724-b829-4a76-808f-a009e44d523f",
   "metadata": {},
   "outputs": [],
   "source": [
    "PROJECT_ID = \"arctic-eye-446816-j7\"\n",
    "REGION = \"US\""
   ]
  },
  {
   "cell_type": "code",
   "execution_count": 4,
   "id": "c1cfdf35-c26b-4a24-af53-f24790d90267",
   "metadata": {},
   "outputs": [],
   "source": [
    "bpd.options.bigquery.project = PROJECT_ID\n",
    "bpd.options.bigquery.location = REGION"
   ]
  },
  {
   "cell_type": "code",
   "execution_count": 5,
   "id": "19bc7b0d-5652-4b7e-8095-f50f73e4f43b",
   "metadata": {
    "tags": []
   },
   "outputs": [
    {
     "data": {
      "text/html": [
       "Query job 3eb84d1f-dc3c-4af5-a5bc-76cda2525925 is DONE. 1.7 GB processed. <a target=\"_blank\" href=\"https://console.cloud.google.com/bigquery?project=arctic-eye-446816-j7&j=bq:US:3eb84d1f-dc3c-4af5-a5bc-76cda2525925&page=queryresults\">Open Job</a>"
      ],
      "text/plain": [
       "<IPython.core.display.HTML object>"
      ]
     },
     "metadata": {},
     "output_type": "display_data"
    },
    {
     "data": {
      "text/html": [
       "Query job 8ce405e9-dbeb-46d0-8e8b-f8a86df94acb is DONE. 0 Bytes processed. <a target=\"_blank\" href=\"https://console.cloud.google.com/bigquery?project=arctic-eye-446816-j7&j=bq:US:8ce405e9-dbeb-46d0-8e8b-f8a86df94acb&page=queryresults\">Open Job</a>"
      ],
      "text/plain": [
       "<IPython.core.display.HTML object>"
      ]
     },
     "metadata": {},
     "output_type": "display_data"
    },
    {
     "data": {
      "text/html": [
       "Query job 4351cc13-82de-4fbc-b343-d4245d5b1641 is DONE. 1.1 kB processed. <a target=\"_blank\" href=\"https://console.cloud.google.com/bigquery?project=arctic-eye-446816-j7&j=bq:US:4351cc13-82de-4fbc-b343-d4245d5b1641&page=queryresults\">Open Job</a>"
      ],
      "text/plain": [
       "<IPython.core.display.HTML object>"
      ]
     },
     "metadata": {},
     "output_type": "display_data"
    },
    {
     "data": {
      "text/html": [
       "<div>\n",
       "<style scoped>\n",
       "    .dataframe tbody tr th:only-of-type {\n",
       "        vertical-align: middle;\n",
       "    }\n",
       "\n",
       "    .dataframe tbody tr th {\n",
       "        vertical-align: top;\n",
       "    }\n",
       "\n",
       "    .dataframe thead th {\n",
       "        text-align: right;\n",
       "    }\n",
       "</style>\n",
       "<table border=\"1\" class=\"dataframe\">\n",
       "  <thead>\n",
       "    <tr style=\"text-align: right;\">\n",
       "      <th></th>\n",
       "      <th>unique_key</th>\n",
       "      <th>case_number</th>\n",
       "      <th>date</th>\n",
       "      <th>block</th>\n",
       "      <th>iucr</th>\n",
       "      <th>primary_type</th>\n",
       "      <th>description</th>\n",
       "      <th>location_description</th>\n",
       "      <th>arrest</th>\n",
       "      <th>domestic</th>\n",
       "      <th>...</th>\n",
       "      <th>ward</th>\n",
       "      <th>community_area</th>\n",
       "      <th>fbi_code</th>\n",
       "      <th>x_coordinate</th>\n",
       "      <th>y_coordinate</th>\n",
       "      <th>year</th>\n",
       "      <th>updated_on</th>\n",
       "      <th>latitude</th>\n",
       "      <th>longitude</th>\n",
       "      <th>location</th>\n",
       "    </tr>\n",
       "  </thead>\n",
       "  <tbody>\n",
       "    <tr>\n",
       "      <th>0</th>\n",
       "      <td>3809715</td>\n",
       "      <td>HL151847</td>\n",
       "      <td>2005-01-29 23:30:00+00:00</td>\n",
       "      <td>014XX W MORSE AVE</td>\n",
       "      <td>2027</td>\n",
       "      <td>NARCOTICS</td>\n",
       "      <td>POSS: CRACK</td>\n",
       "      <td>SIDEWALK</td>\n",
       "      <td>True</td>\n",
       "      <td>False</td>\n",
       "      <td>...</td>\n",
       "      <td>49</td>\n",
       "      <td>1</td>\n",
       "      <td>18</td>\n",
       "      <td>1165420.0</td>\n",
       "      <td>1946171.0</td>\n",
       "      <td>2005</td>\n",
       "      <td>2018-02-28 15:56:25+00:00</td>\n",
       "      <td>42.007892</td>\n",
       "      <td>-87.666728</td>\n",
       "      <td>(42.007891504, -87.666727525)</td>\n",
       "    </tr>\n",
       "    <tr>\n",
       "      <th>1</th>\n",
       "      <td>7873610</td>\n",
       "      <td>HT104508</td>\n",
       "      <td>2011-01-04 00:30:00+00:00</td>\n",
       "      <td>046XX S EVANS AVE</td>\n",
       "      <td>2820</td>\n",
       "      <td>OTHER OFFENSE</td>\n",
       "      <td>TELEPHONE THREAT</td>\n",
       "      <td>RESIDENCE</td>\n",
       "      <td>False</td>\n",
       "      <td>True</td>\n",
       "      <td>...</td>\n",
       "      <td>4</td>\n",
       "      <td>38</td>\n",
       "      <td>26</td>\n",
       "      <td>1182034.0</td>\n",
       "      <td>1874483.0</td>\n",
       "      <td>2011</td>\n",
       "      <td>2016-02-04 06:33:39+00:00</td>\n",
       "      <td>41.810806</td>\n",
       "      <td>-87.607833</td>\n",
       "      <td>(41.810806172, -87.607832602)</td>\n",
       "    </tr>\n",
       "    <tr>\n",
       "      <th>2</th>\n",
       "      <td>12421979</td>\n",
       "      <td>JE299751</td>\n",
       "      <td>2021-06-14 19:00:00+00:00</td>\n",
       "      <td>055XX S STATE ST</td>\n",
       "      <td>0810</td>\n",
       "      <td>THEFT</td>\n",
       "      <td>OVER $500</td>\n",
       "      <td>RESTAURANT</td>\n",
       "      <td>False</td>\n",
       "      <td>False</td>\n",
       "      <td>...</td>\n",
       "      <td>3</td>\n",
       "      <td>40</td>\n",
       "      <td>06</td>\n",
       "      <td>1177220.0</td>\n",
       "      <td>1868236.0</td>\n",
       "      <td>2021</td>\n",
       "      <td>2021-07-15 15:39:41+00:00</td>\n",
       "      <td>41.793774</td>\n",
       "      <td>-87.625678</td>\n",
       "      <td>(41.793773985, -87.625678392)</td>\n",
       "    </tr>\n",
       "    <tr>\n",
       "      <th>3</th>\n",
       "      <td>8649560</td>\n",
       "      <td>HV324406</td>\n",
       "      <td>2012-06-08 08:00:00+00:00</td>\n",
       "      <td>027XX S DEARBORN ST</td>\n",
       "      <td>0890</td>\n",
       "      <td>THEFT</td>\n",
       "      <td>FROM BUILDING</td>\n",
       "      <td>PARK PROPERTY</td>\n",
       "      <td>False</td>\n",
       "      <td>False</td>\n",
       "      <td>...</td>\n",
       "      <td>3</td>\n",
       "      <td>35</td>\n",
       "      <td>06</td>\n",
       "      <td>1176315.0</td>\n",
       "      <td>1886573.0</td>\n",
       "      <td>2012</td>\n",
       "      <td>2016-02-04 06:33:39+00:00</td>\n",
       "      <td>41.844113</td>\n",
       "      <td>-87.628445</td>\n",
       "      <td>(41.844112707, -87.628445336)</td>\n",
       "    </tr>\n",
       "    <tr>\n",
       "      <th>4</th>\n",
       "      <td>1362379</td>\n",
       "      <td>G067268</td>\n",
       "      <td>2001-02-02 01:30:54+00:00</td>\n",
       "      <td>004XX N STATE ST</td>\n",
       "      <td>0460</td>\n",
       "      <td>BATTERY</td>\n",
       "      <td>SIMPLE</td>\n",
       "      <td>SMALL RETAIL STORE</td>\n",
       "      <td>True</td>\n",
       "      <td>False</td>\n",
       "      <td>...</td>\n",
       "      <td>&lt;NA&gt;</td>\n",
       "      <td>&lt;NA&gt;</td>\n",
       "      <td>08B</td>\n",
       "      <td>1176326.0</td>\n",
       "      <td>1903597.0</td>\n",
       "      <td>2001</td>\n",
       "      <td>2015-08-17 15:03:40+00:00</td>\n",
       "      <td>41.890827</td>\n",
       "      <td>-87.627892</td>\n",
       "      <td>(41.890827398, -87.62789157)</td>\n",
       "    </tr>\n",
       "  </tbody>\n",
       "</table>\n",
       "<p>5 rows × 22 columns</p>\n",
       "</div>[5 rows x 22 columns in total]"
      ],
      "text/plain": [
       "   unique_key case_number                       date                block  \\\n",
       "0     3809715    HL151847  2005-01-29 23:30:00+00:00    014XX W MORSE AVE   \n",
       "1     7873610    HT104508  2011-01-04 00:30:00+00:00    046XX S EVANS AVE   \n",
       "2    12421979    JE299751  2021-06-14 19:00:00+00:00     055XX S STATE ST   \n",
       "3     8649560    HV324406  2012-06-08 08:00:00+00:00  027XX S DEARBORN ST   \n",
       "4     1362379     G067268  2001-02-02 01:30:54+00:00     004XX N STATE ST   \n",
       "\n",
       "   iucr   primary_type       description location_description  arrest  \\\n",
       "0  2027      NARCOTICS       POSS: CRACK             SIDEWALK    True   \n",
       "1  2820  OTHER OFFENSE  TELEPHONE THREAT            RESIDENCE   False   \n",
       "2  0810          THEFT         OVER $500           RESTAURANT   False   \n",
       "3  0890          THEFT     FROM BUILDING        PARK PROPERTY   False   \n",
       "4  0460        BATTERY            SIMPLE   SMALL RETAIL STORE    True   \n",
       "\n",
       "   domestic  ...  ward  community_area  fbi_code  x_coordinate y_coordinate  \\\n",
       "0     False  ...    49               1        18     1165420.0    1946171.0   \n",
       "1      True  ...     4              38        26     1182034.0    1874483.0   \n",
       "2     False  ...     3              40        06     1177220.0    1868236.0   \n",
       "3     False  ...     3              35        06     1176315.0    1886573.0   \n",
       "4     False  ...  <NA>            <NA>       08B     1176326.0    1903597.0   \n",
       "\n",
       "   year                 updated_on   latitude  longitude  \\\n",
       "0  2005  2018-02-28 15:56:25+00:00  42.007892 -87.666728   \n",
       "1  2011  2016-02-04 06:33:39+00:00  41.810806 -87.607833   \n",
       "2  2021  2021-07-15 15:39:41+00:00  41.793774 -87.625678   \n",
       "3  2012  2016-02-04 06:33:39+00:00  41.844113 -87.628445   \n",
       "4  2001  2015-08-17 15:03:40+00:00  41.890827 -87.627892   \n",
       "\n",
       "                        location  \n",
       "0  (42.007891504, -87.666727525)  \n",
       "1  (41.810806172, -87.607832602)  \n",
       "2  (41.793773985, -87.625678392)  \n",
       "3  (41.844112707, -87.628445336)  \n",
       "4   (41.890827398, -87.62789157)  \n",
       "\n",
       "[5 rows x 22 columns]"
      ]
     },
     "execution_count": 5,
     "metadata": {},
     "output_type": "execute_result"
    }
   ],
   "source": [
    "df2 = bpd.read_gbq(\"bigquery-public-data.chicago_crime.crime\")\n",
    "df2.head()"
   ]
  },
  {
   "cell_type": "code",
   "execution_count": null,
   "id": "04ee34f0-046d-45f7-8ce3-ae733fd3ee1e",
   "metadata": {},
   "outputs": [],
   "source": []
  },
  {
   "cell_type": "code",
   "execution_count": 6,
   "id": "c5510909-3323-4028-bbe2-5d2f2fe96cae",
   "metadata": {
    "tags": []
   },
   "outputs": [
    {
     "data": {
      "text/html": [
       "Query job afe4d469-63b4-4423-9593-be23983c9378 is DONE. 67.3 MB processed. <a target=\"_blank\" href=\"https://console.cloud.google.com/bigquery?project=arctic-eye-446816-j7&j=bq:US:afe4d469-63b4-4423-9593-be23983c9378&page=queryresults\">Open Job</a>"
      ],
      "text/plain": [
       "<IPython.core.display.HTML object>"
      ]
     },
     "metadata": {},
     "output_type": "display_data"
    },
    {
     "data": {
      "text/html": [
       "Query job 7f3fe731-28f0-4a87-a20e-878aa868591a is DONE. 0 Bytes processed. <a target=\"_blank\" href=\"https://console.cloud.google.com/bigquery?project=arctic-eye-446816-j7&j=bq:US:7f3fe731-28f0-4a87-a20e-878aa868591a&page=queryresults\">Open Job</a>"
      ],
      "text/plain": [
       "<IPython.core.display.HTML object>"
      ]
     },
     "metadata": {},
     "output_type": "display_data"
    },
    {
     "data": {
      "text/html": [
       "Query job d304516c-3b1b-40ee-a298-57fd927cc597 is DONE. 3.0 kB processed. <a target=\"_blank\" href=\"https://console.cloud.google.com/bigquery?project=arctic-eye-446816-j7&j=bq:US:d304516c-3b1b-40ee-a298-57fd927cc597&page=queryresults\">Open Job</a>"
      ],
      "text/plain": [
       "<IPython.core.display.HTML object>"
      ]
     },
     "metadata": {},
     "output_type": "display_data"
    },
    {
     "data": {
      "text/html": [
       "<div>\n",
       "<style scoped>\n",
       "    .dataframe tbody tr th:only-of-type {\n",
       "        vertical-align: middle;\n",
       "    }\n",
       "\n",
       "    .dataframe tbody tr th {\n",
       "        vertical-align: top;\n",
       "    }\n",
       "\n",
       "    .dataframe thead th {\n",
       "        text-align: right;\n",
       "    }\n",
       "</style>\n",
       "<table border=\"1\" class=\"dataframe\">\n",
       "  <thead>\n",
       "    <tr style=\"text-align: right;\">\n",
       "      <th></th>\n",
       "      <th>unique_key</th>\n",
       "      <th>address</th>\n",
       "      <th>census_tract</th>\n",
       "      <th>clearance_date</th>\n",
       "      <th>clearance_status</th>\n",
       "      <th>council_district_code</th>\n",
       "      <th>description</th>\n",
       "      <th>district</th>\n",
       "      <th>latitude</th>\n",
       "      <th>longitude</th>\n",
       "      <th>location</th>\n",
       "      <th>location_description</th>\n",
       "      <th>primary_type</th>\n",
       "      <th>timestamp</th>\n",
       "      <th>x_coordinate</th>\n",
       "      <th>y_coordinate</th>\n",
       "      <th>year</th>\n",
       "      <th>zipcode</th>\n",
       "    </tr>\n",
       "  </thead>\n",
       "  <tbody>\n",
       "    <tr>\n",
       "      <th>0</th>\n",
       "      <td>20165026466</td>\n",
       "      <td>&lt;NA&gt;</td>\n",
       "      <td>23.13</td>\n",
       "      <td>2016-06-30 00:00:00+00:00</td>\n",
       "      <td>Not cleared</td>\n",
       "      <td>3</td>\n",
       "      <td>BURGLARY OF VEHICLE</td>\n",
       "      <td>H</td>\n",
       "      <td>&lt;NA&gt;</td>\n",
       "      <td>&lt;NA&gt;</td>\n",
       "      <td>(0         \n",
       "1         \n",
       "2         \n",
       "3         \n",
       "4...</td>\n",
       "      <td>2900 SUNRIDGE DR</td>\n",
       "      <td>Theft</td>\n",
       "      <td>2016-06-27 00:00:00+00:00</td>\n",
       "      <td>3119729</td>\n",
       "      <td>10053927</td>\n",
       "      <td>2016</td>\n",
       "      <td>78741</td>\n",
       "    </tr>\n",
       "    <tr>\n",
       "      <th>1</th>\n",
       "      <td>201440943</td>\n",
       "      <td>119 FREDERICK ST Austin, TX 78704 (30.230732, ...</td>\n",
       "      <td>13.08</td>\n",
       "      <td>2014-01-08 00:00:00+00:00</td>\n",
       "      <td>Cleared by Arrest</td>\n",
       "      <td>3</td>\n",
       "      <td>BURGLARY OF RESIDENCE</td>\n",
       "      <td>D</td>\n",
       "      <td>30.230732</td>\n",
       "      <td>-97.760585</td>\n",
       "      <td>(0                 \n",
       "1                 \n",
       "2      ...</td>\n",
       "      <td>119 FREDERICK ST</td>\n",
       "      <td>Burglary / \n",
       "Breaking &amp; Entering</td>\n",
       "      <td>2014-01-04 00:00:00+00:00</td>\n",
       "      <td>3108953</td>\n",
       "      <td>10057000</td>\n",
       "      <td>2014</td>\n",
       "      <td>78704</td>\n",
       "    </tr>\n",
       "    <tr>\n",
       "      <th>2</th>\n",
       "      <td>20151031435</td>\n",
       "      <td>&lt;NA&gt;</td>\n",
       "      <td>21.1</td>\n",
       "      <td>2015-04-22 00:00:00+00:00</td>\n",
       "      <td>Not cleared</td>\n",
       "      <td>1</td>\n",
       "      <td>BURGLARY NON RESIDENCE</td>\n",
       "      <td>C</td>\n",
       "      <td>&lt;NA&gt;</td>\n",
       "      <td>&lt;NA&gt;</td>\n",
       "      <td>(0         \n",
       "1         \n",
       "2         \n",
       "3         \n",
       "4...</td>\n",
       "      <td>4904 LOUIS AVE</td>\n",
       "      <td>Burglary</td>\n",
       "      <td>2015-04-13 00:00:00+00:00</td>\n",
       "      <td>3132451</td>\n",
       "      <td>10073733</td>\n",
       "      <td>2015</td>\n",
       "      <td>78721</td>\n",
       "    </tr>\n",
       "    <tr>\n",
       "      <th>3</th>\n",
       "      <td>20158003159</td>\n",
       "      <td>&lt;NA&gt;</td>\n",
       "      <td>19.01</td>\n",
       "      <td>2015-09-15 00:00:00+00:00</td>\n",
       "      <td>Not cleared</td>\n",
       "      <td>5</td>\n",
       "      <td>THEFT OF BICYCLE</td>\n",
       "      <td>D</td>\n",
       "      <td>&lt;NA&gt;</td>\n",
       "      <td>&lt;NA&gt;</td>\n",
       "      <td>(0         \n",
       "1         \n",
       "2         \n",
       "3         \n",
       "4...</td>\n",
       "      <td>1135 BARTON HILLS DR</td>\n",
       "      <td>Theft</td>\n",
       "      <td>2015-09-11 00:00:00+00:00</td>\n",
       "      <td>3104868</td>\n",
       "      <td>10068158</td>\n",
       "      <td>2015</td>\n",
       "      <td>78704</td>\n",
       "    </tr>\n",
       "    <tr>\n",
       "      <th>4</th>\n",
       "      <td>20145025710</td>\n",
       "      <td>6200 LOYOLA LN Austin, TX 78724 (30.30171, -97...</td>\n",
       "      <td>22.02</td>\n",
       "      <td>2014-06-24 00:00:00+00:00</td>\n",
       "      <td>Not cleared</td>\n",
       "      <td>1</td>\n",
       "      <td>BURGLARY OF VEHICLE</td>\n",
       "      <td>C</td>\n",
       "      <td>30.30171</td>\n",
       "      <td>-97.651541</td>\n",
       "      <td>(0                 \n",
       "1                 \n",
       "2      ...</td>\n",
       "      <td>6200 LOYOLA LN</td>\n",
       "      <td>Theft: BOV</td>\n",
       "      <td>2014-06-10 00:00:00+00:00</td>\n",
       "      <td>3143028</td>\n",
       "      <td>10083917</td>\n",
       "      <td>2014</td>\n",
       "      <td>78724</td>\n",
       "    </tr>\n",
       "  </tbody>\n",
       "</table>\n",
       "<p>5 rows × 18 columns</p>\n",
       "</div>[5 rows x 18 columns in total]"
      ],
      "text/plain": [
       "    unique_key                                            address  \\\n",
       "0  20165026466                                               <NA>   \n",
       "1    201440943  119 FREDERICK ST Austin, TX 78704 (30.230732, ...   \n",
       "2  20151031435                                               <NA>   \n",
       "3  20158003159                                               <NA>   \n",
       "4  20145025710  6200 LOYOLA LN Austin, TX 78724 (30.30171, -97...   \n",
       "\n",
       "   census_tract             clearance_date   clearance_status  \\\n",
       "0         23.13  2016-06-30 00:00:00+00:00        Not cleared   \n",
       "1         13.08  2014-01-08 00:00:00+00:00  Cleared by Arrest   \n",
       "2          21.1  2015-04-22 00:00:00+00:00        Not cleared   \n",
       "3         19.01  2015-09-15 00:00:00+00:00        Not cleared   \n",
       "4         22.02  2014-06-24 00:00:00+00:00        Not cleared   \n",
       "\n",
       "   council_district_code                     description district   latitude  \\\n",
       "0                      3  BURGLARY OF VEHICLE                   H       <NA>   \n",
       "1                      3  BURGLARY OF RESIDENCE                 D  30.230732   \n",
       "2                      1  BURGLARY NON RESIDENCE                C       <NA>   \n",
       "3                      5  THEFT OF BICYCLE                      D       <NA>   \n",
       "4                      1  BURGLARY OF VEHICLE                   C   30.30171   \n",
       "\n",
       "   longitude                                           location  \\\n",
       "0       <NA>  (0         \n",
       "1         \n",
       "2         \n",
       "3         \n",
       "4...   \n",
       "1 -97.760585  (0                 \n",
       "1                 \n",
       "2      ...   \n",
       "2       <NA>  (0         \n",
       "1         \n",
       "2         \n",
       "3         \n",
       "4...   \n",
       "3       <NA>  (0         \n",
       "1         \n",
       "2         \n",
       "3         \n",
       "4...   \n",
       "4 -97.651541  (0                 \n",
       "1                 \n",
       "2      ...   \n",
       "\n",
       "   location_description                     primary_type  \\\n",
       "0      2900 SUNRIDGE DR                            Theft   \n",
       "1      119 FREDERICK ST  Burglary / \n",
       "Breaking & Entering   \n",
       "2        4904 LOUIS AVE                         Burglary   \n",
       "3  1135 BARTON HILLS DR                            Theft   \n",
       "4        6200 LOYOLA LN                       Theft: BOV   \n",
       "\n",
       "                   timestamp  x_coordinate  y_coordinate  year zipcode  \n",
       "0  2016-06-27 00:00:00+00:00       3119729      10053927  2016   78741  \n",
       "1  2014-01-04 00:00:00+00:00       3108953      10057000  2014   78704  \n",
       "2  2015-04-13 00:00:00+00:00       3132451      10073733  2015   78721  \n",
       "3  2015-09-11 00:00:00+00:00       3104868      10068158  2015   78704  \n",
       "4  2014-06-10 00:00:00+00:00       3143028      10083917  2014   78724  \n",
       "\n",
       "[5 rows x 18 columns]"
      ]
     },
     "execution_count": 6,
     "metadata": {},
     "output_type": "execute_result"
    }
   ],
   "source": [
    "df3 = bpd.read_gbq(\"bigquery-public-data.austin_crime.crime\")\n",
    "df3.head()"
   ]
  },
  {
   "cell_type": "code",
   "execution_count": 7,
   "id": "cd947c97-4a13-4b1b-9729-4cdb23ab2c30",
   "metadata": {
    "tags": []
   },
   "outputs": [
    {
     "data": {
      "text/html": [
       "Query job e7633abf-9a04-47e8-b45c-548cddf0fed5 is DONE. 0 Bytes processed. <a target=\"_blank\" href=\"https://console.cloud.google.com/bigquery?project=arctic-eye-446816-j7&j=bq:US:e7633abf-9a04-47e8-b45c-548cddf0fed5&page=queryresults\">Open Job</a>"
      ],
      "text/plain": [
       "<IPython.core.display.HTML object>"
      ]
     },
     "metadata": {},
     "output_type": "display_data"
    },
    {
     "name": "stdout",
     "output_type": "stream",
     "text": [
      "<class 'bigframes.dataframe.DataFrame'>\n"
     ]
    },
    {
     "data": {
      "text/html": [
       "Query job b4533df3-74a4-49f1-85ca-7d78c4a4e66b is DONE. 1.7 GB processed. <a target=\"_blank\" href=\"https://console.cloud.google.com/bigquery?project=arctic-eye-446816-j7&j=bq:US:b4533df3-74a4-49f1-85ca-7d78c4a4e66b&page=queryresults\">Open Job</a>"
      ],
      "text/plain": [
       "<IPython.core.display.HTML object>"
      ]
     },
     "metadata": {},
     "output_type": "display_data"
    },
    {
     "data": {
      "text/html": [
       "Query job 3240a7fa-3c7c-4137-b7aa-d5e813f9f428 is DONE. 1.7 GB processed. <a target=\"_blank\" href=\"https://console.cloud.google.com/bigquery?project=arctic-eye-446816-j7&j=bq:US:3240a7fa-3c7c-4137-b7aa-d5e813f9f428&page=queryresults\">Open Job</a>"
      ],
      "text/plain": [
       "<IPython.core.display.HTML object>"
      ]
     },
     "metadata": {},
     "output_type": "display_data"
    },
    {
     "name": "stdout",
     "output_type": "stream",
     "text": [
      "Index: 8247404 entries, 0 to 8247403\n",
      "Data columns (total 22 columns):\n",
      "  #  Column                Dtype\n",
      "---  --------------------  ------------------------------\n",
      "  0  unique_key            Int64\n",
      "  1  case_number           string\n",
      "  2  date                  timestamp[us, tz=UTC][pyarrow]\n",
      "  3  block                 string\n",
      "  4  iucr                  string\n",
      "  5  primary_type          string\n",
      "  6  description           string\n",
      "  7  location_description  string\n",
      "  8  arrest                boolean\n",
      "  9  domestic              boolean\n",
      " 10  beat                  Int64\n",
      " 11  district              Int64\n",
      " 12  ward                  Int64\n",
      " 13  community_area        Int64\n",
      " 14  fbi_code              string\n",
      " 15  x_coordinate          Float64\n",
      " 16  y_coordinate          Float64\n",
      " 17  year                  Int64\n",
      " 18  updated_on            timestamp[us, tz=UTC][pyarrow]\n",
      " 19  latitude              Float64\n",
      " 20  longitude             Float64\n",
      " 21  location              string\n",
      "dtypes: Float64(4), Int64(6), boolean(2), string(8), timestamp[us, tz=UTC][pyarrow](2)\n"
     ]
    },
    {
     "data": {
      "text/html": [
       "Query job 11786846-5ac4-4f0d-a49a-12c8db0e90d6 is DONE. 0 Bytes processed. <a target=\"_blank\" href=\"https://console.cloud.google.com/bigquery?project=arctic-eye-446816-j7&j=bq:US:11786846-5ac4-4f0d-a49a-12c8db0e90d6&page=queryresults\">Open Job</a>"
      ],
      "text/plain": [
       "<IPython.core.display.HTML object>"
      ]
     },
     "metadata": {},
     "output_type": "display_data"
    },
    {
     "name": "stdout",
     "output_type": "stream",
     "text": [
      "memory usage: 1402058680 bytes\n"
     ]
    }
   ],
   "source": [
    "df2.info()"
   ]
  },
  {
   "cell_type": "code",
   "execution_count": 8,
   "id": "d1ee1e31-2521-4482-9c86-2c71ba755c8b",
   "metadata": {
    "tags": []
   },
   "outputs": [
    {
     "data": {
      "text/html": [
       "Query job 38b5330c-48b4-47ed-bd57-ca1869154ed9 is DONE. 0 Bytes processed. <a target=\"_blank\" href=\"https://console.cloud.google.com/bigquery?project=arctic-eye-446816-j7&j=bq:US:38b5330c-48b4-47ed-bd57-ca1869154ed9&page=queryresults\">Open Job</a>"
      ],
      "text/plain": [
       "<IPython.core.display.HTML object>"
      ]
     },
     "metadata": {},
     "output_type": "display_data"
    },
    {
     "name": "stdout",
     "output_type": "stream",
     "text": [
      "<class 'bigframes.dataframe.DataFrame'>\n"
     ]
    },
    {
     "data": {
      "text/html": [
       "Query job 16035b02-2b6e-4ea3-8b91-6f2e94fa8283 is DONE. 67.3 MB processed. <a target=\"_blank\" href=\"https://console.cloud.google.com/bigquery?project=arctic-eye-446816-j7&j=bq:US:16035b02-2b6e-4ea3-8b91-6f2e94fa8283&page=queryresults\">Open Job</a>"
      ],
      "text/plain": [
       "<IPython.core.display.HTML object>"
      ]
     },
     "metadata": {},
     "output_type": "display_data"
    },
    {
     "data": {
      "text/html": [
       "Query job de13878a-ac9c-4476-b8d7-f71c35d983bf is DONE. 67.3 MB processed. <a target=\"_blank\" href=\"https://console.cloud.google.com/bigquery?project=arctic-eye-446816-j7&j=bq:US:de13878a-ac9c-4476-b8d7-f71c35d983bf&page=queryresults\">Open Job</a>"
      ],
      "text/plain": [
       "<IPython.core.display.HTML object>"
      ]
     },
     "metadata": {},
     "output_type": "display_data"
    },
    {
     "name": "stdout",
     "output_type": "stream",
     "text": [
      "Index: 116672 entries, 0 to 116671\n",
      "Data columns (total 18 columns):\n"
     ]
    },
    {
     "name": "stderr",
     "output_type": "stream",
     "text": [
      "/opt/conda/lib/python3.10/site-packages/bigframes/core/blocks.py:125: NullIndexPreviewWarning: Creating object with Null Index. Null Index is a preview feature.\n",
      "  warnings.warn(\n"
     ]
    },
    {
     "data": {
      "text/html": [
       "Query job 24221fb6-7ea1-4bea-bd43-9e8621ae0a9f is DONE. 67.3 MB processed. <a target=\"_blank\" href=\"https://console.cloud.google.com/bigquery?project=arctic-eye-446816-j7&j=bq:US:24221fb6-7ea1-4bea-bd43-9e8621ae0a9f&page=queryresults\">Open Job</a>"
      ],
      "text/plain": [
       "<IPython.core.display.HTML object>"
      ]
     },
     "metadata": {},
     "output_type": "display_data"
    },
    {
     "name": "stdout",
     "output_type": "stream",
     "text": [
      "  #  Column                 Non-Null Count    Dtype\n",
      "---  ---------------------  ----------------  ------------------------------\n",
      "  0  unique_key             116671 non-null   Int64\n",
      "  1  address                40640 non-null    string\n",
      "  2  census_tract           116149 non-null   Float64\n",
      "  3  clearance_date         111558 non-null   timestamp[us, tz=UTC][pyarrow]\n",
      "  4  clearance_status       111558 non-null   string\n",
      "  5  council_district_code  115997 non-null   Int64\n",
      "  6  description            116672 non-null   string\n",
      "  7  district               116672 non-null   string\n",
      "  8  latitude               34500 non-null    Float64\n",
      "  9  longitude              34500 non-null    Float64\n",
      " 10  location               116672 non-null   string\n",
      " 11  location_description   116672 non-null   string\n",
      " 12  primary_type           116672 non-null   string\n",
      " 13  timestamp              116672 non-null   timestamp[us, tz=UTC][pyarrow]\n",
      " 14  x_coordinate           114525 non-null   Int64\n",
      " 15  y_coordinate           114525 non-null   Int64\n",
      " 16  year                   116672 non-null   Int64\n",
      " 17  zipcode                116149 non-null   string\n",
      "dtypes: Float64(3), Int64(5), string(8), timestamp[us, tz=UTC][pyarrow](2)\n"
     ]
    },
    {
     "data": {
      "text/html": [
       "Query job cbbb0f5f-05e2-41ea-96a8-568d6b9f3410 is DONE. 0 Bytes processed. <a target=\"_blank\" href=\"https://console.cloud.google.com/bigquery?project=arctic-eye-446816-j7&j=bq:US:cbbb0f5f-05e2-41ea-96a8-568d6b9f3410&page=queryresults\">Open Job</a>"
      ],
      "text/plain": [
       "<IPython.core.display.HTML object>"
      ]
     },
     "metadata": {},
     "output_type": "display_data"
    },
    {
     "name": "stdout",
     "output_type": "stream",
     "text": [
      "memory usage: 17734144 bytes\n"
     ]
    }
   ],
   "source": [
    "df3.info()"
   ]
  },
  {
   "cell_type": "code",
   "execution_count": 11,
   "id": "c00bbc55-0f2f-47d1-bf1e-9754c56000a5",
   "metadata": {
    "tags": []
   },
   "outputs": [
    {
     "data": {
      "text/html": [
       "Query job 214787ca-7e32-4fd4-abb9-49391bc6ae05 is DONE. 1.7 GB processed. <a target=\"_blank\" href=\"https://console.cloud.google.com/bigquery?project=arctic-eye-446816-j7&j=bq:US:214787ca-7e32-4fd4-abb9-49391bc6ae05&page=queryresults\">Open Job</a>"
      ],
      "text/plain": [
       "<IPython.core.display.HTML object>"
      ]
     },
     "metadata": {},
     "output_type": "display_data"
    },
    {
     "data": {
      "text/html": [
       "Query job ee8964aa-a0d6-450c-a12d-650fe7a1ae49 is DONE. 0 Bytes processed. <a target=\"_blank\" href=\"https://console.cloud.google.com/bigquery?project=arctic-eye-446816-j7&j=bq:US:ee8964aa-a0d6-450c-a12d-650fe7a1ae49&page=queryresults\">Open Job</a>"
      ],
      "text/plain": [
       "<IPython.core.display.HTML object>"
      ]
     },
     "metadata": {},
     "output_type": "display_data"
    },
    {
     "data": {
      "text/html": [
       "Query job 98dae1fd-47cb-4aac-971b-71dbde1ecbf9 is DONE. 120 Bytes processed. <a target=\"_blank\" href=\"https://console.cloud.google.com/bigquery?project=arctic-eye-446816-j7&j=bq:US:98dae1fd-47cb-4aac-971b-71dbde1ecbf9&page=queryresults\">Open Job</a>"
      ],
      "text/plain": [
       "<IPython.core.display.HTML object>"
      ]
     },
     "metadata": {},
     "output_type": "display_data"
    },
    {
     "data": {
      "text/plain": [
       "0    24\n",
       "1     2\n",
       "2     2\n",
       "3     1\n",
       "4    18\n",
       "Name: district, dtype: Int64"
      ]
     },
     "execution_count": 11,
     "metadata": {},
     "output_type": "execute_result"
    }
   ],
   "source": [
    "df2['district'].head()"
   ]
  },
  {
   "cell_type": "code",
   "execution_count": 13,
   "id": "7c4a3a78-1fd1-434b-b6b2-73b50c42c2c6",
   "metadata": {
    "tags": []
   },
   "outputs": [],
   "source": [
    "chicago_df = df2[['date','year','primary_type','arrest']].reset_index()"
   ]
  },
  {
   "cell_type": "code",
   "execution_count": 14,
   "id": "57cb92f4-464d-4013-96bc-35c8e5d64db1",
   "metadata": {
    "tags": []
   },
   "outputs": [],
   "source": [
    "austin_df = df3[['timestamp','year','primary_type','clearance_status']].reset_index()"
   ]
  },
  {
   "cell_type": "code",
   "execution_count": null,
   "id": "391463fa-274f-400b-b543-0626a01d78b3",
   "metadata": {},
   "outputs": [],
   "source": []
  }
 ],
 "metadata": {
  "environment": {
   "kernel": "conda-base-py",
   "name": "workbench-notebooks.m126",
   "type": "gcloud",
   "uri": "us-docker.pkg.dev/deeplearning-platform-release/gcr.io/workbench-notebooks:m126"
  },
  "kernelspec": {
   "display_name": "Python 3 (ipykernel) (Local)",
   "language": "python",
   "name": "conda-base-py"
  },
  "language_info": {
   "codemirror_mode": {
    "name": "ipython",
    "version": 3
   },
   "file_extension": ".py",
   "mimetype": "text/x-python",
   "name": "python",
   "nbconvert_exporter": "python",
   "pygments_lexer": "ipython3",
   "version": "3.10.15"
  }
 },
 "nbformat": 4,
 "nbformat_minor": 5
}
