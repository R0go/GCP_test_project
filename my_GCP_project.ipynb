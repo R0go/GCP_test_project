{
 "cells": [
  {
   "cell_type": "markdown",
   "id": "21e338cf-81bf-4bb8-ac76-edd2f6fa25c8",
   "metadata": {
    "tags": []
   },
   "source": [
    "# GCP project: crime rates"
   ]
  },
  {
   "cell_type": "markdown",
   "id": "80927536-2b4d-4702-9213-663f6bfcaddb",
   "metadata": {},
   "source": [
    "A test project in GCP to test GitHub integration and GCP libraries. Aiming to perform basic EDA and train a simple LR model."
   ]
  },
  {
   "cell_type": "code",
   "execution_count": 1,
   "id": "0ade7c6b-37e9-4494-990e-17527dbd33a7",
   "metadata": {},
   "outputs": [],
   "source": [
    "!pip install bigframes -q\n",
    "from google.cloud import bigquery\n",
    "\n",
    "import bigframes.pandas as bpd\n",
    "from bigframes.ml.linear_model import LinearRegression as BQLinearRegression\n",
    "\n",
    "import seaborn as sns\n",
    "import matplotlib.pyplot as plt\n",
    "\n",
    "from sklearn.preprocessing import OneHotEncoder\n",
    "from sklearn.linear_model import LinearRegression as SKLinearRegression\n",
    "from sklearn.metrics import mean_absolute_error, mean_squared_error\n",
    "\n",
    "import pandas as pd\n",
    "import matplotlib.pyplot as plt\n",
    "sns.set_theme(color_codes=True)"
   ]
  },
  {
   "cell_type": "code",
   "execution_count": 2,
   "id": "c0893724-b829-4a76-808f-a009e44d523f",
   "metadata": {},
   "outputs": [],
   "source": [
    "PROJECT_ID = \"arctic-eye-446816-j7\"\n",
    "REGION = \"US\"\n",
    "bpd.options.bigquery.project = PROJECT_ID\n",
    "bpd.options.bigquery.location = REGION"
   ]
  },
  {
   "cell_type": "code",
   "execution_count": 3,
   "id": "19bc7b0d-5652-4b7e-8095-f50f73e4f43b",
   "metadata": {
    "tags": []
   },
   "outputs": [],
   "source": [
    "#utilizing publically available datasets from bigquery\n",
    "chicago = bpd.read_gbq(\"bigquery-public-data.chicago_crime.crime\")\n",
    "austin = bpd.read_gbq(\"bigquery-public-data.austin_crime.crime\")"
   ]
  },
  {
   "cell_type": "code",
   "execution_count": 4,
   "id": "cd947c97-4a13-4b1b-9729-4cdb23ab2c30",
   "metadata": {
    "tags": []
   },
   "outputs": [
    {
     "data": {
      "text/html": [
       "Query job 664b100f-9af3-451f-99d7-e592f3ac6aa5 is DONE. 0 Bytes processed. <a target=\"_blank\" href=\"https://console.cloud.google.com/bigquery?project=arctic-eye-446816-j7&j=bq:US:664b100f-9af3-451f-99d7-e592f3ac6aa5&page=queryresults\">Open Job</a>"
      ],
      "text/plain": [
       "<IPython.core.display.HTML object>"
      ]
     },
     "metadata": {},
     "output_type": "display_data"
    },
    {
     "name": "stdout",
     "output_type": "stream",
     "text": [
      "<class 'bigframes.dataframe.DataFrame'>\n"
     ]
    },
    {
     "data": {
      "text/html": [
       "Query job fe55b485-5a92-4c18-abd9-59edc3c1818e is DONE. 1.7 GB processed. <a target=\"_blank\" href=\"https://console.cloud.google.com/bigquery?project=arctic-eye-446816-j7&j=bq:US:fe55b485-5a92-4c18-abd9-59edc3c1818e&page=queryresults\">Open Job</a>"
      ],
      "text/plain": [
       "<IPython.core.display.HTML object>"
      ]
     },
     "metadata": {},
     "output_type": "display_data"
    },
    {
     "data": {
      "text/html": [
       "Query job 4daf21ba-3698-4c73-8a1d-afab25264e9c is DONE. 1.7 GB processed. <a target=\"_blank\" href=\"https://console.cloud.google.com/bigquery?project=arctic-eye-446816-j7&j=bq:US:4daf21ba-3698-4c73-8a1d-afab25264e9c&page=queryresults\">Open Job</a>"
      ],
      "text/plain": [
       "<IPython.core.display.HTML object>"
      ]
     },
     "metadata": {},
     "output_type": "display_data"
    },
    {
     "name": "stdout",
     "output_type": "stream",
     "text": [
      "Index: 8252924 entries, 0 to 8252923\n",
      "Data columns (total 22 columns):\n",
      "  #  Column                Dtype\n",
      "---  --------------------  ------------------------------\n",
      "  0  unique_key            Int64\n",
      "  1  case_number           string\n",
      "  2  date                  timestamp[us, tz=UTC][pyarrow]\n",
      "  3  block                 string\n",
      "  4  iucr                  string\n",
      "  5  primary_type          string\n",
      "  6  description           string\n",
      "  7  location_description  string\n",
      "  8  arrest                boolean\n",
      "  9  domestic              boolean\n",
      " 10  beat                  Int64\n",
      " 11  district              Int64\n",
      " 12  ward                  Int64\n",
      " 13  community_area        Int64\n",
      " 14  fbi_code              string\n",
      " 15  x_coordinate          Float64\n",
      " 16  y_coordinate          Float64\n",
      " 17  year                  Int64\n",
      " 18  updated_on            timestamp[us, tz=UTC][pyarrow]\n",
      " 19  latitude              Float64\n",
      " 20  longitude             Float64\n",
      " 21  location              string\n",
      "dtypes: Float64(4), Int64(6), boolean(2), string(8), timestamp[us, tz=UTC][pyarrow](2)\n"
     ]
    },
    {
     "data": {
      "text/html": [
       "Query job e565e8c2-2820-485b-b7bb-c198264b1613 is DONE. 0 Bytes processed. <a target=\"_blank\" href=\"https://console.cloud.google.com/bigquery?project=arctic-eye-446816-j7&j=bq:US:e565e8c2-2820-485b-b7bb-c198264b1613&page=queryresults\">Open Job</a>"
      ],
      "text/plain": [
       "<IPython.core.display.HTML object>"
      ]
     },
     "metadata": {},
     "output_type": "display_data"
    },
    {
     "name": "stdout",
     "output_type": "stream",
     "text": [
      "memory usage: 1402997080 bytes\n"
     ]
    }
   ],
   "source": [
    "chicago.info()"
   ]
  },
  {
   "cell_type": "code",
   "execution_count": 5,
   "id": "d1ee1e31-2521-4482-9c86-2c71ba755c8b",
   "metadata": {
    "tags": []
   },
   "outputs": [
    {
     "data": {
      "text/html": [
       "Query job a367059c-809c-4ac5-9bae-11670447c44a is DONE. 0 Bytes processed. <a target=\"_blank\" href=\"https://console.cloud.google.com/bigquery?project=arctic-eye-446816-j7&j=bq:US:a367059c-809c-4ac5-9bae-11670447c44a&page=queryresults\">Open Job</a>"
      ],
      "text/plain": [
       "<IPython.core.display.HTML object>"
      ]
     },
     "metadata": {},
     "output_type": "display_data"
    },
    {
     "name": "stdout",
     "output_type": "stream",
     "text": [
      "<class 'bigframes.dataframe.DataFrame'>\n"
     ]
    },
    {
     "data": {
      "text/html": [
       "Query job 3dde8744-cad8-41bb-8812-ec617441431a is DONE. 67.3 MB processed. <a target=\"_blank\" href=\"https://console.cloud.google.com/bigquery?project=arctic-eye-446816-j7&j=bq:US:3dde8744-cad8-41bb-8812-ec617441431a&page=queryresults\">Open Job</a>"
      ],
      "text/plain": [
       "<IPython.core.display.HTML object>"
      ]
     },
     "metadata": {},
     "output_type": "display_data"
    },
    {
     "data": {
      "text/html": [
       "Query job 89329a57-d6ee-4379-8144-6462f7b67078 is DONE. 67.3 MB processed. <a target=\"_blank\" href=\"https://console.cloud.google.com/bigquery?project=arctic-eye-446816-j7&j=bq:US:89329a57-d6ee-4379-8144-6462f7b67078&page=queryresults\">Open Job</a>"
      ],
      "text/plain": [
       "<IPython.core.display.HTML object>"
      ]
     },
     "metadata": {},
     "output_type": "display_data"
    },
    {
     "name": "stdout",
     "output_type": "stream",
     "text": [
      "Index: 116672 entries, 0 to 116671\n",
      "Data columns (total 18 columns):\n"
     ]
    },
    {
     "name": "stderr",
     "output_type": "stream",
     "text": [
      "/opt/conda/lib/python3.10/site-packages/bigframes/core/blocks.py:125: NullIndexPreviewWarning: Creating object with Null Index. Null Index is a preview feature.\n",
      "  warnings.warn(\n"
     ]
    },
    {
     "data": {
      "text/html": [
       "Query job 3f5e87df-0459-4bf0-8ddb-90a7d5d1b615 is DONE. 67.3 MB processed. <a target=\"_blank\" href=\"https://console.cloud.google.com/bigquery?project=arctic-eye-446816-j7&j=bq:US:3f5e87df-0459-4bf0-8ddb-90a7d5d1b615&page=queryresults\">Open Job</a>"
      ],
      "text/plain": [
       "<IPython.core.display.HTML object>"
      ]
     },
     "metadata": {},
     "output_type": "display_data"
    },
    {
     "name": "stdout",
     "output_type": "stream",
     "text": [
      "  #  Column                 Non-Null Count    Dtype\n",
      "---  ---------------------  ----------------  ------------------------------\n",
      "  0  unique_key             116671 non-null   Int64\n",
      "  1  address                40640 non-null    string\n",
      "  2  census_tract           116149 non-null   Float64\n",
      "  3  clearance_date         111558 non-null   timestamp[us, tz=UTC][pyarrow]\n",
      "  4  clearance_status       111558 non-null   string\n",
      "  5  council_district_code  115997 non-null   Int64\n",
      "  6  description            116672 non-null   string\n",
      "  7  district               116672 non-null   string\n",
      "  8  latitude               34500 non-null    Float64\n",
      "  9  longitude              34500 non-null    Float64\n",
      " 10  location               116672 non-null   string\n",
      " 11  location_description   116672 non-null   string\n",
      " 12  primary_type           116672 non-null   string\n",
      " 13  timestamp              116672 non-null   timestamp[us, tz=UTC][pyarrow]\n",
      " 14  x_coordinate           114525 non-null   Int64\n",
      " 15  y_coordinate           114525 non-null   Int64\n",
      " 16  year                   116672 non-null   Int64\n",
      " 17  zipcode                116149 non-null   string\n",
      "dtypes: Float64(3), Int64(5), string(8), timestamp[us, tz=UTC][pyarrow](2)\n"
     ]
    },
    {
     "data": {
      "text/html": [
       "Query job 53dfa86f-e47b-41cb-83da-56eeac95d942 is DONE. 0 Bytes processed. <a target=\"_blank\" href=\"https://console.cloud.google.com/bigquery?project=arctic-eye-446816-j7&j=bq:US:53dfa86f-e47b-41cb-83da-56eeac95d942&page=queryresults\">Open Job</a>"
      ],
      "text/plain": [
       "<IPython.core.display.HTML object>"
      ]
     },
     "metadata": {},
     "output_type": "display_data"
    },
    {
     "name": "stdout",
     "output_type": "stream",
     "text": [
      "memory usage: 17734144 bytes\n"
     ]
    }
   ],
   "source": [
    "austin.info()"
   ]
  },
  {
   "cell_type": "code",
   "execution_count": 6,
   "id": "7c4a3a78-1fd1-434b-b6b2-73b50c42c2c6",
   "metadata": {
    "tags": []
   },
   "outputs": [],
   "source": [
    "#selecting a subset of available features shared between the two datasets\n",
    "chicago_df = chicago[['date','year','primary_type','arrest']].reset_index()\n",
    "austin_df = austin[['timestamp','year','primary_type','clearance_status']].reset_index()"
   ]
  },
  {
   "cell_type": "code",
   "execution_count": 7,
   "id": "8c731972-31be-425e-b3f0-c8a7d95b5aab",
   "metadata": {
    "tags": []
   },
   "outputs": [
    {
     "data": {
      "text/html": [
       "Query job 97b9ba4a-c7e6-4aed-afcc-48c6f941a87e is DONE. 67.3 MB processed. <a target=\"_blank\" href=\"https://console.cloud.google.com/bigquery?project=arctic-eye-446816-j7&j=bq:US:97b9ba4a-c7e6-4aed-afcc-48c6f941a87e&page=queryresults\">Open Job</a>"
      ],
      "text/plain": [
       "<IPython.core.display.HTML object>"
      ]
     },
     "metadata": {},
     "output_type": "display_data"
    },
    {
     "data": {
      "text/html": [
       "Query job 9bd2fbed-8662-43ae-b5a7-0e47d6c39fbf is DONE. 0 Bytes processed. <a target=\"_blank\" href=\"https://console.cloud.google.com/bigquery?project=arctic-eye-446816-j7&j=bq:US:9bd2fbed-8662-43ae-b5a7-0e47d6c39fbf&page=queryresults\">Open Job</a>"
      ],
      "text/plain": [
       "<IPython.core.display.HTML object>"
      ]
     },
     "metadata": {},
     "output_type": "display_data"
    },
    {
     "data": {
      "text/html": [
       "Query job dcf05d34-ed8f-48fd-a06c-2176a0ecc4d9 is DONE. 118 Bytes processed. <a target=\"_blank\" href=\"https://console.cloud.google.com/bigquery?project=arctic-eye-446816-j7&j=bq:US:dcf05d34-ed8f-48fd-a06c-2176a0ecc4d9&page=queryresults\">Open Job</a>"
      ],
      "text/plain": [
       "<IPython.core.display.HTML object>"
      ]
     },
     "metadata": {},
     "output_type": "display_data"
    },
    {
     "data": {
      "text/plain": [
       "0              Not cleared\n",
       "1        Cleared by Arrest\n",
       "24    Cleared by Exception\n",
       "34                    <NA>\n",
       "Name: clearance_status, dtype: string"
      ]
     },
     "execution_count": 7,
     "metadata": {},
     "output_type": "execute_result"
    }
   ],
   "source": [
    "#clearance status in Austin dataset is equivalent to \"arrest\" feature in Chicago dataset; the values from clearance status will be mapped to boolean vaues\n",
    "austin_df.clearance_status.unique()"
   ]
  },
  {
   "cell_type": "code",
   "execution_count": 8,
   "id": "73ecd0b9-4f44-486b-95ef-7cb0f4184b33",
   "metadata": {
    "tags": []
   },
   "outputs": [
    {
     "data": {
      "text/html": [
       "Query job 99207dfe-696f-414c-a6db-157b284147c0 is DONE. 67.3 MB processed. <a target=\"_blank\" href=\"https://console.cloud.google.com/bigquery?project=arctic-eye-446816-j7&j=bq:US:99207dfe-696f-414c-a6db-157b284147c0&page=queryresults\">Open Job</a>"
      ],
      "text/plain": [
       "<IPython.core.display.HTML object>"
      ]
     },
     "metadata": {},
     "output_type": "display_data"
    },
    {
     "data": {
      "text/html": [
       "Query job 760a9b99-3e54-4b60-b95e-3f73656910cc is DONE. 67.3 MB processed. <a target=\"_blank\" href=\"https://console.cloud.google.com/bigquery?project=arctic-eye-446816-j7&j=bq:US:760a9b99-3e54-4b60-b95e-3f73656910cc&page=queryresults\">Open Job</a>"
      ],
      "text/plain": [
       "<IPython.core.display.HTML object>"
      ]
     },
     "metadata": {},
     "output_type": "display_data"
    },
    {
     "data": {
      "text/html": [
       "Query job f211cc7f-9537-4a5b-9471-f657e8d2bb75 is DONE. 0 Bytes processed. <a target=\"_blank\" href=\"https://console.cloud.google.com/bigquery?project=arctic-eye-446816-j7&j=bq:US:f211cc7f-9537-4a5b-9471-f657e8d2bb75&page=queryresults\">Open Job</a>"
      ],
      "text/plain": [
       "<IPython.core.display.HTML object>"
      ]
     },
     "metadata": {},
     "output_type": "display_data"
    },
    {
     "data": {
      "text/html": [
       "Load job a2eba8ba-da4f-496b-909f-b876121d5675 is DONE. <a target=\"_blank\" href=\"https://console.cloud.google.com/bigquery?project=arctic-eye-446816-j7&j=bq:US:a2eba8ba-da4f-496b-909f-b876121d5675&page=queryresults\">Open Job</a>"
      ],
      "text/plain": [
       "<IPython.core.display.HTML object>"
      ]
     },
     "metadata": {},
     "output_type": "display_data"
    }
   ],
   "source": [
    "import numpy as np\n",
    "austin_df['arrest'] = np.where(austin_df['clearance_status'] == 'Cleared by Arrest', np.where(austin_df['clearance_status'] == 'Cleared by Exception', True, True), False)\n"
   ]
  },
  {
   "cell_type": "code",
   "execution_count": 9,
   "id": "e5ea8eea-5cde-4a15-b85e-de4d744a67ff",
   "metadata": {
    "tags": []
   },
   "outputs": [
    {
     "data": {
      "text/html": [
       "Query job 67b6ea23-406a-49f8-bb5b-84f56033138a is DONE. 68.3 MB processed. <a target=\"_blank\" href=\"https://console.cloud.google.com/bigquery?project=arctic-eye-446816-j7&j=bq:US:67b6ea23-406a-49f8-bb5b-84f56033138a&page=queryresults\">Open Job</a>"
      ],
      "text/plain": [
       "<IPython.core.display.HTML object>"
      ]
     },
     "metadata": {},
     "output_type": "display_data"
    },
    {
     "name": "stdout",
     "output_type": "stream",
     "text": [
      "<class 'bigframes.dataframe.DataFrame'>\n"
     ]
    },
    {
     "data": {
      "text/html": [
       "Query job 2dc2392c-a1f0-4d9d-b667-b0d75ab9848a is DONE. 69.2 MB processed. <a target=\"_blank\" href=\"https://console.cloud.google.com/bigquery?project=arctic-eye-446816-j7&j=bq:US:2dc2392c-a1f0-4d9d-b667-b0d75ab9848a&page=queryresults\">Open Job</a>"
      ],
      "text/plain": [
       "<IPython.core.display.HTML object>"
      ]
     },
     "metadata": {},
     "output_type": "display_data"
    },
    {
     "data": {
      "text/html": [
       "Query job bab7fb4e-505b-4125-bad5-17f55afa8f55 is DONE. 69.2 MB processed. <a target=\"_blank\" href=\"https://console.cloud.google.com/bigquery?project=arctic-eye-446816-j7&j=bq:US:bab7fb4e-505b-4125-bad5-17f55afa8f55&page=queryresults\">Open Job</a>"
      ],
      "text/plain": [
       "<IPython.core.display.HTML object>"
      ]
     },
     "metadata": {},
     "output_type": "display_data"
    },
    {
     "name": "stdout",
     "output_type": "stream",
     "text": [
      "Index: 116672 entries, 0 to 116671\n",
      "Data columns (total 5 columns):\n"
     ]
    },
    {
     "name": "stderr",
     "output_type": "stream",
     "text": [
      "/opt/conda/lib/python3.10/site-packages/bigframes/core/blocks.py:125: NullIndexPreviewWarning: Creating object with Null Index. Null Index is a preview feature.\n",
      "  warnings.warn(\n"
     ]
    },
    {
     "data": {
      "text/html": [
       "Query job f16ae147-64ec-4ea8-b9e9-802b8e7cfa11 is DONE. 68.4 MB processed. <a target=\"_blank\" href=\"https://console.cloud.google.com/bigquery?project=arctic-eye-446816-j7&j=bq:US:f16ae147-64ec-4ea8-b9e9-802b8e7cfa11&page=queryresults\">Open Job</a>"
      ],
      "text/plain": [
       "<IPython.core.display.HTML object>"
      ]
     },
     "metadata": {},
     "output_type": "display_data"
    },
    {
     "name": "stdout",
     "output_type": "stream",
     "text": [
      "  #  Column        Non-Null Count    Dtype\n",
      "---  ------------  ----------------  ------------------------------\n",
      "  0  index         116672 non-null   Int64\n",
      "  1  date          116672 non-null   timestamp[us, tz=UTC][pyarrow]\n",
      "  2  year          116672 non-null   Int64\n",
      "  3  primary_type  116672 non-null   string\n",
      "  4  arrest        116672 non-null   boolean\n",
      "dtypes: Int64(2), boolean(1), string(1), timestamp[us, tz=UTC][pyarrow](1)\n"
     ]
    },
    {
     "data": {
      "text/html": [
       "Query job e61104e7-1886-41bb-a0c9-407c46c333a5 is DONE. 68.3 MB processed. <a target=\"_blank\" href=\"https://console.cloud.google.com/bigquery?project=arctic-eye-446816-j7&j=bq:US:e61104e7-1886-41bb-a0c9-407c46c333a5&page=queryresults\">Open Job</a>"
      ],
      "text/plain": [
       "<IPython.core.display.HTML object>"
      ]
     },
     "metadata": {},
     "output_type": "display_data"
    },
    {
     "name": "stdout",
     "output_type": "stream",
     "text": [
      "memory usage: 4783552 bytes\n"
     ]
    }
   ],
   "source": [
    "austin_df = austin_df.drop(columns='clearance_status')\n",
    "austin_df = austin_df.rename(columns = {'timestamp':'date'})\n",
    "austin_df.info()"
   ]
  },
  {
   "cell_type": "code",
   "execution_count": 10,
   "id": "17c29424-be95-46e1-b56c-cc2cfc6328c0",
   "metadata": {
    "tags": []
   },
   "outputs": [
    {
     "data": {
      "text/html": [
       "Query job 7a7ea832-35fd-407b-a2a6-e2d8f849da97 is DONE. 0 Bytes processed. <a target=\"_blank\" href=\"https://console.cloud.google.com/bigquery?project=arctic-eye-446816-j7&j=bq:US:7a7ea832-35fd-407b-a2a6-e2d8f849da97&page=queryresults\">Open Job</a>"
      ],
      "text/plain": [
       "<IPython.core.display.HTML object>"
      ]
     },
     "metadata": {},
     "output_type": "display_data"
    },
    {
     "name": "stdout",
     "output_type": "stream",
     "text": [
      "<class 'bigframes.dataframe.DataFrame'>\n"
     ]
    },
    {
     "data": {
      "text/html": [
       "Query job d52358c0-636a-4ed5-bdc2-1a48ea73b9ef is DONE. 1.7 GB processed. <a target=\"_blank\" href=\"https://console.cloud.google.com/bigquery?project=arctic-eye-446816-j7&j=bq:US:d52358c0-636a-4ed5-bdc2-1a48ea73b9ef&page=queryresults\">Open Job</a>"
      ],
      "text/plain": [
       "<IPython.core.display.HTML object>"
      ]
     },
     "metadata": {},
     "output_type": "display_data"
    },
    {
     "data": {
      "text/html": [
       "Query job eb05663a-7d66-4b12-afc3-516c7a4a3be2 is DONE. 1.7 GB processed. <a target=\"_blank\" href=\"https://console.cloud.google.com/bigquery?project=arctic-eye-446816-j7&j=bq:US:eb05663a-7d66-4b12-afc3-516c7a4a3be2&page=queryresults\">Open Job</a>"
      ],
      "text/plain": [
       "<IPython.core.display.HTML object>"
      ]
     },
     "metadata": {},
     "output_type": "display_data"
    },
    {
     "name": "stdout",
     "output_type": "stream",
     "text": [
      "Index: 8252924 entries, 0 to 8252923\n",
      "Data columns (total 5 columns):\n",
      "  #  Column        Dtype\n",
      "---  ------------  ------------------------------\n",
      "  0  index         Int64\n",
      "  1  date          timestamp[us, tz=UTC][pyarrow]\n",
      "  2  year          Int64\n",
      "  3  primary_type  string\n",
      "  4  arrest        boolean\n",
      "dtypes: Int64(2), boolean(1), string(1), timestamp[us, tz=UTC][pyarrow](1)\n"
     ]
    },
    {
     "data": {
      "text/html": [
       "Query job 49f30a0d-b259-42c4-8f80-4b957744e3ca is DONE. 0 Bytes processed. <a target=\"_blank\" href=\"https://console.cloud.google.com/bigquery?project=arctic-eye-446816-j7&j=bq:US:49f30a0d-b259-42c4-8f80-4b957744e3ca&page=queryresults\">Open Job</a>"
      ],
      "text/plain": [
       "<IPython.core.display.HTML object>"
      ]
     },
     "metadata": {},
     "output_type": "display_data"
    },
    {
     "name": "stdout",
     "output_type": "stream",
     "text": [
      "memory usage: 338369884 bytes\n"
     ]
    }
   ],
   "source": [
    "chicago_df.info()"
   ]
  },
  {
   "cell_type": "code",
   "execution_count": 11,
   "id": "72953b0f-7542-431b-b7bc-fe0e165acaed",
   "metadata": {},
   "outputs": [],
   "source": [
    "chicago_group = chicago_df[['year', 'arrest']].groupby(['year']).count()\n",
    "chicago_group = chicago_group.reset_index()"
   ]
  },
  {
   "cell_type": "code",
   "execution_count": 12,
   "id": "e09892b2-7ab5-4e0e-a381-f4f1179e02bc",
   "metadata": {
    "tags": []
   },
   "outputs": [
    {
     "data": {
      "text/html": [
       "Query job de393bd2-aa28-4caf-af1a-ae8003c45aa1 is DONE. 66.0 MB processed. <a target=\"_blank\" href=\"https://console.cloud.google.com/bigquery?project=arctic-eye-446816-j7&j=bq:US:de393bd2-aa28-4caf-af1a-ae8003c45aa1&page=queryresults\">Open Job</a>"
      ],
      "text/plain": [
       "<IPython.core.display.HTML object>"
      ]
     },
     "metadata": {},
     "output_type": "display_data"
    },
    {
     "data": {
      "text/html": [
       "Query job 4ff3163a-06cb-4eae-b1cf-b3bdc21ac2aa is DONE. 74.3 MB processed. <a target=\"_blank\" href=\"https://console.cloud.google.com/bigquery?project=arctic-eye-446816-j7&j=bq:US:4ff3163a-06cb-4eae-b1cf-b3bdc21ac2aa&page=queryresults\">Open Job</a>"
      ],
      "text/plain": [
       "<IPython.core.display.HTML object>"
      ]
     },
     "metadata": {},
     "output_type": "display_data"
    },
    {
     "data": {
      "image/png": "[encoded data removed]",
      "text/plain": [
       "<Figure size 640x480 with 1 Axes>"
      ]
     },
     "metadata": {},
     "output_type": "display_data"
    }
   ],
   "source": [
    "plt.plot(chicago_group.year, chicago_group.arrest)\n",
    "plt.title('Reported crimes in Chicago as of Jan 2025')\n",
    "plt.xlabel('Year')\n",
    "plt.ylabel('Crimes')\n",
    "plt.show()"
   ]
  },
  {
   "cell_type": "code",
   "execution_count": 13,
   "id": "8fa86dc6-6a8d-4706-99cf-e437515b3839",
   "metadata": {
    "tags": []
   },
   "outputs": [
    {
     "data": {
      "text/html": [
       "Query job 01a6e002-6e55-4a86-aad6-9286fda3643e is DONE. 933.4 kB processed. <a target=\"_blank\" href=\"https://console.cloud.google.com/bigquery?project=arctic-eye-446816-j7&j=bq:US:01a6e002-6e55-4a86-aad6-9286fda3643e&page=queryresults\">Open Job</a>"
      ],
      "text/plain": [
       "<IPython.core.display.HTML object>"
      ]
     },
     "metadata": {},
     "output_type": "display_data"
    },
    {
     "data": {
      "text/html": [
       "Query job a28c2c43-5071-49d6-ac39-4bb7f297c077 is DONE. 68.4 MB processed. <a target=\"_blank\" href=\"https://console.cloud.google.com/bigquery?project=arctic-eye-446816-j7&j=bq:US:a28c2c43-5071-49d6-ac39-4bb7f297c077&page=queryresults\">Open Job</a>"
      ],
      "text/plain": [
       "<IPython.core.display.HTML object>"
      ]
     },
     "metadata": {},
     "output_type": "display_data"
    },
    {
     "data": {
      "image/png": "[encoded data removed]",
      "text/plain": [
       "<Figure size 640x480 with 1 Axes>"
      ]
     },
     "metadata": {},
     "output_type": "display_data"
    }
   ],
   "source": [
    "austin_group = austin_df[['year', 'arrest']].groupby(['year']).count().reset_index()\n",
    "plt.plot(austin_group.year, austin_group.arrest)\n",
    "plt.xticks(rotation = 25)\n",
    "plt.title('Reported crimes in Austin')\n",
    "plt.xlabel('Year')\n",
    "plt.ylabel('Crimes')\n",
    "plt.show()\n"
   ]
  },
  {
   "cell_type": "code",
   "execution_count": 14,
   "id": "2db82753-5667-44f6-8373-c9c4ee2c7219",
   "metadata": {
    "tags": []
   },
   "outputs": [
    {
     "data": {
      "text/html": [
       "Query job 07c59542-a254-483c-8e3e-5d3e57580a10 is DONE. 69.2 MB processed. <a target=\"_blank\" href=\"https://console.cloud.google.com/bigquery?project=arctic-eye-446816-j7&j=bq:US:07c59542-a254-483c-8e3e-5d3e57580a10&page=queryresults\">Open Job</a>"
      ],
      "text/plain": [
       "<IPython.core.display.HTML object>"
      ]
     },
     "metadata": {},
     "output_type": "display_data"
    },
    {
     "data": {
      "text/html": [
       "Query job 39fe8edc-1b27-4038-b745-3468d716a992 is DONE. 0 Bytes processed. <a target=\"_blank\" href=\"https://console.cloud.google.com/bigquery?project=arctic-eye-446816-j7&j=bq:US:39fe8edc-1b27-4038-b745-3468d716a992&page=queryresults\">Open Job</a>"
      ],
      "text/plain": [
       "<IPython.core.display.HTML object>"
      ]
     },
     "metadata": {},
     "output_type": "display_data"
    },
    {
     "data": {
      "text/html": [
       "Query job 7c0dd4bd-5cb2-448c-b027-ea1434642d22 is DONE. 766 Bytes processed. <a target=\"_blank\" href=\"https://console.cloud.google.com/bigquery?project=arctic-eye-446816-j7&j=bq:US:7c0dd4bd-5cb2-448c-b027-ea1434642d22&page=queryresults\">Open Job</a>"
      ],
      "text/plain": [
       "<IPython.core.display.HTML object>"
      ]
     },
     "metadata": {},
     "output_type": "display_data"
    },
    {
     "data": {
      "text/plain": [
       "0                                              Theft\n",
       "1                    Burglary / \n",
       "Breaking & Entering\n",
       "2                                           Burglary\n",
       "4                                         Theft: BOV\n",
       "6                                         Auto Theft\n",
       "18                                Theft: Shoplifting\n",
       "20                          Theft: All Other Larceny\n",
       "24                                              Rape\n",
       "32                                Aggravated Assault\n",
       "40                                           Robbery\n",
       "53                                       Agg Assault\n",
       "113                            Theft: Pocket Picking\n",
       "126                                Theft: Auto Parts\n",
       "400                             Theft: from Building\n",
       "1576                          Theft: Coin Op Machine\n",
       "1723    Homicide: Murder & Nonnegligent Manslaughter\n",
       "1858                                          Murder\n",
       "2189                          Theft: Purse Snatching\n",
       "Name: primary_type, dtype: string"
      ]
     },
     "execution_count": 14,
     "metadata": {},
     "output_type": "execute_result"
    }
   ],
   "source": [
    "austin_df.primary_type.unique()"
   ]
  },
  {
   "cell_type": "code",
   "execution_count": 15,
   "id": "b55ad6a7-c5f7-43ee-9ebf-035438a0a792",
   "metadata": {
    "tags": []
   },
   "outputs": [],
   "source": [
    "new_primary_types = {'Theft':'Theft', 'Burglary / Breaking & Entering':'Burglary', 'Theft: BOV':'Theft','Auto Theft':'Auto Theft','Theft: Shoplifting':'Theft', 'Theft: All Other Larceny':'Theft', 'Rape':'Rape','Aggravated Assault':'Assault', 'Robbery':'Robbery','Agg Assault':'Assault','Theft: Pocket Picking':'Theft','Theft: Auto Parts':'Auto Theft','Theft: from Building':'Theft','Theft: Coin Op Machine':'Theft','Homicide: Murder & Nonnegligent Manslaughter':'Murder','Murder':'Murder','Theft: Purse Snatching':'Theft'}\n",
    "austin_df['primary_type'] = austin_df.primary_type.map(new_primary_types)"
   ]
  },
  {
   "cell_type": "code",
   "execution_count": 16,
   "id": "8bc59607-363b-48c0-a91e-3876f079b465",
   "metadata": {
    "tags": []
   },
   "outputs": [
    {
     "data": {
      "text/html": [
       "Query job dfc8aeb3-0683-4cc9-a150-cfb11d83936c is DONE. 68.3 MB processed. <a target=\"_blank\" href=\"https://console.cloud.google.com/bigquery?project=arctic-eye-446816-j7&j=bq:US:dfc8aeb3-0683-4cc9-a150-cfb11d83936c&page=queryresults\">Open Job</a>"
      ],
      "text/plain": [
       "<IPython.core.display.HTML object>"
      ]
     },
     "metadata": {},
     "output_type": "display_data"
    },
    {
     "data": {
      "text/html": [
       "Query job aaef137f-5a30-4aa6-b3e8-e21b82885d00 is DONE. 68.3 MB processed. <a target=\"_blank\" href=\"https://console.cloud.google.com/bigquery?project=arctic-eye-446816-j7&j=bq:US:aaef137f-5a30-4aa6-b3e8-e21b82885d00&page=queryresults\">Open Job</a>"
      ],
      "text/plain": [
       "<IPython.core.display.HTML object>"
      ]
     },
     "metadata": {},
     "output_type": "display_data"
    },
    {
     "data": {
      "text/html": [
       "Query job 7793b0a8-e17c-4dbb-9588-fd4aeb3f9bdb is DONE. 68.3 MB processed. <a target=\"_blank\" href=\"https://console.cloud.google.com/bigquery?project=arctic-eye-446816-j7&j=bq:US:7793b0a8-e17c-4dbb-9588-fd4aeb3f9bdb&page=queryresults\">Open Job</a>"
      ],
      "text/plain": [
       "<IPython.core.display.HTML object>"
      ]
     },
     "metadata": {},
     "output_type": "display_data"
    },
    {
     "data": {
      "text/html": [
       "Query job 59515d02-a75e-4e97-9173-462881e286ca is DONE. 68.4 MB processed. <a target=\"_blank\" href=\"https://console.cloud.google.com/bigquery?project=arctic-eye-446816-j7&j=bq:US:59515d02-a75e-4e97-9173-462881e286ca&page=queryresults\">Open Job</a>"
      ],
      "text/plain": [
       "<IPython.core.display.HTML object>"
      ]
     },
     "metadata": {},
     "output_type": "display_data"
    },
    {
     "name": "stderr",
     "output_type": "stream",
     "text": [
      "/var/tmp/ipykernel_25578/3140642529.py:2: FutureWarning: \n",
      "\n",
      "Passing `palette` without assigning `hue` is deprecated and will be removed in v0.14.0. Assign the `x` variable to `hue` and set `legend=False` for the same effect.\n",
      "\n",
      "  sns.barplot(x=austin_type_group.primary_type, y=austin_type_group.arrest, palette=\"deep\")\n"
     ]
    },
    {
     "data": {
      "image/png": "[encoded data removed]",
      "text/plain": [
       "<Figure size 640x480 with 1 Axes>"
      ]
     },
     "metadata": {},
     "output_type": "display_data"
    }
   ],
   "source": [
    "austin_type_group = austin_df[['primary_type', 'arrest']].groupby(['primary_type']).count().reset_index()\n",
    "sns.barplot(x=austin_type_group.primary_type, y=austin_type_group.arrest, palette=\"deep\")\n",
    "plt.xticks(rotation = 35)\n",
    "plt.title('Crimes by type')\n",
    "plt.xlabel('Type')\n",
    "plt.ylabel('Crimes')\n",
    "plt.show()"
   ]
  },
  {
   "cell_type": "code",
   "execution_count": 17,
   "id": "15b91e35-16fc-437d-ae8a-51337bb2e0b1",
   "metadata": {
    "tags": []
   },
   "outputs": [
    {
     "data": {
      "text/html": [
       "Query job 284021f0-e3f6-4f36-b776-84c840e61296 is DONE. 1.7 GB processed. <a target=\"_blank\" href=\"https://console.cloud.google.com/bigquery?project=arctic-eye-446816-j7&j=bq:US:284021f0-e3f6-4f36-b776-84c840e61296&page=queryresults\">Open Job</a>"
      ],
      "text/plain": [
       "<IPython.core.display.HTML object>"
      ]
     },
     "metadata": {},
     "output_type": "display_data"
    },
    {
     "data": {
      "text/html": [
       "Query job db7b88f2-8450-4d4b-8619-e9e34f7c2747 is DONE. 0 Bytes processed. <a target=\"_blank\" href=\"https://console.cloud.google.com/bigquery?project=arctic-eye-446816-j7&j=bq:US:db7b88f2-8450-4d4b-8619-e9e34f7c2747&page=queryresults\">Open Job</a>"
      ],
      "text/plain": [
       "<IPython.core.display.HTML object>"
      ]
     },
     "metadata": {},
     "output_type": "display_data"
    },
    {
     "data": {
      "text/html": [
       "Query job a32341fe-8282-4dbb-83f3-b4dbabb2d2cc is DONE. 1.2 kB processed. <a target=\"_blank\" href=\"https://console.cloud.google.com/bigquery?project=arctic-eye-446816-j7&j=bq:US:a32341fe-8282-4dbb-83f3-b4dbabb2d2cc&page=queryresults\">Open Job</a>"
      ],
      "text/plain": [
       "<IPython.core.display.HTML object>"
      ]
     },
     "metadata": {},
     "output_type": "display_data"
    },
    {
     "data": {
      "text/plain": [
       "0                             NARCOTICS\n",
       "1                         OTHER OFFENSE\n",
       "2                                 THEFT\n",
       "4                               BATTERY\n",
       "6                               ASSAULT\n",
       "7                   MOTOR VEHICLE THEFT\n",
       "11                              ROBBERY\n",
       "12                      CRIMINAL DAMAGE\n",
       "13              CRIMINAL SEXUAL ASSAULT\n",
       "16                    CRIMINAL TRESPASS\n",
       "23                    WEAPONS VIOLATION\n",
       "25                             BURGLARY\n",
       "29                   DECEPTIVE PRACTICE\n",
       "65           OFFENSE INVOLVING CHILDREN\n",
       "88                                ARSON\n",
       "102                        PROSTITUTION\n",
       "177              PUBLIC PEACE VIOLATION\n",
       "236                 CRIM SEXUAL ASSAULT\n",
       "299                            STALKING\n",
       "332                            GAMBLING\n",
       "384                LIQUOR LAW VIOLATION\n",
       "399                         SEX OFFENSE\n",
       "431    INTERFERENCE WITH PUBLIC OFFICER\n",
       "443                            HOMICIDE\n",
       "522                          KIDNAPPING\n",
       "Name: primary_type, dtype: string"
      ]
     },
     "execution_count": 17,
     "metadata": {},
     "output_type": "execute_result"
    }
   ],
   "source": [
    "chicago_df.primary_type.unique()"
   ]
  },
  {
   "cell_type": "code",
   "execution_count": 18,
   "id": "cd5fcca4-d08c-4424-a8c6-25f54d65ba3b",
   "metadata": {
    "tags": []
   },
   "outputs": [
    {
     "data": {
      "text/html": [
       "Query job 52cf23b3-b224-459a-9be0-3111735da48a is DONE. 107.9 MB processed. <a target=\"_blank\" href=\"https://console.cloud.google.com/bigquery?project=arctic-eye-446816-j7&j=bq:US:52cf23b3-b224-459a-9be0-3111735da48a&page=queryresults\">Open Job</a>"
      ],
      "text/plain": [
       "<IPython.core.display.HTML object>"
      ]
     },
     "metadata": {},
     "output_type": "display_data"
    },
    {
     "data": {
      "text/html": [
       "Query job 9795d863-03f2-4bd1-a030-e4d0233adefe is DONE. 107.9 MB processed. <a target=\"_blank\" href=\"https://console.cloud.google.com/bigquery?project=arctic-eye-446816-j7&j=bq:US:9795d863-03f2-4bd1-a030-e4d0233adefe&page=queryresults\">Open Job</a>"
      ],
      "text/plain": [
       "<IPython.core.display.HTML object>"
      ]
     },
     "metadata": {},
     "output_type": "display_data"
    },
    {
     "data": {
      "text/html": [
       "Query job ae459a16-eb98-4128-afe5-0148c1209596 is DONE. 107.9 MB processed. <a target=\"_blank\" href=\"https://console.cloud.google.com/bigquery?project=arctic-eye-446816-j7&j=bq:US:ae459a16-eb98-4128-afe5-0148c1209596&page=queryresults\">Open Job</a>"
      ],
      "text/plain": [
       "<IPython.core.display.HTML object>"
      ]
     },
     "metadata": {},
     "output_type": "display_data"
    },
    {
     "data": {
      "text/html": [
       "Query job 07dd0229-e04d-45fc-a457-947f46ed338d is DONE. 107.9 MB processed. <a target=\"_blank\" href=\"https://console.cloud.google.com/bigquery?project=arctic-eye-446816-j7&j=bq:US:07dd0229-e04d-45fc-a457-947f46ed338d&page=queryresults\">Open Job</a>"
      ],
      "text/plain": [
       "<IPython.core.display.HTML object>"
      ]
     },
     "metadata": {},
     "output_type": "display_data"
    },
    {
     "name": "stderr",
     "output_type": "stream",
     "text": [
      "/var/tmp/ipykernel_25578/2238273176.py:3: FutureWarning: \n",
      "\n",
      "Passing `palette` without assigning `hue` is deprecated and will be removed in v0.14.0. Assign the `x` variable to `hue` and set `legend=False` for the same effect.\n",
      "\n",
      "  sns.barplot(x=chicago_type_group[chicago_type_group['arrest'] > 25000].primary_type, y=chicago_type_group[chicago_type_group['arrest'] > 25000].arrest, palette=\"deep\")\n"
     ]
    },
    {
     "data": {
      "image/png": "[encoded data removed]",
      "text/plain": [
       "<Figure size 1500x500 with 1 Axes>"
      ]
     },
     "metadata": {},
     "output_type": "display_data"
    }
   ],
   "source": [
    "chicago_type_group = chicago_df[['primary_type', 'arrest']].groupby(['primary_type']).count().reset_index()\n",
    "plt.figure(figsize=(15,5))\n",
    "sns.barplot(x=chicago_type_group[chicago_type_group['arrest'] > 25000].primary_type, y=chicago_type_group[chicago_type_group['arrest'] > 25000].arrest, palette=\"deep\")\n",
    "plt.title('Crimes by type')\n",
    "plt.xlabel('Type')\n",
    "plt.ylabel('Crimes')\n",
    "plt.xticks(rotation = 35)\n",
    "plt.show()"
   ]
  },
  {
   "cell_type": "code",
   "execution_count": 19,
   "id": "9714b9a2-e3fc-4d2b-9b90-52257d1e3b63",
   "metadata": {
    "tags": []
   },
   "outputs": [],
   "source": [
    "from sklearn.preprocessing import StandardScaler\n",
    "from sklearn.linear_model import LinearRegression\n",
    "from sklearn.model_selection import train_test_split"
   ]
  },
  {
   "cell_type": "code",
   "execution_count": 20,
   "id": "58f01159-90bb-4678-a38f-7e04f863e194",
   "metadata": {
    "tags": []
   },
   "outputs": [],
   "source": [
    "chicago_group = chicago_df[['year', 'primary_type','arrest']].groupby(['year','primary_type']).count().reset_index()"
   ]
  },
  {
   "cell_type": "code",
   "execution_count": 21,
   "id": "b11f2f70-ca31-47d0-89a0-23cd7a55f751",
   "metadata": {
    "tags": []
   },
   "outputs": [
    {
     "data": {
      "text/html": [
       "Query job a0c2768c-48b6-4dfc-9755-bb4f578b978d is DONE. 165.6 MB processed. <a target=\"_blank\" href=\"https://console.cloud.google.com/bigquery?project=arctic-eye-446816-j7&j=bq:US:a0c2768c-48b6-4dfc-9755-bb4f578b978d&page=queryresults\">Open Job</a>"
      ],
      "text/plain": [
       "<IPython.core.display.HTML object>"
      ]
     },
     "metadata": {},
     "output_type": "display_data"
    },
    {
     "name": "stdout",
     "output_type": "stream",
     "text": [
      "<class 'bigframes.dataframe.DataFrame'>\n"
     ]
    },
    {
     "data": {
      "text/html": [
       "Query job 46ab0d15-c479-42fb-b3d8-7a49f1966a18 is DONE. 165.6 MB processed. <a target=\"_blank\" href=\"https://console.cloud.google.com/bigquery?project=arctic-eye-446816-j7&j=bq:US:46ab0d15-c479-42fb-b3d8-7a49f1966a18&page=queryresults\">Open Job</a>"
      ],
      "text/plain": [
       "<IPython.core.display.HTML object>"
      ]
     },
     "metadata": {},
     "output_type": "display_data"
    },
    {
     "data": {
      "text/html": [
       "Query job 5ea6b413-663c-4812-b4cc-642dbcf1b402 is DONE. 165.6 MB processed. <a target=\"_blank\" href=\"https://console.cloud.google.com/bigquery?project=arctic-eye-446816-j7&j=bq:US:5ea6b413-663c-4812-b4cc-642dbcf1b402&page=queryresults\">Open Job</a>"
      ],
      "text/plain": [
       "<IPython.core.display.HTML object>"
      ]
     },
     "metadata": {},
     "output_type": "display_data"
    },
    {
     "name": "stdout",
     "output_type": "stream",
     "text": [
      "Index: 781 entries, 0 to 780\n",
      "Data columns (total 2 columns):\n"
     ]
    },
    {
     "name": "stderr",
     "output_type": "stream",
     "text": [
      "/opt/conda/lib/python3.10/site-packages/bigframes/core/blocks.py:125: NullIndexPreviewWarning: Creating object with Null Index. Null Index is a preview feature.\n",
      "  warnings.warn(\n"
     ]
    },
    {
     "data": {
      "text/html": [
       "Query job 7057216d-0204-4056-919d-fbdc089028bf is DONE. 165.6 MB processed. <a target=\"_blank\" href=\"https://console.cloud.google.com/bigquery?project=arctic-eye-446816-j7&j=bq:US:7057216d-0204-4056-919d-fbdc089028bf&page=queryresults\">Open Job</a>"
      ],
      "text/plain": [
       "<IPython.core.display.HTML object>"
      ]
     },
     "metadata": {},
     "output_type": "display_data"
    },
    {
     "name": "stdout",
     "output_type": "stream",
     "text": [
      "  #  Column        Non-Null Count    Dtype\n",
      "---  ------------  ----------------  -------\n",
      "  0  year          781 non-null      Int64\n",
      "  1  primary_type  781 non-null      string\n",
      "dtypes: Int64(1), string(1)\n"
     ]
    },
    {
     "data": {
      "text/html": [
       "Query job 698153ec-be16-4489-93d3-d6d5110d4a47 is DONE. 165.6 MB processed. <a target=\"_blank\" href=\"https://console.cloud.google.com/bigquery?project=arctic-eye-446816-j7&j=bq:US:698153ec-be16-4489-93d3-d6d5110d4a47&page=queryresults\">Open Job</a>"
      ],
      "text/plain": [
       "<IPython.core.display.HTML object>"
      ]
     },
     "metadata": {},
     "output_type": "display_data"
    },
    {
     "name": "stdout",
     "output_type": "stream",
     "text": [
      "memory usage: 18744 bytes\n"
     ]
    }
   ],
   "source": [
    "X = chicago_group.drop(columns = ['arrest'])\n",
    "#selecting target\n",
    "Y = chicago_group['arrest']\n",
    "#making sure all features are numerical\n",
    "X.info()"
   ]
  },
  {
   "cell_type": "code",
   "execution_count": 22,
   "id": "8611bc24-1d6e-49ac-88b8-06691b178935",
   "metadata": {
    "tags": []
   },
   "outputs": [
    {
     "data": {
      "text/html": [
       "Query job ab0b2d6d-0e44-4495-ab14-470c3f33220e is DONE. 165.6 MB processed. <a target=\"_blank\" href=\"https://console.cloud.google.com/bigquery?project=arctic-eye-446816-j7&j=bq:US:ab0b2d6d-0e44-4495-ab14-470c3f33220e&page=queryresults\">Open Job</a>"
      ],
      "text/plain": [
       "<IPython.core.display.HTML object>"
      ]
     },
     "metadata": {},
     "output_type": "display_data"
    },
    {
     "data": {
      "text/html": [
       "Query job 79bbac14-58f7-4bbd-828a-0ef53c2a682e is DONE. 165.6 MB processed. <a target=\"_blank\" href=\"https://console.cloud.google.com/bigquery?project=arctic-eye-446816-j7&j=bq:US:79bbac14-58f7-4bbd-828a-0ef53c2a682e&page=queryresults\">Open Job</a>"
      ],
      "text/plain": [
       "<IPython.core.display.HTML object>"
      ]
     },
     "metadata": {},
     "output_type": "display_data"
    },
    {
     "data": {
      "text/html": [
       "Query job d89a22e1-93e8-4ea1-8e80-b856718a2c59 is DONE. 165.6 MB processed. <a target=\"_blank\" href=\"https://console.cloud.google.com/bigquery?project=arctic-eye-446816-j7&j=bq:US:d89a22e1-93e8-4ea1-8e80-b856718a2c59&page=queryresults\">Open Job</a>"
      ],
      "text/plain": [
       "<IPython.core.display.HTML object>"
      ]
     },
     "metadata": {},
     "output_type": "display_data"
    }
   ],
   "source": [
    "ptypes_ohe = pd.get_dummies(X.primary_type, drop_first=True)\n",
    "X = pd.DataFrame(X)\n",
    "ptypes_ohe = pd.DataFrame(ptypes_ohe)\n",
    "X = X.join(ptypes_ohe)"
   ]
  },
  {
   "cell_type": "code",
   "execution_count": 23,
   "id": "2cf0ef81-3e0f-46e2-82bd-90e5ea8d45a0",
   "metadata": {
    "tags": []
   },
   "outputs": [
    {
     "name": "stdout",
     "output_type": "stream",
     "text": [
      "<class 'pandas.core.frame.DataFrame'>\n",
      "RangeIndex: 781 entries, 0 to 780\n",
      "Data columns (total 36 columns):\n",
      " #   Column                             Non-Null Count  Dtype  \n",
      "---  ------                             --------------  -----  \n",
      " 0   Year                               781 non-null    int64  \n",
      " 1   ASSAULT                            781 non-null    boolean\n",
      " 2   BATTERY                            781 non-null    boolean\n",
      " 3   BURGLARY                           781 non-null    boolean\n",
      " 4   CONCEALED CARRY LICENSE VIOLATION  781 non-null    boolean\n",
      " 5   CRIM SEXUAL ASSAULT                781 non-null    boolean\n",
      " 6   CRIMINAL DAMAGE                    781 non-null    boolean\n",
      " 7   CRIMINAL SEXUAL ASSAULT            781 non-null    boolean\n",
      " 8   CRIMINAL TRESPASS                  781 non-null    boolean\n",
      " 9   DECEPTIVE PRACTICE                 781 non-null    boolean\n",
      " 10  DOMESTIC VIOLENCE                  781 non-null    boolean\n",
      " 11  GAMBLING                           781 non-null    boolean\n",
      " 12  HOMICIDE                           781 non-null    boolean\n",
      " 13  HUMAN TRAFFICKING                  781 non-null    boolean\n",
      " 14  INTERFERENCE WITH PUBLIC OFFICER   781 non-null    boolean\n",
      " 15  INTIMIDATION                       781 non-null    boolean\n",
      " 16  KIDNAPPING                         781 non-null    boolean\n",
      " 17  LIQUOR LAW VIOLATION               781 non-null    boolean\n",
      " 18  MOTOR VEHICLE THEFT                781 non-null    boolean\n",
      " 19  NARCOTICS                          781 non-null    boolean\n",
      " 20  NON - CRIMINAL                     781 non-null    boolean\n",
      " 21  NON-CRIMINAL                       781 non-null    boolean\n",
      " 22  NON-CRIMINAL (SUBJECT SPECIFIED)   781 non-null    boolean\n",
      " 23  OBSCENITY                          781 non-null    boolean\n",
      " 24  OFFENSE INVOLVING CHILDREN         781 non-null    boolean\n",
      " 25  OTHER NARCOTIC VIOLATION           781 non-null    boolean\n",
      " 26  OTHER OFFENSE                      781 non-null    boolean\n",
      " 27  PROSTITUTION                       781 non-null    boolean\n",
      " 28  PUBLIC INDECENCY                   781 non-null    boolean\n",
      " 29  PUBLIC PEACE VIOLATION             781 non-null    boolean\n",
      " 30  RITUALISM                          781 non-null    boolean\n",
      " 31  ROBBERY                            781 non-null    boolean\n",
      " 32  SEX OFFENSE                        781 non-null    boolean\n",
      " 33  STALKING                           781 non-null    boolean\n",
      " 34  THEFT                              781 non-null    boolean\n",
      " 35  WEAPONS VIOLATION                  781 non-null    boolean\n",
      "dtypes: boolean(35), int64(1)\n",
      "memory usage: 59.6 KB\n"
     ]
    }
   ],
   "source": [
    "X = X.rename(columns = {0:'Year'})\n",
    "X = X.drop(columns = 1)\n",
    "X['Year'] = X['Year'].apply(pd.to_numeric)\n",
    "X.info()"
   ]
  },
  {
   "cell_type": "code",
   "execution_count": 24,
   "id": "eb125bf2-dea0-4f5d-8735-ee428ac4afa5",
   "metadata": {
    "tags": []
   },
   "outputs": [
    {
     "data": {
      "text/html": [
       "Query job ecf3eeeb-3493-44e4-8b73-89f248e0fc7c is DONE. 165.6 MB processed. <a target=\"_blank\" href=\"https://console.cloud.google.com/bigquery?project=arctic-eye-446816-j7&j=bq:US:ecf3eeeb-3493-44e4-8b73-89f248e0fc7c&page=queryresults\">Open Job</a>"
      ],
      "text/plain": [
       "<IPython.core.display.HTML object>"
      ]
     },
     "metadata": {},
     "output_type": "display_data"
    },
    {
     "data": {
      "text/html": [
       "Query job f4742f35-8747-4e03-b2d4-69e8348e90ef is DONE. 173.9 MB processed. <a target=\"_blank\" href=\"https://console.cloud.google.com/bigquery?project=arctic-eye-446816-j7&j=bq:US:f4742f35-8747-4e03-b2d4-69e8348e90ef&page=queryresults\">Open Job</a>"
      ],
      "text/plain": [
       "<IPython.core.display.HTML object>"
      ]
     },
     "metadata": {},
     "output_type": "display_data"
    }
   ],
   "source": [
    "Y = pd.Series(Y)"
   ]
  },
  {
   "cell_type": "code",
   "execution_count": 25,
   "id": "29897f63-808b-47db-a3cc-d6ae7e140650",
   "metadata": {
    "tags": []
   },
   "outputs": [],
   "source": [
    "features = X\n",
    "scaler = StandardScaler()\n",
    "scaled = scaler.fit(features)\n",
    "X = scaled.transform(features)\n",
    "X = pd.DataFrame(X, columns=features.columns)"
   ]
  },
  {
   "cell_type": "code",
   "execution_count": 26,
   "id": "ea89ec6e-6424-46f5-b84b-d4798ef3c72c",
   "metadata": {
    "tags": []
   },
   "outputs": [],
   "source": [
    "x_train, x_test, y_train, y_test = train_test_split(X, Y, train_size = 0.8, test_size = 0.2, random_state=6)"
   ]
  },
  {
   "cell_type": "code",
   "execution_count": 27,
   "id": "00850382-c51e-4415-9a9b-516c3467bff4",
   "metadata": {
    "tags": []
   },
   "outputs": [
    {
     "name": "stdout",
     "output_type": "stream",
     "text": [
      "DT Mean Training Error:  6478.953780330993\n",
      "DT Mean Testing Error:  4.124107535490535e+16\n",
      "Model train score:  0.8722365908153147\n",
      "Model test score:  -3.687258038834524e+24\n"
     ]
    }
   ],
   "source": [
    "LR_model = LinearRegression()\n",
    "LR_model.fit(x_train, y_train)\n",
    "LR_model_pred_train = LR_model.predict(x_train)\n",
    "LR_model_train_score = np.sqrt(np.mean((LR_model_pred_train - y_train)**2))\n",
    "print(\"DT Mean Training Error: \", LR_model_train_score)\n",
    "\n",
    "\n",
    "LR_model_pred_test = LR_model.predict(x_test)\n",
    "LR_model_test_score = np.sqrt(np.mean((LR_model_pred_test - y_test)**2))\n",
    "print(\"DT Mean Testing Error: \", LR_model_test_score)\n",
    "\n",
    "print(\"Model train score: \", LR_model.score(x_train, y_train))\n",
    "print(\"Model test score: \", LR_model.score(x_test, y_test))"
   ]
  },
  {
   "cell_type": "markdown",
   "id": "e1e974fd-1614-4104-a62e-4ab5a631a049",
   "metadata": {},
   "source": [
    "The model performs very poorly on test data; the dataset size is too small to predict the numbers and the linear correlation is too poor for an effective model."
   ]
  }
 ],
 "metadata": {
  "environment": {
   "kernel": "conda-base-py",
   "name": "workbench-notebooks.m126",
   "type": "gcloud",
   "uri": "us-docker.pkg.dev/deeplearning-platform-release/gcr.io/workbench-notebooks:m126"
  },
  "kernelspec": {
   "display_name": "Python 3 (ipykernel) (Local)",
   "language": "python",
   "name": "conda-base-py"
  },
  "language_info": {
   "codemirror_mode": {
    "name": "ipython",
    "version": 3
   },
   "file_extension": ".py",
   "mimetype": "text/x-python",
   "name": "python",
   "nbconvert_exporter": "python",
   "pygments_lexer": "ipython3",
   "version": "3.10.15"
  }
 },
 "nbformat": 4,
 "nbformat_minor": 5
}
