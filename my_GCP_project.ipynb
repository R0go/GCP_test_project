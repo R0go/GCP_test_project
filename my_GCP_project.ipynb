{
 "cells": [
  {
   "cell_type": "code",
   "execution_count": 1,
   "id": "5b29fdfb-5010-45b6-a671-9793d75d1973",
   "metadata": {
    "tags": []
   },
   "outputs": [],
   "source": [
    "!pip install bigframes -q\n",
    "from google.cloud import bigquery\n",
    "\n",
    "import bigframes.pandas as bpd\n",
    "from bigframes.ml.linear_model import LinearRegression as BQLinearRegression\n",
    "\n",
    "import seaborn as sns\n",
    "import matplotlib.pyplot as plt\n",
    "\n",
    "from sklearn.preprocessing import OneHotEncoder\n",
    "from sklearn.linear_model import LinearRegression as SKLinearRegression\n",
    "from sklearn.metrics import mean_absolute_error, mean_squared_error\n",
    "\n",
    "import pandas as pd\n",
    "import matplotlib.pyplot as plt\n",
    "sns.set_theme(color_codes=True)"
   ]
  },
  {
   "cell_type": "code",
   "execution_count": 2,
   "id": "c0893724-b829-4a76-808f-a009e44d523f",
   "metadata": {},
   "outputs": [],
   "source": [
    "PROJECT_ID = \"arctic-eye-446816-j7\"\n",
    "REGION = \"US\"\n",
    "bpd.options.bigquery.project = PROJECT_ID\n",
    "bpd.options.bigquery.location = REGION"
   ]
  },
  {
   "cell_type": "code",
   "execution_count": 3,
   "id": "19bc7b0d-5652-4b7e-8095-f50f73e4f43b",
   "metadata": {
    "tags": []
   },
   "outputs": [],
   "source": [
    "chicago = bpd.read_gbq(\"bigquery-public-data.chicago_crime.crime\")\n",
    "austin = bpd.read_gbq(\"bigquery-public-data.austin_crime.crime\")"
   ]
  },
  {
   "cell_type": "code",
   "execution_count": 4,
   "id": "cd947c97-4a13-4b1b-9729-4cdb23ab2c30",
   "metadata": {
    "tags": []
   },
   "outputs": [
    {
     "data": {
      "text/html": [
       "Query job 66ba76b5-5ced-4b27-af63-ea139e89f959 is DONE. 0 Bytes processed. <a target=\"_blank\" href=\"https://console.cloud.google.com/bigquery?project=arctic-eye-446816-j7&j=bq:US:66ba76b5-5ced-4b27-af63-ea139e89f959&page=queryresults\">Open Job</a>"
      ],
      "text/plain": [
       "<IPython.core.display.HTML object>"
      ]
     },
     "metadata": {},
     "output_type": "display_data"
    },
    {
     "name": "stdout",
     "output_type": "stream",
     "text": [
      "<class 'bigframes.dataframe.DataFrame'>\n"
     ]
    },
    {
     "data": {
      "text/html": [
       "Query job 80a02a28-a073-4580-9b6c-415ef1a336b0 is DONE. 1.7 GB processed. <a target=\"_blank\" href=\"https://console.cloud.google.com/bigquery?project=arctic-eye-446816-j7&j=bq:US:80a02a28-a073-4580-9b6c-415ef1a336b0&page=queryresults\">Open Job</a>"
      ],
      "text/plain": [
       "<IPython.core.display.HTML object>"
      ]
     },
     "metadata": {},
     "output_type": "display_data"
    },
    {
     "data": {
      "text/html": [
       "Query job 185eba2d-ad25-474b-9e73-cf4bec54ae09 is DONE. 1.7 GB processed. <a target=\"_blank\" href=\"https://console.cloud.google.com/bigquery?project=arctic-eye-446816-j7&j=bq:US:185eba2d-ad25-474b-9e73-cf4bec54ae09&page=queryresults\">Open Job</a>"
      ],
      "text/plain": [
       "<IPython.core.display.HTML object>"
      ]
     },
     "metadata": {},
     "output_type": "display_data"
    },
    {
     "name": "stdout",
     "output_type": "stream",
     "text": [
      "Index: 8252924 entries, 0 to 8252923\n",
      "Data columns (total 22 columns):\n",
      "  #  Column                Dtype\n",
      "---  --------------------  ------------------------------\n",
      "  0  unique_key            Int64\n",
      "  1  case_number           string\n",
      "  2  date                  timestamp[us, tz=UTC][pyarrow]\n",
      "  3  block                 string\n",
      "  4  iucr                  string\n",
      "  5  primary_type          string\n",
      "  6  description           string\n",
      "  7  location_description  string\n",
      "  8  arrest                boolean\n",
      "  9  domestic              boolean\n",
      " 10  beat                  Int64\n",
      " 11  district              Int64\n",
      " 12  ward                  Int64\n",
      " 13  community_area        Int64\n",
      " 14  fbi_code              string\n",
      " 15  x_coordinate          Float64\n",
      " 16  y_coordinate          Float64\n",
      " 17  year                  Int64\n",
      " 18  updated_on            timestamp[us, tz=UTC][pyarrow]\n",
      " 19  latitude              Float64\n",
      " 20  longitude             Float64\n",
      " 21  location              string\n",
      "dtypes: Float64(4), Int64(6), boolean(2), string(8), timestamp[us, tz=UTC][pyarrow](2)\n"
     ]
    },
    {
     "data": {
      "text/html": [
       "Query job 1b68b167-eccb-411f-ac9a-612aa30bd839 is DONE. 0 Bytes processed. <a target=\"_blank\" href=\"https://console.cloud.google.com/bigquery?project=arctic-eye-446816-j7&j=bq:US:1b68b167-eccb-411f-ac9a-612aa30bd839&page=queryresults\">Open Job</a>"
      ],
      "text/plain": [
       "<IPython.core.display.HTML object>"
      ]
     },
     "metadata": {},
     "output_type": "display_data"
    },
    {
     "name": "stdout",
     "output_type": "stream",
     "text": [
      "memory usage: 1402997080 bytes\n"
     ]
    }
   ],
   "source": [
    "chicago.info()"
   ]
  },
  {
   "cell_type": "code",
   "execution_count": 5,
   "id": "d1ee1e31-2521-4482-9c86-2c71ba755c8b",
   "metadata": {
    "tags": []
   },
   "outputs": [
    {
     "data": {
      "text/html": [
       "Query job c41f6668-a9d2-4ec5-a28b-cd06daf1d8a4 is DONE. 0 Bytes processed. <a target=\"_blank\" href=\"https://console.cloud.google.com/bigquery?project=arctic-eye-446816-j7&j=bq:US:c41f6668-a9d2-4ec5-a28b-cd06daf1d8a4&page=queryresults\">Open Job</a>"
      ],
      "text/plain": [
       "<IPython.core.display.HTML object>"
      ]
     },
     "metadata": {},
     "output_type": "display_data"
    },
    {
     "name": "stdout",
     "output_type": "stream",
     "text": [
      "<class 'bigframes.dataframe.DataFrame'>\n"
     ]
    },
    {
     "data": {
      "text/html": [
       "Query job 50a0cd27-5aca-4a4f-bd20-796f32d94a96 is DONE. 67.3 MB processed. <a target=\"_blank\" href=\"https://console.cloud.google.com/bigquery?project=arctic-eye-446816-j7&j=bq:US:50a0cd27-5aca-4a4f-bd20-796f32d94a96&page=queryresults\">Open Job</a>"
      ],
      "text/plain": [
       "<IPython.core.display.HTML object>"
      ]
     },
     "metadata": {},
     "output_type": "display_data"
    },
    {
     "data": {
      "text/html": [
       "Query job 6e016a0a-2670-40c9-be90-b806e5605f66 is DONE. 67.3 MB processed. <a target=\"_blank\" href=\"https://console.cloud.google.com/bigquery?project=arctic-eye-446816-j7&j=bq:US:6e016a0a-2670-40c9-be90-b806e5605f66&page=queryresults\">Open Job</a>"
      ],
      "text/plain": [
       "<IPython.core.display.HTML object>"
      ]
     },
     "metadata": {},
     "output_type": "display_data"
    },
    {
     "name": "stdout",
     "output_type": "stream",
     "text": [
      "Index: 116672 entries, 0 to 116671\n",
      "Data columns (total 18 columns):\n"
     ]
    },
    {
     "name": "stderr",
     "output_type": "stream",
     "text": [
      "/opt/conda/lib/python3.10/site-packages/bigframes/core/blocks.py:125: NullIndexPreviewWarning: Creating object with Null Index. Null Index is a preview feature.\n",
      "  warnings.warn(\n"
     ]
    },
    {
     "data": {
      "text/html": [
       "Query job d7c2cf07-7d57-4456-8487-9e32f0a5ea26 is DONE. 67.3 MB processed. <a target=\"_blank\" href=\"https://console.cloud.google.com/bigquery?project=arctic-eye-446816-j7&j=bq:US:d7c2cf07-7d57-4456-8487-9e32f0a5ea26&page=queryresults\">Open Job</a>"
      ],
      "text/plain": [
       "<IPython.core.display.HTML object>"
      ]
     },
     "metadata": {},
     "output_type": "display_data"
    },
    {
     "name": "stdout",
     "output_type": "stream",
     "text": [
      "  #  Column                 Non-Null Count    Dtype\n",
      "---  ---------------------  ----------------  ------------------------------\n",
      "  0  unique_key             116671 non-null   Int64\n",
      "  1  address                40640 non-null    string\n",
      "  2  census_tract           116149 non-null   Float64\n",
      "  3  clearance_date         111558 non-null   timestamp[us, tz=UTC][pyarrow]\n",
      "  4  clearance_status       111558 non-null   string\n",
      "  5  council_district_code  115997 non-null   Int64\n",
      "  6  description            116672 non-null   string\n",
      "  7  district               116672 non-null   string\n",
      "  8  latitude               34500 non-null    Float64\n",
      "  9  longitude              34500 non-null    Float64\n",
      " 10  location               116672 non-null   string\n",
      " 11  location_description   116672 non-null   string\n",
      " 12  primary_type           116672 non-null   string\n",
      " 13  timestamp              116672 non-null   timestamp[us, tz=UTC][pyarrow]\n",
      " 14  x_coordinate           114525 non-null   Int64\n",
      " 15  y_coordinate           114525 non-null   Int64\n",
      " 16  year                   116672 non-null   Int64\n",
      " 17  zipcode                116149 non-null   string\n",
      "dtypes: Float64(3), Int64(5), string(8), timestamp[us, tz=UTC][pyarrow](2)\n"
     ]
    },
    {
     "data": {
      "text/html": [
       "Query job 38115a75-ac8a-4c41-a8f1-083d60f144a2 is DONE. 0 Bytes processed. <a target=\"_blank\" href=\"https://console.cloud.google.com/bigquery?project=arctic-eye-446816-j7&j=bq:US:38115a75-ac8a-4c41-a8f1-083d60f144a2&page=queryresults\">Open Job</a>"
      ],
      "text/plain": [
       "<IPython.core.display.HTML object>"
      ]
     },
     "metadata": {},
     "output_type": "display_data"
    },
    {
     "name": "stdout",
     "output_type": "stream",
     "text": [
      "memory usage: 17734144 bytes\n"
     ]
    }
   ],
   "source": [
    "austin.info()"
   ]
  },
  {
   "cell_type": "code",
   "execution_count": 6,
   "id": "7c4a3a78-1fd1-434b-b6b2-73b50c42c2c6",
   "metadata": {
    "tags": []
   },
   "outputs": [],
   "source": [
    "chicago_df = chicago[['date','year','primary_type','arrest']].reset_index()\n",
    "austin_df = austin[['timestamp','year','primary_type','clearance_status']].reset_index()"
   ]
  },
  {
   "cell_type": "code",
   "execution_count": 7,
   "id": "8c731972-31be-425e-b3f0-c8a7d95b5aab",
   "metadata": {
    "tags": []
   },
   "outputs": [
    {
     "data": {
      "text/html": [
       "Query job 40856e9e-20d9-4c35-a1f3-bd95523812aa is DONE. 67.3 MB processed. <a target=\"_blank\" href=\"https://console.cloud.google.com/bigquery?project=arctic-eye-446816-j7&j=bq:US:40856e9e-20d9-4c35-a1f3-bd95523812aa&page=queryresults\">Open Job</a>"
      ],
      "text/plain": [
       "<IPython.core.display.HTML object>"
      ]
     },
     "metadata": {},
     "output_type": "display_data"
    },
    {
     "data": {
      "text/html": [
       "Query job a7614233-3a1e-4569-ab70-ec2c99065e77 is DONE. 0 Bytes processed. <a target=\"_blank\" href=\"https://console.cloud.google.com/bigquery?project=arctic-eye-446816-j7&j=bq:US:a7614233-3a1e-4569-ab70-ec2c99065e77&page=queryresults\">Open Job</a>"
      ],
      "text/plain": [
       "<IPython.core.display.HTML object>"
      ]
     },
     "metadata": {},
     "output_type": "display_data"
    },
    {
     "data": {
      "text/html": [
       "Query job c4abafc5-0c78-4f9e-8409-686622b9ab45 is DONE. 118 Bytes processed. <a target=\"_blank\" href=\"https://console.cloud.google.com/bigquery?project=arctic-eye-446816-j7&j=bq:US:c4abafc5-0c78-4f9e-8409-686622b9ab45&page=queryresults\">Open Job</a>"
      ],
      "text/plain": [
       "<IPython.core.display.HTML object>"
      ]
     },
     "metadata": {},
     "output_type": "display_data"
    },
    {
     "data": {
      "text/plain": [
       "0              Not cleared\n",
       "1        Cleared by Arrest\n",
       "24    Cleared by Exception\n",
       "34                    <NA>\n",
       "Name: clearance_status, dtype: string"
      ]
     },
     "execution_count": 7,
     "metadata": {},
     "output_type": "execute_result"
    }
   ],
   "source": [
    "austin_df.clearance_status.unique()"
   ]
  },
  {
   "cell_type": "code",
   "execution_count": 8,
   "id": "73ecd0b9-4f44-486b-95ef-7cb0f4184b33",
   "metadata": {
    "tags": []
   },
   "outputs": [
    {
     "data": {
      "text/html": [
       "Query job b2ea6a7f-e687-4c9b-98f1-e9358d64864a is DONE. 67.3 MB processed. <a target=\"_blank\" href=\"https://console.cloud.google.com/bigquery?project=arctic-eye-446816-j7&j=bq:US:b2ea6a7f-e687-4c9b-98f1-e9358d64864a&page=queryresults\">Open Job</a>"
      ],
      "text/plain": [
       "<IPython.core.display.HTML object>"
      ]
     },
     "metadata": {},
     "output_type": "display_data"
    },
    {
     "data": {
      "text/html": [
       "Query job 2bcd2367-7236-41ac-a931-7aed43077774 is DONE. 67.3 MB processed. <a target=\"_blank\" href=\"https://console.cloud.google.com/bigquery?project=arctic-eye-446816-j7&j=bq:US:2bcd2367-7236-41ac-a931-7aed43077774&page=queryresults\">Open Job</a>"
      ],
      "text/plain": [
       "<IPython.core.display.HTML object>"
      ]
     },
     "metadata": {},
     "output_type": "display_data"
    },
    {
     "data": {
      "text/html": [
       "Query job d5cd3176-45c5-43f7-b9e8-23dcd5a6188d is DONE. 0 Bytes processed. <a target=\"_blank\" href=\"https://console.cloud.google.com/bigquery?project=arctic-eye-446816-j7&j=bq:US:d5cd3176-45c5-43f7-b9e8-23dcd5a6188d&page=queryresults\">Open Job</a>"
      ],
      "text/plain": [
       "<IPython.core.display.HTML object>"
      ]
     },
     "metadata": {},
     "output_type": "display_data"
    },
    {
     "data": {
      "text/html": [
       "Load job a201c3bb-cc51-4ad2-8b93-6ac2b6dbb271 is DONE. <a target=\"_blank\" href=\"https://console.cloud.google.com/bigquery?project=arctic-eye-446816-j7&j=bq:US:a201c3bb-cc51-4ad2-8b93-6ac2b6dbb271&page=queryresults\">Open Job</a>"
      ],
      "text/plain": [
       "<IPython.core.display.HTML object>"
      ]
     },
     "metadata": {},
     "output_type": "display_data"
    }
   ],
   "source": [
    "import numpy as np\n",
    "austin_df['arrest'] = np.where(austin_df['clearance_status'] == 'Cleared by Arrest', np.where(austin_df['clearance_status'] == 'Cleared by Exception', True, True), False)\n"
   ]
  },
  {
   "cell_type": "code",
   "execution_count": 9,
   "id": "e5ea8eea-5cde-4a15-b85e-de4d744a67ff",
   "metadata": {
    "tags": []
   },
   "outputs": [
    {
     "data": {
      "text/html": [
       "Query job c7819afc-c6e5-404e-a0c4-8f80dda48db9 is DONE. 68.3 MB processed. <a target=\"_blank\" href=\"https://console.cloud.google.com/bigquery?project=arctic-eye-446816-j7&j=bq:US:c7819afc-c6e5-404e-a0c4-8f80dda48db9&page=queryresults\">Open Job</a>"
      ],
      "text/plain": [
       "<IPython.core.display.HTML object>"
      ]
     },
     "metadata": {},
     "output_type": "display_data"
    },
    {
     "name": "stdout",
     "output_type": "stream",
     "text": [
      "<class 'bigframes.dataframe.DataFrame'>\n"
     ]
    },
    {
     "data": {
      "text/html": [
       "Query job fee04c67-ae55-4765-9e9a-e271cc8f81d3 is DONE. 69.2 MB processed. <a target=\"_blank\" href=\"https://console.cloud.google.com/bigquery?project=arctic-eye-446816-j7&j=bq:US:fee04c67-ae55-4765-9e9a-e271cc8f81d3&page=queryresults\">Open Job</a>"
      ],
      "text/plain": [
       "<IPython.core.display.HTML object>"
      ]
     },
     "metadata": {},
     "output_type": "display_data"
    },
    {
     "data": {
      "text/html": [
       "Query job 0d363099-60fe-4a2b-920d-786899dda2fb is DONE. 69.2 MB processed. <a target=\"_blank\" href=\"https://console.cloud.google.com/bigquery?project=arctic-eye-446816-j7&j=bq:US:0d363099-60fe-4a2b-920d-786899dda2fb&page=queryresults\">Open Job</a>"
      ],
      "text/plain": [
       "<IPython.core.display.HTML object>"
      ]
     },
     "metadata": {},
     "output_type": "display_data"
    },
    {
     "name": "stdout",
     "output_type": "stream",
     "text": [
      "Index: 116672 entries, 0 to 116671\n",
      "Data columns (total 5 columns):\n"
     ]
    },
    {
     "name": "stderr",
     "output_type": "stream",
     "text": [
      "/opt/conda/lib/python3.10/site-packages/bigframes/core/blocks.py:125: NullIndexPreviewWarning: Creating object with Null Index. Null Index is a preview feature.\n",
      "  warnings.warn(\n"
     ]
    },
    {
     "data": {
      "text/html": [
       "Query job 6ddd5355-1188-4b86-aa07-11a17db73e6e is DONE. 68.4 MB processed. <a target=\"_blank\" href=\"https://console.cloud.google.com/bigquery?project=arctic-eye-446816-j7&j=bq:US:6ddd5355-1188-4b86-aa07-11a17db73e6e&page=queryresults\">Open Job</a>"
      ],
      "text/plain": [
       "<IPython.core.display.HTML object>"
      ]
     },
     "metadata": {},
     "output_type": "display_data"
    },
    {
     "name": "stdout",
     "output_type": "stream",
     "text": [
      "  #  Column        Non-Null Count    Dtype\n",
      "---  ------------  ----------------  ------------------------------\n",
      "  0  index         116672 non-null   Int64\n",
      "  1  date          116672 non-null   timestamp[us, tz=UTC][pyarrow]\n",
      "  2  year          116672 non-null   Int64\n",
      "  3  primary_type  116672 non-null   string\n",
      "  4  arrest        116672 non-null   boolean\n",
      "dtypes: Int64(2), boolean(1), string(1), timestamp[us, tz=UTC][pyarrow](1)\n"
     ]
    },
    {
     "data": {
      "text/html": [
       "Query job c8e38684-e686-4401-b909-ad1e09c5f4dd is DONE. 68.3 MB processed. <a target=\"_blank\" href=\"https://console.cloud.google.com/bigquery?project=arctic-eye-446816-j7&j=bq:US:c8e38684-e686-4401-b909-ad1e09c5f4dd&page=queryresults\">Open Job</a>"
      ],
      "text/plain": [
       "<IPython.core.display.HTML object>"
      ]
     },
     "metadata": {},
     "output_type": "display_data"
    },
    {
     "name": "stdout",
     "output_type": "stream",
     "text": [
      "memory usage: 4783552 bytes\n"
     ]
    }
   ],
   "source": [
    "austin_df = austin_df.drop(columns='clearance_status')\n",
    "austin_df = austin_df.rename(columns = {'timestamp':'date'})\n",
    "austin_df.info()"
   ]
  },
  {
   "cell_type": "code",
   "execution_count": 10,
   "id": "17c29424-be95-46e1-b56c-cc2cfc6328c0",
   "metadata": {
    "tags": []
   },
   "outputs": [
    {
     "data": {
      "text/html": [
       "Query job 79781457-38d7-47fb-8d6f-ed4c7242c6fa is DONE. 0 Bytes processed. <a target=\"_blank\" href=\"https://console.cloud.google.com/bigquery?project=arctic-eye-446816-j7&j=bq:US:79781457-38d7-47fb-8d6f-ed4c7242c6fa&page=queryresults\">Open Job</a>"
      ],
      "text/plain": [
       "<IPython.core.display.HTML object>"
      ]
     },
     "metadata": {},
     "output_type": "display_data"
    },
    {
     "name": "stdout",
     "output_type": "stream",
     "text": [
      "<class 'bigframes.dataframe.DataFrame'>\n"
     ]
    },
    {
     "data": {
      "text/html": [
       "Query job c66f091c-c1b4-4b6c-8c5d-abaa99e2e467 is DONE. 1.7 GB processed. <a target=\"_blank\" href=\"https://console.cloud.google.com/bigquery?project=arctic-eye-446816-j7&j=bq:US:c66f091c-c1b4-4b6c-8c5d-abaa99e2e467&page=queryresults\">Open Job</a>"
      ],
      "text/plain": [
       "<IPython.core.display.HTML object>"
      ]
     },
     "metadata": {},
     "output_type": "display_data"
    },
    {
     "data": {
      "text/html": [
       "Query job 26bede26-c9a6-44c1-8ab8-7af41f83261d is DONE. 1.7 GB processed. <a target=\"_blank\" href=\"https://console.cloud.google.com/bigquery?project=arctic-eye-446816-j7&j=bq:US:26bede26-c9a6-44c1-8ab8-7af41f83261d&page=queryresults\">Open Job</a>"
      ],
      "text/plain": [
       "<IPython.core.display.HTML object>"
      ]
     },
     "metadata": {},
     "output_type": "display_data"
    },
    {
     "name": "stdout",
     "output_type": "stream",
     "text": [
      "Index: 8252924 entries, 0 to 8252923\n",
      "Data columns (total 5 columns):\n",
      "  #  Column        Dtype\n",
      "---  ------------  ------------------------------\n",
      "  0  index         Int64\n",
      "  1  date          timestamp[us, tz=UTC][pyarrow]\n",
      "  2  year          Int64\n",
      "  3  primary_type  string\n",
      "  4  arrest        boolean\n",
      "dtypes: Int64(2), boolean(1), string(1), timestamp[us, tz=UTC][pyarrow](1)\n"
     ]
    },
    {
     "data": {
      "text/html": [
       "Query job c6ce6ca7-6c23-4931-889f-75c95a5d2780 is DONE. 0 Bytes processed. <a target=\"_blank\" href=\"https://console.cloud.google.com/bigquery?project=arctic-eye-446816-j7&j=bq:US:c6ce6ca7-6c23-4931-889f-75c95a5d2780&page=queryresults\">Open Job</a>"
      ],
      "text/plain": [
       "<IPython.core.display.HTML object>"
      ]
     },
     "metadata": {},
     "output_type": "display_data"
    },
    {
     "name": "stdout",
     "output_type": "stream",
     "text": [
      "memory usage: 338369884 bytes\n"
     ]
    }
   ],
   "source": [
    "chicago_df.info()"
   ]
  },
  {
   "cell_type": "code",
   "execution_count": 11,
   "id": "72953b0f-7542-431b-b7bc-fe0e165acaed",
   "metadata": {},
   "outputs": [],
   "source": [
    "chicago_group = chicago_df[['year', 'arrest']].groupby(['year']).count()\n",
    "chicago_group = chicago_group.reset_index()"
   ]
  },
  {
   "cell_type": "code",
   "execution_count": 12,
   "id": "e09892b2-7ab5-4e0e-a381-f4f1179e02bc",
   "metadata": {
    "tags": []
   },
   "outputs": [
    {
     "data": {
      "text/html": [
       "Query job 66ff8608-b331-44ff-8870-c3db92ca30f5 is DONE. 66.0 MB processed. <a target=\"_blank\" href=\"https://console.cloud.google.com/bigquery?project=arctic-eye-446816-j7&j=bq:US:66ff8608-b331-44ff-8870-c3db92ca30f5&page=queryresults\">Open Job</a>"
      ],
      "text/plain": [
       "<IPython.core.display.HTML object>"
      ]
     },
     "metadata": {},
     "output_type": "display_data"
    },
    {
     "data": {
      "text/html": [
       "Query job 6d63d640-58e0-4e23-b517-40094f985baf is DONE. 74.3 MB processed. <a target=\"_blank\" href=\"https://console.cloud.google.com/bigquery?project=arctic-eye-446816-j7&j=bq:US:6d63d640-58e0-4e23-b517-40094f985baf&page=queryresults\">Open Job</a>"
      ],
      "text/plain": [
       "<IPython.core.display.HTML object>"
      ]
     },
     "metadata": {},
     "output_type": "display_data"
    },
    {
     "data": {
      "image/png": "[encoded data removed]",
      "text/plain": [
       "<Figure size 640x480 with 1 Axes>"
      ]
     },
     "metadata": {},
     "output_type": "display_data"
    }
   ],
   "source": [
    "plt.plot(chicago_group.year, chicago_group.arrest)\n",
    "plt.show()"
   ]
  },
  {
   "cell_type": "code",
   "execution_count": 13,
   "id": "8fa86dc6-6a8d-4706-99cf-e437515b3839",
   "metadata": {
    "tags": []
   },
   "outputs": [
    {
     "data": {
      "text/html": [
       "Query job 0ebe2bfe-e37b-464a-a78e-c9cb4e55879e is DONE. 933.4 kB processed. <a target=\"_blank\" href=\"https://console.cloud.google.com/bigquery?project=arctic-eye-446816-j7&j=bq:US:0ebe2bfe-e37b-464a-a78e-c9cb4e55879e&page=queryresults\">Open Job</a>"
      ],
      "text/plain": [
       "<IPython.core.display.HTML object>"
      ]
     },
     "metadata": {},
     "output_type": "display_data"
    },
    {
     "data": {
      "text/html": [
       "Query job 06c88ecd-6bc9-4e07-a4f8-1166ddca4f22 is DONE. 68.4 MB processed. <a target=\"_blank\" href=\"https://console.cloud.google.com/bigquery?project=arctic-eye-446816-j7&j=bq:US:06c88ecd-6bc9-4e07-a4f8-1166ddca4f22&page=queryresults\">Open Job</a>"
      ],
      "text/plain": [
       "<IPython.core.display.HTML object>"
      ]
     },
     "metadata": {},
     "output_type": "display_data"
    },
    {
     "data": {
      "image/png": "[encoded data removed]",
      "text/plain": [
       "<Figure size 640x480 with 1 Axes>"
      ]
     },
     "metadata": {},
     "output_type": "display_data"
    }
   ],
   "source": [
    "austin_group = austin_df[['year', 'arrest']].groupby(['year']).count().reset_index()\n",
    "plt.plot(austin_group.year, austin_group.arrest)\n",
    "plt.xticks(rotation = 25)\n",
    "plt.show()\n"
   ]
  },
  {
   "cell_type": "code",
   "execution_count": 14,
   "id": "2db82753-5667-44f6-8373-c9c4ee2c7219",
   "metadata": {
    "tags": []
   },
   "outputs": [
    {
     "data": {
      "text/html": [
       "Query job 9ff6da0e-75bb-4966-8e7b-efa8e6ecd14e is DONE. 69.2 MB processed. <a target=\"_blank\" href=\"https://console.cloud.google.com/bigquery?project=arctic-eye-446816-j7&j=bq:US:9ff6da0e-75bb-4966-8e7b-efa8e6ecd14e&page=queryresults\">Open Job</a>"
      ],
      "text/plain": [
       "<IPython.core.display.HTML object>"
      ]
     },
     "metadata": {},
     "output_type": "display_data"
    },
    {
     "data": {
      "text/html": [
       "Query job c5cc802f-8492-4abf-bb53-ff70401a6a97 is DONE. 0 Bytes processed. <a target=\"_blank\" href=\"https://console.cloud.google.com/bigquery?project=arctic-eye-446816-j7&j=bq:US:c5cc802f-8492-4abf-bb53-ff70401a6a97&page=queryresults\">Open Job</a>"
      ],
      "text/plain": [
       "<IPython.core.display.HTML object>"
      ]
     },
     "metadata": {},
     "output_type": "display_data"
    },
    {
     "data": {
      "text/html": [
       "Query job f587dde9-e4cb-4a70-b27e-b4c41a08d2fa is DONE. 766 Bytes processed. <a target=\"_blank\" href=\"https://console.cloud.google.com/bigquery?project=arctic-eye-446816-j7&j=bq:US:f587dde9-e4cb-4a70-b27e-b4c41a08d2fa&page=queryresults\">Open Job</a>"
      ],
      "text/plain": [
       "<IPython.core.display.HTML object>"
      ]
     },
     "metadata": {},
     "output_type": "display_data"
    },
    {
     "data": {
      "text/plain": [
       "0                                              Theft\n",
       "1                    Burglary / \n",
       "Breaking & Entering\n",
       "2                                           Burglary\n",
       "4                                         Theft: BOV\n",
       "6                                         Auto Theft\n",
       "18                                Theft: Shoplifting\n",
       "20                          Theft: All Other Larceny\n",
       "24                                              Rape\n",
       "32                                Aggravated Assault\n",
       "40                                           Robbery\n",
       "53                                       Agg Assault\n",
       "113                            Theft: Pocket Picking\n",
       "126                                Theft: Auto Parts\n",
       "400                             Theft: from Building\n",
       "1576                          Theft: Coin Op Machine\n",
       "1723    Homicide: Murder & Nonnegligent Manslaughter\n",
       "1858                                          Murder\n",
       "2189                          Theft: Purse Snatching\n",
       "Name: primary_type, dtype: string"
      ]
     },
     "execution_count": 14,
     "metadata": {},
     "output_type": "execute_result"
    }
   ],
   "source": [
    "austin_df.primary_type.unique()"
   ]
  },
  {
   "cell_type": "code",
   "execution_count": 15,
   "id": "b55ad6a7-c5f7-43ee-9ebf-035438a0a792",
   "metadata": {
    "tags": []
   },
   "outputs": [],
   "source": [
    "new_primary_types = {'Theft':'Theft', 'Burglary / Breaking & Entering':'Burglary', 'Theft: BOV':'Theft','Auto Theft':'Auto Theft','Theft: Shoplifting':'Theft', 'Theft: All Other Larceny':'Theft', 'Rape':'Rape','Aggravated Assault':'Assault', 'Robbery':'Robbery','Agg Assault':'Assault','Theft: Pocket Picking':'Theft','Theft: Auto Parts':'Auto Theft','Theft: from Building':'Theft','Theft: Coin Op Machine':'Theft','Homicide: Murder & Nonnegligent Manslaughter':'Murder','Murder':'Murder','Theft: Purse Snatching':'Theft'}\n",
    "austin_df['primary_type'] = austin_df.primary_type.map(new_primary_types)"
   ]
  },
  {
   "cell_type": "code",
   "execution_count": 16,
   "id": "8bc59607-363b-48c0-a91e-3876f079b465",
   "metadata": {
    "tags": []
   },
   "outputs": [
    {
     "data": {
      "text/html": [
       "Query job fc0a0bfe-c491-4f0e-979b-906b48c0d1e5 is DONE. 68.3 MB processed. <a target=\"_blank\" href=\"https://console.cloud.google.com/bigquery?project=arctic-eye-446816-j7&j=bq:US:fc0a0bfe-c491-4f0e-979b-906b48c0d1e5&page=queryresults\">Open Job</a>"
      ],
      "text/plain": [
       "<IPython.core.display.HTML object>"
      ]
     },
     "metadata": {},
     "output_type": "display_data"
    },
    {
     "data": {
      "text/html": [
       "Query job 2b31b736-3206-40b3-b9d7-163ac68538ef is DONE. 68.3 MB processed. <a target=\"_blank\" href=\"https://console.cloud.google.com/bigquery?project=arctic-eye-446816-j7&j=bq:US:2b31b736-3206-40b3-b9d7-163ac68538ef&page=queryresults\">Open Job</a>"
      ],
      "text/plain": [
       "<IPython.core.display.HTML object>"
      ]
     },
     "metadata": {},
     "output_type": "display_data"
    },
    {
     "data": {
      "text/html": [
       "Query job ed43f9e7-cd4c-4945-b08e-837a50676319 is DONE. 68.3 MB processed. <a target=\"_blank\" href=\"https://console.cloud.google.com/bigquery?project=arctic-eye-446816-j7&j=bq:US:ed43f9e7-cd4c-4945-b08e-837a50676319&page=queryresults\">Open Job</a>"
      ],
      "text/plain": [
       "<IPython.core.display.HTML object>"
      ]
     },
     "metadata": {},
     "output_type": "display_data"
    },
    {
     "data": {
      "text/html": [
       "Query job 97274e67-2ff1-4308-8cf5-c359c67ed7d6 is DONE. 68.4 MB processed. <a target=\"_blank\" href=\"https://console.cloud.google.com/bigquery?project=arctic-eye-446816-j7&j=bq:US:97274e67-2ff1-4308-8cf5-c359c67ed7d6&page=queryresults\">Open Job</a>"
      ],
      "text/plain": [
       "<IPython.core.display.HTML object>"
      ]
     },
     "metadata": {},
     "output_type": "display_data"
    },
    {
     "name": "stderr",
     "output_type": "stream",
     "text": [
      "/var/tmp/ipykernel_5883/743437812.py:2: FutureWarning: \n",
      "\n",
      "Passing `palette` without assigning `hue` is deprecated and will be removed in v0.14.0. Assign the `x` variable to `hue` and set `legend=False` for the same effect.\n",
      "\n",
      "  sns.barplot(x=austin_type_group.primary_type, y=austin_type_group.arrest, palette=\"deep\")\n"
     ]
    },
    {
     "data": {
      "image/png": "[encoded data removed]",
      "text/plain": [
       "<Figure size 640x480 with 1 Axes>"
      ]
     },
     "metadata": {},
     "output_type": "display_data"
    }
   ],
   "source": [
    "austin_type_group = austin_df[['primary_type', 'arrest']].groupby(['primary_type']).count().reset_index()\n",
    "sns.barplot(x=austin_type_group.primary_type, y=austin_type_group.arrest, palette=\"deep\")\n",
    "plt.xticks(rotation = 35)\n",
    "plt.show()"
   ]
  },
  {
   "cell_type": "code",
   "execution_count": 17,
   "id": "15b91e35-16fc-437d-ae8a-51337bb2e0b1",
   "metadata": {
    "tags": []
   },
   "outputs": [
    {
     "data": {
      "text/html": [
       "Query job 2dfa44d1-b941-4c7c-bc3f-e967d4733e4d is DONE. 1.7 GB processed. <a target=\"_blank\" href=\"https://console.cloud.google.com/bigquery?project=arctic-eye-446816-j7&j=bq:US:2dfa44d1-b941-4c7c-bc3f-e967d4733e4d&page=queryresults\">Open Job</a>"
      ],
      "text/plain": [
       "<IPython.core.display.HTML object>"
      ]
     },
     "metadata": {},
     "output_type": "display_data"
    },
    {
     "data": {
      "text/html": [
       "Query job af124308-00fd-4765-bfb7-1199ec201f9f is DONE. 0 Bytes processed. <a target=\"_blank\" href=\"https://console.cloud.google.com/bigquery?project=arctic-eye-446816-j7&j=bq:US:af124308-00fd-4765-bfb7-1199ec201f9f&page=queryresults\">Open Job</a>"
      ],
      "text/plain": [
       "<IPython.core.display.HTML object>"
      ]
     },
     "metadata": {},
     "output_type": "display_data"
    },
    {
     "data": {
      "text/html": [
       "Query job c5acd130-5789-4850-877c-00614c20df34 is DONE. 1.2 kB processed. <a target=\"_blank\" href=\"https://console.cloud.google.com/bigquery?project=arctic-eye-446816-j7&j=bq:US:c5acd130-5789-4850-877c-00614c20df34&page=queryresults\">Open Job</a>"
      ],
      "text/plain": [
       "<IPython.core.display.HTML object>"
      ]
     },
     "metadata": {},
     "output_type": "display_data"
    },
    {
     "data": {
      "text/plain": [
       "0                             NARCOTICS\n",
       "1                         OTHER OFFENSE\n",
       "2                                 THEFT\n",
       "4                               BATTERY\n",
       "6                               ASSAULT\n",
       "7                   MOTOR VEHICLE THEFT\n",
       "11                              ROBBERY\n",
       "12                      CRIMINAL DAMAGE\n",
       "13              CRIMINAL SEXUAL ASSAULT\n",
       "16                    CRIMINAL TRESPASS\n",
       "23                    WEAPONS VIOLATION\n",
       "25                             BURGLARY\n",
       "29                   DECEPTIVE PRACTICE\n",
       "65           OFFENSE INVOLVING CHILDREN\n",
       "88                                ARSON\n",
       "102                        PROSTITUTION\n",
       "177              PUBLIC PEACE VIOLATION\n",
       "236                 CRIM SEXUAL ASSAULT\n",
       "299                            STALKING\n",
       "332                            GAMBLING\n",
       "384                LIQUOR LAW VIOLATION\n",
       "399                         SEX OFFENSE\n",
       "431    INTERFERENCE WITH PUBLIC OFFICER\n",
       "443                            HOMICIDE\n",
       "522                          KIDNAPPING\n",
       "Name: primary_type, dtype: string"
      ]
     },
     "execution_count": 17,
     "metadata": {},
     "output_type": "execute_result"
    }
   ],
   "source": [
    "chicago_df.primary_type.unique()"
   ]
  },
  {
   "cell_type": "code",
   "execution_count": 19,
   "id": "cd5fcca4-d08c-4424-a8c6-25f54d65ba3b",
   "metadata": {
    "tags": []
   },
   "outputs": [
    {
     "data": {
      "text/html": [
       "Query job e2ff550a-f10c-4726-9168-e6f2dde08435 is DONE. 107.9 MB processed. <a target=\"_blank\" href=\"https://console.cloud.google.com/bigquery?project=arctic-eye-446816-j7&j=bq:US:e2ff550a-f10c-4726-9168-e6f2dde08435&page=queryresults\">Open Job</a>"
      ],
      "text/plain": [
       "<IPython.core.display.HTML object>"
      ]
     },
     "metadata": {},
     "output_type": "display_data"
    },
    {
     "data": {
      "text/html": [
       "Query job a18c64c2-400d-42d6-bbd3-e5f38386f3d8 is DONE. 107.9 MB processed. <a target=\"_blank\" href=\"https://console.cloud.google.com/bigquery?project=arctic-eye-446816-j7&j=bq:US:a18c64c2-400d-42d6-bbd3-e5f38386f3d8&page=queryresults\">Open Job</a>"
      ],
      "text/plain": [
       "<IPython.core.display.HTML object>"
      ]
     },
     "metadata": {},
     "output_type": "display_data"
    },
    {
     "data": {
      "text/html": [
       "Query job 780a7d8c-5804-483d-ae27-6cdea075754f is DONE. 107.9 MB processed. <a target=\"_blank\" href=\"https://console.cloud.google.com/bigquery?project=arctic-eye-446816-j7&j=bq:US:780a7d8c-5804-483d-ae27-6cdea075754f&page=queryresults\">Open Job</a>"
      ],
      "text/plain": [
       "<IPython.core.display.HTML object>"
      ]
     },
     "metadata": {},
     "output_type": "display_data"
    },
    {
     "data": {
      "text/html": [
       "Query job fffc1a05-ff5e-4ae5-a0c3-f88837b02427 is DONE. 107.9 MB processed. <a target=\"_blank\" href=\"https://console.cloud.google.com/bigquery?project=arctic-eye-446816-j7&j=bq:US:fffc1a05-ff5e-4ae5-a0c3-f88837b02427&page=queryresults\">Open Job</a>"
      ],
      "text/plain": [
       "<IPython.core.display.HTML object>"
      ]
     },
     "metadata": {},
     "output_type": "display_data"
    },
    {
     "name": "stderr",
     "output_type": "stream",
     "text": [
      "/var/tmp/ipykernel_5883/2366896845.py:3: FutureWarning: \n",
      "\n",
      "Passing `palette` without assigning `hue` is deprecated and will be removed in v0.14.0. Assign the `x` variable to `hue` and set `legend=False` for the same effect.\n",
      "\n",
      "  sns.barplot(x=chicago_type_group[chicago_type_group['arrest'] > 25000].primary_type, y=chicago_type_group[chicago_type_group['arrest'] > 25000].arrest, palette=\"deep\")\n"
     ]
    },
    {
     "data": {
      "image/png": "[encoded data removed]",
      "text/plain": [
       "<Figure size 1500x500 with 1 Axes>"
      ]
     },
     "metadata": {},
     "output_type": "display_data"
    }
   ],
   "source": [
    "chicago_type_group = chicago_df[['primary_type', 'arrest']].groupby(['primary_type']).count().reset_index()\n",
    "plt.figure(figsize=(15,5))\n",
    "sns.barplot(x=chicago_type_group[chicago_type_group['arrest'] > 25000].primary_type, y=chicago_type_group[chicago_type_group['arrest'] > 25000].arrest, palette=\"deep\")\n",
    "\n",
    "plt.xticks(rotation = 35)\n",
    "plt.show()"
   ]
  },
  {
   "cell_type": "code",
   "execution_count": 20,
   "id": "d8e11ed1-276c-4434-8246-d10783e7294b",
   "metadata": {
    "tags": []
   },
   "outputs": [
    {
     "data": {
      "text/html": [
       "Query job ed420cb5-1b8f-4d91-b372-a23fc4f63f0c is DONE. 1.7 GB processed. <a target=\"_blank\" href=\"https://console.cloud.google.com/bigquery?project=arctic-eye-446816-j7&j=bq:US:ed420cb5-1b8f-4d91-b372-a23fc4f63f0c&page=queryresults\">Open Job</a>"
      ],
      "text/plain": [
       "<IPython.core.display.HTML object>"
      ]
     },
     "metadata": {},
     "output_type": "display_data"
    },
    {
     "data": {
      "text/html": [
       "Query job 328275ca-13c1-4cc5-ba8f-8db02099d088 is DONE. 0 Bytes processed. <a target=\"_blank\" href=\"https://console.cloud.google.com/bigquery?project=arctic-eye-446816-j7&j=bq:US:328275ca-13c1-4cc5-ba8f-8db02099d088&page=queryresults\">Open Job</a>"
      ],
      "text/plain": [
       "<IPython.core.display.HTML object>"
      ]
     },
     "metadata": {},
     "output_type": "display_data"
    },
    {
     "data": {
      "text/html": [
       "Query job def744a8-ef96-4b1a-bd43-ab91a1c362f6 is DONE. 4.5 kB processed. <a target=\"_blank\" href=\"https://console.cloud.google.com/bigquery?project=arctic-eye-446816-j7&j=bq:US:def744a8-ef96-4b1a-bd43-ab91a1c362f6&page=queryresults\">Open Job</a>"
      ],
      "text/plain": [
       "<IPython.core.display.HTML object>"
      ]
     },
     "metadata": {},
     "output_type": "display_data"
    },
    {
     "data": {
      "text/html": [
       "<div>\n",
       "<style scoped>\n",
       "    .dataframe tbody tr th:only-of-type {\n",
       "        vertical-align: middle;\n",
       "    }\n",
       "\n",
       "    .dataframe tbody tr th {\n",
       "        vertical-align: top;\n",
       "    }\n",
       "\n",
       "    .dataframe thead th {\n",
       "        text-align: right;\n",
       "    }\n",
       "</style>\n",
       "<table border=\"1\" class=\"dataframe\">\n",
       "  <thead>\n",
       "    <tr style=\"text-align: right;\">\n",
       "      <th></th>\n",
       "      <th>unique_key</th>\n",
       "      <th>case_number</th>\n",
       "      <th>date</th>\n",
       "      <th>block</th>\n",
       "      <th>iucr</th>\n",
       "      <th>primary_type</th>\n",
       "      <th>description</th>\n",
       "      <th>location_description</th>\n",
       "      <th>arrest</th>\n",
       "      <th>domestic</th>\n",
       "      <th>...</th>\n",
       "      <th>ward</th>\n",
       "      <th>community_area</th>\n",
       "      <th>fbi_code</th>\n",
       "      <th>x_coordinate</th>\n",
       "      <th>y_coordinate</th>\n",
       "      <th>year</th>\n",
       "      <th>updated_on</th>\n",
       "      <th>latitude</th>\n",
       "      <th>longitude</th>\n",
       "      <th>location</th>\n",
       "    </tr>\n",
       "  </thead>\n",
       "  <tbody>\n",
       "    <tr>\n",
       "      <th>443</th>\n",
       "      <td>26359</td>\n",
       "      <td>JE404225</td>\n",
       "      <td>2021-10-09 20:06:00+00:00</td>\n",
       "      <td>028XX S KILDARE AVE</td>\n",
       "      <td>0110</td>\n",
       "      <td>HOMICIDE</td>\n",
       "      <td>FIRST DEGREE MURDER</td>\n",
       "      <td>STREET</td>\n",
       "      <td>False</td>\n",
       "      <td>False</td>\n",
       "      <td>...</td>\n",
       "      <td>22</td>\n",
       "      <td>30</td>\n",
       "      <td>01A</td>\n",
       "      <td>1148187.0</td>\n",
       "      <td>1884715.0</td>\n",
       "      <td>2021</td>\n",
       "      <td>2022-09-01 15:42:17+00:00</td>\n",
       "      <td>41.839601</td>\n",
       "      <td>-87.731718</td>\n",
       "      <td>(41.839601232, -87.731718281)</td>\n",
       "    </tr>\n",
       "    <tr>\n",
       "      <th>453</th>\n",
       "      <td>21845</td>\n",
       "      <td>HY243592</td>\n",
       "      <td>2015-05-01 23:30:00+00:00</td>\n",
       "      <td>079XX S ABERDEEN ST</td>\n",
       "      <td>0110</td>\n",
       "      <td>HOMICIDE</td>\n",
       "      <td>FIRST DEGREE MURDER</td>\n",
       "      <td>YARD</td>\n",
       "      <td>False</td>\n",
       "      <td>False</td>\n",
       "      <td>...</td>\n",
       "      <td>17</td>\n",
       "      <td>71</td>\n",
       "      <td>01A</td>\n",
       "      <td>1170363.0</td>\n",
       "      <td>1852094.0</td>\n",
       "      <td>2015</td>\n",
       "      <td>2022-09-19 15:41:05+00:00</td>\n",
       "      <td>41.74963</td>\n",
       "      <td>-87.651292</td>\n",
       "      <td>(41.749630493, -87.651291874)</td>\n",
       "    </tr>\n",
       "    <tr>\n",
       "      <th>544</th>\n",
       "      <td>26144</td>\n",
       "      <td>JE313919</td>\n",
       "      <td>2021-07-25 18:36:00+00:00</td>\n",
       "      <td>097XX S AVENUE L</td>\n",
       "      <td>0110</td>\n",
       "      <td>HOMICIDE</td>\n",
       "      <td>FIRST DEGREE MURDER</td>\n",
       "      <td>STREET</td>\n",
       "      <td>False</td>\n",
       "      <td>False</td>\n",
       "      <td>...</td>\n",
       "      <td>10</td>\n",
       "      <td>52</td>\n",
       "      <td>01A</td>\n",
       "      <td>1201792.0</td>\n",
       "      <td>1841183.0</td>\n",
       "      <td>2021</td>\n",
       "      <td>2022-09-01 15:42:17+00:00</td>\n",
       "      <td>41.718949</td>\n",
       "      <td>-87.536495</td>\n",
       "      <td>(41.718948578, -87.536495302)</td>\n",
       "    </tr>\n",
       "    <tr>\n",
       "      <th>1034</th>\n",
       "      <td>28005</td>\n",
       "      <td>JH173204</td>\n",
       "      <td>2024-03-02 20:32:00+00:00</td>\n",
       "      <td>005XX W ROOSEVELT RD</td>\n",
       "      <td>0110</td>\n",
       "      <td>HOMICIDE</td>\n",
       "      <td>FIRST DEGREE MURDER</td>\n",
       "      <td>PARKING LOT</td>\n",
       "      <td>True</td>\n",
       "      <td>False</td>\n",
       "      <td>...</td>\n",
       "      <td>28</td>\n",
       "      <td>28</td>\n",
       "      <td>01A</td>\n",
       "      <td>1173077.0</td>\n",
       "      <td>1894978.0</td>\n",
       "      <td>2024</td>\n",
       "      <td>2024-04-23 15:40:49+00:00</td>\n",
       "      <td>41.867249</td>\n",
       "      <td>-87.640079</td>\n",
       "      <td>(41.86724898, -87.640079073)</td>\n",
       "    </tr>\n",
       "    <tr>\n",
       "      <th>1290</th>\n",
       "      <td>25663</td>\n",
       "      <td>JD454034</td>\n",
       "      <td>2020-12-09 12:10:00+00:00</td>\n",
       "      <td>082XX S INDIANA AVE</td>\n",
       "      <td>0110</td>\n",
       "      <td>HOMICIDE</td>\n",
       "      <td>FIRST DEGREE MURDER</td>\n",
       "      <td>APARTMENT</td>\n",
       "      <td>True</td>\n",
       "      <td>False</td>\n",
       "      <td>...</td>\n",
       "      <td>6</td>\n",
       "      <td>44</td>\n",
       "      <td>01A</td>\n",
       "      <td>1179023.0</td>\n",
       "      <td>1850507.0</td>\n",
       "      <td>2020</td>\n",
       "      <td>2022-09-19 15:41:05+00:00</td>\n",
       "      <td>41.745083</td>\n",
       "      <td>-87.619606</td>\n",
       "      <td>(41.745082823, -87.619606449)</td>\n",
       "    </tr>\n",
       "    <tr>\n",
       "      <th>1341</th>\n",
       "      <td>25289</td>\n",
       "      <td>JD292249</td>\n",
       "      <td>2020-07-10 06:06:00+00:00</td>\n",
       "      <td>054XX S TALMAN AVE</td>\n",
       "      <td>0110</td>\n",
       "      <td>HOMICIDE</td>\n",
       "      <td>FIRST DEGREE MURDER</td>\n",
       "      <td>HOUSE</td>\n",
       "      <td>True</td>\n",
       "      <td>False</td>\n",
       "      <td>...</td>\n",
       "      <td>14</td>\n",
       "      <td>63</td>\n",
       "      <td>01A</td>\n",
       "      <td>1159631.0</td>\n",
       "      <td>1868448.0</td>\n",
       "      <td>2020</td>\n",
       "      <td>2022-09-19 15:41:05+00:00</td>\n",
       "      <td>41.794735</td>\n",
       "      <td>-87.69017</td>\n",
       "      <td>(41.794734948, -87.690170419)</td>\n",
       "    </tr>\n",
       "    <tr>\n",
       "      <th>2272</th>\n",
       "      <td>27299</td>\n",
       "      <td>JG117362</td>\n",
       "      <td>2023-01-15 17:29:00+00:00</td>\n",
       "      <td>062XX S MICHIGAN AVE</td>\n",
       "      <td>0110</td>\n",
       "      <td>HOMICIDE</td>\n",
       "      <td>FIRST DEGREE MURDER</td>\n",
       "      <td>PARKING LOT</td>\n",
       "      <td>True</td>\n",
       "      <td>True</td>\n",
       "      <td>...</td>\n",
       "      <td>20</td>\n",
       "      <td>40</td>\n",
       "      <td>01A</td>\n",
       "      <td>1178263.0</td>\n",
       "      <td>1863570.0</td>\n",
       "      <td>2023</td>\n",
       "      <td>2023-03-22 15:40:28+00:00</td>\n",
       "      <td>41.780946</td>\n",
       "      <td>-87.621995</td>\n",
       "      <td>(41.780946398, -87.621995369)</td>\n",
       "    </tr>\n",
       "    <tr>\n",
       "      <th>2551</th>\n",
       "      <td>27319</td>\n",
       "      <td>JG129690</td>\n",
       "      <td>2023-01-26 00:33:00+00:00</td>\n",
       "      <td>101XX S WINSTON AVE</td>\n",
       "      <td>0110</td>\n",
       "      <td>HOMICIDE</td>\n",
       "      <td>FIRST DEGREE MURDER</td>\n",
       "      <td>YARD</td>\n",
       "      <td>True</td>\n",
       "      <td>False</td>\n",
       "      <td>...</td>\n",
       "      <td>34</td>\n",
       "      <td>73</td>\n",
       "      <td>01A</td>\n",
       "      <td>1169236.0</td>\n",
       "      <td>1837717.0</td>\n",
       "      <td>2023</td>\n",
       "      <td>2023-04-18 15:40:28+00:00</td>\n",
       "      <td>41.710202</td>\n",
       "      <td>-87.655836</td>\n",
       "      <td>(41.710202355, -87.655836342)</td>\n",
       "    </tr>\n",
       "    <tr>\n",
       "      <th>2813</th>\n",
       "      <td>28569</td>\n",
       "      <td>JJ120220</td>\n",
       "      <td>2025-01-19 04:13:00+00:00</td>\n",
       "      <td>074XX S STATE ST</td>\n",
       "      <td>0110</td>\n",
       "      <td>HOMICIDE</td>\n",
       "      <td>FIRST DEGREE MURDER</td>\n",
       "      <td>RESTAURANT</td>\n",
       "      <td>True</td>\n",
       "      <td>False</td>\n",
       "      <td>...</td>\n",
       "      <td>6</td>\n",
       "      <td>69</td>\n",
       "      <td>01A</td>\n",
       "      <td>1177570.0</td>\n",
       "      <td>1855556.0</td>\n",
       "      <td>2025</td>\n",
       "      <td>2025-01-27 15:41:27+00:00</td>\n",
       "      <td>41.758971</td>\n",
       "      <td>-87.624778</td>\n",
       "      <td>(41.758970818, -87.624778076)</td>\n",
       "    </tr>\n",
       "    <tr>\n",
       "      <th>2904</th>\n",
       "      <td>21482</td>\n",
       "      <td>HX352058</td>\n",
       "      <td>2014-07-19 20:21:00+00:00</td>\n",
       "      <td>009XX N MAYFIELD AVE</td>\n",
       "      <td>0110</td>\n",
       "      <td>HOMICIDE</td>\n",
       "      <td>FIRST DEGREE MURDER</td>\n",
       "      <td>AUTO</td>\n",
       "      <td>True</td>\n",
       "      <td>False</td>\n",
       "      <td>...</td>\n",
       "      <td>29</td>\n",
       "      <td>25</td>\n",
       "      <td>01A</td>\n",
       "      <td>1136970.0</td>\n",
       "      <td>1905637.0</td>\n",
       "      <td>2014</td>\n",
       "      <td>2022-09-19 15:41:05+00:00</td>\n",
       "      <td>41.897222</td>\n",
       "      <td>-87.772379</td>\n",
       "      <td>(41.89722235, -87.772378689)</td>\n",
       "    </tr>\n",
       "    <tr>\n",
       "      <th>4332</th>\n",
       "      <td>19639</td>\n",
       "      <td>HS564766</td>\n",
       "      <td>2010-10-14 20:25:00+00:00</td>\n",
       "      <td>020XX N NEWLAND AVE</td>\n",
       "      <td>0110</td>\n",
       "      <td>HOMICIDE</td>\n",
       "      <td>FIRST DEGREE MURDER</td>\n",
       "      <td>STREET</td>\n",
       "      <td>False</td>\n",
       "      <td>False</td>\n",
       "      <td>...</td>\n",
       "      <td>36</td>\n",
       "      <td>25</td>\n",
       "      <td>01A</td>\n",
       "      <td>1129759.0</td>\n",
       "      <td>1912800.0</td>\n",
       "      <td>2010</td>\n",
       "      <td>2022-09-19 15:41:05+00:00</td>\n",
       "      <td>41.917005</td>\n",
       "      <td>-87.7987</td>\n",
       "      <td>(41.9170049, -87.79870024)</td>\n",
       "    </tr>\n",
       "    <tr>\n",
       "      <th>5083</th>\n",
       "      <td>24532</td>\n",
       "      <td>JC255444</td>\n",
       "      <td>2019-05-08 21:50:00+00:00</td>\n",
       "      <td>039XX W ARTHINGTON ST</td>\n",
       "      <td>0110</td>\n",
       "      <td>HOMICIDE</td>\n",
       "      <td>FIRST DEGREE MURDER</td>\n",
       "      <td>STREET</td>\n",
       "      <td>False</td>\n",
       "      <td>False</td>\n",
       "      <td>...</td>\n",
       "      <td>24</td>\n",
       "      <td>26</td>\n",
       "      <td>01A</td>\n",
       "      <td>1150166.0</td>\n",
       "      <td>1895742.0</td>\n",
       "      <td>2019</td>\n",
       "      <td>2022-09-01 15:42:17+00:00</td>\n",
       "      <td>41.869822</td>\n",
       "      <td>-87.724169</td>\n",
       "      <td>(41.869822405, -87.724169081)</td>\n",
       "    </tr>\n",
       "    <tr>\n",
       "      <th>5314</th>\n",
       "      <td>2911</td>\n",
       "      <td>HK652304</td>\n",
       "      <td>2004-09-28 01:06:00+00:00</td>\n",
       "      <td>043XX W CRYSTAL ST</td>\n",
       "      <td>0110</td>\n",
       "      <td>HOMICIDE</td>\n",
       "      <td>FIRST DEGREE MURDER</td>\n",
       "      <td>STREET</td>\n",
       "      <td>True</td>\n",
       "      <td>False</td>\n",
       "      <td>...</td>\n",
       "      <td>37</td>\n",
       "      <td>23</td>\n",
       "      <td>01A</td>\n",
       "      <td>1147281.0</td>\n",
       "      <td>1907975.0</td>\n",
       "      <td>2004</td>\n",
       "      <td>2022-09-19 15:41:05+00:00</td>\n",
       "      <td>41.903447</td>\n",
       "      <td>-87.734447</td>\n",
       "      <td>(41.903446827, -87.734447423)</td>\n",
       "    </tr>\n",
       "    <tr>\n",
       "      <th>7642</th>\n",
       "      <td>2515</td>\n",
       "      <td>HJ791861</td>\n",
       "      <td>2003-12-01 16:45:00+00:00</td>\n",
       "      <td>045XX W MAYPOLE AVE</td>\n",
       "      <td>0110</td>\n",
       "      <td>HOMICIDE</td>\n",
       "      <td>FIRST DEGREE MURDER</td>\n",
       "      <td>STREET</td>\n",
       "      <td>True</td>\n",
       "      <td>False</td>\n",
       "      <td>...</td>\n",
       "      <td>28</td>\n",
       "      <td>26</td>\n",
       "      <td>01A</td>\n",
       "      <td>1146135.0</td>\n",
       "      <td>1901073.0</td>\n",
       "      <td>2003</td>\n",
       "      <td>2022-09-01 15:42:17+00:00</td>\n",
       "      <td>41.884529</td>\n",
       "      <td>-87.738833</td>\n",
       "      <td>(41.884528849, -87.738832642)</td>\n",
       "    </tr>\n",
       "    <tr>\n",
       "      <th>8440</th>\n",
       "      <td>24349</td>\n",
       "      <td>JB557825</td>\n",
       "      <td>2018-12-18 00:56:00+00:00</td>\n",
       "      <td>056XX S PERRY AVE</td>\n",
       "      <td>0110</td>\n",
       "      <td>HOMICIDE</td>\n",
       "      <td>FIRST DEGREE MURDER</td>\n",
       "      <td>AUTO</td>\n",
       "      <td>False</td>\n",
       "      <td>False</td>\n",
       "      <td>...</td>\n",
       "      <td>3</td>\n",
       "      <td>40</td>\n",
       "      <td>01A</td>\n",
       "      <td>1176661.0</td>\n",
       "      <td>1867669.0</td>\n",
       "      <td>2018</td>\n",
       "      <td>2022-09-01 15:42:17+00:00</td>\n",
       "      <td>41.792231</td>\n",
       "      <td>-87.627745</td>\n",
       "      <td>(41.792230689, -87.627745258)</td>\n",
       "    </tr>\n",
       "    <tr>\n",
       "      <th>9615</th>\n",
       "      <td>4354</td>\n",
       "      <td>HN754407</td>\n",
       "      <td>2007-12-11 21:00:00+00:00</td>\n",
       "      <td>114XX S LOOMIS ST</td>\n",
       "      <td>0110</td>\n",
       "      <td>HOMICIDE</td>\n",
       "      <td>FIRST DEGREE MURDER</td>\n",
       "      <td>AUTO</td>\n",
       "      <td>True</td>\n",
       "      <td>False</td>\n",
       "      <td>...</td>\n",
       "      <td>34</td>\n",
       "      <td>75</td>\n",
       "      <td>01A</td>\n",
       "      <td>1169045.0</td>\n",
       "      <td>1828989.0</td>\n",
       "      <td>2007</td>\n",
       "      <td>2024-01-24 15:41:43+00:00</td>\n",
       "      <td>41.686255</td>\n",
       "      <td>-87.656787</td>\n",
       "      <td>(41.686255437, -87.656786895)</td>\n",
       "    </tr>\n",
       "    <tr>\n",
       "      <th>10240</th>\n",
       "      <td>24110</td>\n",
       "      <td>JB380835</td>\n",
       "      <td>2018-08-05 20:26:00+00:00</td>\n",
       "      <td>027XX S DEARBORN ST</td>\n",
       "      <td>0110</td>\n",
       "      <td>HOMICIDE</td>\n",
       "      <td>FIRST DEGREE MURDER</td>\n",
       "      <td>CHA GROUNDS</td>\n",
       "      <td>False</td>\n",
       "      <td>False</td>\n",
       "      <td>...</td>\n",
       "      <td>3</td>\n",
       "      <td>35</td>\n",
       "      <td>01A</td>\n",
       "      <td>1176315.0</td>\n",
       "      <td>1886573.0</td>\n",
       "      <td>2018</td>\n",
       "      <td>2022-09-01 15:42:17+00:00</td>\n",
       "      <td>41.844113</td>\n",
       "      <td>-87.628445</td>\n",
       "      <td>(41.844112707, -87.628445336)</td>\n",
       "    </tr>\n",
       "    <tr>\n",
       "      <th>11114</th>\n",
       "      <td>4882</td>\n",
       "      <td>HP750645</td>\n",
       "      <td>2008-12-26 03:25:00+00:00</td>\n",
       "      <td>042XX W WILCOX ST</td>\n",
       "      <td>0110</td>\n",
       "      <td>HOMICIDE</td>\n",
       "      <td>FIRST DEGREE MURDER</td>\n",
       "      <td>STREET</td>\n",
       "      <td>True</td>\n",
       "      <td>False</td>\n",
       "      <td>...</td>\n",
       "      <td>28</td>\n",
       "      <td>26</td>\n",
       "      <td>01A</td>\n",
       "      <td>1148099.0</td>\n",
       "      <td>1898998.0</td>\n",
       "      <td>2008</td>\n",
       "      <td>2022-09-19 15:41:05+00:00</td>\n",
       "      <td>41.878797</td>\n",
       "      <td>-87.731674</td>\n",
       "      <td>(41.878797251, -87.731673919)</td>\n",
       "    </tr>\n",
       "    <tr>\n",
       "      <th>11808</th>\n",
       "      <td>25818</td>\n",
       "      <td>JE176509</td>\n",
       "      <td>2021-03-22 16:55:00+00:00</td>\n",
       "      <td>003XX E 47TH ST</td>\n",
       "      <td>0110</td>\n",
       "      <td>HOMICIDE</td>\n",
       "      <td>FIRST DEGREE MURDER</td>\n",
       "      <td>STREET</td>\n",
       "      <td>False</td>\n",
       "      <td>False</td>\n",
       "      <td>...</td>\n",
       "      <td>3</td>\n",
       "      <td>38</td>\n",
       "      <td>01A</td>\n",
       "      <td>1179078.0</td>\n",
       "      <td>1873928.0</td>\n",
       "      <td>2021</td>\n",
       "      <td>2022-09-19 15:41:05+00:00</td>\n",
       "      <td>41.809351</td>\n",
       "      <td>-87.618692</td>\n",
       "      <td>(41.809351171, -87.618691752)</td>\n",
       "    </tr>\n",
       "    <tr>\n",
       "      <th>12254</th>\n",
       "      <td>19896</td>\n",
       "      <td>HT326121</td>\n",
       "      <td>2011-06-02 02:06:00+00:00</td>\n",
       "      <td>056XX W WASHINGTON BLVD</td>\n",
       "      <td>0110</td>\n",
       "      <td>HOMICIDE</td>\n",
       "      <td>FIRST DEGREE MURDER</td>\n",
       "      <td>STREET</td>\n",
       "      <td>True</td>\n",
       "      <td>False</td>\n",
       "      <td>...</td>\n",
       "      <td>29</td>\n",
       "      <td>25</td>\n",
       "      <td>01A</td>\n",
       "      <td>1138461.0</td>\n",
       "      <td>1900176.0</td>\n",
       "      <td>2011</td>\n",
       "      <td>2022-09-19 15:41:05+00:00</td>\n",
       "      <td>41.88221</td>\n",
       "      <td>-87.767035</td>\n",
       "      <td>(41.882209791, -87.76703474)</td>\n",
       "    </tr>\n",
       "  </tbody>\n",
       "</table>\n",
       "<p>20 rows × 22 columns</p>\n",
       "</div>[20 rows x 22 columns in total]"
      ],
      "text/plain": [
       "       unique_key case_number                       date  \\\n",
       "443         26359    JE404225  2021-10-09 20:06:00+00:00   \n",
       "453         21845    HY243592  2015-05-01 23:30:00+00:00   \n",
       "544         26144    JE313919  2021-07-25 18:36:00+00:00   \n",
       "1034        28005    JH173204  2024-03-02 20:32:00+00:00   \n",
       "1290        25663    JD454034  2020-12-09 12:10:00+00:00   \n",
       "1341        25289    JD292249  2020-07-10 06:06:00+00:00   \n",
       "2272        27299    JG117362  2023-01-15 17:29:00+00:00   \n",
       "2551        27319    JG129690  2023-01-26 00:33:00+00:00   \n",
       "2813        28569    JJ120220  2025-01-19 04:13:00+00:00   \n",
       "2904        21482    HX352058  2014-07-19 20:21:00+00:00   \n",
       "4332        19639    HS564766  2010-10-14 20:25:00+00:00   \n",
       "5083        24532    JC255444  2019-05-08 21:50:00+00:00   \n",
       "5314         2911    HK652304  2004-09-28 01:06:00+00:00   \n",
       "7642         2515    HJ791861  2003-12-01 16:45:00+00:00   \n",
       "8440        24349    JB557825  2018-12-18 00:56:00+00:00   \n",
       "9615         4354    HN754407  2007-12-11 21:00:00+00:00   \n",
       "10240       24110    JB380835  2018-08-05 20:26:00+00:00   \n",
       "11114        4882    HP750645  2008-12-26 03:25:00+00:00   \n",
       "11808       25818    JE176509  2021-03-22 16:55:00+00:00   \n",
       "12254       19896    HT326121  2011-06-02 02:06:00+00:00   \n",
       "\n",
       "                         block  iucr primary_type          description  \\\n",
       "443        028XX S KILDARE AVE  0110     HOMICIDE  FIRST DEGREE MURDER   \n",
       "453        079XX S ABERDEEN ST  0110     HOMICIDE  FIRST DEGREE MURDER   \n",
       "544           097XX S AVENUE L  0110     HOMICIDE  FIRST DEGREE MURDER   \n",
       "1034      005XX W ROOSEVELT RD  0110     HOMICIDE  FIRST DEGREE MURDER   \n",
       "1290       082XX S INDIANA AVE  0110     HOMICIDE  FIRST DEGREE MURDER   \n",
       "1341        054XX S TALMAN AVE  0110     HOMICIDE  FIRST DEGREE MURDER   \n",
       "2272      062XX S MICHIGAN AVE  0110     HOMICIDE  FIRST DEGREE MURDER   \n",
       "2551       101XX S WINSTON AVE  0110     HOMICIDE  FIRST DEGREE MURDER   \n",
       "2813          074XX S STATE ST  0110     HOMICIDE  FIRST DEGREE MURDER   \n",
       "2904      009XX N MAYFIELD AVE  0110     HOMICIDE  FIRST DEGREE MURDER   \n",
       "4332       020XX N NEWLAND AVE  0110     HOMICIDE  FIRST DEGREE MURDER   \n",
       "5083     039XX W ARTHINGTON ST  0110     HOMICIDE  FIRST DEGREE MURDER   \n",
       "5314        043XX W CRYSTAL ST  0110     HOMICIDE  FIRST DEGREE MURDER   \n",
       "7642       045XX W MAYPOLE AVE  0110     HOMICIDE  FIRST DEGREE MURDER   \n",
       "8440         056XX S PERRY AVE  0110     HOMICIDE  FIRST DEGREE MURDER   \n",
       "9615         114XX S LOOMIS ST  0110     HOMICIDE  FIRST DEGREE MURDER   \n",
       "10240      027XX S DEARBORN ST  0110     HOMICIDE  FIRST DEGREE MURDER   \n",
       "11114        042XX W WILCOX ST  0110     HOMICIDE  FIRST DEGREE MURDER   \n",
       "11808          003XX E 47TH ST  0110     HOMICIDE  FIRST DEGREE MURDER   \n",
       "12254  056XX W WASHINGTON BLVD  0110     HOMICIDE  FIRST DEGREE MURDER   \n",
       "\n",
       "      location_description  arrest  domestic  ...  ward  community_area  \\\n",
       "443                 STREET   False     False  ...    22              30   \n",
       "453                   YARD   False     False  ...    17              71   \n",
       "544                 STREET   False     False  ...    10              52   \n",
       "1034           PARKING LOT    True     False  ...    28              28   \n",
       "1290             APARTMENT    True     False  ...     6              44   \n",
       "1341                 HOUSE    True     False  ...    14              63   \n",
       "2272           PARKING LOT    True      True  ...    20              40   \n",
       "2551                  YARD    True     False  ...    34              73   \n",
       "2813            RESTAURANT    True     False  ...     6              69   \n",
       "2904                  AUTO    True     False  ...    29              25   \n",
       "4332                STREET   False     False  ...    36              25   \n",
       "5083                STREET   False     False  ...    24              26   \n",
       "5314                STREET    True     False  ...    37              23   \n",
       "7642                STREET    True     False  ...    28              26   \n",
       "8440                  AUTO   False     False  ...     3              40   \n",
       "9615                  AUTO    True     False  ...    34              75   \n",
       "10240          CHA GROUNDS   False     False  ...     3              35   \n",
       "11114               STREET    True     False  ...    28              26   \n",
       "11808               STREET   False     False  ...     3              38   \n",
       "12254               STREET    True     False  ...    29              25   \n",
       "\n",
       "       fbi_code  x_coordinate y_coordinate  year                 updated_on  \\\n",
       "443         01A     1148187.0    1884715.0  2021  2022-09-01 15:42:17+00:00   \n",
       "453         01A     1170363.0    1852094.0  2015  2022-09-19 15:41:05+00:00   \n",
       "544         01A     1201792.0    1841183.0  2021  2022-09-01 15:42:17+00:00   \n",
       "1034        01A     1173077.0    1894978.0  2024  2024-04-23 15:40:49+00:00   \n",
       "1290        01A     1179023.0    1850507.0  2020  2022-09-19 15:41:05+00:00   \n",
       "1341        01A     1159631.0    1868448.0  2020  2022-09-19 15:41:05+00:00   \n",
       "2272        01A     1178263.0    1863570.0  2023  2023-03-22 15:40:28+00:00   \n",
       "2551        01A     1169236.0    1837717.0  2023  2023-04-18 15:40:28+00:00   \n",
       "2813        01A     1177570.0    1855556.0  2025  2025-01-27 15:41:27+00:00   \n",
       "2904        01A     1136970.0    1905637.0  2014  2022-09-19 15:41:05+00:00   \n",
       "4332        01A     1129759.0    1912800.0  2010  2022-09-19 15:41:05+00:00   \n",
       "5083        01A     1150166.0    1895742.0  2019  2022-09-01 15:42:17+00:00   \n",
       "5314        01A     1147281.0    1907975.0  2004  2022-09-19 15:41:05+00:00   \n",
       "7642        01A     1146135.0    1901073.0  2003  2022-09-01 15:42:17+00:00   \n",
       "8440        01A     1176661.0    1867669.0  2018  2022-09-01 15:42:17+00:00   \n",
       "9615        01A     1169045.0    1828989.0  2007  2024-01-24 15:41:43+00:00   \n",
       "10240       01A     1176315.0    1886573.0  2018  2022-09-01 15:42:17+00:00   \n",
       "11114       01A     1148099.0    1898998.0  2008  2022-09-19 15:41:05+00:00   \n",
       "11808       01A     1179078.0    1873928.0  2021  2022-09-19 15:41:05+00:00   \n",
       "12254       01A     1138461.0    1900176.0  2011  2022-09-19 15:41:05+00:00   \n",
       "\n",
       "        latitude  longitude                       location  \n",
       "443    41.839601 -87.731718  (41.839601232, -87.731718281)  \n",
       "453     41.74963 -87.651292  (41.749630493, -87.651291874)  \n",
       "544    41.718949 -87.536495  (41.718948578, -87.536495302)  \n",
       "1034   41.867249 -87.640079   (41.86724898, -87.640079073)  \n",
       "1290   41.745083 -87.619606  (41.745082823, -87.619606449)  \n",
       "1341   41.794735  -87.69017  (41.794734948, -87.690170419)  \n",
       "2272   41.780946 -87.621995  (41.780946398, -87.621995369)  \n",
       "2551   41.710202 -87.655836  (41.710202355, -87.655836342)  \n",
       "2813   41.758971 -87.624778  (41.758970818, -87.624778076)  \n",
       "2904   41.897222 -87.772379   (41.89722235, -87.772378689)  \n",
       "4332   41.917005   -87.7987     (41.9170049, -87.79870024)  \n",
       "5083   41.869822 -87.724169  (41.869822405, -87.724169081)  \n",
       "5314   41.903447 -87.734447  (41.903446827, -87.734447423)  \n",
       "7642   41.884529 -87.738833  (41.884528849, -87.738832642)  \n",
       "8440   41.792231 -87.627745  (41.792230689, -87.627745258)  \n",
       "9615   41.686255 -87.656787  (41.686255437, -87.656786895)  \n",
       "10240  41.844113 -87.628445  (41.844112707, -87.628445336)  \n",
       "11114  41.878797 -87.731674  (41.878797251, -87.731673919)  \n",
       "11808  41.809351 -87.618692  (41.809351171, -87.618691752)  \n",
       "12254   41.88221 -87.767035   (41.882209791, -87.76703474)  \n",
       "\n",
       "[20 rows x 22 columns]"
      ]
     },
     "execution_count": 20,
     "metadata": {},
     "output_type": "execute_result"
    }
   ],
   "source": [
    "chicago[chicago.primary_type == 'HOMICIDE'].head(20)"
   ]
  },
  {
   "cell_type": "code",
   "execution_count": 21,
   "id": "9714b9a2-e3fc-4d2b-9b90-52257d1e3b63",
   "metadata": {
    "tags": []
   },
   "outputs": [],
   "source": [
    "from sklearn.preprocessing import StandardScaler\n",
    "from sklearn.linear_model import LinearRegression\n",
    "from sklearn.model_selection import train_test_split"
   ]
  },
  {
   "cell_type": "code",
   "execution_count": 22,
   "id": "58f01159-90bb-4678-a38f-7e04f863e194",
   "metadata": {
    "tags": []
   },
   "outputs": [],
   "source": [
    "chicago_group = chicago_df[['year', 'primary_type','arrest']].groupby(['year','primary_type']).count().reset_index()"
   ]
  },
  {
   "cell_type": "code",
   "execution_count": 23,
   "id": "b11f2f70-ca31-47d0-89a0-23cd7a55f751",
   "metadata": {
    "tags": []
   },
   "outputs": [
    {
     "data": {
      "text/html": [
       "Query job 4bca5c75-00a4-45a6-86b3-70c157463b49 is DONE. 165.6 MB processed. <a target=\"_blank\" href=\"https://console.cloud.google.com/bigquery?project=arctic-eye-446816-j7&j=bq:US:4bca5c75-00a4-45a6-86b3-70c157463b49&page=queryresults\">Open Job</a>"
      ],
      "text/plain": [
       "<IPython.core.display.HTML object>"
      ]
     },
     "metadata": {},
     "output_type": "display_data"
    },
    {
     "name": "stdout",
     "output_type": "stream",
     "text": [
      "<class 'bigframes.dataframe.DataFrame'>\n"
     ]
    },
    {
     "data": {
      "text/html": [
       "Query job 16bb78ed-1a80-4223-a22f-6b231418b5e9 is DONE. 165.6 MB processed. <a target=\"_blank\" href=\"https://console.cloud.google.com/bigquery?project=arctic-eye-446816-j7&j=bq:US:16bb78ed-1a80-4223-a22f-6b231418b5e9&page=queryresults\">Open Job</a>"
      ],
      "text/plain": [
       "<IPython.core.display.HTML object>"
      ]
     },
     "metadata": {},
     "output_type": "display_data"
    },
    {
     "data": {
      "text/html": [
       "Query job 81307736-57d9-4b38-bd5f-347c3fd8f2aa is DONE. 165.6 MB processed. <a target=\"_blank\" href=\"https://console.cloud.google.com/bigquery?project=arctic-eye-446816-j7&j=bq:US:81307736-57d9-4b38-bd5f-347c3fd8f2aa&page=queryresults\">Open Job</a>"
      ],
      "text/plain": [
       "<IPython.core.display.HTML object>"
      ]
     },
     "metadata": {},
     "output_type": "display_data"
    },
    {
     "name": "stdout",
     "output_type": "stream",
     "text": [
      "Index: 781 entries, 0 to 780\n",
      "Data columns (total 2 columns):\n"
     ]
    },
    {
     "name": "stderr",
     "output_type": "stream",
     "text": [
      "/opt/conda/lib/python3.10/site-packages/bigframes/core/blocks.py:125: NullIndexPreviewWarning: Creating object with Null Index. Null Index is a preview feature.\n",
      "  warnings.warn(\n"
     ]
    },
    {
     "data": {
      "text/html": [
       "Query job c05b263c-b878-40e4-b183-f36f2a48dfaa is DONE. 165.6 MB processed. <a target=\"_blank\" href=\"https://console.cloud.google.com/bigquery?project=arctic-eye-446816-j7&j=bq:US:c05b263c-b878-40e4-b183-f36f2a48dfaa&page=queryresults\">Open Job</a>"
      ],
      "text/plain": [
       "<IPython.core.display.HTML object>"
      ]
     },
     "metadata": {},
     "output_type": "display_data"
    },
    {
     "name": "stdout",
     "output_type": "stream",
     "text": [
      "  #  Column        Non-Null Count    Dtype\n",
      "---  ------------  ----------------  -------\n",
      "  0  year          781 non-null      Int64\n",
      "  1  primary_type  781 non-null      string\n",
      "dtypes: Int64(1), string(1)\n"
     ]
    },
    {
     "data": {
      "text/html": [
       "Query job 034c0307-76a0-464b-856e-a52ac4ac362c is DONE. 165.6 MB processed. <a target=\"_blank\" href=\"https://console.cloud.google.com/bigquery?project=arctic-eye-446816-j7&j=bq:US:034c0307-76a0-464b-856e-a52ac4ac362c&page=queryresults\">Open Job</a>"
      ],
      "text/plain": [
       "<IPython.core.display.HTML object>"
      ]
     },
     "metadata": {},
     "output_type": "display_data"
    },
    {
     "name": "stdout",
     "output_type": "stream",
     "text": [
      "memory usage: 18744 bytes\n"
     ]
    }
   ],
   "source": [
    "X = chicago_group.drop(columns = ['arrest'])\n",
    "#selecting target\n",
    "Y = chicago_group['arrest']\n",
    "#making sure all features are numerical\n",
    "X.info()"
   ]
  },
  {
   "cell_type": "code",
   "execution_count": 24,
   "id": "8611bc24-1d6e-49ac-88b8-06691b178935",
   "metadata": {
    "tags": []
   },
   "outputs": [
    {
     "data": {
      "text/html": [
       "Query job 6d53f420-2560-4363-9ddc-6c38c6e543c4 is DONE. 165.6 MB processed. <a target=\"_blank\" href=\"https://console.cloud.google.com/bigquery?project=arctic-eye-446816-j7&j=bq:US:6d53f420-2560-4363-9ddc-6c38c6e543c4&page=queryresults\">Open Job</a>"
      ],
      "text/plain": [
       "<IPython.core.display.HTML object>"
      ]
     },
     "metadata": {},
     "output_type": "display_data"
    },
    {
     "data": {
      "text/html": [
       "Query job 0d88676f-d33a-4ff3-b4f5-d5a9dc7103d5 is DONE. 165.6 MB processed. <a target=\"_blank\" href=\"https://console.cloud.google.com/bigquery?project=arctic-eye-446816-j7&j=bq:US:0d88676f-d33a-4ff3-b4f5-d5a9dc7103d5&page=queryresults\">Open Job</a>"
      ],
      "text/plain": [
       "<IPython.core.display.HTML object>"
      ]
     },
     "metadata": {},
     "output_type": "display_data"
    },
    {
     "data": {
      "text/html": [
       "Query job 0e24eb19-896b-4adc-acdb-cdb1c7b754da is DONE. 165.6 MB processed. <a target=\"_blank\" href=\"https://console.cloud.google.com/bigquery?project=arctic-eye-446816-j7&j=bq:US:0e24eb19-896b-4adc-acdb-cdb1c7b754da&page=queryresults\">Open Job</a>"
      ],
      "text/plain": [
       "<IPython.core.display.HTML object>"
      ]
     },
     "metadata": {},
     "output_type": "display_data"
    }
   ],
   "source": [
    "ptypes_ohe = pd.get_dummies(X.primary_type, drop_first=True)\n",
    "X = pd.DataFrame(X)\n",
    "ptypes_ohe = pd.DataFrame(ptypes_ohe)\n",
    "X = X.join(ptypes_ohe)"
   ]
  },
  {
   "cell_type": "code",
   "execution_count": 25,
   "id": "2cf0ef81-3e0f-46e2-82bd-90e5ea8d45a0",
   "metadata": {
    "tags": []
   },
   "outputs": [
    {
     "name": "stdout",
     "output_type": "stream",
     "text": [
      "<class 'pandas.core.frame.DataFrame'>\n",
      "RangeIndex: 781 entries, 0 to 780\n",
      "Data columns (total 36 columns):\n",
      " #   Column                             Non-Null Count  Dtype  \n",
      "---  ------                             --------------  -----  \n",
      " 0   Year                               781 non-null    int64  \n",
      " 1   ASSAULT                            781 non-null    boolean\n",
      " 2   BATTERY                            781 non-null    boolean\n",
      " 3   BURGLARY                           781 non-null    boolean\n",
      " 4   CONCEALED CARRY LICENSE VIOLATION  781 non-null    boolean\n",
      " 5   CRIM SEXUAL ASSAULT                781 non-null    boolean\n",
      " 6   CRIMINAL DAMAGE                    781 non-null    boolean\n",
      " 7   CRIMINAL SEXUAL ASSAULT            781 non-null    boolean\n",
      " 8   CRIMINAL TRESPASS                  781 non-null    boolean\n",
      " 9   DECEPTIVE PRACTICE                 781 non-null    boolean\n",
      " 10  DOMESTIC VIOLENCE                  781 non-null    boolean\n",
      " 11  GAMBLING                           781 non-null    boolean\n",
      " 12  HOMICIDE                           781 non-null    boolean\n",
      " 13  HUMAN TRAFFICKING                  781 non-null    boolean\n",
      " 14  INTERFERENCE WITH PUBLIC OFFICER   781 non-null    boolean\n",
      " 15  INTIMIDATION                       781 non-null    boolean\n",
      " 16  KIDNAPPING                         781 non-null    boolean\n",
      " 17  LIQUOR LAW VIOLATION               781 non-null    boolean\n",
      " 18  MOTOR VEHICLE THEFT                781 non-null    boolean\n",
      " 19  NARCOTICS                          781 non-null    boolean\n",
      " 20  NON - CRIMINAL                     781 non-null    boolean\n",
      " 21  NON-CRIMINAL                       781 non-null    boolean\n",
      " 22  NON-CRIMINAL (SUBJECT SPECIFIED)   781 non-null    boolean\n",
      " 23  OBSCENITY                          781 non-null    boolean\n",
      " 24  OFFENSE INVOLVING CHILDREN         781 non-null    boolean\n",
      " 25  OTHER NARCOTIC VIOLATION           781 non-null    boolean\n",
      " 26  OTHER OFFENSE                      781 non-null    boolean\n",
      " 27  PROSTITUTION                       781 non-null    boolean\n",
      " 28  PUBLIC INDECENCY                   781 non-null    boolean\n",
      " 29  PUBLIC PEACE VIOLATION             781 non-null    boolean\n",
      " 30  RITUALISM                          781 non-null    boolean\n",
      " 31  ROBBERY                            781 non-null    boolean\n",
      " 32  SEX OFFENSE                        781 non-null    boolean\n",
      " 33  STALKING                           781 non-null    boolean\n",
      " 34  THEFT                              781 non-null    boolean\n",
      " 35  WEAPONS VIOLATION                  781 non-null    boolean\n",
      "dtypes: boolean(35), int64(1)\n",
      "memory usage: 59.6 KB\n"
     ]
    }
   ],
   "source": [
    "X = X.rename(columns = {0:'Year'})\n",
    "X = X.drop(columns = 1)\n",
    "X['Year'] = X['Year'].apply(pd.to_numeric)\n",
    "X.info()"
   ]
  },
  {
   "cell_type": "code",
   "execution_count": 26,
   "id": "eb125bf2-dea0-4f5d-8735-ee428ac4afa5",
   "metadata": {
    "tags": []
   },
   "outputs": [
    {
     "data": {
      "text/html": [
       "Query job 25c2e0fb-a84e-4098-8d0d-09c002516445 is DONE. 165.6 MB processed. <a target=\"_blank\" href=\"https://console.cloud.google.com/bigquery?project=arctic-eye-446816-j7&j=bq:US:25c2e0fb-a84e-4098-8d0d-09c002516445&page=queryresults\">Open Job</a>"
      ],
      "text/plain": [
       "<IPython.core.display.HTML object>"
      ]
     },
     "metadata": {},
     "output_type": "display_data"
    },
    {
     "data": {
      "text/html": [
       "Query job cb31f85c-bea2-4a3e-bf9a-fdd5a2d48187 is DONE. 173.9 MB processed. <a target=\"_blank\" href=\"https://console.cloud.google.com/bigquery?project=arctic-eye-446816-j7&j=bq:US:cb31f85c-bea2-4a3e-bf9a-fdd5a2d48187&page=queryresults\">Open Job</a>"
      ],
      "text/plain": [
       "<IPython.core.display.HTML object>"
      ]
     },
     "metadata": {},
     "output_type": "display_data"
    }
   ],
   "source": [
    "Y = pd.Series(Y)"
   ]
  },
  {
   "cell_type": "code",
   "execution_count": 27,
   "id": "ea89ec6e-6424-46f5-b84b-d4798ef3c72c",
   "metadata": {
    "tags": []
   },
   "outputs": [],
   "source": [
    "x_train, x_test, y_train, y_test = train_test_split(X, Y, train_size = 0.8, test_size = 0.2, random_state=6)"
   ]
  },
  {
   "cell_type": "code",
   "execution_count": 28,
   "id": "00850382-c51e-4415-9a9b-516c3467bff4",
   "metadata": {
    "tags": []
   },
   "outputs": [
    {
     "name": "stdout",
     "output_type": "stream",
     "text": [
      "DT Mean Training Error:  6478.949316668735\n",
      "DT Mean Testing Error:  228218292343214.56\n",
      "Model train score:  0.8722367668599449\n",
      "Model test score:  -1.1291313668393014e+20\n"
     ]
    }
   ],
   "source": [
    "LR_model = LinearRegression()\n",
    "LR_model.fit(x_train, y_train)\n",
    "LR_model_pred_train = LR_model.predict(x_train)\n",
    "LR_model_train_score = np.sqrt(np.mean((LR_model_pred_train - y_train)**2))\n",
    "print(\"DT Mean Training Error: \", LR_model_train_score)\n",
    "\n",
    "\n",
    "LR_model_pred_test = LR_model.predict(x_test)\n",
    "LR_model_test_score = np.sqrt(np.mean((LR_model_pred_test - y_test)**2))\n",
    "print(\"DT Mean Testing Error: \", LR_model_test_score)\n",
    "\n",
    "print(\"Model train score: \", LR_model.score(x_train, y_train))\n",
    "print(\"Model test score: \", LR_model.score(x_test, y_test))"
   ]
  }
 ],
 "metadata": {
  "environment": {
   "kernel": "conda-base-py",
   "name": "workbench-notebooks.m126",
   "type": "gcloud",
   "uri": "us-docker.pkg.dev/deeplearning-platform-release/gcr.io/workbench-notebooks:m126"
  },
  "kernelspec": {
   "display_name": "Python 3 (ipykernel) (Local)",
   "language": "python",
   "name": "conda-base-py"
  },
  "language_info": {
   "codemirror_mode": {
    "name": "ipython",
    "version": 3
   },
   "file_extension": ".py",
   "mimetype": "text/x-python",
   "name": "python",
   "nbconvert_exporter": "python",
   "pygments_lexer": "ipython3",
   "version": "3.10.15"
  }
 },
 "nbformat": 4,
 "nbformat_minor": 5
}
